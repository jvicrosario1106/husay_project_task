{
 "cells": [
  {
   "cell_type": "code",
   "execution_count": 1,
   "metadata": {},
   "outputs": [],
   "source": [
    "import matplotlib.pyplot as plt\n",
    "import pandas as pd\n",
    "from ast import literal_eval\n",
    "import re"
   ]
  },
  {
   "cell_type": "code",
   "execution_count": 2,
   "metadata": {},
   "outputs": [],
   "source": [
    "merge = pd.concat(map(pd.read_csv, [\"../../Raw_CSV/April 25-26 - 2022/Indeed/Indeed-musician.csv\",\"../../Raw_CSV/April 27 - 2022/Indeed/Indeed-musician.csv\", \"../../Raw_CSV/April 28 - 2022/Indeed/Indeed-musician.csv\",\"../../Raw_CSV/April 21-22 - 2022/Indeed/musician.csv\"]),ignore_index=True)"
   ]
  },
  {
   "cell_type": "code",
   "execution_count": 3,
   "metadata": {},
   "outputs": [
    {
     "data": {
      "text/html": [
       "<div>\n",
       "<style scoped>\n",
       "    .dataframe tbody tr th:only-of-type {\n",
       "        vertical-align: middle;\n",
       "    }\n",
       "\n",
       "    .dataframe tbody tr th {\n",
       "        vertical-align: top;\n",
       "    }\n",
       "\n",
       "    .dataframe thead th {\n",
       "        text-align: right;\n",
       "    }\n",
       "</style>\n",
       "<table border=\"1\" class=\"dataframe\">\n",
       "  <thead>\n",
       "    <tr style=\"text-align: right;\">\n",
       "      <th></th>\n",
       "      <th>Title</th>\n",
       "      <th>Company</th>\n",
       "      <th>SalaryOne</th>\n",
       "      <th>SalaryTwo</th>\n",
       "      <th>Location</th>\n",
       "      <th>Summary</th>\n",
       "      <th>Qualification</th>\n",
       "      <th>Role&amp;Responsibilities</th>\n",
       "    </tr>\n",
       "  </thead>\n",
       "  <tbody>\n",
       "    <tr>\n",
       "      <th>count</th>\n",
       "      <td>182</td>\n",
       "      <td>182</td>\n",
       "      <td>170</td>\n",
       "      <td>170</td>\n",
       "      <td>182</td>\n",
       "      <td>182</td>\n",
       "      <td>170</td>\n",
       "      <td>170</td>\n",
       "    </tr>\n",
       "    <tr>\n",
       "      <th>unique</th>\n",
       "      <td>5</td>\n",
       "      <td>5</td>\n",
       "      <td>2</td>\n",
       "      <td>2</td>\n",
       "      <td>5</td>\n",
       "      <td>8</td>\n",
       "      <td>5</td>\n",
       "      <td>3</td>\n",
       "    </tr>\n",
       "    <tr>\n",
       "      <th>top</th>\n",
       "      <td>newSound Technician</td>\n",
       "      <td>Midori Hotel and Casino</td>\n",
       "      <td>None</td>\n",
       "      <td>None</td>\n",
       "      <td>Angeles</td>\n",
       "      <td>Skill in responding t musical balancing of art...</td>\n",
       "      <td>['Shift system', 'Angeles City, Pampanga: Reli...</td>\n",
       "      <td>[]</td>\n",
       "    </tr>\n",
       "    <tr>\n",
       "      <th>freq</th>\n",
       "      <td>39</td>\n",
       "      <td>39</td>\n",
       "      <td>157</td>\n",
       "      <td>147</td>\n",
       "      <td>39</td>\n",
       "      <td>38</td>\n",
       "      <td>36</td>\n",
       "      <td>98</td>\n",
       "    </tr>\n",
       "  </tbody>\n",
       "</table>\n",
       "</div>"
      ],
      "text/plain": [
       "                      Title                  Company SalaryOne SalaryTwo  \\\n",
       "count                   182                      182       170       170   \n",
       "unique                    5                        5         2         2   \n",
       "top     newSound Technician  Midori Hotel and Casino      None      None   \n",
       "freq                     39                       39       157       147   \n",
       "\n",
       "       Location                                            Summary  \\\n",
       "count       182                                                182   \n",
       "unique        5                                                  8   \n",
       "top     Angeles  Skill in responding t musical balancing of art...   \n",
       "freq         39                                                 38   \n",
       "\n",
       "                                            Qualification  \\\n",
       "count                                                 170   \n",
       "unique                                                  5   \n",
       "top     ['Shift system', 'Angeles City, Pampanga: Reli...   \n",
       "freq                                                   36   \n",
       "\n",
       "       Role&Responsibilities  \n",
       "count                    170  \n",
       "unique                     3  \n",
       "top                       []  \n",
       "freq                      98  "
      ]
     },
     "execution_count": 3,
     "metadata": {},
     "output_type": "execute_result"
    }
   ],
   "source": [
    "#Describing the data\n",
    "merge.describe()"
   ]
  },
  {
   "cell_type": "code",
   "execution_count": 4,
   "metadata": {},
   "outputs": [
    {
     "data": {
      "text/html": [
       "<div>\n",
       "<style scoped>\n",
       "    .dataframe tbody tr th:only-of-type {\n",
       "        vertical-align: middle;\n",
       "    }\n",
       "\n",
       "    .dataframe tbody tr th {\n",
       "        vertical-align: top;\n",
       "    }\n",
       "\n",
       "    .dataframe thead th {\n",
       "        text-align: right;\n",
       "    }\n",
       "</style>\n",
       "<table border=\"1\" class=\"dataframe\">\n",
       "  <thead>\n",
       "    <tr style=\"text-align: right;\">\n",
       "      <th></th>\n",
       "      <th>Title</th>\n",
       "      <th>Company</th>\n",
       "      <th>SalaryOne</th>\n",
       "      <th>SalaryTwo</th>\n",
       "      <th>Location</th>\n",
       "      <th>Summary</th>\n",
       "      <th>Qualification</th>\n",
       "      <th>Role&amp;Responsibilities</th>\n",
       "    </tr>\n",
       "  </thead>\n",
       "  <tbody>\n",
       "    <tr>\n",
       "      <th>0</th>\n",
       "      <td>newSound Technician</td>\n",
       "      <td>Midori Hotel and Casino</td>\n",
       "      <td>None</td>\n",
       "      <td>None</td>\n",
       "      <td>Angeles</td>\n",
       "      <td>Skill in responding t musical balancing of art...</td>\n",
       "      <td>['Shift system', 'Angeles City, Pampanga: Reli...</td>\n",
       "      <td>[\"The Sound Technician shall handle and mainta...</td>\n",
       "    </tr>\n",
       "    <tr>\n",
       "      <th>1</th>\n",
       "      <td>Musician</td>\n",
       "      <td>Quezon City Tourism Department</td>\n",
       "      <td>None</td>\n",
       "      <td>None</td>\n",
       "      <td>Quezon City</td>\n",
       "      <td>Fully accomplished Personal Data Sheet (PDS) w...</td>\n",
       "      <td>[]</td>\n",
       "      <td>[]</td>\n",
       "    </tr>\n",
       "    <tr>\n",
       "      <th>2</th>\n",
       "      <td>Technical Recruiter</td>\n",
       "      <td>Outstaffer.com</td>\n",
       "      <td>None</td>\n",
       "      <td>None</td>\n",
       "      <td>Remote in Quezon City</td>\n",
       "      <td>Perform pre-screening calls to analyze applica...</td>\n",
       "      <td>['Join a leader in Global Employment &amp; WFA tec...</td>\n",
       "      <td>[]</td>\n",
       "    </tr>\n",
       "    <tr>\n",
       "      <th>3</th>\n",
       "      <td>newEvents and Functions Coordinator (Manila an...</td>\n",
       "      <td>HR Spectacles</td>\n",
       "      <td>None</td>\n",
       "      <td>PHP 18,000 - PHP 20,000 a month</td>\n",
       "      <td>Davao City</td>\n",
       "      <td>Look for and compare different vendors (cateri...</td>\n",
       "      <td>['Perform research in order to gain deep under...</td>\n",
       "      <td>['Duties and Responsibilities', 'Requirements ...</td>\n",
       "    </tr>\n",
       "    <tr>\n",
       "      <th>4</th>\n",
       "      <td>newSound Technician</td>\n",
       "      <td>Midori Hotel and Casino</td>\n",
       "      <td>None</td>\n",
       "      <td>None</td>\n",
       "      <td>Angeles</td>\n",
       "      <td>Skill in responding t musical balancing of art...</td>\n",
       "      <td>['Shift system', 'Angeles City, Pampanga: Reli...</td>\n",
       "      <td>[\"The Sound Technician shall handle and mainta...</td>\n",
       "    </tr>\n",
       "    <tr>\n",
       "      <th>...</th>\n",
       "      <td>...</td>\n",
       "      <td>...</td>\n",
       "      <td>...</td>\n",
       "      <td>...</td>\n",
       "      <td>...</td>\n",
       "      <td>...</td>\n",
       "      <td>...</td>\n",
       "      <td>...</td>\n",
       "    </tr>\n",
       "    <tr>\n",
       "      <th>177</th>\n",
       "      <td>Musician</td>\n",
       "      <td>Quezon City Tourism Department</td>\n",
       "      <td>NaN</td>\n",
       "      <td>NaN</td>\n",
       "      <td>Quezon City</td>\n",
       "      <td>Fully accomplished Personal Data Sheet (PDS) w...</td>\n",
       "      <td>NaN</td>\n",
       "      <td>NaN</td>\n",
       "    </tr>\n",
       "    <tr>\n",
       "      <th>178</th>\n",
       "      <td>newSound Technician</td>\n",
       "      <td>Midori Hotel and Casino</td>\n",
       "      <td>NaN</td>\n",
       "      <td>NaN</td>\n",
       "      <td>Angeles</td>\n",
       "      <td>Skill in responding t musical balancing of art...</td>\n",
       "      <td>NaN</td>\n",
       "      <td>NaN</td>\n",
       "    </tr>\n",
       "    <tr>\n",
       "      <th>179</th>\n",
       "      <td>Technical Recruiter</td>\n",
       "      <td>Outstaffer.com</td>\n",
       "      <td>NaN</td>\n",
       "      <td>NaN</td>\n",
       "      <td>Remote in Quezon City</td>\n",
       "      <td>Perform pre-screening calls to analyze applica...</td>\n",
       "      <td>NaN</td>\n",
       "      <td>NaN</td>\n",
       "    </tr>\n",
       "    <tr>\n",
       "      <th>180</th>\n",
       "      <td>Musician</td>\n",
       "      <td>Quezon City Tourism Department</td>\n",
       "      <td>NaN</td>\n",
       "      <td>NaN</td>\n",
       "      <td>Quezon City</td>\n",
       "      <td>Fully accomplished Personal Data Sheet (PDS) w...</td>\n",
       "      <td>NaN</td>\n",
       "      <td>NaN</td>\n",
       "    </tr>\n",
       "    <tr>\n",
       "      <th>181</th>\n",
       "      <td>newEvents and Functions Coordinator (Manila an...</td>\n",
       "      <td>HR Spectacles</td>\n",
       "      <td>NaN</td>\n",
       "      <td>NaN</td>\n",
       "      <td>Davao City</td>\n",
       "      <td>Look for and compare different vendors (cateri...</td>\n",
       "      <td>NaN</td>\n",
       "      <td>NaN</td>\n",
       "    </tr>\n",
       "  </tbody>\n",
       "</table>\n",
       "<p>182 rows × 8 columns</p>\n",
       "</div>"
      ],
      "text/plain": [
       "                                                 Title  \\\n",
       "0                                  newSound Technician   \n",
       "1                                             Musician   \n",
       "2                                  Technical Recruiter   \n",
       "3    newEvents and Functions Coordinator (Manila an...   \n",
       "4                                  newSound Technician   \n",
       "..                                                 ...   \n",
       "177                                           Musician   \n",
       "178                                newSound Technician   \n",
       "179                                Technical Recruiter   \n",
       "180                                           Musician   \n",
       "181  newEvents and Functions Coordinator (Manila an...   \n",
       "\n",
       "                            Company SalaryOne  \\\n",
       "0           Midori Hotel and Casino      None   \n",
       "1    Quezon City Tourism Department      None   \n",
       "2                    Outstaffer.com      None   \n",
       "3                     HR Spectacles      None   \n",
       "4           Midori Hotel and Casino      None   \n",
       "..                              ...       ...   \n",
       "177  Quezon City Tourism Department       NaN   \n",
       "178         Midori Hotel and Casino       NaN   \n",
       "179                  Outstaffer.com       NaN   \n",
       "180  Quezon City Tourism Department       NaN   \n",
       "181                   HR Spectacles       NaN   \n",
       "\n",
       "                           SalaryTwo               Location  \\\n",
       "0                               None                Angeles   \n",
       "1                               None            Quezon City   \n",
       "2                               None  Remote in Quezon City   \n",
       "3    PHP 18,000 - PHP 20,000 a month             Davao City   \n",
       "4                               None                Angeles   \n",
       "..                               ...                    ...   \n",
       "177                              NaN            Quezon City   \n",
       "178                              NaN                Angeles   \n",
       "179                              NaN  Remote in Quezon City   \n",
       "180                              NaN            Quezon City   \n",
       "181                              NaN             Davao City   \n",
       "\n",
       "                                               Summary  \\\n",
       "0    Skill in responding t musical balancing of art...   \n",
       "1    Fully accomplished Personal Data Sheet (PDS) w...   \n",
       "2    Perform pre-screening calls to analyze applica...   \n",
       "3    Look for and compare different vendors (cateri...   \n",
       "4    Skill in responding t musical balancing of art...   \n",
       "..                                                 ...   \n",
       "177  Fully accomplished Personal Data Sheet (PDS) w...   \n",
       "178  Skill in responding t musical balancing of art...   \n",
       "179  Perform pre-screening calls to analyze applica...   \n",
       "180  Fully accomplished Personal Data Sheet (PDS) w...   \n",
       "181  Look for and compare different vendors (cateri...   \n",
       "\n",
       "                                         Qualification  \\\n",
       "0    ['Shift system', 'Angeles City, Pampanga: Reli...   \n",
       "1                                                   []   \n",
       "2    ['Join a leader in Global Employment & WFA tec...   \n",
       "3    ['Perform research in order to gain deep under...   \n",
       "4    ['Shift system', 'Angeles City, Pampanga: Reli...   \n",
       "..                                                 ...   \n",
       "177                                                NaN   \n",
       "178                                                NaN   \n",
       "179                                                NaN   \n",
       "180                                                NaN   \n",
       "181                                                NaN   \n",
       "\n",
       "                                 Role&Responsibilities  \n",
       "0    [\"The Sound Technician shall handle and mainta...  \n",
       "1                                                   []  \n",
       "2                                                   []  \n",
       "3    ['Duties and Responsibilities', 'Requirements ...  \n",
       "4    [\"The Sound Technician shall handle and mainta...  \n",
       "..                                                 ...  \n",
       "177                                                NaN  \n",
       "178                                                NaN  \n",
       "179                                                NaN  \n",
       "180                                                NaN  \n",
       "181                                                NaN  \n",
       "\n",
       "[182 rows x 8 columns]"
      ]
     },
     "execution_count": 4,
     "metadata": {},
     "output_type": "execute_result"
    }
   ],
   "source": [
    "#View Data's\n",
    "merge"
   ]
  },
  {
   "cell_type": "code",
   "execution_count": 5,
   "metadata": {},
   "outputs": [],
   "source": [
    "location = merge[\"Location\"].value_counts()[0:10] # Location\n",
    "salary = merge[\"SalaryOne\"] + \" \" + merge[\"SalaryTwo\"] # Salary\n",
    "title = merge[\"Title\"].value_counts()[0:10]"
   ]
  },
  {
   "cell_type": "code",
   "execution_count": 6,
   "metadata": {},
   "outputs": [
    {
     "data": {
      "text/html": [
       "<div>\n",
       "<style scoped>\n",
       "    .dataframe tbody tr th:only-of-type {\n",
       "        vertical-align: middle;\n",
       "    }\n",
       "\n",
       "    .dataframe tbody tr th {\n",
       "        vertical-align: top;\n",
       "    }\n",
       "\n",
       "    .dataframe thead th {\n",
       "        text-align: right;\n",
       "    }\n",
       "</style>\n",
       "<table border=\"1\" class=\"dataframe\">\n",
       "  <thead>\n",
       "    <tr style=\"text-align: right;\">\n",
       "      <th></th>\n",
       "      <th>Location</th>\n",
       "    </tr>\n",
       "  </thead>\n",
       "  <tbody>\n",
       "    <tr>\n",
       "      <th>Angeles</th>\n",
       "      <td>39</td>\n",
       "    </tr>\n",
       "    <tr>\n",
       "      <th>Quezon City</th>\n",
       "      <td>39</td>\n",
       "    </tr>\n",
       "    <tr>\n",
       "      <th>Remote in Quezon City</th>\n",
       "      <td>39</td>\n",
       "    </tr>\n",
       "    <tr>\n",
       "      <th>Davao City</th>\n",
       "      <td>39</td>\n",
       "    </tr>\n",
       "    <tr>\n",
       "      <th>Manila</th>\n",
       "      <td>26</td>\n",
       "    </tr>\n",
       "  </tbody>\n",
       "</table>\n",
       "</div>"
      ],
      "text/plain": [
       "                       Location\n",
       "Angeles                      39\n",
       "Quezon City                  39\n",
       "Remote in Quezon City        39\n",
       "Davao City                   39\n",
       "Manila                       26"
      ]
     },
     "execution_count": 6,
     "metadata": {},
     "output_type": "execute_result"
    }
   ],
   "source": [
    "location.to_frame()"
   ]
  },
  {
   "cell_type": "code",
   "execution_count": 7,
   "metadata": {},
   "outputs": [
    {
     "data": {
      "image/png": "[encoded data removed]",
      "text/plain": [
       "<Figure size 432x288 with 1 Axes>"
      ]
     },
     "metadata": {
      "needs_background": "light"
     },
     "output_type": "display_data"
    }
   ],
   "source": [
    "plt.bar(location.index, location.values,width=0.3)\n",
    "plt.title(\"Indeed Musician Location\")\n",
    "plt.xticks(rotation=30,ha=\"right\")\n",
    "plt.show()"
   ]
  },
  {
   "cell_type": "code",
   "execution_count": 8,
   "metadata": {},
   "outputs": [
    {
     "data": {
      "text/html": [
       "<div>\n",
       "<style scoped>\n",
       "    .dataframe tbody tr th:only-of-type {\n",
       "        vertical-align: middle;\n",
       "    }\n",
       "\n",
       "    .dataframe tbody tr th {\n",
       "        vertical-align: top;\n",
       "    }\n",
       "\n",
       "    .dataframe thead th {\n",
       "        text-align: right;\n",
       "    }\n",
       "</style>\n",
       "<table border=\"1\" class=\"dataframe\">\n",
       "  <thead>\n",
       "    <tr style=\"text-align: right;\">\n",
       "      <th></th>\n",
       "      <th>Title</th>\n",
       "    </tr>\n",
       "  </thead>\n",
       "  <tbody>\n",
       "    <tr>\n",
       "      <th>newSound Technician</th>\n",
       "      <td>39</td>\n",
       "    </tr>\n",
       "    <tr>\n",
       "      <th>Musician</th>\n",
       "      <td>39</td>\n",
       "    </tr>\n",
       "    <tr>\n",
       "      <th>Technical Recruiter</th>\n",
       "      <td>39</td>\n",
       "    </tr>\n",
       "    <tr>\n",
       "      <th>newEvents and Functions Coordinator (Manila and Davao Site)</th>\n",
       "      <td>39</td>\n",
       "    </tr>\n",
       "    <tr>\n",
       "      <th>newTechnical Support Engineer - Audio (Sibelius)</th>\n",
       "      <td>26</td>\n",
       "    </tr>\n",
       "  </tbody>\n",
       "</table>\n",
       "</div>"
      ],
      "text/plain": [
       "                                                    Title\n",
       "newSound Technician                                    39\n",
       "Musician                                               39\n",
       "Technical Recruiter                                    39\n",
       "newEvents and Functions Coordinator (Manila and...     39\n",
       "newTechnical Support Engineer - Audio (Sibelius)       26"
      ]
     },
     "execution_count": 8,
     "metadata": {},
     "output_type": "execute_result"
    }
   ],
   "source": [
    "title.to_frame()"
   ]
  },
  {
   "cell_type": "code",
   "execution_count": 15,
   "metadata": {},
   "outputs": [
    {
     "data": {
      "image/png": "[encoded data removed]",
      "text/plain": [
       "<Figure size 432x288 with 1 Axes>"
      ]
     },
     "metadata": {
      "needs_background": "light"
     },
     "output_type": "display_data"
    }
   ],
   "source": [
    "plt.barh(title.index, title.values)\n",
    "plt.title(\"Indeed Musician\")\n",
    "plt.xticks(rotation=30,ha=\"right\")\n",
    "plt.show()"
   ]
  },
  {
   "cell_type": "code",
   "execution_count": 10,
   "metadata": {},
   "outputs": [],
   "source": [
    "company = merge[\"Company\"].value_counts()[0:10]"
   ]
  },
  {
   "cell_type": "code",
   "execution_count": 11,
   "metadata": {},
   "outputs": [
    {
     "data": {
      "text/html": [
       "<div>\n",
       "<style scoped>\n",
       "    .dataframe tbody tr th:only-of-type {\n",
       "        vertical-align: middle;\n",
       "    }\n",
       "\n",
       "    .dataframe tbody tr th {\n",
       "        vertical-align: top;\n",
       "    }\n",
       "\n",
       "    .dataframe thead th {\n",
       "        text-align: right;\n",
       "    }\n",
       "</style>\n",
       "<table border=\"1\" class=\"dataframe\">\n",
       "  <thead>\n",
       "    <tr style=\"text-align: right;\">\n",
       "      <th></th>\n",
       "      <th>Company</th>\n",
       "    </tr>\n",
       "  </thead>\n",
       "  <tbody>\n",
       "    <tr>\n",
       "      <th>Midori Hotel and Casino</th>\n",
       "      <td>39</td>\n",
       "    </tr>\n",
       "    <tr>\n",
       "      <th>Quezon City Tourism Department</th>\n",
       "      <td>39</td>\n",
       "    </tr>\n",
       "    <tr>\n",
       "      <th>Outstaffer.com</th>\n",
       "      <td>39</td>\n",
       "    </tr>\n",
       "    <tr>\n",
       "      <th>HR Spectacles</th>\n",
       "      <td>39</td>\n",
       "    </tr>\n",
       "    <tr>\n",
       "      <th>Avid Technology</th>\n",
       "      <td>26</td>\n",
       "    </tr>\n",
       "  </tbody>\n",
       "</table>\n",
       "</div>"
      ],
      "text/plain": [
       "                                Company\n",
       "Midori Hotel and Casino              39\n",
       "Quezon City Tourism Department       39\n",
       "Outstaffer.com                       39\n",
       "HR Spectacles                        39\n",
       "Avid Technology                      26"
      ]
     },
     "execution_count": 11,
     "metadata": {},
     "output_type": "execute_result"
    }
   ],
   "source": [
    "company.to_frame()"
   ]
  },
  {
   "cell_type": "code",
   "execution_count": 12,
   "metadata": {},
   "outputs": [
    {
     "data": {
      "image/png": "[encoded data removed]",
      "text/plain": [
       "<Figure size 432x288 with 1 Axes>"
      ]
     },
     "metadata": {
      "needs_background": "light"
     },
     "output_type": "display_data"
    }
   ],
   "source": [
    "plt.bar(company.index, company.values)\n",
    "plt.xticks(rotation=30,ha=\"right\")\n",
    "plt.show()"
   ]
  },
  {
   "cell_type": "code",
   "execution_count": 13,
   "metadata": {},
   "outputs": [
    {
     "name": "stderr",
     "output_type": "stream",
     "text": [
      "/var/folders/tc/qdg72rpx523gjsqcr2vf_0c00000gn/T/ipykernel_2477/1200321832.py:1: FutureWarning: The default value of regex will change from True to False in a future version.\n",
      "  replace = merge[\"Qualification\"].str.replace(\"^\\['|'\\]$\",\"\")\n"
     ]
    }
   ],
   "source": [
    "replace = merge[\"Qualification\"].str.replace(\"^\\['|'\\]$\",\"\")"
   ]
  },
  {
   "cell_type": "code",
   "execution_count": 14,
   "metadata": {},
   "outputs": [
    {
     "ename": "SyntaxError",
     "evalue": "incomplete input (4013677077.py, line 4)",
     "output_type": "error",
     "traceback": [
      "\u001b[0;36m  Input \u001b[0;32mIn [14]\u001b[0;36m\u001b[0m\n\u001b[0;31m    #print(a_list[j])\u001b[0m\n\u001b[0m                     ^\u001b[0m\n\u001b[0;31mSyntaxError\u001b[0m\u001b[0;31m:\u001b[0m incomplete input\n"
     ]
    }
   ],
   "source": [
    "for i in range(len(merge[\"Qualification\"])):\n",
    "    a_list = literal_eval(merge[\"Qualification\"][i])\n",
    "    for j in range(len(a_list)):\n",
    "        #print(a_list[j])"
   ]
  },
  {
   "cell_type": "code",
   "execution_count": null,
   "metadata": {},
   "outputs": [],
   "source": []
  }
 ],
 "metadata": {
  "interpreter": {
   "hash": "aee8b7b246df8f9039afb4144a1f6fd8d2ca17a180786b69acc140d282b71a49"
  },
  "kernelspec": {
   "display_name": "Python 3.10.4 64-bit",
   "language": "python",
   "name": "python3"
  },
  "language_info": {
   "codemirror_mode": {
    "name": "ipython",
    "version": 3
   },
   "file_extension": ".py",
   "mimetype": "text/x-python",
   "name": "python",
   "nbconvert_exporter": "python",
   "pygments_lexer": "ipython3",
   "version": "3.10.4"
  },
  "orig_nbformat": 4
 },
 "nbformat": 4,
 "nbformat_minor": 2
}
