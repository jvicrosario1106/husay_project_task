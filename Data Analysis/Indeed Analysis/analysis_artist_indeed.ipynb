{
 "cells": [
  {
   "cell_type": "code",
   "execution_count": 2,
   "metadata": {},
   "outputs": [],
   "source": [
    "import matplotlib.pyplot as plt\n",
    "import pandas as pd\n",
    "from ast import literal_eval\n",
    "import re"
   ]
  },
  {
   "cell_type": "code",
   "execution_count": 3,
   "metadata": {},
   "outputs": [],
   "source": [
    "merge = pd.concat(map(pd.read_csv, [\"../../Raw_CSV/April 25-26 - 2022/Indeed/Indeed-artist.csv\",\"../../Raw_CSV/April 27 - 2022/Indeed/Indeed-artist.csv\", \"../../Raw_CSV/April 28 - 2022/Indeed/Indeed-artist.csv\",\"../../Raw_CSV/April 21-22 - 2022/Indeed/artist.csv\"]),ignore_index=True)"
   ]
  },
  {
   "cell_type": "code",
   "execution_count": 4,
   "metadata": {},
   "outputs": [
    {
     "data": {
      "text/html": [
       "<div>\n",
       "<style scoped>\n",
       "    .dataframe tbody tr th:only-of-type {\n",
       "        vertical-align: middle;\n",
       "    }\n",
       "\n",
       "    .dataframe tbody tr th {\n",
       "        vertical-align: top;\n",
       "    }\n",
       "\n",
       "    .dataframe thead th {\n",
       "        text-align: right;\n",
       "    }\n",
       "</style>\n",
       "<table border=\"1\" class=\"dataframe\">\n",
       "  <thead>\n",
       "    <tr style=\"text-align: right;\">\n",
       "      <th></th>\n",
       "      <th>Title</th>\n",
       "      <th>Company</th>\n",
       "      <th>SalaryOne</th>\n",
       "      <th>SalaryTwo</th>\n",
       "      <th>Location</th>\n",
       "      <th>Summary</th>\n",
       "      <th>Qualification</th>\n",
       "      <th>Role&amp;Responsibilities</th>\n",
       "    </tr>\n",
       "  </thead>\n",
       "  <tbody>\n",
       "    <tr>\n",
       "      <th>count</th>\n",
       "      <td>390</td>\n",
       "      <td>390</td>\n",
       "      <td>315</td>\n",
       "      <td>315</td>\n",
       "      <td>390</td>\n",
       "      <td>390</td>\n",
       "      <td>315</td>\n",
       "      <td>315</td>\n",
       "    </tr>\n",
       "    <tr>\n",
       "      <th>unique</th>\n",
       "      <td>104</td>\n",
       "      <td>158</td>\n",
       "      <td>36</td>\n",
       "      <td>50</td>\n",
       "      <td>48</td>\n",
       "      <td>170</td>\n",
       "      <td>163</td>\n",
       "      <td>162</td>\n",
       "    </tr>\n",
       "    <tr>\n",
       "      <th>top</th>\n",
       "      <td>Graphic Artist</td>\n",
       "      <td>Canva</td>\n",
       "      <td>None</td>\n",
       "      <td>None</td>\n",
       "      <td>Makati</td>\n",
       "      <td>Candidate must possess at least Highschool Dip...</td>\n",
       "      <td>[]</td>\n",
       "      <td>[]</td>\n",
       "    </tr>\n",
       "    <tr>\n",
       "      <th>freq</th>\n",
       "      <td>63</td>\n",
       "      <td>11</td>\n",
       "      <td>258</td>\n",
       "      <td>199</td>\n",
       "      <td>54</td>\n",
       "      <td>8</td>\n",
       "      <td>10</td>\n",
       "      <td>10</td>\n",
       "    </tr>\n",
       "  </tbody>\n",
       "</table>\n",
       "</div>"
      ],
      "text/plain": [
       "                 Title Company SalaryOne SalaryTwo Location  \\\n",
       "count              390     390       315       315      390   \n",
       "unique             104     158        36        50       48   \n",
       "top     Graphic Artist   Canva      None      None   Makati   \n",
       "freq                63      11       258       199       54   \n",
       "\n",
       "                                                  Summary Qualification  \\\n",
       "count                                                 390           315   \n",
       "unique                                                170           163   \n",
       "top     Candidate must possess at least Highschool Dip...            []   \n",
       "freq                                                    8            10   \n",
       "\n",
       "       Role&Responsibilities  \n",
       "count                    315  \n",
       "unique                   162  \n",
       "top                       []  \n",
       "freq                      10  "
      ]
     },
     "execution_count": 4,
     "metadata": {},
     "output_type": "execute_result"
    }
   ],
   "source": [
    "#Describing the data\n",
    "merge.describe()"
   ]
  },
  {
   "cell_type": "code",
   "execution_count": 5,
   "metadata": {},
   "outputs": [
    {
     "data": {
      "text/html": [
       "<div>\n",
       "<style scoped>\n",
       "    .dataframe tbody tr th:only-of-type {\n",
       "        vertical-align: middle;\n",
       "    }\n",
       "\n",
       "    .dataframe tbody tr th {\n",
       "        vertical-align: top;\n",
       "    }\n",
       "\n",
       "    .dataframe thead th {\n",
       "        text-align: right;\n",
       "    }\n",
       "</style>\n",
       "<table border=\"1\" class=\"dataframe\">\n",
       "  <thead>\n",
       "    <tr style=\"text-align: right;\">\n",
       "      <th></th>\n",
       "      <th>Title</th>\n",
       "      <th>Company</th>\n",
       "      <th>SalaryOne</th>\n",
       "      <th>SalaryTwo</th>\n",
       "      <th>Location</th>\n",
       "      <th>Summary</th>\n",
       "      <th>Qualification</th>\n",
       "      <th>Role&amp;Responsibilities</th>\n",
       "    </tr>\n",
       "  </thead>\n",
       "  <tbody>\n",
       "    <tr>\n",
       "      <th>0</th>\n",
       "      <td>Graphic Artist</td>\n",
       "      <td>The Aristocrat Restaurant</td>\n",
       "      <td>PHP 23,000 - PHP 27,000 a month</td>\n",
       "      <td>None</td>\n",
       "      <td>Malate</td>\n",
       "      <td>Design and format layout of presentation mater...</td>\n",
       "      <td>['8 hour shift', '13th month salary', 'Overtim...</td>\n",
       "      <td>['Design and format layout of presentation mat...</td>\n",
       "    </tr>\n",
       "    <tr>\n",
       "      <th>1</th>\n",
       "      <td>newGraphic Artist - Supervisor Level</td>\n",
       "      <td>Super Shopping Market Inc. (SM Hypermarket) - ...</td>\n",
       "      <td>None</td>\n",
       "      <td>None</td>\n",
       "      <td>Pasay</td>\n",
       "      <td>Must be a graduate of Graphic design, Advertis...</td>\n",
       "      <td>['Must be a graduate of Graphic design, Advert...</td>\n",
       "      <td>['For Applicants, please send your updated Res...</td>\n",
       "    </tr>\n",
       "    <tr>\n",
       "      <th>2</th>\n",
       "      <td>newE - Learning Graphic Artist</td>\n",
       "      <td>Hunter's Hub Inc.</td>\n",
       "      <td>PHP 42,000 a month</td>\n",
       "      <td>None</td>\n",
       "      <td>Makati</td>\n",
       "      <td>1-3 years as a graphic/digital creative artist...</td>\n",
       "      <td>['More than 1 year of experience designing &amp; i...</td>\n",
       "      <td>['Qualifications: ', 'Job Description: ', 'The...</td>\n",
       "    </tr>\n",
       "    <tr>\n",
       "      <th>3</th>\n",
       "      <td>Sculpture Artist</td>\n",
       "      <td>LIVEWERKZ PTE. LTD.</td>\n",
       "      <td>PHP 15,000 - PHP 40,000 a month</td>\n",
       "      <td>None</td>\n",
       "      <td>Quezon City</td>\n",
       "      <td>Construct 3D art works using materials such as...</td>\n",
       "      <td>['Construct 3D art works using materials such ...</td>\n",
       "      <td>['Job Description and Requirements', 'Benefits...</td>\n",
       "    </tr>\n",
       "    <tr>\n",
       "      <th>4</th>\n",
       "      <td>Graphic Artist Work from Home</td>\n",
       "      <td>Relotz</td>\n",
       "      <td>None</td>\n",
       "      <td>None</td>\n",
       "      <td>Remote in Manila+3 locations</td>\n",
       "      <td>1-2 years of experience as a graphic artist.</td>\n",
       "      <td>['Work from home', '8 hour shift', 'Bonus pay'...</td>\n",
       "      <td>['Are you an opportunity-seeker? Because we ar...</td>\n",
       "    </tr>\n",
       "    <tr>\n",
       "      <th>...</th>\n",
       "      <td>...</td>\n",
       "      <td>...</td>\n",
       "      <td>...</td>\n",
       "      <td>...</td>\n",
       "      <td>...</td>\n",
       "      <td>...</td>\n",
       "      <td>...</td>\n",
       "      <td>...</td>\n",
       "    </tr>\n",
       "    <tr>\n",
       "      <th>385</th>\n",
       "      <td>newGraphic Artist</td>\n",
       "      <td>One Outsource Direct Corp.</td>\n",
       "      <td>NaN</td>\n",
       "      <td>NaN</td>\n",
       "      <td>Makati</td>\n",
       "      <td>The Graphic Artist (GA)is responsible for over...</td>\n",
       "      <td>NaN</td>\n",
       "      <td>NaN</td>\n",
       "    </tr>\n",
       "    <tr>\n",
       "      <th>386</th>\n",
       "      <td>Graphic Artist</td>\n",
       "      <td>Reckitt</td>\n",
       "      <td>NaN</td>\n",
       "      <td>NaN</td>\n",
       "      <td>Makati</td>\n",
       "      <td>Competitive Salary &amp; excellent benefits package.</td>\n",
       "      <td>NaN</td>\n",
       "      <td>NaN</td>\n",
       "    </tr>\n",
       "    <tr>\n",
       "      <th>387</th>\n",
       "      <td>newGraphic Artist</td>\n",
       "      <td>Majestic Graphic &amp; Printing Corporation</td>\n",
       "      <td>NaN</td>\n",
       "      <td>NaN</td>\n",
       "      <td>Makati</td>\n",
       "      <td>Advanced skills in Adobe Photoshop, Illustrato...</td>\n",
       "      <td>NaN</td>\n",
       "      <td>NaN</td>\n",
       "    </tr>\n",
       "    <tr>\n",
       "      <th>388</th>\n",
       "      <td>Graphic Artist</td>\n",
       "      <td>SkinStation</td>\n",
       "      <td>NaN</td>\n",
       "      <td>NaN</td>\n",
       "      <td>Fort Bonifacio</td>\n",
       "      <td>Meet with the creative director to determine t...</td>\n",
       "      <td>NaN</td>\n",
       "      <td>NaN</td>\n",
       "    </tr>\n",
       "    <tr>\n",
       "      <th>389</th>\n",
       "      <td>15 - Motion Graphics Artist - HOMEBASED</td>\n",
       "      <td>Support Shepherd</td>\n",
       "      <td>NaN</td>\n",
       "      <td>NaN</td>\n",
       "      <td>Remote in Manila</td>\n",
       "      <td>You enjoy collaborating as part of a team and ...</td>\n",
       "      <td>NaN</td>\n",
       "      <td>NaN</td>\n",
       "    </tr>\n",
       "  </tbody>\n",
       "</table>\n",
       "<p>390 rows × 8 columns</p>\n",
       "</div>"
      ],
      "text/plain": [
       "                                       Title  \\\n",
       "0                             Graphic Artist   \n",
       "1       newGraphic Artist - Supervisor Level   \n",
       "2             newE - Learning Graphic Artist   \n",
       "3                           Sculpture Artist   \n",
       "4              Graphic Artist Work from Home   \n",
       "..                                       ...   \n",
       "385                        newGraphic Artist   \n",
       "386                           Graphic Artist   \n",
       "387                        newGraphic Artist   \n",
       "388                           Graphic Artist   \n",
       "389  15 - Motion Graphics Artist - HOMEBASED   \n",
       "\n",
       "                                               Company  \\\n",
       "0                            The Aristocrat Restaurant   \n",
       "1    Super Shopping Market Inc. (SM Hypermarket) - ...   \n",
       "2                                    Hunter's Hub Inc.   \n",
       "3                                  LIVEWERKZ PTE. LTD.   \n",
       "4                                               Relotz   \n",
       "..                                                 ...   \n",
       "385                         One Outsource Direct Corp.   \n",
       "386                                            Reckitt   \n",
       "387            Majestic Graphic & Printing Corporation   \n",
       "388                                        SkinStation   \n",
       "389                                   Support Shepherd   \n",
       "\n",
       "                           SalaryOne SalaryTwo                      Location  \\\n",
       "0    PHP 23,000 - PHP 27,000 a month      None                        Malate   \n",
       "1                               None      None                         Pasay   \n",
       "2                 PHP 42,000 a month      None                        Makati   \n",
       "3    PHP 15,000 - PHP 40,000 a month      None                   Quezon City   \n",
       "4                               None      None  Remote in Manila+3 locations   \n",
       "..                               ...       ...                           ...   \n",
       "385                              NaN       NaN                        Makati   \n",
       "386                              NaN       NaN                        Makati   \n",
       "387                              NaN       NaN                        Makati   \n",
       "388                              NaN       NaN                Fort Bonifacio   \n",
       "389                              NaN       NaN              Remote in Manila   \n",
       "\n",
       "                                               Summary  \\\n",
       "0    Design and format layout of presentation mater...   \n",
       "1    Must be a graduate of Graphic design, Advertis...   \n",
       "2    1-3 years as a graphic/digital creative artist...   \n",
       "3    Construct 3D art works using materials such as...   \n",
       "4         1-2 years of experience as a graphic artist.   \n",
       "..                                                 ...   \n",
       "385  The Graphic Artist (GA)is responsible for over...   \n",
       "386   Competitive Salary & excellent benefits package.   \n",
       "387  Advanced skills in Adobe Photoshop, Illustrato...   \n",
       "388  Meet with the creative director to determine t...   \n",
       "389  You enjoy collaborating as part of a team and ...   \n",
       "\n",
       "                                         Qualification  \\\n",
       "0    ['8 hour shift', '13th month salary', 'Overtim...   \n",
       "1    ['Must be a graduate of Graphic design, Advert...   \n",
       "2    ['More than 1 year of experience designing & i...   \n",
       "3    ['Construct 3D art works using materials such ...   \n",
       "4    ['Work from home', '8 hour shift', 'Bonus pay'...   \n",
       "..                                                 ...   \n",
       "385                                                NaN   \n",
       "386                                                NaN   \n",
       "387                                                NaN   \n",
       "388                                                NaN   \n",
       "389                                                NaN   \n",
       "\n",
       "                                 Role&Responsibilities  \n",
       "0    ['Design and format layout of presentation mat...  \n",
       "1    ['For Applicants, please send your updated Res...  \n",
       "2    ['Qualifications: ', 'Job Description: ', 'The...  \n",
       "3    ['Job Description and Requirements', 'Benefits...  \n",
       "4    ['Are you an opportunity-seeker? Because we ar...  \n",
       "..                                                 ...  \n",
       "385                                                NaN  \n",
       "386                                                NaN  \n",
       "387                                                NaN  \n",
       "388                                                NaN  \n",
       "389                                                NaN  \n",
       "\n",
       "[390 rows x 8 columns]"
      ]
     },
     "execution_count": 5,
     "metadata": {},
     "output_type": "execute_result"
    }
   ],
   "source": [
    "#View Data's\n",
    "merge"
   ]
  },
  {
   "cell_type": "code",
   "execution_count": 6,
   "metadata": {},
   "outputs": [],
   "source": [
    "location = merge[\"Location\"].value_counts()[0:10] # Location\n",
    "salary = merge[\"SalaryOne\"] + \" \" + merge[\"SalaryTwo\"] # Salary\n",
    "title = merge[\"Title\"].value_counts()[0:10]"
   ]
  },
  {
   "cell_type": "code",
   "execution_count": 7,
   "metadata": {},
   "outputs": [
    {
     "data": {
      "text/html": [
       "<div>\n",
       "<style scoped>\n",
       "    .dataframe tbody tr th:only-of-type {\n",
       "        vertical-align: middle;\n",
       "    }\n",
       "\n",
       "    .dataframe tbody tr th {\n",
       "        vertical-align: top;\n",
       "    }\n",
       "\n",
       "    .dataframe thead th {\n",
       "        text-align: right;\n",
       "    }\n",
       "</style>\n",
       "<table border=\"1\" class=\"dataframe\">\n",
       "  <thead>\n",
       "    <tr style=\"text-align: right;\">\n",
       "      <th></th>\n",
       "      <th>Location</th>\n",
       "    </tr>\n",
       "  </thead>\n",
       "  <tbody>\n",
       "    <tr>\n",
       "      <th>Makati</th>\n",
       "      <td>54</td>\n",
       "    </tr>\n",
       "    <tr>\n",
       "      <th>Remote in Manila</th>\n",
       "      <td>44</td>\n",
       "    </tr>\n",
       "    <tr>\n",
       "      <th>Manila</th>\n",
       "      <td>31</td>\n",
       "    </tr>\n",
       "    <tr>\n",
       "      <th>Remote</th>\n",
       "      <td>30</td>\n",
       "    </tr>\n",
       "    <tr>\n",
       "      <th>Quezon City</th>\n",
       "      <td>28</td>\n",
       "    </tr>\n",
       "    <tr>\n",
       "      <th>Pasig</th>\n",
       "      <td>23</td>\n",
       "    </tr>\n",
       "    <tr>\n",
       "      <th>Taguig</th>\n",
       "      <td>22</td>\n",
       "    </tr>\n",
       "    <tr>\n",
       "      <th>Pasay</th>\n",
       "      <td>22</td>\n",
       "    </tr>\n",
       "    <tr>\n",
       "      <th>Remote in Pasig</th>\n",
       "      <td>12</td>\n",
       "    </tr>\n",
       "    <tr>\n",
       "      <th>Mandaluyong</th>\n",
       "      <td>10</td>\n",
       "    </tr>\n",
       "  </tbody>\n",
       "</table>\n",
       "</div>"
      ],
      "text/plain": [
       "                  Location\n",
       "Makati                  54\n",
       "Remote in Manila        44\n",
       "Manila                  31\n",
       "Remote                  30\n",
       "Quezon City             28\n",
       "Pasig                   23\n",
       "Taguig                  22\n",
       "Pasay                   22\n",
       "Remote in Pasig         12\n",
       "Mandaluyong             10"
      ]
     },
     "execution_count": 7,
     "metadata": {},
     "output_type": "execute_result"
    }
   ],
   "source": [
    "location.to_frame()"
   ]
  },
  {
   "cell_type": "code",
   "execution_count": 8,
   "metadata": {},
   "outputs": [
    {
     "data": {
      "image/png": "[encoded data removed]",
      "text/plain": [
       "<Figure size 432x288 with 1 Axes>"
      ]
     },
     "metadata": {
      "needs_background": "light"
     },
     "output_type": "display_data"
    }
   ],
   "source": [
    "plt.bar(location.index, location.values,width=0.3)\n",
    "plt.title(\"Indeed Artist Location\")\n",
    "plt.xticks(rotation=30,ha=\"right\")\n",
    "plt.show()"
   ]
  },
  {
   "cell_type": "code",
   "execution_count": 24,
   "metadata": {},
   "outputs": [
    {
     "data": {
      "image/png": "[encoded data removed]",
      "text/plain": [
       "<Figure size 432x288 with 1 Axes>"
      ]
     },
     "metadata": {
      "needs_background": "light"
     },
     "output_type": "display_data"
    }
   ],
   "source": [
    "sort = title.sort_values()\n",
    "plt.barh(sort.index, sort.values)\n",
    "plt.title(\"Indeed Artist\")\n",
    "plt.xticks(rotation=30,ha=\"right\")\n",
    "plt.show()"
   ]
  },
  {
   "cell_type": "code",
   "execution_count": 11,
   "metadata": {},
   "outputs": [],
   "source": [
    "company = merge[\"Company\"].value_counts()[0:10]"
   ]
  },
  {
   "cell_type": "code",
   "execution_count": 12,
   "metadata": {},
   "outputs": [
    {
     "data": {
      "text/html": [
       "<div>\n",
       "<style scoped>\n",
       "    .dataframe tbody tr th:only-of-type {\n",
       "        vertical-align: middle;\n",
       "    }\n",
       "\n",
       "    .dataframe tbody tr th {\n",
       "        vertical-align: top;\n",
       "    }\n",
       "\n",
       "    .dataframe thead th {\n",
       "        text-align: right;\n",
       "    }\n",
       "</style>\n",
       "<table border=\"1\" class=\"dataframe\">\n",
       "  <thead>\n",
       "    <tr style=\"text-align: right;\">\n",
       "      <th></th>\n",
       "      <th>Company</th>\n",
       "    </tr>\n",
       "  </thead>\n",
       "  <tbody>\n",
       "    <tr>\n",
       "      <th>Canva</th>\n",
       "      <td>11</td>\n",
       "    </tr>\n",
       "    <tr>\n",
       "      <th>SVEN Group</th>\n",
       "      <td>10</td>\n",
       "    </tr>\n",
       "    <tr>\n",
       "      <th>sgsco</th>\n",
       "      <td>8</td>\n",
       "    </tr>\n",
       "    <tr>\n",
       "      <th>ConnectUs Marketing Solutions Inc.</th>\n",
       "      <td>8</td>\n",
       "    </tr>\n",
       "    <tr>\n",
       "      <th>AIRCLASS (PHILIPPINES) CORP.</th>\n",
       "      <td>7</td>\n",
       "    </tr>\n",
       "    <tr>\n",
       "      <th>RetainLab</th>\n",
       "      <td>7</td>\n",
       "    </tr>\n",
       "    <tr>\n",
       "      <th>Bria</th>\n",
       "      <td>7</td>\n",
       "    </tr>\n",
       "    <tr>\n",
       "      <th>Avvanz Pte Ltd</th>\n",
       "      <td>7</td>\n",
       "    </tr>\n",
       "    <tr>\n",
       "      <th>ActivAsia Inc.</th>\n",
       "      <td>7</td>\n",
       "    </tr>\n",
       "    <tr>\n",
       "      <th>Philippine Women's University</th>\n",
       "      <td>6</td>\n",
       "    </tr>\n",
       "  </tbody>\n",
       "</table>\n",
       "</div>"
      ],
      "text/plain": [
       "                                    Company\n",
       "Canva                                    11\n",
       "SVEN Group                               10\n",
       "sgsco                                     8\n",
       "ConnectUs Marketing Solutions Inc.        8\n",
       "AIRCLASS (PHILIPPINES) CORP.              7\n",
       "RetainLab                                 7\n",
       "Bria                                      7\n",
       "Avvanz Pte Ltd                            7\n",
       "ActivAsia Inc.                            7\n",
       "Philippine Women's University             6"
      ]
     },
     "execution_count": 12,
     "metadata": {},
     "output_type": "execute_result"
    }
   ],
   "source": [
    "company.to_frame()"
   ]
  },
  {
   "cell_type": "code",
   "execution_count": 13,
   "metadata": {},
   "outputs": [
    {
     "data": {
      "image/png": "[encoded data removed]",
      "text/plain": [
       "<Figure size 432x288 with 1 Axes>"
      ]
     },
     "metadata": {
      "needs_background": "light"
     },
     "output_type": "display_data"
    }
   ],
   "source": [
    "plt.bar(company.index, company.values)\n",
    "plt.xticks(rotation=30,ha=\"right\")\n",
    "plt.show()"
   ]
  },
  {
   "cell_type": "code",
   "execution_count": 14,
   "metadata": {},
   "outputs": [
    {
     "name": "stderr",
     "output_type": "stream",
     "text": [
      "/var/folders/tc/qdg72rpx523gjsqcr2vf_0c00000gn/T/ipykernel_1921/1200321832.py:1: FutureWarning: The default value of regex will change from True to False in a future version.\n",
      "  replace = merge[\"Qualification\"].str.replace(\"^\\['|'\\]$\",\"\")\n"
     ]
    }
   ],
   "source": [
    "replace = merge[\"Qualification\"].str.replace(\"^\\['|'\\]$\",\"\")"
   ]
  },
  {
   "cell_type": "code",
   "execution_count": 15,
   "metadata": {},
   "outputs": [
    {
     "ename": "SyntaxError",
     "evalue": "incomplete input (4013677077.py, line 4)",
     "output_type": "error",
     "traceback": [
      "\u001b[0;36m  Input \u001b[0;32mIn [15]\u001b[0;36m\u001b[0m\n\u001b[0;31m    #print(a_list[j])\u001b[0m\n\u001b[0m                     ^\u001b[0m\n\u001b[0;31mSyntaxError\u001b[0m\u001b[0;31m:\u001b[0m incomplete input\n"
     ]
    }
   ],
   "source": [
    "for i in range(len(merge[\"Qualification\"])):\n",
    "    a_list = literal_eval(merge[\"Qualification\"][i])\n",
    "    for j in range(len(a_list)):\n",
    "        #print(a_list[j])"
   ]
  },
  {
   "cell_type": "code",
   "execution_count": null,
   "metadata": {},
   "outputs": [],
   "source": []
  },
  {
   "cell_type": "code",
   "execution_count": null,
   "metadata": {},
   "outputs": [],
   "source": []
  }
 ],
 "metadata": {
  "interpreter": {
   "hash": "aee8b7b246df8f9039afb4144a1f6fd8d2ca17a180786b69acc140d282b71a49"
  },
  "kernelspec": {
   "display_name": "Python 3.10.4 64-bit",
   "language": "python",
   "name": "python3"
  },
  "language_info": {
   "codemirror_mode": {
    "name": "ipython",
    "version": 3
   },
   "file_extension": ".py",
   "mimetype": "text/x-python",
   "name": "python",
   "nbconvert_exporter": "python",
   "pygments_lexer": "ipython3",
   "version": "3.10.4"
  },
  "orig_nbformat": 4
 },
 "nbformat": 4,
 "nbformat_minor": 2
}
