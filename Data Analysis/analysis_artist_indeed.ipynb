{
 "cells": [
  {
   "cell_type": "code",
   "execution_count": 2,
   "metadata": {},
   "outputs": [],
   "source": [
    "import matplotlib.pyplot as plt\n",
    "import pandas as pd"
   ]
  },
  {
   "cell_type": "code",
   "execution_count": 3,
   "metadata": {},
   "outputs": [],
   "source": [
    "# Importing CSV Files for artist Indeed\n",
    "artist_one = pd.read_csv(\"../Raw_CSV/April 25-26 - 2022/Indeed/Indeed-artist.csv\")\n",
    "artist_two = pd.read_csv(\"../Raw_CSV/April 27 - 2022/Indeed/Indeed-artist.csv\")\n",
    "artist_three = pd.read_csv(\"../Raw_CSV/April 28 - 2022/Indeed/Indeed-artist.csv\")\n",
    "artist_four = pd.read_csv(\"../Raw_CSV/April 21-22 - 2022/Indeed/artist.csv\")\n"
   ]
  },
  {
   "cell_type": "code",
   "execution_count": 4,
   "metadata": {},
   "outputs": [],
   "source": [
    "merge = pd.concat(map(pd.read_csv, [\"../Raw_CSV/April 25-26 - 2022/Indeed/Indeed-artist.csv\",\"../Raw_CSV/April 27 - 2022/Indeed/Indeed-artist.csv\", \"../Raw_CSV/April 28 - 2022/Indeed/Indeed-artist.csv\",\"../Raw_CSV/April 21-22 - 2022/Indeed/artist.csv\"]),ignore_index=True)"
   ]
  },
  {
   "cell_type": "code",
   "execution_count": 5,
   "metadata": {},
   "outputs": [
    {
     "data": {
      "text/html": [
       "<div>\n",
       "<style scoped>\n",
       "    .dataframe tbody tr th:only-of-type {\n",
       "        vertical-align: middle;\n",
       "    }\n",
       "\n",
       "    .dataframe tbody tr th {\n",
       "        vertical-align: top;\n",
       "    }\n",
       "\n",
       "    .dataframe thead th {\n",
       "        text-align: right;\n",
       "    }\n",
       "</style>\n",
       "<table border=\"1\" class=\"dataframe\">\n",
       "  <thead>\n",
       "    <tr style=\"text-align: right;\">\n",
       "      <th></th>\n",
       "      <th>Title</th>\n",
       "      <th>Company</th>\n",
       "      <th>SalaryOne</th>\n",
       "      <th>SalaryTwo</th>\n",
       "      <th>Location</th>\n",
       "      <th>Summary</th>\n",
       "      <th>Qualification</th>\n",
       "      <th>Role&amp;Responsibilities</th>\n",
       "    </tr>\n",
       "  </thead>\n",
       "  <tbody>\n",
       "    <tr>\n",
       "      <th>count</th>\n",
       "      <td>390</td>\n",
       "      <td>390</td>\n",
       "      <td>315</td>\n",
       "      <td>315</td>\n",
       "      <td>390</td>\n",
       "      <td>390</td>\n",
       "      <td>315</td>\n",
       "      <td>315</td>\n",
       "    </tr>\n",
       "    <tr>\n",
       "      <th>unique</th>\n",
       "      <td>104</td>\n",
       "      <td>158</td>\n",
       "      <td>36</td>\n",
       "      <td>50</td>\n",
       "      <td>48</td>\n",
       "      <td>170</td>\n",
       "      <td>163</td>\n",
       "      <td>162</td>\n",
       "    </tr>\n",
       "    <tr>\n",
       "      <th>top</th>\n",
       "      <td>Graphic Artist</td>\n",
       "      <td>Canva</td>\n",
       "      <td>None</td>\n",
       "      <td>None</td>\n",
       "      <td>Makati</td>\n",
       "      <td>Candidate must possess at least Highschool Dip...</td>\n",
       "      <td>[]</td>\n",
       "      <td>[]</td>\n",
       "    </tr>\n",
       "    <tr>\n",
       "      <th>freq</th>\n",
       "      <td>63</td>\n",
       "      <td>11</td>\n",
       "      <td>258</td>\n",
       "      <td>199</td>\n",
       "      <td>54</td>\n",
       "      <td>8</td>\n",
       "      <td>10</td>\n",
       "      <td>10</td>\n",
       "    </tr>\n",
       "  </tbody>\n",
       "</table>\n",
       "</div>"
      ],
      "text/plain": [
       "                 Title Company SalaryOne SalaryTwo Location  \\\n",
       "count              390     390       315       315      390   \n",
       "unique             104     158        36        50       48   \n",
       "top     Graphic Artist   Canva      None      None   Makati   \n",
       "freq                63      11       258       199       54   \n",
       "\n",
       "                                                  Summary Qualification  \\\n",
       "count                                                 390           315   \n",
       "unique                                                170           163   \n",
       "top     Candidate must possess at least Highschool Dip...            []   \n",
       "freq                                                    8            10   \n",
       "\n",
       "       Role&Responsibilities  \n",
       "count                    315  \n",
       "unique                   162  \n",
       "top                       []  \n",
       "freq                      10  "
      ]
     },
     "execution_count": 5,
     "metadata": {},
     "output_type": "execute_result"
    }
   ],
   "source": [
    "merge.describe()"
   ]
  },
  {
   "cell_type": "code",
   "execution_count": null,
   "metadata": {},
   "outputs": [],
   "source": []
  }
 ],
 "metadata": {
  "interpreter": {
   "hash": "aee8b7b246df8f9039afb4144a1f6fd8d2ca17a180786b69acc140d282b71a49"
  },
  "kernelspec": {
   "display_name": "Python 3.10.4 64-bit",
   "language": "python",
   "name": "python3"
  },
  "language_info": {
   "codemirror_mode": {
    "name": "ipython",
    "version": 3
   },
   "file_extension": ".py",
   "mimetype": "text/x-python",
   "name": "python",
   "nbconvert_exporter": "python",
   "pygments_lexer": "ipython3",
   "version": "3.10.4"
  },
  "orig_nbformat": 4
 },
 "nbformat": 4,
 "nbformat_minor": 2
}
