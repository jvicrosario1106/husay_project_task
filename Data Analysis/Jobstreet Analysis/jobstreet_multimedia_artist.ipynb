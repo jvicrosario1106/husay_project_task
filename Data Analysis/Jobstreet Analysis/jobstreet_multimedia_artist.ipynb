{
 "cells": [
  {
   "cell_type": "code",
   "execution_count": 1,
   "metadata": {},
   "outputs": [],
   "source": [
    "import matplotlib.pyplot as plt\n",
    "import pandas as pd\n",
    "import re\n",
    "import ast"
   ]
  },
  {
   "cell_type": "code",
   "execution_count": 2,
   "metadata": {},
   "outputs": [
    {
     "data": {
      "text/html": [
       "<div>\n",
       "<style scoped>\n",
       "    .dataframe tbody tr th:only-of-type {\n",
       "        vertical-align: middle;\n",
       "    }\n",
       "\n",
       "    .dataframe tbody tr th {\n",
       "        vertical-align: top;\n",
       "    }\n",
       "\n",
       "    .dataframe thead th {\n",
       "        text-align: right;\n",
       "    }\n",
       "</style>\n",
       "<table border=\"1\" class=\"dataframe\">\n",
       "  <thead>\n",
       "    <tr style=\"text-align: right;\">\n",
       "      <th></th>\n",
       "      <th>Title</th>\n",
       "      <th>Company</th>\n",
       "      <th>Location</th>\n",
       "      <th>Summary</th>\n",
       "      <th>Salary</th>\n",
       "      <th>Qualification &amp; Skills</th>\n",
       "      <th>Role and Responsibilities</th>\n",
       "      <th>Job Type</th>\n",
       "      <th>Company Profile&amp;Job Desc</th>\n",
       "      <th>Career Level</th>\n",
       "      <th>Benefits</th>\n",
       "      <th>Company Size</th>\n",
       "    </tr>\n",
       "  </thead>\n",
       "  <tbody>\n",
       "    <tr>\n",
       "      <th>0</th>\n",
       "      <td>Marketing Graphic Artist(BGC Taguig)</td>\n",
       "      <td>Business Trends Philippines</td>\n",
       "      <td>National Capital Reg</td>\n",
       "      <td>Candidate must possess at least a Bachelor's/C...</td>\n",
       "      <td>PHP 19,000 - PHP 20,000</td>\n",
       "      <td>[\"Candidate must possess at least a Bachelor's...</td>\n",
       "      <td>[]</td>\n",
       "      <td>['Full-Time position(s) available.', 'Full-Tim...</td>\n",
       "      <td>[\"Candidate must possess at least a Bachelor's...</td>\n",
       "      <td>1-4 Years Experienced Employee</td>\n",
       "      <td>[]</td>\n",
       "      <td>501 - 1000 Employees</td>\n",
       "    </tr>\n",
       "    <tr>\n",
       "      <th>1</th>\n",
       "      <td>Marketing Graphic Artist(BGC Taguig)</td>\n",
       "      <td>Business Trends Philippines</td>\n",
       "      <td>National Capital Reg</td>\n",
       "      <td>Candidate must possess at least a Bachelor's/C...</td>\n",
       "      <td>PHP 19,000 - PHP 20,000</td>\n",
       "      <td>[\"Candidate must possess at least a Bachelor's...</td>\n",
       "      <td>[]</td>\n",
       "      <td>['Full-Time position(s) available.', 'Full-Tim...</td>\n",
       "      <td>[\"Candidate must possess at least a Bachelor's...</td>\n",
       "      <td>1-4 Years Experienced Employee</td>\n",
       "      <td>[]</td>\n",
       "      <td>501 - 1000 Employees</td>\n",
       "    </tr>\n",
       "    <tr>\n",
       "      <th>2</th>\n",
       "      <td>Graphic Artist(Paseo De Roxas Makati)</td>\n",
       "      <td>Business Trends Philippines</td>\n",
       "      <td>National Capital Reg</td>\n",
       "      <td>Candidate must possess at least a Bachelor's/C...</td>\n",
       "      <td>PHP 20,000 - PHP 25,000</td>\n",
       "      <td>[\"Candidate must possess at least a Bachelor's...</td>\n",
       "      <td>[]</td>\n",
       "      <td>['Full-Time position(s) available.', 'Full-Tim...</td>\n",
       "      <td>[\"Candidate must possess at least a Bachelor's...</td>\n",
       "      <td>1-4 Years Experienced Employee</td>\n",
       "      <td>[]</td>\n",
       "      <td>501 - 1000 Employees</td>\n",
       "    </tr>\n",
       "    <tr>\n",
       "      <th>3</th>\n",
       "      <td>GRAPHIC ARTIST</td>\n",
       "      <td>ONE ORIGINITE CORP.</td>\n",
       "      <td>National Capital Reg</td>\n",
       "      <td>None</td>\n",
       "      <td>PHP 18,000 - PHP 25,200</td>\n",
       "      <td>[]</td>\n",
       "      <td>['Job description', 'Requirements', '-\\xa0\\xa0...</td>\n",
       "      <td>['Full-Time']</td>\n",
       "      <td>['Job descriptionRequirements-\\xa0\\xa0\\xa0\\xa0...</td>\n",
       "      <td>1-4 Years Experienced Employee</td>\n",
       "      <td>[]</td>\n",
       "      <td>1 - 50 Employees</td>\n",
       "    </tr>\n",
       "    <tr>\n",
       "      <th>4</th>\n",
       "      <td>2D Graphic Artist ( Sto. Tomas, Batangas 15K-2...</td>\n",
       "      <td>SAGASS CONSULTING</td>\n",
       "      <td>Calabarzon &amp; Mimaropa</td>\n",
       "      <td>BS Degree in Arts / Designs / Creative Multime...</td>\n",
       "      <td>PHP 15,000 - PHP 20,000</td>\n",
       "      <td>['BS Degree in Arts / Designs / Creative Multi...</td>\n",
       "      <td>[]</td>\n",
       "      <td>['Full-Time', 'Average Processing Time']</td>\n",
       "      <td>[\"REQUIREMENTS:BS Degree in Arts / Designs / C...</td>\n",
       "      <td>1-4 Years Experienced Employee</td>\n",
       "      <td>[]</td>\n",
       "      <td>1 - 50 Employees</td>\n",
       "    </tr>\n",
       "    <tr>\n",
       "      <th>...</th>\n",
       "      <td>...</td>\n",
       "      <td>...</td>\n",
       "      <td>...</td>\n",
       "      <td>...</td>\n",
       "      <td>...</td>\n",
       "      <td>...</td>\n",
       "      <td>...</td>\n",
       "      <td>...</td>\n",
       "      <td>...</td>\n",
       "      <td>...</td>\n",
       "      <td>...</td>\n",
       "      <td>...</td>\n",
       "    </tr>\n",
       "    <tr>\n",
       "      <th>851</th>\n",
       "      <td>Multimedia Artists</td>\n",
       "      <td>YONDU INC.</td>\n",
       "      <td>Taguig City</td>\n",
       "      <td>Education –  At least graduate with a Bachelor...</td>\n",
       "      <td>None</td>\n",
       "      <td>['Education – \\xa0At least graduate with a Bac...</td>\n",
       "      <td>[]</td>\n",
       "      <td>['Average Processing Time']</td>\n",
       "      <td>['Education – \\xa0At least graduate with a Bac...</td>\n",
       "      <td>NaN</td>\n",
       "      <td>['Dental, Miscellaneous allowance, Medical, Lo...</td>\n",
       "      <td>501 - 1000 Employees</td>\n",
       "    </tr>\n",
       "    <tr>\n",
       "      <th>852</th>\n",
       "      <td>Data Stewards</td>\n",
       "      <td>YONDU INC.</td>\n",
       "      <td>Taguig City</td>\n",
       "      <td>Supports in driving efforts for the adoption o...</td>\n",
       "      <td>None</td>\n",
       "      <td>['Supports in driving efforts for the adoption...</td>\n",
       "      <td>[]</td>\n",
       "      <td>['Average Processing Time']</td>\n",
       "      <td>['Supports in driving efforts for the adoption...</td>\n",
       "      <td>NaN</td>\n",
       "      <td>['Dental, Miscellaneous allowance, Medical, Lo...</td>\n",
       "      <td>501 - 1000 Employees</td>\n",
       "    </tr>\n",
       "    <tr>\n",
       "      <th>853</th>\n",
       "      <td>Learning &amp; OD Associates</td>\n",
       "      <td>YONDU INC.</td>\n",
       "      <td>Taguig City</td>\n",
       "      <td>Maintains reports and accurately tracks L&amp;OD p...</td>\n",
       "      <td>None</td>\n",
       "      <td>['Maintains reports and accurately tracks L&amp;OD...</td>\n",
       "      <td>[]</td>\n",
       "      <td>['Average Processing Time']</td>\n",
       "      <td>['Maintains reports and accurately tracks L&amp;OD...</td>\n",
       "      <td>NaN</td>\n",
       "      <td>['Dental, Miscellaneous allowance, Medical, Lo...</td>\n",
       "      <td>501 - 1000 Employees</td>\n",
       "    </tr>\n",
       "    <tr>\n",
       "      <th>854</th>\n",
       "      <td>AWS Infrastructure Engineers</td>\n",
       "      <td>YONDU INC.</td>\n",
       "      <td>Taguig City</td>\n",
       "      <td>Responsible for implementation, management, an...</td>\n",
       "      <td>None</td>\n",
       "      <td>['Responsible for implementation, management, ...</td>\n",
       "      <td>['Education –Related Work Experience• Solid te...</td>\n",
       "      <td>['Average Processing Time']</td>\n",
       "      <td>['Responsible for implementation, management, ...</td>\n",
       "      <td>NaN</td>\n",
       "      <td>['Dental, Miscellaneous allowance, Medical, Lo...</td>\n",
       "      <td>501 - 1000 Employees</td>\n",
       "    </tr>\n",
       "    <tr>\n",
       "      <th>855</th>\n",
       "      <td>Service Managers</td>\n",
       "      <td>YONDU INC.</td>\n",
       "      <td>Taguig City</td>\n",
       "      <td>Education – At least graduate with a Bachelor’...</td>\n",
       "      <td>None</td>\n",
       "      <td>['Education – At least graduate with a Bachelo...</td>\n",
       "      <td>[]</td>\n",
       "      <td>['Average Processing Time']</td>\n",
       "      <td>['Education – At least graduate with a Bachelo...</td>\n",
       "      <td>NaN</td>\n",
       "      <td>['Dental, Miscellaneous allowance, Medical, Lo...</td>\n",
       "      <td>501 - 1000 Employees</td>\n",
       "    </tr>\n",
       "  </tbody>\n",
       "</table>\n",
       "<p>856 rows × 12 columns</p>\n",
       "</div>"
      ],
      "text/plain": [
       "                                                 Title  \\\n",
       "0                 Marketing Graphic Artist(BGC Taguig)   \n",
       "1                 Marketing Graphic Artist(BGC Taguig)   \n",
       "2                Graphic Artist(Paseo De Roxas Makati)   \n",
       "3                                       GRAPHIC ARTIST   \n",
       "4    2D Graphic Artist ( Sto. Tomas, Batangas 15K-2...   \n",
       "..                                                 ...   \n",
       "851                                 Multimedia Artists   \n",
       "852                                      Data Stewards   \n",
       "853                           Learning & OD Associates   \n",
       "854                       AWS Infrastructure Engineers   \n",
       "855                                   Service Managers   \n",
       "\n",
       "                         Company               Location  \\\n",
       "0    Business Trends Philippines   National Capital Reg   \n",
       "1    Business Trends Philippines   National Capital Reg   \n",
       "2    Business Trends Philippines   National Capital Reg   \n",
       "3            ONE ORIGINITE CORP.   National Capital Reg   \n",
       "4              SAGASS CONSULTING  Calabarzon & Mimaropa   \n",
       "..                           ...                    ...   \n",
       "851                   YONDU INC.            Taguig City   \n",
       "852                   YONDU INC.            Taguig City   \n",
       "853                   YONDU INC.            Taguig City   \n",
       "854                   YONDU INC.            Taguig City   \n",
       "855                   YONDU INC.            Taguig City   \n",
       "\n",
       "                                               Summary  \\\n",
       "0    Candidate must possess at least a Bachelor's/C...   \n",
       "1    Candidate must possess at least a Bachelor's/C...   \n",
       "2    Candidate must possess at least a Bachelor's/C...   \n",
       "3                                                 None   \n",
       "4    BS Degree in Arts / Designs / Creative Multime...   \n",
       "..                                                 ...   \n",
       "851  Education –  At least graduate with a Bachelor...   \n",
       "852  Supports in driving efforts for the adoption o...   \n",
       "853  Maintains reports and accurately tracks L&OD p...   \n",
       "854  Responsible for implementation, management, an...   \n",
       "855  Education – At least graduate with a Bachelor’...   \n",
       "\n",
       "                      Salary  \\\n",
       "0    PHP 19,000 - PHP 20,000   \n",
       "1    PHP 19,000 - PHP 20,000   \n",
       "2    PHP 20,000 - PHP 25,000   \n",
       "3    PHP 18,000 - PHP 25,200   \n",
       "4    PHP 15,000 - PHP 20,000   \n",
       "..                       ...   \n",
       "851                     None   \n",
       "852                     None   \n",
       "853                     None   \n",
       "854                     None   \n",
       "855                     None   \n",
       "\n",
       "                                Qualification & Skills  \\\n",
       "0    [\"Candidate must possess at least a Bachelor's...   \n",
       "1    [\"Candidate must possess at least a Bachelor's...   \n",
       "2    [\"Candidate must possess at least a Bachelor's...   \n",
       "3                                                   []   \n",
       "4    ['BS Degree in Arts / Designs / Creative Multi...   \n",
       "..                                                 ...   \n",
       "851  ['Education – \\xa0At least graduate with a Bac...   \n",
       "852  ['Supports in driving efforts for the adoption...   \n",
       "853  ['Maintains reports and accurately tracks L&OD...   \n",
       "854  ['Responsible for implementation, management, ...   \n",
       "855  ['Education – At least graduate with a Bachelo...   \n",
       "\n",
       "                             Role and Responsibilities  \\\n",
       "0                                                   []   \n",
       "1                                                   []   \n",
       "2                                                   []   \n",
       "3    ['Job description', 'Requirements', '-\\xa0\\xa0...   \n",
       "4                                                   []   \n",
       "..                                                 ...   \n",
       "851                                                 []   \n",
       "852                                                 []   \n",
       "853                                                 []   \n",
       "854  ['Education –Related Work Experience• Solid te...   \n",
       "855                                                 []   \n",
       "\n",
       "                                              Job Type  \\\n",
       "0    ['Full-Time position(s) available.', 'Full-Tim...   \n",
       "1    ['Full-Time position(s) available.', 'Full-Tim...   \n",
       "2    ['Full-Time position(s) available.', 'Full-Tim...   \n",
       "3                                        ['Full-Time']   \n",
       "4             ['Full-Time', 'Average Processing Time']   \n",
       "..                                                 ...   \n",
       "851                        ['Average Processing Time']   \n",
       "852                        ['Average Processing Time']   \n",
       "853                        ['Average Processing Time']   \n",
       "854                        ['Average Processing Time']   \n",
       "855                        ['Average Processing Time']   \n",
       "\n",
       "                              Company Profile&Job Desc  \\\n",
       "0    [\"Candidate must possess at least a Bachelor's...   \n",
       "1    [\"Candidate must possess at least a Bachelor's...   \n",
       "2    [\"Candidate must possess at least a Bachelor's...   \n",
       "3    ['Job descriptionRequirements-\\xa0\\xa0\\xa0\\xa0...   \n",
       "4    [\"REQUIREMENTS:BS Degree in Arts / Designs / C...   \n",
       "..                                                 ...   \n",
       "851  ['Education – \\xa0At least graduate with a Bac...   \n",
       "852  ['Supports in driving efforts for the adoption...   \n",
       "853  ['Maintains reports and accurately tracks L&OD...   \n",
       "854  ['Responsible for implementation, management, ...   \n",
       "855  ['Education – At least graduate with a Bachelo...   \n",
       "\n",
       "                       Career Level  \\\n",
       "0    1-4 Years Experienced Employee   \n",
       "1    1-4 Years Experienced Employee   \n",
       "2    1-4 Years Experienced Employee   \n",
       "3    1-4 Years Experienced Employee   \n",
       "4    1-4 Years Experienced Employee   \n",
       "..                              ...   \n",
       "851                             NaN   \n",
       "852                             NaN   \n",
       "853                             NaN   \n",
       "854                             NaN   \n",
       "855                             NaN   \n",
       "\n",
       "                                              Benefits          Company Size  \n",
       "0                                                   []  501 - 1000 Employees  \n",
       "1                                                   []  501 - 1000 Employees  \n",
       "2                                                   []  501 - 1000 Employees  \n",
       "3                                                   []      1 - 50 Employees  \n",
       "4                                                   []      1 - 50 Employees  \n",
       "..                                                 ...                   ...  \n",
       "851  ['Dental, Miscellaneous allowance, Medical, Lo...  501 - 1000 Employees  \n",
       "852  ['Dental, Miscellaneous allowance, Medical, Lo...  501 - 1000 Employees  \n",
       "853  ['Dental, Miscellaneous allowance, Medical, Lo...  501 - 1000 Employees  \n",
       "854  ['Dental, Miscellaneous allowance, Medical, Lo...  501 - 1000 Employees  \n",
       "855  ['Dental, Miscellaneous allowance, Medical, Lo...  501 - 1000 Employees  \n",
       "\n",
       "[856 rows x 12 columns]"
      ]
     },
     "execution_count": 2,
     "metadata": {},
     "output_type": "execute_result"
    }
   ],
   "source": [
    "csv_path = [\n",
    "   \"../../Raw_CSV/April 25-26 - 2022/Jobstreet/Jobstreet-multimedia-artist.csv\",\n",
    "   \"../../Raw_CSV/April 27 - 2022/Jobstreet/Jobstreet-multimedia-artist.csv\",\n",
    "    \"../../Raw_CSV/April 28 - 2022/Jobstreet/Jobstreet-multimedia-artist.csv\", \n",
    "]\n",
    "merge = pd.concat(map(pd.read_csv,csv_path),ignore_index=True)\n",
    "merge[\"Salary\"].str.strip()\n",
    "merge"
   ]
  },
  {
   "cell_type": "code",
   "execution_count": 3,
   "metadata": {},
   "outputs": [
    {
     "data": {
      "text/html": [
       "<div>\n",
       "<style scoped>\n",
       "    .dataframe tbody tr th:only-of-type {\n",
       "        vertical-align: middle;\n",
       "    }\n",
       "\n",
       "    .dataframe tbody tr th {\n",
       "        vertical-align: top;\n",
       "    }\n",
       "\n",
       "    .dataframe thead th {\n",
       "        text-align: right;\n",
       "    }\n",
       "</style>\n",
       "<table border=\"1\" class=\"dataframe\">\n",
       "  <thead>\n",
       "    <tr style=\"text-align: right;\">\n",
       "      <th></th>\n",
       "      <th>Title</th>\n",
       "      <th>Company</th>\n",
       "      <th>Location</th>\n",
       "      <th>Summary</th>\n",
       "      <th>Salary</th>\n",
       "      <th>Qualification &amp; Skills</th>\n",
       "      <th>Role and Responsibilities</th>\n",
       "      <th>Job Type</th>\n",
       "      <th>Company Profile&amp;Job Desc</th>\n",
       "      <th>Career Level</th>\n",
       "      <th>Benefits</th>\n",
       "      <th>Company Size</th>\n",
       "    </tr>\n",
       "  </thead>\n",
       "  <tbody>\n",
       "    <tr>\n",
       "      <th>0</th>\n",
       "      <td>Marketing Graphic Artist(BGC Taguig)</td>\n",
       "      <td>Business Trends Philippines</td>\n",
       "      <td>National Capital Reg</td>\n",
       "      <td>Candidate must possess at least a Bachelor's/C...</td>\n",
       "      <td>PHP 19,000 - PHP 20,000</td>\n",
       "      <td>[\"Candidate must possess at least a Bachelor's...</td>\n",
       "      <td>[]</td>\n",
       "      <td>['Full-Time position(s) available.', 'Full-Tim...</td>\n",
       "      <td>[\"Candidate must possess at least a Bachelor's...</td>\n",
       "      <td>1-4 Years Experienced Employee</td>\n",
       "      <td>[]</td>\n",
       "      <td>501 - 1000 Employees</td>\n",
       "    </tr>\n",
       "    <tr>\n",
       "      <th>1</th>\n",
       "      <td>Marketing Graphic Artist(BGC Taguig)</td>\n",
       "      <td>Business Trends Philippines</td>\n",
       "      <td>National Capital Reg</td>\n",
       "      <td>Candidate must possess at least a Bachelor's/C...</td>\n",
       "      <td>PHP 19,000 - PHP 20,000</td>\n",
       "      <td>[\"Candidate must possess at least a Bachelor's...</td>\n",
       "      <td>[]</td>\n",
       "      <td>['Full-Time position(s) available.', 'Full-Tim...</td>\n",
       "      <td>[\"Candidate must possess at least a Bachelor's...</td>\n",
       "      <td>1-4 Years Experienced Employee</td>\n",
       "      <td>[]</td>\n",
       "      <td>501 - 1000 Employees</td>\n",
       "    </tr>\n",
       "    <tr>\n",
       "      <th>2</th>\n",
       "      <td>Graphic Artist(Paseo De Roxas Makati)</td>\n",
       "      <td>Business Trends Philippines</td>\n",
       "      <td>National Capital Reg</td>\n",
       "      <td>Candidate must possess at least a Bachelor's/C...</td>\n",
       "      <td>PHP 20,000 - PHP 25,000</td>\n",
       "      <td>[\"Candidate must possess at least a Bachelor's...</td>\n",
       "      <td>[]</td>\n",
       "      <td>['Full-Time position(s) available.', 'Full-Tim...</td>\n",
       "      <td>[\"Candidate must possess at least a Bachelor's...</td>\n",
       "      <td>1-4 Years Experienced Employee</td>\n",
       "      <td>[]</td>\n",
       "      <td>501 - 1000 Employees</td>\n",
       "    </tr>\n",
       "    <tr>\n",
       "      <th>3</th>\n",
       "      <td>GRAPHIC ARTIST</td>\n",
       "      <td>ONE ORIGINITE CORP.</td>\n",
       "      <td>National Capital Reg</td>\n",
       "      <td>None</td>\n",
       "      <td>PHP 18,000 - PHP 25,200</td>\n",
       "      <td>[]</td>\n",
       "      <td>['Job description', 'Requirements', '-\\xa0\\xa0...</td>\n",
       "      <td>['Full-Time']</td>\n",
       "      <td>['Job descriptionRequirements-\\xa0\\xa0\\xa0\\xa0...</td>\n",
       "      <td>1-4 Years Experienced Employee</td>\n",
       "      <td>[]</td>\n",
       "      <td>1 - 50 Employees</td>\n",
       "    </tr>\n",
       "    <tr>\n",
       "      <th>4</th>\n",
       "      <td>2D Graphic Artist ( Sto. Tomas, Batangas 15K-2...</td>\n",
       "      <td>SAGASS CONSULTING</td>\n",
       "      <td>Calabarzon &amp; Mimaropa</td>\n",
       "      <td>BS Degree in Arts / Designs / Creative Multime...</td>\n",
       "      <td>PHP 15,000 - PHP 20,000</td>\n",
       "      <td>['BS Degree in Arts / Designs / Creative Multi...</td>\n",
       "      <td>[]</td>\n",
       "      <td>['Full-Time', 'Average Processing Time']</td>\n",
       "      <td>[\"REQUIREMENTS:BS Degree in Arts / Designs / C...</td>\n",
       "      <td>1-4 Years Experienced Employee</td>\n",
       "      <td>[]</td>\n",
       "      <td>1 - 50 Employees</td>\n",
       "    </tr>\n",
       "    <tr>\n",
       "      <th>...</th>\n",
       "      <td>...</td>\n",
       "      <td>...</td>\n",
       "      <td>...</td>\n",
       "      <td>...</td>\n",
       "      <td>...</td>\n",
       "      <td>...</td>\n",
       "      <td>...</td>\n",
       "      <td>...</td>\n",
       "      <td>...</td>\n",
       "      <td>...</td>\n",
       "      <td>...</td>\n",
       "      <td>...</td>\n",
       "    </tr>\n",
       "    <tr>\n",
       "      <th>851</th>\n",
       "      <td>Multimedia Artists</td>\n",
       "      <td>YONDU INC.</td>\n",
       "      <td>Taguig City</td>\n",
       "      <td>Education –  At least graduate with a Bachelor...</td>\n",
       "      <td>None</td>\n",
       "      <td>['Education – \\xa0At least graduate with a Bac...</td>\n",
       "      <td>[]</td>\n",
       "      <td>['Average Processing Time']</td>\n",
       "      <td>['Education – \\xa0At least graduate with a Bac...</td>\n",
       "      <td>NaN</td>\n",
       "      <td>['Dental, Miscellaneous allowance, Medical, Lo...</td>\n",
       "      <td>501 - 1000 Employees</td>\n",
       "    </tr>\n",
       "    <tr>\n",
       "      <th>852</th>\n",
       "      <td>Data Stewards</td>\n",
       "      <td>YONDU INC.</td>\n",
       "      <td>Taguig City</td>\n",
       "      <td>Supports in driving efforts for the adoption o...</td>\n",
       "      <td>None</td>\n",
       "      <td>['Supports in driving efforts for the adoption...</td>\n",
       "      <td>[]</td>\n",
       "      <td>['Average Processing Time']</td>\n",
       "      <td>['Supports in driving efforts for the adoption...</td>\n",
       "      <td>NaN</td>\n",
       "      <td>['Dental, Miscellaneous allowance, Medical, Lo...</td>\n",
       "      <td>501 - 1000 Employees</td>\n",
       "    </tr>\n",
       "    <tr>\n",
       "      <th>853</th>\n",
       "      <td>Learning &amp; OD Associates</td>\n",
       "      <td>YONDU INC.</td>\n",
       "      <td>Taguig City</td>\n",
       "      <td>Maintains reports and accurately tracks L&amp;OD p...</td>\n",
       "      <td>None</td>\n",
       "      <td>['Maintains reports and accurately tracks L&amp;OD...</td>\n",
       "      <td>[]</td>\n",
       "      <td>['Average Processing Time']</td>\n",
       "      <td>['Maintains reports and accurately tracks L&amp;OD...</td>\n",
       "      <td>NaN</td>\n",
       "      <td>['Dental, Miscellaneous allowance, Medical, Lo...</td>\n",
       "      <td>501 - 1000 Employees</td>\n",
       "    </tr>\n",
       "    <tr>\n",
       "      <th>854</th>\n",
       "      <td>AWS Infrastructure Engineers</td>\n",
       "      <td>YONDU INC.</td>\n",
       "      <td>Taguig City</td>\n",
       "      <td>Responsible for implementation, management, an...</td>\n",
       "      <td>None</td>\n",
       "      <td>['Responsible for implementation, management, ...</td>\n",
       "      <td>['Education –Related Work Experience• Solid te...</td>\n",
       "      <td>['Average Processing Time']</td>\n",
       "      <td>['Responsible for implementation, management, ...</td>\n",
       "      <td>NaN</td>\n",
       "      <td>['Dental, Miscellaneous allowance, Medical, Lo...</td>\n",
       "      <td>501 - 1000 Employees</td>\n",
       "    </tr>\n",
       "    <tr>\n",
       "      <th>855</th>\n",
       "      <td>Service Managers</td>\n",
       "      <td>YONDU INC.</td>\n",
       "      <td>Taguig City</td>\n",
       "      <td>Education – At least graduate with a Bachelor’...</td>\n",
       "      <td>None</td>\n",
       "      <td>['Education – At least graduate with a Bachelo...</td>\n",
       "      <td>[]</td>\n",
       "      <td>['Average Processing Time']</td>\n",
       "      <td>['Education – At least graduate with a Bachelo...</td>\n",
       "      <td>NaN</td>\n",
       "      <td>['Dental, Miscellaneous allowance, Medical, Lo...</td>\n",
       "      <td>501 - 1000 Employees</td>\n",
       "    </tr>\n",
       "  </tbody>\n",
       "</table>\n",
       "<p>856 rows × 12 columns</p>\n",
       "</div>"
      ],
      "text/plain": [
       "                                                 Title  \\\n",
       "0                 Marketing Graphic Artist(BGC Taguig)   \n",
       "1                 Marketing Graphic Artist(BGC Taguig)   \n",
       "2                Graphic Artist(Paseo De Roxas Makati)   \n",
       "3                                       GRAPHIC ARTIST   \n",
       "4    2D Graphic Artist ( Sto. Tomas, Batangas 15K-2...   \n",
       "..                                                 ...   \n",
       "851                                 Multimedia Artists   \n",
       "852                                      Data Stewards   \n",
       "853                           Learning & OD Associates   \n",
       "854                       AWS Infrastructure Engineers   \n",
       "855                                   Service Managers   \n",
       "\n",
       "                         Company               Location  \\\n",
       "0    Business Trends Philippines   National Capital Reg   \n",
       "1    Business Trends Philippines   National Capital Reg   \n",
       "2    Business Trends Philippines   National Capital Reg   \n",
       "3            ONE ORIGINITE CORP.   National Capital Reg   \n",
       "4              SAGASS CONSULTING  Calabarzon & Mimaropa   \n",
       "..                           ...                    ...   \n",
       "851                   YONDU INC.            Taguig City   \n",
       "852                   YONDU INC.            Taguig City   \n",
       "853                   YONDU INC.            Taguig City   \n",
       "854                   YONDU INC.            Taguig City   \n",
       "855                   YONDU INC.            Taguig City   \n",
       "\n",
       "                                               Summary  \\\n",
       "0    Candidate must possess at least a Bachelor's/C...   \n",
       "1    Candidate must possess at least a Bachelor's/C...   \n",
       "2    Candidate must possess at least a Bachelor's/C...   \n",
       "3                                                 None   \n",
       "4    BS Degree in Arts / Designs / Creative Multime...   \n",
       "..                                                 ...   \n",
       "851  Education –  At least graduate with a Bachelor...   \n",
       "852  Supports in driving efforts for the adoption o...   \n",
       "853  Maintains reports and accurately tracks L&OD p...   \n",
       "854  Responsible for implementation, management, an...   \n",
       "855  Education – At least graduate with a Bachelor’...   \n",
       "\n",
       "                      Salary  \\\n",
       "0    PHP 19,000 - PHP 20,000   \n",
       "1    PHP 19,000 - PHP 20,000   \n",
       "2    PHP 20,000 - PHP 25,000   \n",
       "3    PHP 18,000 - PHP 25,200   \n",
       "4    PHP 15,000 - PHP 20,000   \n",
       "..                       ...   \n",
       "851                     None   \n",
       "852                     None   \n",
       "853                     None   \n",
       "854                     None   \n",
       "855                     None   \n",
       "\n",
       "                                Qualification & Skills  \\\n",
       "0    [\"Candidate must possess at least a Bachelor's...   \n",
       "1    [\"Candidate must possess at least a Bachelor's...   \n",
       "2    [\"Candidate must possess at least a Bachelor's...   \n",
       "3                                                   []   \n",
       "4    ['BS Degree in Arts / Designs / Creative Multi...   \n",
       "..                                                 ...   \n",
       "851  ['Education – \\xa0At least graduate with a Bac...   \n",
       "852  ['Supports in driving efforts for the adoption...   \n",
       "853  ['Maintains reports and accurately tracks L&OD...   \n",
       "854  ['Responsible for implementation, management, ...   \n",
       "855  ['Education – At least graduate with a Bachelo...   \n",
       "\n",
       "                             Role and Responsibilities  \\\n",
       "0                                                   []   \n",
       "1                                                   []   \n",
       "2                                                   []   \n",
       "3    ['Job description', 'Requirements', '-\\xa0\\xa0...   \n",
       "4                                                   []   \n",
       "..                                                 ...   \n",
       "851                                                 []   \n",
       "852                                                 []   \n",
       "853                                                 []   \n",
       "854  ['Education –Related Work Experience• Solid te...   \n",
       "855                                                 []   \n",
       "\n",
       "                                              Job Type  \\\n",
       "0    ['Full-Time position(s) available.', 'Full-Tim...   \n",
       "1    ['Full-Time position(s) available.', 'Full-Tim...   \n",
       "2    ['Full-Time position(s) available.', 'Full-Tim...   \n",
       "3                                        ['Full-Time']   \n",
       "4             ['Full-Time', 'Average Processing Time']   \n",
       "..                                                 ...   \n",
       "851                        ['Average Processing Time']   \n",
       "852                        ['Average Processing Time']   \n",
       "853                        ['Average Processing Time']   \n",
       "854                        ['Average Processing Time']   \n",
       "855                        ['Average Processing Time']   \n",
       "\n",
       "                              Company Profile&Job Desc  \\\n",
       "0    [\"Candidate must possess at least a Bachelor's...   \n",
       "1    [\"Candidate must possess at least a Bachelor's...   \n",
       "2    [\"Candidate must possess at least a Bachelor's...   \n",
       "3    ['Job descriptionRequirements-\\xa0\\xa0\\xa0\\xa0...   \n",
       "4    [\"REQUIREMENTS:BS Degree in Arts / Designs / C...   \n",
       "..                                                 ...   \n",
       "851  ['Education – \\xa0At least graduate with a Bac...   \n",
       "852  ['Supports in driving efforts for the adoption...   \n",
       "853  ['Maintains reports and accurately tracks L&OD...   \n",
       "854  ['Responsible for implementation, management, ...   \n",
       "855  ['Education – At least graduate with a Bachelo...   \n",
       "\n",
       "                       Career Level  \\\n",
       "0    1-4 Years Experienced Employee   \n",
       "1    1-4 Years Experienced Employee   \n",
       "2    1-4 Years Experienced Employee   \n",
       "3    1-4 Years Experienced Employee   \n",
       "4    1-4 Years Experienced Employee   \n",
       "..                              ...   \n",
       "851                             NaN   \n",
       "852                             NaN   \n",
       "853                             NaN   \n",
       "854                             NaN   \n",
       "855                             NaN   \n",
       "\n",
       "                                              Benefits          Company Size  \n",
       "0                                                   []  501 - 1000 Employees  \n",
       "1                                                   []  501 - 1000 Employees  \n",
       "2                                                   []  501 - 1000 Employees  \n",
       "3                                                   []      1 - 50 Employees  \n",
       "4                                                   []      1 - 50 Employees  \n",
       "..                                                 ...                   ...  \n",
       "851  ['Dental, Miscellaneous allowance, Medical, Lo...  501 - 1000 Employees  \n",
       "852  ['Dental, Miscellaneous allowance, Medical, Lo...  501 - 1000 Employees  \n",
       "853  ['Dental, Miscellaneous allowance, Medical, Lo...  501 - 1000 Employees  \n",
       "854  ['Dental, Miscellaneous allowance, Medical, Lo...  501 - 1000 Employees  \n",
       "855  ['Dental, Miscellaneous allowance, Medical, Lo...  501 - 1000 Employees  \n",
       "\n",
       "[856 rows x 12 columns]"
      ]
     },
     "execution_count": 3,
     "metadata": {},
     "output_type": "execute_result"
    }
   ],
   "source": [
    "merge"
   ]
  },
  {
   "cell_type": "code",
   "execution_count": 4,
   "metadata": {},
   "outputs": [
    {
     "data": {
      "text/html": [
       "<div>\n",
       "<style scoped>\n",
       "    .dataframe tbody tr th:only-of-type {\n",
       "        vertical-align: middle;\n",
       "    }\n",
       "\n",
       "    .dataframe tbody tr th {\n",
       "        vertical-align: top;\n",
       "    }\n",
       "\n",
       "    .dataframe thead th {\n",
       "        text-align: right;\n",
       "    }\n",
       "</style>\n",
       "<table border=\"1\" class=\"dataframe\">\n",
       "  <thead>\n",
       "    <tr style=\"text-align: right;\">\n",
       "      <th></th>\n",
       "      <th>Title</th>\n",
       "      <th>Company</th>\n",
       "      <th>Location</th>\n",
       "      <th>Summary</th>\n",
       "      <th>Salary</th>\n",
       "      <th>Qualification &amp; Skills</th>\n",
       "      <th>Role and Responsibilities</th>\n",
       "      <th>Job Type</th>\n",
       "      <th>Company Profile&amp;Job Desc</th>\n",
       "      <th>Career Level</th>\n",
       "      <th>Benefits</th>\n",
       "      <th>Company Size</th>\n",
       "    </tr>\n",
       "  </thead>\n",
       "  <tbody>\n",
       "    <tr>\n",
       "      <th>count</th>\n",
       "      <td>856</td>\n",
       "      <td>856</td>\n",
       "      <td>856</td>\n",
       "      <td>856</td>\n",
       "      <td>856</td>\n",
       "      <td>856</td>\n",
       "      <td>856</td>\n",
       "      <td>856</td>\n",
       "      <td>856</td>\n",
       "      <td>820</td>\n",
       "      <td>856</td>\n",
       "      <td>806</td>\n",
       "    </tr>\n",
       "    <tr>\n",
       "      <th>unique</th>\n",
       "      <td>169</td>\n",
       "      <td>248</td>\n",
       "      <td>40</td>\n",
       "      <td>199</td>\n",
       "      <td>69</td>\n",
       "      <td>222</td>\n",
       "      <td>196</td>\n",
       "      <td>32</td>\n",
       "      <td>310</td>\n",
       "      <td>3</td>\n",
       "      <td>132</td>\n",
       "      <td>7</td>\n",
       "    </tr>\n",
       "    <tr>\n",
       "      <th>top</th>\n",
       "      <td>Graphic Artist</td>\n",
       "      <td>SAGASS CONSULTING</td>\n",
       "      <td>National Capital Reg</td>\n",
       "      <td>None</td>\n",
       "      <td>None</td>\n",
       "      <td>[]</td>\n",
       "      <td>[]</td>\n",
       "      <td>['Full-Time', 'Average Processing Time']</td>\n",
       "      <td>['Candidate must possess at least College Grad...</td>\n",
       "      <td>1-4 Years Experienced Employee</td>\n",
       "      <td>[]</td>\n",
       "      <td>1 - 50 Employees</td>\n",
       "    </tr>\n",
       "    <tr>\n",
       "      <th>freq</th>\n",
       "      <td>220</td>\n",
       "      <td>23</td>\n",
       "      <td>349</td>\n",
       "      <td>221</td>\n",
       "      <td>498</td>\n",
       "      <td>221</td>\n",
       "      <td>307</td>\n",
       "      <td>425</td>\n",
       "      <td>21</td>\n",
       "      <td>619</td>\n",
       "      <td>379</td>\n",
       "      <td>254</td>\n",
       "    </tr>\n",
       "  </tbody>\n",
       "</table>\n",
       "</div>"
      ],
      "text/plain": [
       "                 Title            Company              Location Summary  \\\n",
       "count              856                856                   856     856   \n",
       "unique             169                248                    40     199   \n",
       "top     Graphic Artist  SAGASS CONSULTING  National Capital Reg    None   \n",
       "freq               220                 23                   349     221   \n",
       "\n",
       "       Salary Qualification & Skills Role and Responsibilities  \\\n",
       "count     856                    856                       856   \n",
       "unique     69                    222                       196   \n",
       "top      None                     []                        []   \n",
       "freq      498                    221                       307   \n",
       "\n",
       "                                        Job Type  \\\n",
       "count                                        856   \n",
       "unique                                        32   \n",
       "top     ['Full-Time', 'Average Processing Time']   \n",
       "freq                                         425   \n",
       "\n",
       "                                 Company Profile&Job Desc  \\\n",
       "count                                                 856   \n",
       "unique                                                310   \n",
       "top     ['Candidate must possess at least College Grad...   \n",
       "freq                                                   21   \n",
       "\n",
       "                          Career Level Benefits      Company Size  \n",
       "count                              820      856               806  \n",
       "unique                               3      132                 7  \n",
       "top     1-4 Years Experienced Employee       []  1 - 50 Employees  \n",
       "freq                               619      379               254  "
      ]
     },
     "execution_count": 4,
     "metadata": {},
     "output_type": "execute_result"
    }
   ],
   "source": [
    "merge.describe()"
   ]
  },
  {
   "cell_type": "code",
   "execution_count": 5,
   "metadata": {},
   "outputs": [],
   "source": [
    "job_title_lower = merge[\"Title\"].str.lower()"
   ]
  },
  {
   "cell_type": "code",
   "execution_count": 6,
   "metadata": {},
   "outputs": [],
   "source": [
    "job_title = job_title_lower.value_counts()[0:10]"
   ]
  },
  {
   "cell_type": "code",
   "execution_count": 7,
   "metadata": {},
   "outputs": [],
   "source": [
    "sort = job_title.sort_values()"
   ]
  },
  {
   "cell_type": "code",
   "execution_count": 8,
   "metadata": {},
   "outputs": [
    {
     "data": {
      "image/png": "[encoded data removed]",
      "text/plain": [
       "<Figure size 432x288 with 1 Axes>"
      ]
     },
     "metadata": {
      "needs_background": "light"
     },
     "output_type": "display_data"
    }
   ],
   "source": [
    "plt.barh(sort.index, sort.values)\n",
    "plt.title(\"Jobstreet Multimedia Artist\")\n",
    "plt.xticks(rotation=\"30\", ha=\"right\")\n",
    "plt.show()"
   ]
  },
  {
   "cell_type": "code",
   "execution_count": 9,
   "metadata": {},
   "outputs": [],
   "source": [
    "company_name = merge[\"Company\"].value_counts()[0:10]"
   ]
  },
  {
   "cell_type": "code",
   "execution_count": 10,
   "metadata": {},
   "outputs": [
    {
     "data": {
      "image/png": "[encoded data removed]",
      "text/plain": [
       "<Figure size 432x288 with 1 Axes>"
      ]
     },
     "metadata": {
      "needs_background": "light"
     },
     "output_type": "display_data"
    }
   ],
   "source": [
    "plt.bar(company_name.index, company_name.values)\n",
    "plt.xticks(rotation=\"30\", ha=\"right\")\n",
    "plt.show()"
   ]
  },
  {
   "cell_type": "code",
   "execution_count": 11,
   "metadata": {},
   "outputs": [],
   "source": [
    "company_location = merge[\"Location\"].value_counts()[0:10]"
   ]
  },
  {
   "cell_type": "code",
   "execution_count": 12,
   "metadata": {},
   "outputs": [
    {
     "data": {
      "image/png": "[encoded data removed]",
      "text/plain": [
       "<Figure size 432x288 with 1 Axes>"
      ]
     },
     "metadata": {
      "needs_background": "light"
     },
     "output_type": "display_data"
    }
   ],
   "source": [
    "plt.bar(company_location.index, company_location.values)\n",
    "plt.xticks(rotation=\"30\", ha=\"right\")\n",
    "plt.show()\n"
   ]
  },
  {
   "cell_type": "code",
   "execution_count": 13,
   "metadata": {},
   "outputs": [],
   "source": [
    "filt = (merge[\"Salary\"] != \"None\")\n",
    "results = merge.loc[filt]"
   ]
  },
  {
   "cell_type": "code",
   "execution_count": 14,
   "metadata": {},
   "outputs": [],
   "source": [
    "salary = results[\"Salary\"].value_counts()[0:10]"
   ]
  },
  {
   "cell_type": "code",
   "execution_count": 15,
   "metadata": {},
   "outputs": [
    {
     "data": {
      "image/png": "[encoded data removed]",
      "text/plain": [
       "<Figure size 432x288 with 1 Axes>"
      ]
     },
     "metadata": {
      "needs_background": "light"
     },
     "output_type": "display_data"
    }
   ],
   "source": [
    "plt.bar(salary.index, salary.values)\n",
    "plt.xticks(rotation=\"30\", ha=\"right\")\n",
    "plt.show()"
   ]
  },
  {
   "cell_type": "code",
   "execution_count": 16,
   "metadata": {},
   "outputs": [],
   "source": [
    "job_type = merge[\"Job Type\"].apply(ast.literal_eval)\n",
    "job_type_append = []\n",
    "for i in job_type:\n",
    "    job_type_append.append(job_type[0][0])"
   ]
  },
  {
   "cell_type": "code",
   "execution_count": 17,
   "metadata": {},
   "outputs": [
    {
     "data": {
      "text/plain": [
       "Job Type                        \n",
       "Full-Time position(s) available.    856\n",
       "dtype: int64"
      ]
     },
     "execution_count": 17,
     "metadata": {},
     "output_type": "execute_result"
    }
   ],
   "source": [
    "# List to Dataframe ( Count Job Type )\n",
    "job_type_df = pd.DataFrame(job_type_append,columns=[\"Job Type\"])\n",
    "job_type_df.value_counts()\n"
   ]
  },
  {
   "cell_type": "code",
   "execution_count": 18,
   "metadata": {},
   "outputs": [
    {
     "data": {
      "text/plain": [
       "1-4 Years Experienced Employee                  619\n",
       "Less than 1 Year Experienced Employee           150\n",
       "Supervisor/5 Years & Up Experienced Employee     51\n",
       "Name: Career Level, dtype: int64"
      ]
     },
     "execution_count": 18,
     "metadata": {},
     "output_type": "execute_result"
    }
   ],
   "source": [
    "career_level = merge[\"Career Level\"]\n",
    "count_career_level = career_level.value_counts()\n",
    "count_career_level"
   ]
  },
  {
   "cell_type": "code",
   "execution_count": 19,
   "metadata": {},
   "outputs": [
    {
     "data": {
      "image/png": "[encoded data removed]",
      "text/plain": [
       "<Figure size 432x288 with 1 Axes>"
      ]
     },
     "metadata": {
      "needs_background": "light"
     },
     "output_type": "display_data"
    }
   ],
   "source": [
    "plt.bar(count_career_level.index, count_career_level.values)\n",
    "plt.xticks(rotation=\"30\",ha=\"right\")\n",
    "plt.show()"
   ]
  },
  {
   "cell_type": "code",
   "execution_count": 20,
   "metadata": {},
   "outputs": [
    {
     "data": {
      "text/plain": [
       "1 - 50 Employees         254\n",
       "51 - 200 Employees       202\n",
       "201 - 500 Employees      141\n",
       "2001 - 5000 Employees     75\n",
       "1001 - 2000 Employees     67\n",
       "501 - 1000 Employees      56\n",
       "Name: Company Size, dtype: int64"
      ]
     },
     "execution_count": 20,
     "metadata": {},
     "output_type": "execute_result"
    }
   ],
   "source": [
    "company_size = merge[\"Company Size\"]\n",
    "count_company_size = company_size.value_counts()[0:6]\n",
    "count_company_size"
   ]
  },
  {
   "cell_type": "code",
   "execution_count": 21,
   "metadata": {},
   "outputs": [
    {
     "data": {
      "image/png": "[encoded data removed]",
      "text/plain": [
       "<Figure size 432x288 with 1 Axes>"
      ]
     },
     "metadata": {
      "needs_background": "light"
     },
     "output_type": "display_data"
    }
   ],
   "source": [
    "plt.bar(count_company_size.index, count_company_size.values)\n",
    "plt.xticks(rotation=\"30\",ha=\"right\")\n",
    "plt.show()"
   ]
  },
  {
   "cell_type": "code",
   "execution_count": 22,
   "metadata": {},
   "outputs": [
    {
     "name": "stderr",
     "output_type": "stream",
     "text": [
      "/var/folders/tc/qdg72rpx523gjsqcr2vf_0c00000gn/T/ipykernel_2545/2971443327.py:1: FutureWarning: The default value of regex will change from True to False in a future version.\n",
      "  benefits = merge[\"Benefits\"].str.replace(\"^\\['|'\\]$\",\"\")\n"
     ]
    }
   ],
   "source": [
    "benefits = merge[\"Benefits\"].str.replace(\"^\\['|'\\]$\",\"\")\n",
    "benefits_append = []\n",
    "split_benefits = benefits.str.split(\",\")\n",
    "\n",
    "for i in range(len(split_benefits)):\n",
    "    for j in split_benefits[i]:\n",
    "        benefits_append.append(j)\n"
   ]
  },
  {
   "cell_type": "code",
   "execution_count": 23,
   "metadata": {},
   "outputs": [
    {
     "data": {
      "text/plain": [
       "Medical                        467\n",
       "Miscellaneous allowance        276\n",
       "Loans                          267\n",
       "Dental                         250\n",
       "Business (e.g. Shirts)         215\n",
       "Regular hours                  193\n",
       "Mondays - Fridays              158\n",
       "Education support              117\n",
       "Parking                         99\n",
       "Vision                          79\n",
       "Casual (e.g. T-shirts)          77\n",
       "Sports (e.g. Gym)               54\n",
       "Life Insurance                  43\n",
       "Mondays-Saturdays               33\n",
       "Formal (e.g. Shirts + Ties)     30\n",
       "Name: Benefits, dtype: int64"
      ]
     },
     "execution_count": 23,
     "metadata": {},
     "output_type": "execute_result"
    }
   ],
   "source": [
    "benefits_df = pd.DataFrame(benefits_append, columns=[\"Benefits\"])\n",
    "benefits_df = benefits_df[\"Benefits\"].str.strip()\n",
    "filt = (benefits_df != \"[]\")\n",
    "benefits_df = benefits_df.loc[filt]\n",
    "benefits_count = benefits_df.value_counts()[0:15]\n",
    "benefits_count\n",
    "\n"
   ]
  },
  {
   "cell_type": "code",
   "execution_count": 24,
   "metadata": {},
   "outputs": [
    {
     "data": {
      "image/png": "[encoded data removed]",
      "text/plain": [
       "<Figure size 432x288 with 1 Axes>"
      ]
     },
     "metadata": {
      "needs_background": "light"
     },
     "output_type": "display_data"
    }
   ],
   "source": [
    "plt.bar(benefits_count.index, benefits_count.values)\n",
    "plt.xticks(rotation=\"30\",ha=\"right\")\n",
    "plt.show()"
   ]
  },
  {
   "cell_type": "code",
   "execution_count": 25,
   "metadata": {},
   "outputs": [],
   "source": [
    "filt = (merge[\"Salary\"] != \"None\")\n",
    "salary_career_level = merge[filt].sort_values(by=\"Salary\",ascending=True)\n",
    "count = salary_career_level[[\"Title\",\"Salary\",\"Career Level\"]]\n",
    "\n"
   ]
  },
  {
   "cell_type": "code",
   "execution_count": 26,
   "metadata": {},
   "outputs": [
    {
     "data": {
      "text/plain": [
       "1-4 Years Experienced Employee                  619\n",
       "Less than 1 Year Experienced Employee           150\n",
       "Supervisor/5 Years & Up Experienced Employee     51\n",
       "Name: Career Level, dtype: int64"
      ]
     },
     "execution_count": 26,
     "metadata": {},
     "output_type": "execute_result"
    }
   ],
   "source": [
    "merge[\"Career Level\"].value_counts()"
   ]
  },
  {
   "cell_type": "code",
   "execution_count": 27,
   "metadata": {},
   "outputs": [
    {
     "data": {
      "image/png": "[encoded data removed]",
      "text/plain": [
       "<Figure size 432x288 with 1 Axes>"
      ]
     },
     "metadata": {
      "needs_background": "light"
     },
     "output_type": "display_data"
    }
   ],
   "source": [
    "mid_level = merge.loc[merge[\"Career Level\"] == \"1-4 Years Experienced Employee\"]\n",
    "mid_level_salary = mid_level[mid_level[\"Salary\"] != \"None\"]\n",
    "count_mid = mid_level_salary[\"Salary\"].value_counts()[0:10]\n",
    "plt.barh(count_mid.index, count_mid.values)\n",
    "plt.title(\"Mid Level and Salary - Multimedia Artist\")\n",
    "plt.xticks(rotation=\"30\",ha=\"right\")\n",
    "plt.show()"
   ]
  },
  {
   "cell_type": "code",
   "execution_count": 28,
   "metadata": {},
   "outputs": [
    {
     "data": {
      "image/png": "[encoded data removed]",
      "text/plain": [
       "<Figure size 432x288 with 1 Axes>"
      ]
     },
     "metadata": {
      "needs_background": "light"
     },
     "output_type": "display_data"
    }
   ],
   "source": [
    "low_level = merge.loc[merge[\"Career Level\"] == \"Less than 1 Year Experienced Employee\"]\n",
    "low_level_salary = low_level[low_level[\"Salary\"] != \"None\"]\n",
    "count_low = low_level_salary[\"Salary\"].value_counts()[0:10]\n",
    "\n",
    "plt.barh(count_low.index, count_low.values)\n",
    "plt.title(\"Entry Level and Salary - Multimedia Artist\")\n",
    "plt.xticks(rotation=\"30\",ha=\"right\")\n",
    "plt.show()"
   ]
  },
  {
   "cell_type": "code",
   "execution_count": 29,
   "metadata": {},
   "outputs": [
    {
     "data": {
      "image/png": "[encoded data removed]",
      "text/plain": [
       "<Figure size 432x288 with 1 Axes>"
      ]
     },
     "metadata": {
      "needs_background": "light"
     },
     "output_type": "display_data"
    }
   ],
   "source": [
    "high_level = merge.loc[merge[\"Career Level\"] == \"Supervisor/5 Years & Up Experienced Employee\"]\n",
    "high_level_salary = high_level[high_level[\"Salary\"] != \"None\"]\n",
    "count_high = high_level_salary[\"Salary\"].value_counts()[0:10]\n",
    "plt.barh(count_high.index, count_high.values)\n",
    "plt.title(\"Senior Level and Salary - Multimedia Artist\")\n",
    "plt.xticks(rotation=\"30\",ha=\"right\")\n",
    "plt.show()"
   ]
  },
  {
   "cell_type": "code",
   "execution_count": null,
   "metadata": {},
   "outputs": [],
   "source": []
  }
 ],
 "metadata": {
  "interpreter": {
   "hash": "aee8b7b246df8f9039afb4144a1f6fd8d2ca17a180786b69acc140d282b71a49"
  },
  "kernelspec": {
   "display_name": "Python 3.10.4 64-bit",
   "language": "python",
   "name": "python3"
  },
  "language_info": {
   "codemirror_mode": {
    "name": "ipython",
    "version": 3
   },
   "file_extension": ".py",
   "mimetype": "text/x-python",
   "name": "python",
   "nbconvert_exporter": "python",
   "pygments_lexer": "ipython3",
   "version": "3.10.4"
  },
  "orig_nbformat": 4
 },
 "nbformat": 4,
 "nbformat_minor": 2
}
