{
 "cells": [
  {
   "cell_type": "code",
   "execution_count": 1,
   "metadata": {},
   "outputs": [],
   "source": [
    "import matplotlib.pyplot as plt\n",
    "import pandas as pd\n",
    "import re\n",
    "import ast"
   ]
  },
  {
   "cell_type": "code",
   "execution_count": 2,
   "metadata": {},
   "outputs": [
    {
     "data": {
      "text/html": [
       "<div>\n",
       "<style scoped>\n",
       "    .dataframe tbody tr th:only-of-type {\n",
       "        vertical-align: middle;\n",
       "    }\n",
       "\n",
       "    .dataframe tbody tr th {\n",
       "        vertical-align: top;\n",
       "    }\n",
       "\n",
       "    .dataframe thead th {\n",
       "        text-align: right;\n",
       "    }\n",
       "</style>\n",
       "<table border=\"1\" class=\"dataframe\">\n",
       "  <thead>\n",
       "    <tr style=\"text-align: right;\">\n",
       "      <th></th>\n",
       "      <th>Title</th>\n",
       "      <th>Company</th>\n",
       "      <th>Location</th>\n",
       "      <th>Summary</th>\n",
       "      <th>Salary</th>\n",
       "      <th>Qualification &amp; Skills</th>\n",
       "      <th>Role and Responsibilities</th>\n",
       "      <th>Job Type</th>\n",
       "      <th>Company Profile&amp;Job Desc</th>\n",
       "      <th>Career Level</th>\n",
       "      <th>Benefits</th>\n",
       "      <th>Company Size</th>\n",
       "    </tr>\n",
       "  </thead>\n",
       "  <tbody>\n",
       "    <tr>\n",
       "      <th>0</th>\n",
       "      <td>Social and Digital Content Producer</td>\n",
       "      <td>Asticom Technology Inc</td>\n",
       "      <td>National Capital Reg</td>\n",
       "      <td>ideography of experiential, social media and e...</td>\n",
       "      <td>None</td>\n",
       "      <td>['ideography of experiential, social media and...</td>\n",
       "      <td>[]</td>\n",
       "      <td>['25 Full-Time position(s) available.', 'Full-...</td>\n",
       "      <td>[\"RESPONSIBILITIES INCLUDE:ideography of exper...</td>\n",
       "      <td>1-4 Years Experienced Employee</td>\n",
       "      <td>['Dental, Education support, Miscellaneous all...</td>\n",
       "      <td>2001 - 5000 Employees</td>\n",
       "    </tr>\n",
       "    <tr>\n",
       "      <th>1</th>\n",
       "      <td>Personal driver</td>\n",
       "      <td>Paramount Human Resource Multi Purpose Coopera...</td>\n",
       "      <td>Quezon</td>\n",
       "      <td>Fetching and welcoming clients at the beginnin...</td>\n",
       "      <td>None</td>\n",
       "      <td>['Fetching and welcoming clients at the beginn...</td>\n",
       "      <td>['Personal Driver Requirements:']</td>\n",
       "      <td>['Full-Time', 'Average Processing Time']</td>\n",
       "      <td>[\"Fetching and welcoming clients at the beginn...</td>\n",
       "      <td>1-4 Years Experienced Employee</td>\n",
       "      <td>[]</td>\n",
       "      <td>201 - 500 Employees</td>\n",
       "    </tr>\n",
       "    <tr>\n",
       "      <th>2</th>\n",
       "      <td>Full-Stack Developer</td>\n",
       "      <td>MedSpecialized, Inc.</td>\n",
       "      <td>Cebu (Cebu City)</td>\n",
       "      <td>Perform web application development and mainte...</td>\n",
       "      <td>PHP 23,000 - PHP 35,000</td>\n",
       "      <td>['Perform web application development and main...</td>\n",
       "      <td>['MedSpecialized, Inc. is looking for a Full-S...</td>\n",
       "      <td>['Full-Time', 'Average Processing Time']</td>\n",
       "      <td>['MedSpecialized, Inc. is looking for a Full-S...</td>\n",
       "      <td>1-4 Years Experienced Employee</td>\n",
       "      <td>['Dental, Miscellaneous allowance, Medical, Sp...</td>\n",
       "      <td>201 - 500 Employees</td>\n",
       "    </tr>\n",
       "    <tr>\n",
       "      <th>3</th>\n",
       "      <td>Multimedia Producer</td>\n",
       "      <td>MedSpecialized, Inc.</td>\n",
       "      <td>Cebu (Cebu City)</td>\n",
       "      <td>Listens to feedback and adjusts the video draf...</td>\n",
       "      <td>PHP 16,000 - PHP 18,000</td>\n",
       "      <td>['Listens to feedback and adjusts the video dr...</td>\n",
       "      <td>['MedSpecialized, Inc. is looking for Multimed...</td>\n",
       "      <td>['Full-Time', 'Average Processing Time']</td>\n",
       "      <td>['MedSpecialized, Inc. is looking for Multimed...</td>\n",
       "      <td>Less than 1 Year Experienced Employee</td>\n",
       "      <td>['Dental, Miscellaneous allowance, Medical, Sp...</td>\n",
       "      <td>201 - 500 Employees</td>\n",
       "    </tr>\n",
       "    <tr>\n",
       "      <th>4</th>\n",
       "      <td>Web/Graphic Designer</td>\n",
       "      <td>MedSpecialized, Inc.</td>\n",
       "      <td>Cebu (Cebu City)</td>\n",
       "      <td>This Job includes the entire process of defini...</td>\n",
       "      <td>PHP 16,000 - PHP 22,000</td>\n",
       "      <td>['This Job includes the entire process of defi...</td>\n",
       "      <td>['MedSpecialized, Inc. is looking for a Web/Gr...</td>\n",
       "      <td>['Full-Time', 'Average Processing Time']</td>\n",
       "      <td>['MedSpecialized, Inc. is looking for a Web/Gr...</td>\n",
       "      <td>1-4 Years Experienced Employee</td>\n",
       "      <td>['Dental, Miscellaneous allowance, Medical, Sp...</td>\n",
       "      <td>201 - 500 Employees</td>\n",
       "    </tr>\n",
       "    <tr>\n",
       "      <th>...</th>\n",
       "      <td>...</td>\n",
       "      <td>...</td>\n",
       "      <td>...</td>\n",
       "      <td>...</td>\n",
       "      <td>...</td>\n",
       "      <td>...</td>\n",
       "      <td>...</td>\n",
       "      <td>...</td>\n",
       "      <td>...</td>\n",
       "      <td>...</td>\n",
       "      <td>...</td>\n",
       "      <td>...</td>\n",
       "    </tr>\n",
       "    <tr>\n",
       "      <th>279</th>\n",
       "      <td>PR Associate</td>\n",
       "      <td>ABS-CBN Corporation</td>\n",
       "      <td>Quezon</td>\n",
       "      <td>Works with PR Accounts Heads or PR Accounts Of...</td>\n",
       "      <td>None</td>\n",
       "      <td>['Works with PR Accounts Heads or PR Accounts ...</td>\n",
       "      <td>[\"ABS-CBN Corporation is the Philippines' lead...</td>\n",
       "      <td>[]</td>\n",
       "      <td>[\"BUSINESS SUMMARYABS-CBN Corporation is the P...</td>\n",
       "      <td>NaN</td>\n",
       "      <td>['Medical, Regular hours, Mondays - Fridays, -']</td>\n",
       "      <td>2001 - 5000 Employees</td>\n",
       "    </tr>\n",
       "    <tr>\n",
       "      <th>280</th>\n",
       "      <td>Learning and Talent Development Lead</td>\n",
       "      <td>ABS-CBN Corporation</td>\n",
       "      <td>Quezon</td>\n",
       "      <td>Facilitates corporate activities/exercises to ...</td>\n",
       "      <td>None</td>\n",
       "      <td>['Facilitates corporate activities/exercises t...</td>\n",
       "      <td>[\"ABS-CBN Corporation is the Philippines' lead...</td>\n",
       "      <td>[]</td>\n",
       "      <td>[\"BUSINESS SUMMARYABS-CBN Corporation is the P...</td>\n",
       "      <td>NaN</td>\n",
       "      <td>['Medical, Regular hours, Mondays - Fridays, -']</td>\n",
       "      <td>2001 - 5000 Employees</td>\n",
       "    </tr>\n",
       "    <tr>\n",
       "      <th>281</th>\n",
       "      <td>Multimedia Artists</td>\n",
       "      <td>YONDU INC.</td>\n",
       "      <td>Taguig City</td>\n",
       "      <td>Education –  At least graduate with a Bachelor...</td>\n",
       "      <td>None</td>\n",
       "      <td>['Education – \\xa0At least graduate with a Bac...</td>\n",
       "      <td>[]</td>\n",
       "      <td>['Average Processing Time']</td>\n",
       "      <td>['Education – \\xa0At least graduate with a Bac...</td>\n",
       "      <td>NaN</td>\n",
       "      <td>['Dental, Miscellaneous allowance, Medical, Lo...</td>\n",
       "      <td>501 - 1000 Employees</td>\n",
       "    </tr>\n",
       "    <tr>\n",
       "      <th>282</th>\n",
       "      <td>Vlog Editor</td>\n",
       "      <td>Tier One Entertainment Corp.</td>\n",
       "      <td>Philippines</td>\n",
       "      <td>Manipulating and editing film pieces in a way ...</td>\n",
       "      <td>None</td>\n",
       "      <td>['Manipulating and editing film pieces in a wa...</td>\n",
       "      <td>['Tier O\\ufeffne Entertainment was founded in ...</td>\n",
       "      <td>['Full-Time']</td>\n",
       "      <td>[\"Tier O\\ufeffne Entertainment was founded in ...</td>\n",
       "      <td>NaN</td>\n",
       "      <td>[]</td>\n",
       "      <td>NaN</td>\n",
       "    </tr>\n",
       "    <tr>\n",
       "      <th>283</th>\n",
       "      <td>Key Account Manager, General Merchandise - Hom...</td>\n",
       "      <td>Lazada E-Services Philippines, Inc</td>\n",
       "      <td>Philippines</td>\n",
       "      <td>None</td>\n",
       "      <td>None</td>\n",
       "      <td>[]</td>\n",
       "      <td>['Job Description', 'Reporting to LazMall Head...</td>\n",
       "      <td>['Average Processing Time']</td>\n",
       "      <td>['Job DescriptionReporting to LazMall Head for...</td>\n",
       "      <td>NaN</td>\n",
       "      <td>['Dental, Miscellaneous allowance, Medical, Re...</td>\n",
       "      <td>501 - 1000 Employees</td>\n",
       "    </tr>\n",
       "  </tbody>\n",
       "</table>\n",
       "<p>284 rows × 12 columns</p>\n",
       "</div>"
      ],
      "text/plain": [
       "                                                 Title  \\\n",
       "0                  Social and Digital Content Producer   \n",
       "1                                      Personal driver   \n",
       "2                                 Full-Stack Developer   \n",
       "3                                  Multimedia Producer   \n",
       "4                                 Web/Graphic Designer   \n",
       "..                                                 ...   \n",
       "279                                       PR Associate   \n",
       "280               Learning and Talent Development Lead   \n",
       "281                                 Multimedia Artists   \n",
       "282                                        Vlog Editor   \n",
       "283  Key Account Manager, General Merchandise - Hom...   \n",
       "\n",
       "                                               Company              Location  \\\n",
       "0                               Asticom Technology Inc  National Capital Reg   \n",
       "1    Paramount Human Resource Multi Purpose Coopera...                Quezon   \n",
       "2                                 MedSpecialized, Inc.      Cebu (Cebu City)   \n",
       "3                                 MedSpecialized, Inc.      Cebu (Cebu City)   \n",
       "4                                 MedSpecialized, Inc.      Cebu (Cebu City)   \n",
       "..                                                 ...                   ...   \n",
       "279                                ABS-CBN Corporation                Quezon   \n",
       "280                                ABS-CBN Corporation                Quezon   \n",
       "281                                         YONDU INC.           Taguig City   \n",
       "282                       Tier One Entertainment Corp.           Philippines   \n",
       "283                 Lazada E-Services Philippines, Inc           Philippines   \n",
       "\n",
       "                                               Summary  \\\n",
       "0    ideography of experiential, social media and e...   \n",
       "1    Fetching and welcoming clients at the beginnin...   \n",
       "2    Perform web application development and mainte...   \n",
       "3    Listens to feedback and adjusts the video draf...   \n",
       "4    This Job includes the entire process of defini...   \n",
       "..                                                 ...   \n",
       "279  Works with PR Accounts Heads or PR Accounts Of...   \n",
       "280  Facilitates corporate activities/exercises to ...   \n",
       "281  Education –  At least graduate with a Bachelor...   \n",
       "282  Manipulating and editing film pieces in a way ...   \n",
       "283                                               None   \n",
       "\n",
       "                      Salary  \\\n",
       "0                       None   \n",
       "1                       None   \n",
       "2    PHP 23,000 - PHP 35,000   \n",
       "3    PHP 16,000 - PHP 18,000   \n",
       "4    PHP 16,000 - PHP 22,000   \n",
       "..                       ...   \n",
       "279                     None   \n",
       "280                     None   \n",
       "281                     None   \n",
       "282                     None   \n",
       "283                     None   \n",
       "\n",
       "                                Qualification & Skills  \\\n",
       "0    ['ideography of experiential, social media and...   \n",
       "1    ['Fetching and welcoming clients at the beginn...   \n",
       "2    ['Perform web application development and main...   \n",
       "3    ['Listens to feedback and adjusts the video dr...   \n",
       "4    ['This Job includes the entire process of defi...   \n",
       "..                                                 ...   \n",
       "279  ['Works with PR Accounts Heads or PR Accounts ...   \n",
       "280  ['Facilitates corporate activities/exercises t...   \n",
       "281  ['Education – \\xa0At least graduate with a Bac...   \n",
       "282  ['Manipulating and editing film pieces in a wa...   \n",
       "283                                                 []   \n",
       "\n",
       "                             Role and Responsibilities  \\\n",
       "0                                                   []   \n",
       "1                    ['Personal Driver Requirements:']   \n",
       "2    ['MedSpecialized, Inc. is looking for a Full-S...   \n",
       "3    ['MedSpecialized, Inc. is looking for Multimed...   \n",
       "4    ['MedSpecialized, Inc. is looking for a Web/Gr...   \n",
       "..                                                 ...   \n",
       "279  [\"ABS-CBN Corporation is the Philippines' lead...   \n",
       "280  [\"ABS-CBN Corporation is the Philippines' lead...   \n",
       "281                                                 []   \n",
       "282  ['Tier O\\ufeffne Entertainment was founded in ...   \n",
       "283  ['Job Description', 'Reporting to LazMall Head...   \n",
       "\n",
       "                                              Job Type  \\\n",
       "0    ['25 Full-Time position(s) available.', 'Full-...   \n",
       "1             ['Full-Time', 'Average Processing Time']   \n",
       "2             ['Full-Time', 'Average Processing Time']   \n",
       "3             ['Full-Time', 'Average Processing Time']   \n",
       "4             ['Full-Time', 'Average Processing Time']   \n",
       "..                                                 ...   \n",
       "279                                                 []   \n",
       "280                                                 []   \n",
       "281                        ['Average Processing Time']   \n",
       "282                                      ['Full-Time']   \n",
       "283                        ['Average Processing Time']   \n",
       "\n",
       "                              Company Profile&Job Desc  \\\n",
       "0    [\"RESPONSIBILITIES INCLUDE:ideography of exper...   \n",
       "1    [\"Fetching and welcoming clients at the beginn...   \n",
       "2    ['MedSpecialized, Inc. is looking for a Full-S...   \n",
       "3    ['MedSpecialized, Inc. is looking for Multimed...   \n",
       "4    ['MedSpecialized, Inc. is looking for a Web/Gr...   \n",
       "..                                                 ...   \n",
       "279  [\"BUSINESS SUMMARYABS-CBN Corporation is the P...   \n",
       "280  [\"BUSINESS SUMMARYABS-CBN Corporation is the P...   \n",
       "281  ['Education – \\xa0At least graduate with a Bac...   \n",
       "282  [\"Tier O\\ufeffne Entertainment was founded in ...   \n",
       "283  ['Job DescriptionReporting to LazMall Head for...   \n",
       "\n",
       "                              Career Level  \\\n",
       "0           1-4 Years Experienced Employee   \n",
       "1           1-4 Years Experienced Employee   \n",
       "2           1-4 Years Experienced Employee   \n",
       "3    Less than 1 Year Experienced Employee   \n",
       "4           1-4 Years Experienced Employee   \n",
       "..                                     ...   \n",
       "279                                    NaN   \n",
       "280                                    NaN   \n",
       "281                                    NaN   \n",
       "282                                    NaN   \n",
       "283                                    NaN   \n",
       "\n",
       "                                              Benefits           Company Size  \n",
       "0    ['Dental, Education support, Miscellaneous all...  2001 - 5000 Employees  \n",
       "1                                                   []    201 - 500 Employees  \n",
       "2    ['Dental, Miscellaneous allowance, Medical, Sp...    201 - 500 Employees  \n",
       "3    ['Dental, Miscellaneous allowance, Medical, Sp...    201 - 500 Employees  \n",
       "4    ['Dental, Miscellaneous allowance, Medical, Sp...    201 - 500 Employees  \n",
       "..                                                 ...                    ...  \n",
       "279   ['Medical, Regular hours, Mondays - Fridays, -']  2001 - 5000 Employees  \n",
       "280   ['Medical, Regular hours, Mondays - Fridays, -']  2001 - 5000 Employees  \n",
       "281  ['Dental, Miscellaneous allowance, Medical, Lo...   501 - 1000 Employees  \n",
       "282                                                 []                    NaN  \n",
       "283  ['Dental, Miscellaneous allowance, Medical, Re...   501 - 1000 Employees  \n",
       "\n",
       "[284 rows x 12 columns]"
      ]
     },
     "execution_count": 2,
     "metadata": {},
     "output_type": "execute_result"
    }
   ],
   "source": [
    "csv_path = [\n",
    "   \"../../Raw_CSV/April 25-26 - 2022/Jobstreet/Jobstreet-musician.csv\",\n",
    "   \"../../Raw_CSV/April 27 - 2022/Jobstreet/Jobstreet-musician.csv\",\n",
    "    \"../../Raw_CSV/April 28 - 2022/Jobstreet/Jobstreet-musician.csv\", \n",
    "]\n",
    "merge = pd.concat(map(pd.read_csv,csv_path),ignore_index=True)\n",
    "merge[\"Salary\"].str.strip()\n",
    "merge"
   ]
  },
  {
   "cell_type": "code",
   "execution_count": 3,
   "metadata": {},
   "outputs": [
    {
     "data": {
      "text/html": [
       "<div>\n",
       "<style scoped>\n",
       "    .dataframe tbody tr th:only-of-type {\n",
       "        vertical-align: middle;\n",
       "    }\n",
       "\n",
       "    .dataframe tbody tr th {\n",
       "        vertical-align: top;\n",
       "    }\n",
       "\n",
       "    .dataframe thead th {\n",
       "        text-align: right;\n",
       "    }\n",
       "</style>\n",
       "<table border=\"1\" class=\"dataframe\">\n",
       "  <thead>\n",
       "    <tr style=\"text-align: right;\">\n",
       "      <th></th>\n",
       "      <th>Title</th>\n",
       "      <th>Company</th>\n",
       "      <th>Location</th>\n",
       "      <th>Summary</th>\n",
       "      <th>Salary</th>\n",
       "      <th>Qualification &amp; Skills</th>\n",
       "      <th>Role and Responsibilities</th>\n",
       "      <th>Job Type</th>\n",
       "      <th>Company Profile&amp;Job Desc</th>\n",
       "      <th>Career Level</th>\n",
       "      <th>Benefits</th>\n",
       "      <th>Company Size</th>\n",
       "    </tr>\n",
       "  </thead>\n",
       "  <tbody>\n",
       "    <tr>\n",
       "      <th>0</th>\n",
       "      <td>Social and Digital Content Producer</td>\n",
       "      <td>Asticom Technology Inc</td>\n",
       "      <td>National Capital Reg</td>\n",
       "      <td>ideography of experiential, social media and e...</td>\n",
       "      <td>None</td>\n",
       "      <td>['ideography of experiential, social media and...</td>\n",
       "      <td>[]</td>\n",
       "      <td>['25 Full-Time position(s) available.', 'Full-...</td>\n",
       "      <td>[\"RESPONSIBILITIES INCLUDE:ideography of exper...</td>\n",
       "      <td>1-4 Years Experienced Employee</td>\n",
       "      <td>['Dental, Education support, Miscellaneous all...</td>\n",
       "      <td>2001 - 5000 Employees</td>\n",
       "    </tr>\n",
       "    <tr>\n",
       "      <th>1</th>\n",
       "      <td>Personal driver</td>\n",
       "      <td>Paramount Human Resource Multi Purpose Coopera...</td>\n",
       "      <td>Quezon</td>\n",
       "      <td>Fetching and welcoming clients at the beginnin...</td>\n",
       "      <td>None</td>\n",
       "      <td>['Fetching and welcoming clients at the beginn...</td>\n",
       "      <td>['Personal Driver Requirements:']</td>\n",
       "      <td>['Full-Time', 'Average Processing Time']</td>\n",
       "      <td>[\"Fetching and welcoming clients at the beginn...</td>\n",
       "      <td>1-4 Years Experienced Employee</td>\n",
       "      <td>[]</td>\n",
       "      <td>201 - 500 Employees</td>\n",
       "    </tr>\n",
       "    <tr>\n",
       "      <th>2</th>\n",
       "      <td>Full-Stack Developer</td>\n",
       "      <td>MedSpecialized, Inc.</td>\n",
       "      <td>Cebu (Cebu City)</td>\n",
       "      <td>Perform web application development and mainte...</td>\n",
       "      <td>PHP 23,000 - PHP 35,000</td>\n",
       "      <td>['Perform web application development and main...</td>\n",
       "      <td>['MedSpecialized, Inc. is looking for a Full-S...</td>\n",
       "      <td>['Full-Time', 'Average Processing Time']</td>\n",
       "      <td>['MedSpecialized, Inc. is looking for a Full-S...</td>\n",
       "      <td>1-4 Years Experienced Employee</td>\n",
       "      <td>['Dental, Miscellaneous allowance, Medical, Sp...</td>\n",
       "      <td>201 - 500 Employees</td>\n",
       "    </tr>\n",
       "    <tr>\n",
       "      <th>3</th>\n",
       "      <td>Multimedia Producer</td>\n",
       "      <td>MedSpecialized, Inc.</td>\n",
       "      <td>Cebu (Cebu City)</td>\n",
       "      <td>Listens to feedback and adjusts the video draf...</td>\n",
       "      <td>PHP 16,000 - PHP 18,000</td>\n",
       "      <td>['Listens to feedback and adjusts the video dr...</td>\n",
       "      <td>['MedSpecialized, Inc. is looking for Multimed...</td>\n",
       "      <td>['Full-Time', 'Average Processing Time']</td>\n",
       "      <td>['MedSpecialized, Inc. is looking for Multimed...</td>\n",
       "      <td>Less than 1 Year Experienced Employee</td>\n",
       "      <td>['Dental, Miscellaneous allowance, Medical, Sp...</td>\n",
       "      <td>201 - 500 Employees</td>\n",
       "    </tr>\n",
       "    <tr>\n",
       "      <th>4</th>\n",
       "      <td>Web/Graphic Designer</td>\n",
       "      <td>MedSpecialized, Inc.</td>\n",
       "      <td>Cebu (Cebu City)</td>\n",
       "      <td>This Job includes the entire process of defini...</td>\n",
       "      <td>PHP 16,000 - PHP 22,000</td>\n",
       "      <td>['This Job includes the entire process of defi...</td>\n",
       "      <td>['MedSpecialized, Inc. is looking for a Web/Gr...</td>\n",
       "      <td>['Full-Time', 'Average Processing Time']</td>\n",
       "      <td>['MedSpecialized, Inc. is looking for a Web/Gr...</td>\n",
       "      <td>1-4 Years Experienced Employee</td>\n",
       "      <td>['Dental, Miscellaneous allowance, Medical, Sp...</td>\n",
       "      <td>201 - 500 Employees</td>\n",
       "    </tr>\n",
       "    <tr>\n",
       "      <th>...</th>\n",
       "      <td>...</td>\n",
       "      <td>...</td>\n",
       "      <td>...</td>\n",
       "      <td>...</td>\n",
       "      <td>...</td>\n",
       "      <td>...</td>\n",
       "      <td>...</td>\n",
       "      <td>...</td>\n",
       "      <td>...</td>\n",
       "      <td>...</td>\n",
       "      <td>...</td>\n",
       "      <td>...</td>\n",
       "    </tr>\n",
       "    <tr>\n",
       "      <th>279</th>\n",
       "      <td>PR Associate</td>\n",
       "      <td>ABS-CBN Corporation</td>\n",
       "      <td>Quezon</td>\n",
       "      <td>Works with PR Accounts Heads or PR Accounts Of...</td>\n",
       "      <td>None</td>\n",
       "      <td>['Works with PR Accounts Heads or PR Accounts ...</td>\n",
       "      <td>[\"ABS-CBN Corporation is the Philippines' lead...</td>\n",
       "      <td>[]</td>\n",
       "      <td>[\"BUSINESS SUMMARYABS-CBN Corporation is the P...</td>\n",
       "      <td>NaN</td>\n",
       "      <td>['Medical, Regular hours, Mondays - Fridays, -']</td>\n",
       "      <td>2001 - 5000 Employees</td>\n",
       "    </tr>\n",
       "    <tr>\n",
       "      <th>280</th>\n",
       "      <td>Learning and Talent Development Lead</td>\n",
       "      <td>ABS-CBN Corporation</td>\n",
       "      <td>Quezon</td>\n",
       "      <td>Facilitates corporate activities/exercises to ...</td>\n",
       "      <td>None</td>\n",
       "      <td>['Facilitates corporate activities/exercises t...</td>\n",
       "      <td>[\"ABS-CBN Corporation is the Philippines' lead...</td>\n",
       "      <td>[]</td>\n",
       "      <td>[\"BUSINESS SUMMARYABS-CBN Corporation is the P...</td>\n",
       "      <td>NaN</td>\n",
       "      <td>['Medical, Regular hours, Mondays - Fridays, -']</td>\n",
       "      <td>2001 - 5000 Employees</td>\n",
       "    </tr>\n",
       "    <tr>\n",
       "      <th>281</th>\n",
       "      <td>Multimedia Artists</td>\n",
       "      <td>YONDU INC.</td>\n",
       "      <td>Taguig City</td>\n",
       "      <td>Education –  At least graduate with a Bachelor...</td>\n",
       "      <td>None</td>\n",
       "      <td>['Education – \\xa0At least graduate with a Bac...</td>\n",
       "      <td>[]</td>\n",
       "      <td>['Average Processing Time']</td>\n",
       "      <td>['Education – \\xa0At least graduate with a Bac...</td>\n",
       "      <td>NaN</td>\n",
       "      <td>['Dental, Miscellaneous allowance, Medical, Lo...</td>\n",
       "      <td>501 - 1000 Employees</td>\n",
       "    </tr>\n",
       "    <tr>\n",
       "      <th>282</th>\n",
       "      <td>Vlog Editor</td>\n",
       "      <td>Tier One Entertainment Corp.</td>\n",
       "      <td>Philippines</td>\n",
       "      <td>Manipulating and editing film pieces in a way ...</td>\n",
       "      <td>None</td>\n",
       "      <td>['Manipulating and editing film pieces in a wa...</td>\n",
       "      <td>['Tier O\\ufeffne Entertainment was founded in ...</td>\n",
       "      <td>['Full-Time']</td>\n",
       "      <td>[\"Tier O\\ufeffne Entertainment was founded in ...</td>\n",
       "      <td>NaN</td>\n",
       "      <td>[]</td>\n",
       "      <td>NaN</td>\n",
       "    </tr>\n",
       "    <tr>\n",
       "      <th>283</th>\n",
       "      <td>Key Account Manager, General Merchandise - Hom...</td>\n",
       "      <td>Lazada E-Services Philippines, Inc</td>\n",
       "      <td>Philippines</td>\n",
       "      <td>None</td>\n",
       "      <td>None</td>\n",
       "      <td>[]</td>\n",
       "      <td>['Job Description', 'Reporting to LazMall Head...</td>\n",
       "      <td>['Average Processing Time']</td>\n",
       "      <td>['Job DescriptionReporting to LazMall Head for...</td>\n",
       "      <td>NaN</td>\n",
       "      <td>['Dental, Miscellaneous allowance, Medical, Re...</td>\n",
       "      <td>501 - 1000 Employees</td>\n",
       "    </tr>\n",
       "  </tbody>\n",
       "</table>\n",
       "<p>284 rows × 12 columns</p>\n",
       "</div>"
      ],
      "text/plain": [
       "                                                 Title  \\\n",
       "0                  Social and Digital Content Producer   \n",
       "1                                      Personal driver   \n",
       "2                                 Full-Stack Developer   \n",
       "3                                  Multimedia Producer   \n",
       "4                                 Web/Graphic Designer   \n",
       "..                                                 ...   \n",
       "279                                       PR Associate   \n",
       "280               Learning and Talent Development Lead   \n",
       "281                                 Multimedia Artists   \n",
       "282                                        Vlog Editor   \n",
       "283  Key Account Manager, General Merchandise - Hom...   \n",
       "\n",
       "                                               Company              Location  \\\n",
       "0                               Asticom Technology Inc  National Capital Reg   \n",
       "1    Paramount Human Resource Multi Purpose Coopera...                Quezon   \n",
       "2                                 MedSpecialized, Inc.      Cebu (Cebu City)   \n",
       "3                                 MedSpecialized, Inc.      Cebu (Cebu City)   \n",
       "4                                 MedSpecialized, Inc.      Cebu (Cebu City)   \n",
       "..                                                 ...                   ...   \n",
       "279                                ABS-CBN Corporation                Quezon   \n",
       "280                                ABS-CBN Corporation                Quezon   \n",
       "281                                         YONDU INC.           Taguig City   \n",
       "282                       Tier One Entertainment Corp.           Philippines   \n",
       "283                 Lazada E-Services Philippines, Inc           Philippines   \n",
       "\n",
       "                                               Summary  \\\n",
       "0    ideography of experiential, social media and e...   \n",
       "1    Fetching and welcoming clients at the beginnin...   \n",
       "2    Perform web application development and mainte...   \n",
       "3    Listens to feedback and adjusts the video draf...   \n",
       "4    This Job includes the entire process of defini...   \n",
       "..                                                 ...   \n",
       "279  Works with PR Accounts Heads or PR Accounts Of...   \n",
       "280  Facilitates corporate activities/exercises to ...   \n",
       "281  Education –  At least graduate with a Bachelor...   \n",
       "282  Manipulating and editing film pieces in a way ...   \n",
       "283                                               None   \n",
       "\n",
       "                      Salary  \\\n",
       "0                       None   \n",
       "1                       None   \n",
       "2    PHP 23,000 - PHP 35,000   \n",
       "3    PHP 16,000 - PHP 18,000   \n",
       "4    PHP 16,000 - PHP 22,000   \n",
       "..                       ...   \n",
       "279                     None   \n",
       "280                     None   \n",
       "281                     None   \n",
       "282                     None   \n",
       "283                     None   \n",
       "\n",
       "                                Qualification & Skills  \\\n",
       "0    ['ideography of experiential, social media and...   \n",
       "1    ['Fetching and welcoming clients at the beginn...   \n",
       "2    ['Perform web application development and main...   \n",
       "3    ['Listens to feedback and adjusts the video dr...   \n",
       "4    ['This Job includes the entire process of defi...   \n",
       "..                                                 ...   \n",
       "279  ['Works with PR Accounts Heads or PR Accounts ...   \n",
       "280  ['Facilitates corporate activities/exercises t...   \n",
       "281  ['Education – \\xa0At least graduate with a Bac...   \n",
       "282  ['Manipulating and editing film pieces in a wa...   \n",
       "283                                                 []   \n",
       "\n",
       "                             Role and Responsibilities  \\\n",
       "0                                                   []   \n",
       "1                    ['Personal Driver Requirements:']   \n",
       "2    ['MedSpecialized, Inc. is looking for a Full-S...   \n",
       "3    ['MedSpecialized, Inc. is looking for Multimed...   \n",
       "4    ['MedSpecialized, Inc. is looking for a Web/Gr...   \n",
       "..                                                 ...   \n",
       "279  [\"ABS-CBN Corporation is the Philippines' lead...   \n",
       "280  [\"ABS-CBN Corporation is the Philippines' lead...   \n",
       "281                                                 []   \n",
       "282  ['Tier O\\ufeffne Entertainment was founded in ...   \n",
       "283  ['Job Description', 'Reporting to LazMall Head...   \n",
       "\n",
       "                                              Job Type  \\\n",
       "0    ['25 Full-Time position(s) available.', 'Full-...   \n",
       "1             ['Full-Time', 'Average Processing Time']   \n",
       "2             ['Full-Time', 'Average Processing Time']   \n",
       "3             ['Full-Time', 'Average Processing Time']   \n",
       "4             ['Full-Time', 'Average Processing Time']   \n",
       "..                                                 ...   \n",
       "279                                                 []   \n",
       "280                                                 []   \n",
       "281                        ['Average Processing Time']   \n",
       "282                                      ['Full-Time']   \n",
       "283                        ['Average Processing Time']   \n",
       "\n",
       "                              Company Profile&Job Desc  \\\n",
       "0    [\"RESPONSIBILITIES INCLUDE:ideography of exper...   \n",
       "1    [\"Fetching and welcoming clients at the beginn...   \n",
       "2    ['MedSpecialized, Inc. is looking for a Full-S...   \n",
       "3    ['MedSpecialized, Inc. is looking for Multimed...   \n",
       "4    ['MedSpecialized, Inc. is looking for a Web/Gr...   \n",
       "..                                                 ...   \n",
       "279  [\"BUSINESS SUMMARYABS-CBN Corporation is the P...   \n",
       "280  [\"BUSINESS SUMMARYABS-CBN Corporation is the P...   \n",
       "281  ['Education – \\xa0At least graduate with a Bac...   \n",
       "282  [\"Tier O\\ufeffne Entertainment was founded in ...   \n",
       "283  ['Job DescriptionReporting to LazMall Head for...   \n",
       "\n",
       "                              Career Level  \\\n",
       "0           1-4 Years Experienced Employee   \n",
       "1           1-4 Years Experienced Employee   \n",
       "2           1-4 Years Experienced Employee   \n",
       "3    Less than 1 Year Experienced Employee   \n",
       "4           1-4 Years Experienced Employee   \n",
       "..                                     ...   \n",
       "279                                    NaN   \n",
       "280                                    NaN   \n",
       "281                                    NaN   \n",
       "282                                    NaN   \n",
       "283                                    NaN   \n",
       "\n",
       "                                              Benefits           Company Size  \n",
       "0    ['Dental, Education support, Miscellaneous all...  2001 - 5000 Employees  \n",
       "1                                                   []    201 - 500 Employees  \n",
       "2    ['Dental, Miscellaneous allowance, Medical, Sp...    201 - 500 Employees  \n",
       "3    ['Dental, Miscellaneous allowance, Medical, Sp...    201 - 500 Employees  \n",
       "4    ['Dental, Miscellaneous allowance, Medical, Sp...    201 - 500 Employees  \n",
       "..                                                 ...                    ...  \n",
       "279   ['Medical, Regular hours, Mondays - Fridays, -']  2001 - 5000 Employees  \n",
       "280   ['Medical, Regular hours, Mondays - Fridays, -']  2001 - 5000 Employees  \n",
       "281  ['Dental, Miscellaneous allowance, Medical, Lo...   501 - 1000 Employees  \n",
       "282                                                 []                    NaN  \n",
       "283  ['Dental, Miscellaneous allowance, Medical, Re...   501 - 1000 Employees  \n",
       "\n",
       "[284 rows x 12 columns]"
      ]
     },
     "execution_count": 3,
     "metadata": {},
     "output_type": "execute_result"
    }
   ],
   "source": [
    "merge"
   ]
  },
  {
   "cell_type": "code",
   "execution_count": 4,
   "metadata": {},
   "outputs": [
    {
     "data": {
      "text/html": [
       "<div>\n",
       "<style scoped>\n",
       "    .dataframe tbody tr th:only-of-type {\n",
       "        vertical-align: middle;\n",
       "    }\n",
       "\n",
       "    .dataframe tbody tr th {\n",
       "        vertical-align: top;\n",
       "    }\n",
       "\n",
       "    .dataframe thead th {\n",
       "        text-align: right;\n",
       "    }\n",
       "</style>\n",
       "<table border=\"1\" class=\"dataframe\">\n",
       "  <thead>\n",
       "    <tr style=\"text-align: right;\">\n",
       "      <th></th>\n",
       "      <th>Title</th>\n",
       "      <th>Company</th>\n",
       "      <th>Location</th>\n",
       "      <th>Summary</th>\n",
       "      <th>Salary</th>\n",
       "      <th>Qualification &amp; Skills</th>\n",
       "      <th>Role and Responsibilities</th>\n",
       "      <th>Job Type</th>\n",
       "      <th>Company Profile&amp;Job Desc</th>\n",
       "      <th>Career Level</th>\n",
       "      <th>Benefits</th>\n",
       "      <th>Company Size</th>\n",
       "    </tr>\n",
       "  </thead>\n",
       "  <tbody>\n",
       "    <tr>\n",
       "      <th>count</th>\n",
       "      <td>284</td>\n",
       "      <td>284</td>\n",
       "      <td>284</td>\n",
       "      <td>284</td>\n",
       "      <td>284</td>\n",
       "      <td>284</td>\n",
       "      <td>284</td>\n",
       "      <td>284</td>\n",
       "      <td>284</td>\n",
       "      <td>266</td>\n",
       "      <td>284</td>\n",
       "      <td>263</td>\n",
       "    </tr>\n",
       "    <tr>\n",
       "      <th>unique</th>\n",
       "      <td>91</td>\n",
       "      <td>58</td>\n",
       "      <td>23</td>\n",
       "      <td>63</td>\n",
       "      <td>40</td>\n",
       "      <td>73</td>\n",
       "      <td>53</td>\n",
       "      <td>15</td>\n",
       "      <td>100</td>\n",
       "      <td>3</td>\n",
       "      <td>42</td>\n",
       "      <td>7</td>\n",
       "    </tr>\n",
       "    <tr>\n",
       "      <th>top</th>\n",
       "      <td>Video Editor</td>\n",
       "      <td>MedSpecialized, Inc.</td>\n",
       "      <td>National Capital Reg</td>\n",
       "      <td>None</td>\n",
       "      <td>None</td>\n",
       "      <td>[]</td>\n",
       "      <td>[]</td>\n",
       "      <td>['Full-Time', 'Average Processing Time']</td>\n",
       "      <td>[\"Level up your Customer Care skills when you ...</td>\n",
       "      <td>1-4 Years Experienced Employee</td>\n",
       "      <td>[]</td>\n",
       "      <td>201 - 500 Employees</td>\n",
       "    </tr>\n",
       "    <tr>\n",
       "      <th>freq</th>\n",
       "      <td>16</td>\n",
       "      <td>78</td>\n",
       "      <td>71</td>\n",
       "      <td>81</td>\n",
       "      <td>138</td>\n",
       "      <td>81</td>\n",
       "      <td>136</td>\n",
       "      <td>149</td>\n",
       "      <td>11</td>\n",
       "      <td>177</td>\n",
       "      <td>67</td>\n",
       "      <td>96</td>\n",
       "    </tr>\n",
       "  </tbody>\n",
       "</table>\n",
       "</div>"
      ],
      "text/plain": [
       "               Title               Company              Location Summary  \\\n",
       "count            284                   284                   284     284   \n",
       "unique            91                    58                    23      63   \n",
       "top     Video Editor  MedSpecialized, Inc.  National Capital Reg    None   \n",
       "freq              16                    78                    71      81   \n",
       "\n",
       "       Salary Qualification & Skills Role and Responsibilities  \\\n",
       "count     284                    284                       284   \n",
       "unique     40                     73                        53   \n",
       "top      None                     []                        []   \n",
       "freq      138                     81                       136   \n",
       "\n",
       "                                        Job Type  \\\n",
       "count                                        284   \n",
       "unique                                        15   \n",
       "top     ['Full-Time', 'Average Processing Time']   \n",
       "freq                                         149   \n",
       "\n",
       "                                 Company Profile&Job Desc  \\\n",
       "count                                                 284   \n",
       "unique                                                100   \n",
       "top     [\"Level up your Customer Care skills when you ...   \n",
       "freq                                                   11   \n",
       "\n",
       "                          Career Level Benefits         Company Size  \n",
       "count                              266      284                  263  \n",
       "unique                               3       42                    7  \n",
       "top     1-4 Years Experienced Employee       []  201 - 500 Employees  \n",
       "freq                               177       67                   96  "
      ]
     },
     "execution_count": 4,
     "metadata": {},
     "output_type": "execute_result"
    }
   ],
   "source": [
    "merge.describe()"
   ]
  },
  {
   "cell_type": "code",
   "execution_count": 5,
   "metadata": {},
   "outputs": [],
   "source": [
    "job_title_lower = merge[\"Title\"].str.lower()"
   ]
  },
  {
   "cell_type": "code",
   "execution_count": 6,
   "metadata": {},
   "outputs": [],
   "source": [
    "job_title = job_title_lower.value_counts()[0:10]"
   ]
  },
  {
   "cell_type": "code",
   "execution_count": 7,
   "metadata": {},
   "outputs": [],
   "source": [
    "sort =  job_title.sort_values()"
   ]
  },
  {
   "cell_type": "code",
   "execution_count": 8,
   "metadata": {},
   "outputs": [
    {
     "data": {
      "image/png": "[encoded data removed]",
      "text/plain": [
       "<Figure size 432x288 with 1 Axes>"
      ]
     },
     "metadata": {
      "needs_background": "light"
     },
     "output_type": "display_data"
    }
   ],
   "source": [
    "plt.barh(sort.index, sort.values)\n",
    "plt.title(\"Jobstreet Musician\")\n",
    "plt.xticks(rotation=\"30\", ha=\"right\")\n",
    "plt.show()"
   ]
  },
  {
   "cell_type": "code",
   "execution_count": 9,
   "metadata": {},
   "outputs": [],
   "source": [
    "company_name = merge[\"Company\"].value_counts()[0:10]"
   ]
  },
  {
   "cell_type": "code",
   "execution_count": 10,
   "metadata": {},
   "outputs": [
    {
     "data": {
      "image/png": "[encoded data removed]",
      "text/plain": [
       "<Figure size 432x288 with 1 Axes>"
      ]
     },
     "metadata": {
      "needs_background": "light"
     },
     "output_type": "display_data"
    }
   ],
   "source": [
    "plt.bar(company_name.index, company_name.values)\n",
    "plt.xticks(rotation=\"30\", ha=\"right\")\n",
    "plt.show()"
   ]
  },
  {
   "cell_type": "code",
   "execution_count": 11,
   "metadata": {},
   "outputs": [],
   "source": [
    "company_location = merge[\"Location\"].value_counts()[0:10]"
   ]
  },
  {
   "cell_type": "code",
   "execution_count": 12,
   "metadata": {},
   "outputs": [
    {
     "data": {
      "image/png": "[encoded data removed]",
      "text/plain": [
       "<Figure size 432x288 with 1 Axes>"
      ]
     },
     "metadata": {
      "needs_background": "light"
     },
     "output_type": "display_data"
    }
   ],
   "source": [
    "plt.bar(company_location.index, company_location.values)\n",
    "plt.xticks(rotation=\"30\", ha=\"right\")\n",
    "plt.show()\n"
   ]
  },
  {
   "cell_type": "code",
   "execution_count": 13,
   "metadata": {},
   "outputs": [],
   "source": [
    "filt = (merge[\"Salary\"] != \"None\")\n",
    "results = merge.loc[filt]"
   ]
  },
  {
   "cell_type": "code",
   "execution_count": 14,
   "metadata": {},
   "outputs": [],
   "source": [
    "salary = results[\"Salary\"].value_counts()[0:10]"
   ]
  },
  {
   "cell_type": "code",
   "execution_count": 15,
   "metadata": {},
   "outputs": [
    {
     "data": {
      "image/png": "[encoded data removed]",
      "text/plain": [
       "<Figure size 432x288 with 1 Axes>"
      ]
     },
     "metadata": {
      "needs_background": "light"
     },
     "output_type": "display_data"
    }
   ],
   "source": [
    "plt.bar(salary.index, salary.values)\n",
    "plt.xticks(rotation=\"30\", ha=\"right\")\n",
    "plt.show()"
   ]
  },
  {
   "cell_type": "code",
   "execution_count": 16,
   "metadata": {},
   "outputs": [],
   "source": [
    "job_type = merge[\"Job Type\"].apply(ast.literal_eval)\n",
    "job_type_append = []\n",
    "for i in job_type:\n",
    "    job_type_append.append(job_type[0][0])"
   ]
  },
  {
   "cell_type": "code",
   "execution_count": 17,
   "metadata": {},
   "outputs": [
    {
     "data": {
      "text/plain": [
       "Job Type                           \n",
       "25 Full-Time position(s) available.    284\n",
       "dtype: int64"
      ]
     },
     "execution_count": 17,
     "metadata": {},
     "output_type": "execute_result"
    }
   ],
   "source": [
    "# List to Dataframe ( Count Job Type )\n",
    "job_type_df = pd.DataFrame(job_type_append,columns=[\"Job Type\"])\n",
    "job_type_df.value_counts()\n"
   ]
  },
  {
   "cell_type": "code",
   "execution_count": 18,
   "metadata": {},
   "outputs": [
    {
     "data": {
      "text/plain": [
       "1-4 Years Experienced Employee                  177\n",
       "Less than 1 Year Experienced Employee            68\n",
       "Supervisor/5 Years & Up Experienced Employee     21\n",
       "Name: Career Level, dtype: int64"
      ]
     },
     "execution_count": 18,
     "metadata": {},
     "output_type": "execute_result"
    }
   ],
   "source": [
    "career_level = merge[\"Career Level\"]\n",
    "count_career_level = career_level.value_counts()\n",
    "count_career_level"
   ]
  },
  {
   "cell_type": "code",
   "execution_count": 19,
   "metadata": {},
   "outputs": [
    {
     "data": {
      "image/png": "[encoded data removed]",
      "text/plain": [
       "<Figure size 432x288 with 1 Axes>"
      ]
     },
     "metadata": {
      "needs_background": "light"
     },
     "output_type": "display_data"
    }
   ],
   "source": [
    "plt.bar(count_career_level.index, count_career_level.values)\n",
    "plt.xticks(rotation=\"30\",ha=\"right\")\n",
    "plt.show()"
   ]
  },
  {
   "cell_type": "code",
   "execution_count": 20,
   "metadata": {},
   "outputs": [
    {
     "data": {
      "text/plain": [
       "201 - 500 Employees      96\n",
       "51 - 200 Employees       56\n",
       "2001 - 5000 Employees    40\n",
       "1 - 50 Employees         33\n",
       "None                     18\n",
       "501 - 1000 Employees     16\n",
       "Name: Company Size, dtype: int64"
      ]
     },
     "execution_count": 20,
     "metadata": {},
     "output_type": "execute_result"
    }
   ],
   "source": [
    "company_size = merge[\"Company Size\"]\n",
    "count_company_size = company_size.value_counts()[0:6]\n",
    "count_company_size"
   ]
  },
  {
   "cell_type": "code",
   "execution_count": 21,
   "metadata": {},
   "outputs": [
    {
     "data": {
      "image/png": "[encoded data removed]",
      "text/plain": [
       "<Figure size 432x288 with 1 Axes>"
      ]
     },
     "metadata": {
      "needs_background": "light"
     },
     "output_type": "display_data"
    }
   ],
   "source": [
    "plt.bar(count_company_size.index, count_company_size.values)\n",
    "plt.xticks(rotation=\"30\",ha=\"right\")\n",
    "plt.show()"
   ]
  },
  {
   "cell_type": "code",
   "execution_count": 22,
   "metadata": {},
   "outputs": [
    {
     "name": "stderr",
     "output_type": "stream",
     "text": [
      "/var/folders/tc/qdg72rpx523gjsqcr2vf_0c00000gn/T/ipykernel_2187/2971443327.py:1: FutureWarning: The default value of regex will change from True to False in a future version.\n",
      "  benefits = merge[\"Benefits\"].str.replace(\"^\\['|'\\]$\",\"\")\n"
     ]
    }
   ],
   "source": [
    "benefits = merge[\"Benefits\"].str.replace(\"^\\['|'\\]$\",\"\")\n",
    "benefits_append = []\n",
    "split_benefits = benefits.str.split(\",\")\n",
    "\n",
    "for i in range(len(split_benefits)):\n",
    "    for j in split_benefits[i]:\n",
    "        benefits_append.append(j)\n"
   ]
  },
  {
   "cell_type": "code",
   "execution_count": 23,
   "metadata": {},
   "outputs": [
    {
     "data": {
      "text/plain": [
       "Medical                                   209\n",
       "Miscellaneous allowance                   157\n",
       "Dental                                    146\n",
       "Casual (e.g. T-shirts)                    119\n",
       "Sports (e.g. Gym)                         102\n",
       "Vision                                     99\n",
       "Parking                                    87\n",
       "lunch/dinner                               78\n",
       "incentives                                 78\n",
       "Day or Night Shift (Depending on Role)     78\n",
       "unlimited ice cream and coffee             78\n",
       "Loans                                      54\n",
       "Regular hours                              54\n",
       "Mondays - Fridays                          51\n",
       "Business (e.g. Shirts)                     41\n",
       "Name: Benefits, dtype: int64"
      ]
     },
     "execution_count": 23,
     "metadata": {},
     "output_type": "execute_result"
    }
   ],
   "source": [
    "benefits_df = pd.DataFrame(benefits_append, columns=[\"Benefits\"])\n",
    "benefits_df = benefits_df[\"Benefits\"].str.strip()\n",
    "filt = (benefits_df != \"[]\")\n",
    "benefits_df = benefits_df.loc[filt]\n",
    "benefits_count = benefits_df.value_counts()[0:15]\n",
    "benefits_count\n",
    "\n"
   ]
  },
  {
   "cell_type": "code",
   "execution_count": 24,
   "metadata": {},
   "outputs": [
    {
     "data": {
      "image/png": "[encoded data removed]",
      "text/plain": [
       "<Figure size 432x288 with 1 Axes>"
      ]
     },
     "metadata": {
      "needs_background": "light"
     },
     "output_type": "display_data"
    }
   ],
   "source": [
    "plt.bar(benefits_count.index, benefits_count.values)\n",
    "plt.xticks(rotation=\"30\",ha=\"right\")\n",
    "plt.show()"
   ]
  },
  {
   "cell_type": "code",
   "execution_count": 25,
   "metadata": {},
   "outputs": [],
   "source": [
    "filt = (merge[\"Salary\"] != \"None\")\n",
    "salary_career_level = merge[filt].sort_values(by=\"Salary\",ascending=True)\n",
    "count = salary_career_level[[\"Title\",\"Salary\",\"Career Level\"]]\n",
    "\n"
   ]
  },
  {
   "cell_type": "code",
   "execution_count": 26,
   "metadata": {},
   "outputs": [
    {
     "data": {
      "text/plain": [
       "1-4 Years Experienced Employee                  177\n",
       "Less than 1 Year Experienced Employee            68\n",
       "Supervisor/5 Years & Up Experienced Employee     21\n",
       "Name: Career Level, dtype: int64"
      ]
     },
     "execution_count": 26,
     "metadata": {},
     "output_type": "execute_result"
    }
   ],
   "source": [
    "merge[\"Career Level\"].value_counts()"
   ]
  },
  {
   "cell_type": "code",
   "execution_count": 27,
   "metadata": {},
   "outputs": [
    {
     "name": "stderr",
     "output_type": "stream",
     "text": [
      "/var/folders/tc/qdg72rpx523gjsqcr2vf_0c00000gn/T/ipykernel_2187/1619117618.py:3: SettingWithCopyWarning: \n",
      "A value is trying to be set on a copy of a slice from a DataFrame.\n",
      "Try using .loc[row_indexer,col_indexer] = value instead\n",
      "\n",
      "See the caveats in the documentation: https://pandas.pydata.org/pandas-docs/stable/user_guide/indexing.html#returning-a-view-versus-a-copy\n",
      "  merge[\"Salary\"] = merge[\"Salary\"].str.replace(\",\", \"\")\n",
      "/var/folders/tc/qdg72rpx523gjsqcr2vf_0c00000gn/T/ipykernel_2187/1619117618.py:4: SettingWithCopyWarning: \n",
      "A value is trying to be set on a copy of a slice from a DataFrame.\n",
      "Try using .loc[row_indexer,col_indexer] = value instead\n",
      "\n",
      "See the caveats in the documentation: https://pandas.pydata.org/pandas-docs/stable/user_guide/indexing.html#returning-a-view-versus-a-copy\n",
      "  merge[\"Salary\"] = merge[\"Salary\"].str.replace(\"PHP\", \"\")\n",
      "/var/folders/tc/qdg72rpx523gjsqcr2vf_0c00000gn/T/ipykernel_2187/1619117618.py:5: SettingWithCopyWarning: \n",
      "A value is trying to be set on a copy of a slice from a DataFrame.\n",
      "Try using .loc[row_indexer,col_indexer] = value instead\n",
      "\n",
      "See the caveats in the documentation: https://pandas.pydata.org/pandas-docs/stable/user_guide/indexing.html#returning-a-view-versus-a-copy\n",
      "  merge[\"Salary\"] = merge[\"Salary\"].str.replace(\"-\", \"\")\n",
      "/var/folders/tc/qdg72rpx523gjsqcr2vf_0c00000gn/T/ipykernel_2187/1619117618.py:6: SettingWithCopyWarning: \n",
      "A value is trying to be set on a copy of a slice from a DataFrame.\n",
      "Try using .loc[row_indexer,col_indexer] = value instead\n",
      "\n",
      "See the caveats in the documentation: https://pandas.pydata.org/pandas-docs/stable/user_guide/indexing.html#returning-a-view-versus-a-copy\n",
      "  merge[\"Salary\"] = merge[\"Salary\"].str.split(\"  \")\n"
     ]
    }
   ],
   "source": [
    "salary_append = []\n",
    "merge = merge.loc[merge[\"Salary\"] != \"None\"]\n",
    "merge[\"Salary\"] = merge[\"Salary\"].str.replace(\",\", \"\")\n",
    "merge[\"Salary\"] = merge[\"Salary\"].str.replace(\"PHP\", \"\")\n",
    "merge[\"Salary\"] = merge[\"Salary\"].str.replace(\"-\", \"\")\n",
    "merge[\"Salary\"] = merge[\"Salary\"].str.split(\"  \")\n"
   ]
  },
  {
   "cell_type": "code",
   "execution_count": 28,
   "metadata": {},
   "outputs": [],
   "source": [
    "mid_append = []\n",
    "mid_level = merge.loc[merge[\"Career Level\"] == \"1-4 Years Experienced Employee\"]\n",
    "mid_level_salary = mid_level[mid_level[\"Salary\"] != \"None\"]\n",
    "count_mid = mid_level_salary[\"Salary\"]\n",
    "df_mid = count_mid.reset_index()\n",
    "df_mid = df_mid.drop(columns=\"index\")\n",
    "\n",
    "for i in range(len(df_mid)):\n",
    "    salary = df_mid[\"Salary\"][i]\n",
    "    for j in range(len(salary)):\n",
    "        mid_append.append(int(salary[j]))"
   ]
  },
  {
   "cell_type": "code",
   "execution_count": 29,
   "metadata": {},
   "outputs": [],
   "source": [
    "low_append = []\n",
    "low_level = merge.loc[merge[\"Career Level\"] == \"Less than 1 Year Experienced Employee\"]\n",
    "low_level_salary = low_level[low_level[\"Salary\"] != \"None\"]\n",
    "count_low = low_level_salary[\"Salary\"]\n",
    "df_low = count_low.reset_index()\n",
    "df_low = df_low.drop(columns=\"index\")\n",
    "\n",
    "for i in range(len(df_low)):\n",
    "    salary = df_low[\"Salary\"][i]\n",
    "    for j in range(len(salary)):\n",
    "        low_append.append(int(salary[j]))"
   ]
  },
  {
   "cell_type": "code",
   "execution_count": 30,
   "metadata": {},
   "outputs": [],
   "source": [
    "high_append = []\n",
    "high_level = merge.loc[merge[\"Career Level\"] == \"Supervisor/5 Years & Up Experienced Employee\"]\n",
    "high_level_salary = high_level[high_level[\"Salary\"] != \"None\"]\n",
    "count_high = high_level_salary[\"Salary\"]\n",
    "df_high = count_high.reset_index()\n",
    "df_high = df_high.drop(columns=\"index\")\n",
    "\n",
    "for i in range(len(df_high)):\n",
    "    salary = df_high[\"Salary\"][i]\n",
    "    for j in range(len(salary)):\n",
    "        high_append.append(int(salary[j]))\n",
    "\n"
   ]
  },
  {
   "cell_type": "code",
   "execution_count": 31,
   "metadata": {},
   "outputs": [
    {
     "data": {
      "text/plain": [
       "<matplotlib.legend.Legend at 0x12f43e470>"
      ]
     },
     "execution_count": 31,
     "metadata": {},
     "output_type": "execute_result"
    },
    {
     "data": {
      "image/png": "[encoded data removed]",
      "text/plain": [
       "<Figure size 1440x720 with 1 Axes>"
      ]
     },
     "metadata": {
      "needs_background": "light"
     },
     "output_type": "display_data"
    }
   ],
   "source": [
    "combine_salary = low_append + mid_append + high_append\n",
    "df_combine_salary = pd.DataFrame(combine_salary, columns=[\"Combine Salary\"])\n",
    "\n",
    "bins = [10000,20000,30000,40000,50000,60000,70000,80000,90000,100000,110000,120000,130000,140000,150000,160000,170000,180000,190000,200000,210000,220000]\n",
    "plt.figure(figsize=(20,10))\n",
    "plt.hist(low_append,bins=bins,alpha = 0.5,color=\"black\")\n",
    "plt.hist(mid_append,bins=bins,alpha = 0.5)\n",
    "plt.hist(high_append,bins=bins,alpha = 0.5)\n",
    "plt.ylabel(\"Number Of Salary\")\n",
    "plt.xlabel(\"Salary\")\n",
    "plt.title(\"Distribution of Salary in Musician\")\n",
    "plt.axvline(df_combine_salary[\"Combine Salary\"].median(), linewidth=5,color=\"red\", label=\"Median Salary is PHP {}\".format(df_combine_salary[\"Combine Salary\"].median()))\n",
    "plt.axvline(df_combine_salary[\"Combine Salary\"].mean(), linewidth=5,color=\"green\", label=\"Mean Salary is PHP {}\".format(df_combine_salary[\"Combine Salary\"].mean()))\n",
    "\n",
    "plt.legend([\"Median Salary is PHP {}\".format(df_combine_salary[\"Combine Salary\"].median()),\"Mean Salary is PHP {}\".format(round(df_combine_salary[\"Combine Salary\"].mean(),2)),'Entry Level', 'Mid Level', 'Senior Level',])\n"
   ]
  }
 ],
 "metadata": {
  "interpreter": {
   "hash": "aee8b7b246df8f9039afb4144a1f6fd8d2ca17a180786b69acc140d282b71a49"
  },
  "kernelspec": {
   "display_name": "Python 3.10.4 64-bit",
   "language": "python",
   "name": "python3"
  },
  "language_info": {
   "codemirror_mode": {
    "name": "ipython",
    "version": 3
   },
   "file_extension": ".py",
   "mimetype": "text/x-python",
   "name": "python",
   "nbconvert_exporter": "python",
   "pygments_lexer": "ipython3",
   "version": "3.10.4"
  },
  "orig_nbformat": 4
 },
 "nbformat": 4,
 "nbformat_minor": 2
}
