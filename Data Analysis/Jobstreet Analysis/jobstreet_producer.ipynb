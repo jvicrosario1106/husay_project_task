{
 "cells": [
  {
   "cell_type": "code",
   "execution_count": 1,
   "metadata": {},
   "outputs": [],
   "source": [
    "import matplotlib.pyplot as plt\n",
    "import pandas as pd\n",
    "import re\n",
    "import ast"
   ]
  },
  {
   "cell_type": "code",
   "execution_count": 2,
   "metadata": {},
   "outputs": [
    {
     "data": {
      "text/html": [
       "<div>\n",
       "<style scoped>\n",
       "    .dataframe tbody tr th:only-of-type {\n",
       "        vertical-align: middle;\n",
       "    }\n",
       "\n",
       "    .dataframe tbody tr th {\n",
       "        vertical-align: top;\n",
       "    }\n",
       "\n",
       "    .dataframe thead th {\n",
       "        text-align: right;\n",
       "    }\n",
       "</style>\n",
       "<table border=\"1\" class=\"dataframe\">\n",
       "  <thead>\n",
       "    <tr style=\"text-align: right;\">\n",
       "      <th></th>\n",
       "      <th>Title</th>\n",
       "      <th>Company</th>\n",
       "      <th>Location</th>\n",
       "      <th>Summary</th>\n",
       "      <th>Salary</th>\n",
       "      <th>Qualification &amp; Skills</th>\n",
       "      <th>Role and Responsibilities</th>\n",
       "      <th>Job Type</th>\n",
       "      <th>Company Profile&amp;Job Desc</th>\n",
       "      <th>Career Level</th>\n",
       "      <th>Benefits</th>\n",
       "      <th>Company Size</th>\n",
       "    </tr>\n",
       "  </thead>\n",
       "  <tbody>\n",
       "    <tr>\n",
       "      <th>0</th>\n",
       "      <td>Senior Writer/Researcher | URGENT</td>\n",
       "      <td>Prime Asset Ventures, Inc.</td>\n",
       "      <td>Taguig City</td>\n",
       "      <td>Develop factual and enticing articles for onli...</td>\n",
       "      <td>None</td>\n",
       "      <td>['Develop factual and enticing articles for on...</td>\n",
       "      <td>['The ideal candidate must have an in-depth kn...</td>\n",
       "      <td>['Full-Time', 'Average Processing Time']</td>\n",
       "      <td>[\"The ideal candidate must have an in-depth kn...</td>\n",
       "      <td>1-4 Years Experienced Employee</td>\n",
       "      <td>['Dental, Medical, Loans, Business (e.g. Shirt...</td>\n",
       "      <td>201 - 500 Employees</td>\n",
       "    </tr>\n",
       "    <tr>\n",
       "      <th>1</th>\n",
       "      <td>Video Editor / Videographer</td>\n",
       "      <td>Gan Advanced Osseointegration Center Inc.</td>\n",
       "      <td>Makati City</td>\n",
       "      <td>Bachelor’s degree in film studies, cinematogra...</td>\n",
       "      <td>None</td>\n",
       "      <td>['Bachelor’s degree in film studies, cinematog...</td>\n",
       "      <td>['QUALIFICATIONS:']</td>\n",
       "      <td>['Organizational and Time management skills', ...</td>\n",
       "      <td>['QUALIFICATIONS:Bachelor’s degree in film stu...</td>\n",
       "      <td>1-4 Years Experienced Employee</td>\n",
       "      <td>['Healthcare / Medical', 'Dental, Medical, For...</td>\n",
       "      <td>201 - 500 Employees</td>\n",
       "    </tr>\n",
       "    <tr>\n",
       "      <th>2</th>\n",
       "      <td>Videographer</td>\n",
       "      <td>Rua Seguridad Corporation</td>\n",
       "      <td>National Capital Reg</td>\n",
       "      <td>Produce creative videos and motion graphics th...</td>\n",
       "      <td>None</td>\n",
       "      <td>['Produce creative videos and motion graphics ...</td>\n",
       "      <td>['The Videographer is responsible for planning...</td>\n",
       "      <td>['Full-Time', 'Average Processing Time']</td>\n",
       "      <td>['The Videographer is responsible for planning...</td>\n",
       "      <td>1-4 Years Experienced Employee</td>\n",
       "      <td>['Dental, Education support, Miscellaneous all...</td>\n",
       "      <td>1 - 50 Employees</td>\n",
       "    </tr>\n",
       "    <tr>\n",
       "      <th>3</th>\n",
       "      <td>Video Editor</td>\n",
       "      <td>Philsearch Consulting, Inc.</td>\n",
       "      <td>National Capital Reg</td>\n",
       "      <td>Candidate must possess at least a Bachelor's/C...</td>\n",
       "      <td>PHP 15,000 - PHP 18,000</td>\n",
       "      <td>[\"Candidate must possess at least a Bachelor's...</td>\n",
       "      <td>[]</td>\n",
       "      <td>['2 Full-Time position(s) available.', 'Full-T...</td>\n",
       "      <td>[\"Candidate must possess at least a Bachelor's...</td>\n",
       "      <td>1-4 Years Experienced Employee</td>\n",
       "      <td>[]</td>\n",
       "      <td>1 - 50 Employees</td>\n",
       "    </tr>\n",
       "    <tr>\n",
       "      <th>4</th>\n",
       "      <td>Video Editor</td>\n",
       "      <td>Brand'eM Philippines</td>\n",
       "      <td>Quezon City</td>\n",
       "      <td>Effectively create, revise, and produce creati...</td>\n",
       "      <td>None</td>\n",
       "      <td>[\"Effectively create, revise, and produce crea...</td>\n",
       "      <td>['Responsibilities:', 'Qualifications:']</td>\n",
       "      <td>[]</td>\n",
       "      <td>[\"Responsibilities:Effectively create, revise,...</td>\n",
       "      <td>Less than 1 Year Experienced Employee</td>\n",
       "      <td>[]</td>\n",
       "      <td>1 - 50 Employees</td>\n",
       "    </tr>\n",
       "    <tr>\n",
       "      <th>...</th>\n",
       "      <td>...</td>\n",
       "      <td>...</td>\n",
       "      <td>...</td>\n",
       "      <td>...</td>\n",
       "      <td>...</td>\n",
       "      <td>...</td>\n",
       "      <td>...</td>\n",
       "      <td>...</td>\n",
       "      <td>...</td>\n",
       "      <td>...</td>\n",
       "      <td>...</td>\n",
       "      <td>...</td>\n",
       "    </tr>\n",
       "    <tr>\n",
       "      <th>497</th>\n",
       "      <td>Software Support Engineer</td>\n",
       "      <td>AMDOCS PHILIPPINES INC.</td>\n",
       "      <td>National Capital Reg</td>\n",
       "      <td>None</td>\n",
       "      <td>None</td>\n",
       "      <td>[]</td>\n",
       "      <td>['reasons to work for amdocs', 'Join a leading...</td>\n",
       "      <td>['Average Processing Time']</td>\n",
       "      <td>['reasons to work for amdocsJoin a leading glo...</td>\n",
       "      <td>NaN</td>\n",
       "      <td>['Dental, Medical, Regular hours, Mondays - Fr...</td>\n",
       "      <td>1001 - 2000 Employees</td>\n",
       "    </tr>\n",
       "    <tr>\n",
       "      <th>498</th>\n",
       "      <td>System Analyst</td>\n",
       "      <td>AMDOCS PHILIPPINES INC.</td>\n",
       "      <td>National Capital Reg</td>\n",
       "      <td>None</td>\n",
       "      <td>None</td>\n",
       "      <td>[]</td>\n",
       "      <td>['reasons to work for amdocs', 'Join a leading...</td>\n",
       "      <td>['Average Processing Time']</td>\n",
       "      <td>['reasons to work for amdocsJoin a leading glo...</td>\n",
       "      <td>NaN</td>\n",
       "      <td>['Dental, Medical, Regular hours, Mondays - Fr...</td>\n",
       "      <td>1001 - 2000 Employees</td>\n",
       "    </tr>\n",
       "    <tr>\n",
       "      <th>499</th>\n",
       "      <td>Software Engineer</td>\n",
       "      <td>AMDOCS PHILIPPINES INC.</td>\n",
       "      <td>National Capital Reg</td>\n",
       "      <td>None</td>\n",
       "      <td>None</td>\n",
       "      <td>[]</td>\n",
       "      <td>['reasons to work for amdocs', 'Join a leading...</td>\n",
       "      <td>['Average Processing Time']</td>\n",
       "      <td>['reasons to work for amdocsJoin a leading glo...</td>\n",
       "      <td>NaN</td>\n",
       "      <td>['Dental, Medical, Regular hours, Mondays - Fr...</td>\n",
       "      <td>1001 - 2000 Employees</td>\n",
       "    </tr>\n",
       "    <tr>\n",
       "      <th>500</th>\n",
       "      <td>Software Development Manager</td>\n",
       "      <td>AMDOCS PHILIPPINES INC.</td>\n",
       "      <td>National Capital Reg</td>\n",
       "      <td>None</td>\n",
       "      <td>None</td>\n",
       "      <td>[]</td>\n",
       "      <td>['reasons to work for amdocs', 'Join a leading...</td>\n",
       "      <td>['Average Processing Time']</td>\n",
       "      <td>['reasons to work for amdocsJoin a leading glo...</td>\n",
       "      <td>NaN</td>\n",
       "      <td>['Dental, Medical, Regular hours, Mondays - Fr...</td>\n",
       "      <td>1001 - 2000 Employees</td>\n",
       "    </tr>\n",
       "    <tr>\n",
       "      <th>501</th>\n",
       "      <td>Creative Project Manager</td>\n",
       "      <td>Canva Solutions Inc.</td>\n",
       "      <td>National Capital Reg</td>\n",
       "      <td>Work with the direction of Operations Lead and...</td>\n",
       "      <td>None</td>\n",
       "      <td>['Work with the direction of Operations Lead a...</td>\n",
       "      <td>['Canva’s Commitment and Mission', 'At Canva, ...</td>\n",
       "      <td>[]</td>\n",
       "      <td>[\"Canva’s Commitment and MissionAt Canva, we c...</td>\n",
       "      <td>NaN</td>\n",
       "      <td>['Education support, Miscellaneous allowance, ...</td>\n",
       "      <td>51 - 200 Employees</td>\n",
       "    </tr>\n",
       "  </tbody>\n",
       "</table>\n",
       "<p>502 rows × 12 columns</p>\n",
       "</div>"
      ],
      "text/plain": [
       "                                 Title  \\\n",
       "0    Senior Writer/Researcher | URGENT   \n",
       "1          Video Editor / Videographer   \n",
       "2                         Videographer   \n",
       "3                         Video Editor   \n",
       "4                         Video Editor   \n",
       "..                                 ...   \n",
       "497          Software Support Engineer   \n",
       "498                     System Analyst   \n",
       "499                  Software Engineer   \n",
       "500       Software Development Manager   \n",
       "501           Creative Project Manager   \n",
       "\n",
       "                                       Company              Location  \\\n",
       "0                   Prime Asset Ventures, Inc.           Taguig City   \n",
       "1    Gan Advanced Osseointegration Center Inc.           Makati City   \n",
       "2                    Rua Seguridad Corporation  National Capital Reg   \n",
       "3                  Philsearch Consulting, Inc.  National Capital Reg   \n",
       "4                         Brand'eM Philippines           Quezon City   \n",
       "..                                         ...                   ...   \n",
       "497                    AMDOCS PHILIPPINES INC.  National Capital Reg   \n",
       "498                    AMDOCS PHILIPPINES INC.  National Capital Reg   \n",
       "499                    AMDOCS PHILIPPINES INC.  National Capital Reg   \n",
       "500                    AMDOCS PHILIPPINES INC.  National Capital Reg   \n",
       "501                       Canva Solutions Inc.  National Capital Reg   \n",
       "\n",
       "                                               Summary  \\\n",
       "0    Develop factual and enticing articles for onli...   \n",
       "1    Bachelor’s degree in film studies, cinematogra...   \n",
       "2    Produce creative videos and motion graphics th...   \n",
       "3    Candidate must possess at least a Bachelor's/C...   \n",
       "4    Effectively create, revise, and produce creati...   \n",
       "..                                                 ...   \n",
       "497                                               None   \n",
       "498                                               None   \n",
       "499                                               None   \n",
       "500                                               None   \n",
       "501  Work with the direction of Operations Lead and...   \n",
       "\n",
       "                      Salary  \\\n",
       "0                       None   \n",
       "1                       None   \n",
       "2                       None   \n",
       "3    PHP 15,000 - PHP 18,000   \n",
       "4                       None   \n",
       "..                       ...   \n",
       "497                     None   \n",
       "498                     None   \n",
       "499                     None   \n",
       "500                     None   \n",
       "501                     None   \n",
       "\n",
       "                                Qualification & Skills  \\\n",
       "0    ['Develop factual and enticing articles for on...   \n",
       "1    ['Bachelor’s degree in film studies, cinematog...   \n",
       "2    ['Produce creative videos and motion graphics ...   \n",
       "3    [\"Candidate must possess at least a Bachelor's...   \n",
       "4    [\"Effectively create, revise, and produce crea...   \n",
       "..                                                 ...   \n",
       "497                                                 []   \n",
       "498                                                 []   \n",
       "499                                                 []   \n",
       "500                                                 []   \n",
       "501  ['Work with the direction of Operations Lead a...   \n",
       "\n",
       "                             Role and Responsibilities  \\\n",
       "0    ['The ideal candidate must have an in-depth kn...   \n",
       "1                                  ['QUALIFICATIONS:']   \n",
       "2    ['The Videographer is responsible for planning...   \n",
       "3                                                   []   \n",
       "4             ['Responsibilities:', 'Qualifications:']   \n",
       "..                                                 ...   \n",
       "497  ['reasons to work for amdocs', 'Join a leading...   \n",
       "498  ['reasons to work for amdocs', 'Join a leading...   \n",
       "499  ['reasons to work for amdocs', 'Join a leading...   \n",
       "500  ['reasons to work for amdocs', 'Join a leading...   \n",
       "501  ['Canva’s Commitment and Mission', 'At Canva, ...   \n",
       "\n",
       "                                              Job Type  \\\n",
       "0             ['Full-Time', 'Average Processing Time']   \n",
       "1    ['Organizational and Time management skills', ...   \n",
       "2             ['Full-Time', 'Average Processing Time']   \n",
       "3    ['2 Full-Time position(s) available.', 'Full-T...   \n",
       "4                                                   []   \n",
       "..                                                 ...   \n",
       "497                        ['Average Processing Time']   \n",
       "498                        ['Average Processing Time']   \n",
       "499                        ['Average Processing Time']   \n",
       "500                        ['Average Processing Time']   \n",
       "501                                                 []   \n",
       "\n",
       "                              Company Profile&Job Desc  \\\n",
       "0    [\"The ideal candidate must have an in-depth kn...   \n",
       "1    ['QUALIFICATIONS:Bachelor’s degree in film stu...   \n",
       "2    ['The Videographer is responsible for planning...   \n",
       "3    [\"Candidate must possess at least a Bachelor's...   \n",
       "4    [\"Responsibilities:Effectively create, revise,...   \n",
       "..                                                 ...   \n",
       "497  ['reasons to work for amdocsJoin a leading glo...   \n",
       "498  ['reasons to work for amdocsJoin a leading glo...   \n",
       "499  ['reasons to work for amdocsJoin a leading glo...   \n",
       "500  ['reasons to work for amdocsJoin a leading glo...   \n",
       "501  [\"Canva’s Commitment and MissionAt Canva, we c...   \n",
       "\n",
       "                              Career Level  \\\n",
       "0           1-4 Years Experienced Employee   \n",
       "1           1-4 Years Experienced Employee   \n",
       "2           1-4 Years Experienced Employee   \n",
       "3           1-4 Years Experienced Employee   \n",
       "4    Less than 1 Year Experienced Employee   \n",
       "..                                     ...   \n",
       "497                                    NaN   \n",
       "498                                    NaN   \n",
       "499                                    NaN   \n",
       "500                                    NaN   \n",
       "501                                    NaN   \n",
       "\n",
       "                                              Benefits           Company Size  \n",
       "0    ['Dental, Medical, Loans, Business (e.g. Shirt...    201 - 500 Employees  \n",
       "1    ['Healthcare / Medical', 'Dental, Medical, For...    201 - 500 Employees  \n",
       "2    ['Dental, Education support, Miscellaneous all...       1 - 50 Employees  \n",
       "3                                                   []       1 - 50 Employees  \n",
       "4                                                   []       1 - 50 Employees  \n",
       "..                                                 ...                    ...  \n",
       "497  ['Dental, Medical, Regular hours, Mondays - Fr...  1001 - 2000 Employees  \n",
       "498  ['Dental, Medical, Regular hours, Mondays - Fr...  1001 - 2000 Employees  \n",
       "499  ['Dental, Medical, Regular hours, Mondays - Fr...  1001 - 2000 Employees  \n",
       "500  ['Dental, Medical, Regular hours, Mondays - Fr...  1001 - 2000 Employees  \n",
       "501  ['Education support, Miscellaneous allowance, ...     51 - 200 Employees  \n",
       "\n",
       "[502 rows x 12 columns]"
      ]
     },
     "execution_count": 2,
     "metadata": {},
     "output_type": "execute_result"
    }
   ],
   "source": [
    "csv_path = [\n",
    "   \"../../Raw_CSV/April 25-26 - 2022/Jobstreet/Jobstreet-producer.csv\",\n",
    "   \"../../Raw_CSV/April 27 - 2022/Jobstreet/Jobstreet-producer.csv\",\n",
    "    \"../../Raw_CSV/April 28 - 2022/Jobstreet/Jobstreet-producer.csv\", \n",
    "]\n",
    "merge = pd.concat(map(pd.read_csv,csv_path),ignore_index=True)\n",
    "merge[\"Salary\"].str.strip()\n",
    "merge"
   ]
  },
  {
   "cell_type": "code",
   "execution_count": 3,
   "metadata": {},
   "outputs": [
    {
     "data": {
      "text/html": [
       "<div>\n",
       "<style scoped>\n",
       "    .dataframe tbody tr th:only-of-type {\n",
       "        vertical-align: middle;\n",
       "    }\n",
       "\n",
       "    .dataframe tbody tr th {\n",
       "        vertical-align: top;\n",
       "    }\n",
       "\n",
       "    .dataframe thead th {\n",
       "        text-align: right;\n",
       "    }\n",
       "</style>\n",
       "<table border=\"1\" class=\"dataframe\">\n",
       "  <thead>\n",
       "    <tr style=\"text-align: right;\">\n",
       "      <th></th>\n",
       "      <th>Title</th>\n",
       "      <th>Company</th>\n",
       "      <th>Location</th>\n",
       "      <th>Summary</th>\n",
       "      <th>Salary</th>\n",
       "      <th>Qualification &amp; Skills</th>\n",
       "      <th>Role and Responsibilities</th>\n",
       "      <th>Job Type</th>\n",
       "      <th>Company Profile&amp;Job Desc</th>\n",
       "      <th>Career Level</th>\n",
       "      <th>Benefits</th>\n",
       "      <th>Company Size</th>\n",
       "    </tr>\n",
       "  </thead>\n",
       "  <tbody>\n",
       "    <tr>\n",
       "      <th>0</th>\n",
       "      <td>Senior Writer/Researcher | URGENT</td>\n",
       "      <td>Prime Asset Ventures, Inc.</td>\n",
       "      <td>Taguig City</td>\n",
       "      <td>Develop factual and enticing articles for onli...</td>\n",
       "      <td>None</td>\n",
       "      <td>['Develop factual and enticing articles for on...</td>\n",
       "      <td>['The ideal candidate must have an in-depth kn...</td>\n",
       "      <td>['Full-Time', 'Average Processing Time']</td>\n",
       "      <td>[\"The ideal candidate must have an in-depth kn...</td>\n",
       "      <td>1-4 Years Experienced Employee</td>\n",
       "      <td>['Dental, Medical, Loans, Business (e.g. Shirt...</td>\n",
       "      <td>201 - 500 Employees</td>\n",
       "    </tr>\n",
       "    <tr>\n",
       "      <th>1</th>\n",
       "      <td>Video Editor / Videographer</td>\n",
       "      <td>Gan Advanced Osseointegration Center Inc.</td>\n",
       "      <td>Makati City</td>\n",
       "      <td>Bachelor’s degree in film studies, cinematogra...</td>\n",
       "      <td>None</td>\n",
       "      <td>['Bachelor’s degree in film studies, cinematog...</td>\n",
       "      <td>['QUALIFICATIONS:']</td>\n",
       "      <td>['Organizational and Time management skills', ...</td>\n",
       "      <td>['QUALIFICATIONS:Bachelor’s degree in film stu...</td>\n",
       "      <td>1-4 Years Experienced Employee</td>\n",
       "      <td>['Healthcare / Medical', 'Dental, Medical, For...</td>\n",
       "      <td>201 - 500 Employees</td>\n",
       "    </tr>\n",
       "    <tr>\n",
       "      <th>2</th>\n",
       "      <td>Videographer</td>\n",
       "      <td>Rua Seguridad Corporation</td>\n",
       "      <td>National Capital Reg</td>\n",
       "      <td>Produce creative videos and motion graphics th...</td>\n",
       "      <td>None</td>\n",
       "      <td>['Produce creative videos and motion graphics ...</td>\n",
       "      <td>['The Videographer is responsible for planning...</td>\n",
       "      <td>['Full-Time', 'Average Processing Time']</td>\n",
       "      <td>['The Videographer is responsible for planning...</td>\n",
       "      <td>1-4 Years Experienced Employee</td>\n",
       "      <td>['Dental, Education support, Miscellaneous all...</td>\n",
       "      <td>1 - 50 Employees</td>\n",
       "    </tr>\n",
       "    <tr>\n",
       "      <th>3</th>\n",
       "      <td>Video Editor</td>\n",
       "      <td>Philsearch Consulting, Inc.</td>\n",
       "      <td>National Capital Reg</td>\n",
       "      <td>Candidate must possess at least a Bachelor's/C...</td>\n",
       "      <td>PHP 15,000 - PHP 18,000</td>\n",
       "      <td>[\"Candidate must possess at least a Bachelor's...</td>\n",
       "      <td>[]</td>\n",
       "      <td>['2 Full-Time position(s) available.', 'Full-T...</td>\n",
       "      <td>[\"Candidate must possess at least a Bachelor's...</td>\n",
       "      <td>1-4 Years Experienced Employee</td>\n",
       "      <td>[]</td>\n",
       "      <td>1 - 50 Employees</td>\n",
       "    </tr>\n",
       "    <tr>\n",
       "      <th>4</th>\n",
       "      <td>Video Editor</td>\n",
       "      <td>Brand'eM Philippines</td>\n",
       "      <td>Quezon City</td>\n",
       "      <td>Effectively create, revise, and produce creati...</td>\n",
       "      <td>None</td>\n",
       "      <td>[\"Effectively create, revise, and produce crea...</td>\n",
       "      <td>['Responsibilities:', 'Qualifications:']</td>\n",
       "      <td>[]</td>\n",
       "      <td>[\"Responsibilities:Effectively create, revise,...</td>\n",
       "      <td>Less than 1 Year Experienced Employee</td>\n",
       "      <td>[]</td>\n",
       "      <td>1 - 50 Employees</td>\n",
       "    </tr>\n",
       "    <tr>\n",
       "      <th>...</th>\n",
       "      <td>...</td>\n",
       "      <td>...</td>\n",
       "      <td>...</td>\n",
       "      <td>...</td>\n",
       "      <td>...</td>\n",
       "      <td>...</td>\n",
       "      <td>...</td>\n",
       "      <td>...</td>\n",
       "      <td>...</td>\n",
       "      <td>...</td>\n",
       "      <td>...</td>\n",
       "      <td>...</td>\n",
       "    </tr>\n",
       "    <tr>\n",
       "      <th>497</th>\n",
       "      <td>Software Support Engineer</td>\n",
       "      <td>AMDOCS PHILIPPINES INC.</td>\n",
       "      <td>National Capital Reg</td>\n",
       "      <td>None</td>\n",
       "      <td>None</td>\n",
       "      <td>[]</td>\n",
       "      <td>['reasons to work for amdocs', 'Join a leading...</td>\n",
       "      <td>['Average Processing Time']</td>\n",
       "      <td>['reasons to work for amdocsJoin a leading glo...</td>\n",
       "      <td>NaN</td>\n",
       "      <td>['Dental, Medical, Regular hours, Mondays - Fr...</td>\n",
       "      <td>1001 - 2000 Employees</td>\n",
       "    </tr>\n",
       "    <tr>\n",
       "      <th>498</th>\n",
       "      <td>System Analyst</td>\n",
       "      <td>AMDOCS PHILIPPINES INC.</td>\n",
       "      <td>National Capital Reg</td>\n",
       "      <td>None</td>\n",
       "      <td>None</td>\n",
       "      <td>[]</td>\n",
       "      <td>['reasons to work for amdocs', 'Join a leading...</td>\n",
       "      <td>['Average Processing Time']</td>\n",
       "      <td>['reasons to work for amdocsJoin a leading glo...</td>\n",
       "      <td>NaN</td>\n",
       "      <td>['Dental, Medical, Regular hours, Mondays - Fr...</td>\n",
       "      <td>1001 - 2000 Employees</td>\n",
       "    </tr>\n",
       "    <tr>\n",
       "      <th>499</th>\n",
       "      <td>Software Engineer</td>\n",
       "      <td>AMDOCS PHILIPPINES INC.</td>\n",
       "      <td>National Capital Reg</td>\n",
       "      <td>None</td>\n",
       "      <td>None</td>\n",
       "      <td>[]</td>\n",
       "      <td>['reasons to work for amdocs', 'Join a leading...</td>\n",
       "      <td>['Average Processing Time']</td>\n",
       "      <td>['reasons to work for amdocsJoin a leading glo...</td>\n",
       "      <td>NaN</td>\n",
       "      <td>['Dental, Medical, Regular hours, Mondays - Fr...</td>\n",
       "      <td>1001 - 2000 Employees</td>\n",
       "    </tr>\n",
       "    <tr>\n",
       "      <th>500</th>\n",
       "      <td>Software Development Manager</td>\n",
       "      <td>AMDOCS PHILIPPINES INC.</td>\n",
       "      <td>National Capital Reg</td>\n",
       "      <td>None</td>\n",
       "      <td>None</td>\n",
       "      <td>[]</td>\n",
       "      <td>['reasons to work for amdocs', 'Join a leading...</td>\n",
       "      <td>['Average Processing Time']</td>\n",
       "      <td>['reasons to work for amdocsJoin a leading glo...</td>\n",
       "      <td>NaN</td>\n",
       "      <td>['Dental, Medical, Regular hours, Mondays - Fr...</td>\n",
       "      <td>1001 - 2000 Employees</td>\n",
       "    </tr>\n",
       "    <tr>\n",
       "      <th>501</th>\n",
       "      <td>Creative Project Manager</td>\n",
       "      <td>Canva Solutions Inc.</td>\n",
       "      <td>National Capital Reg</td>\n",
       "      <td>Work with the direction of Operations Lead and...</td>\n",
       "      <td>None</td>\n",
       "      <td>['Work with the direction of Operations Lead a...</td>\n",
       "      <td>['Canva’s Commitment and Mission', 'At Canva, ...</td>\n",
       "      <td>[]</td>\n",
       "      <td>[\"Canva’s Commitment and MissionAt Canva, we c...</td>\n",
       "      <td>NaN</td>\n",
       "      <td>['Education support, Miscellaneous allowance, ...</td>\n",
       "      <td>51 - 200 Employees</td>\n",
       "    </tr>\n",
       "  </tbody>\n",
       "</table>\n",
       "<p>502 rows × 12 columns</p>\n",
       "</div>"
      ],
      "text/plain": [
       "                                 Title  \\\n",
       "0    Senior Writer/Researcher | URGENT   \n",
       "1          Video Editor / Videographer   \n",
       "2                         Videographer   \n",
       "3                         Video Editor   \n",
       "4                         Video Editor   \n",
       "..                                 ...   \n",
       "497          Software Support Engineer   \n",
       "498                     System Analyst   \n",
       "499                  Software Engineer   \n",
       "500       Software Development Manager   \n",
       "501           Creative Project Manager   \n",
       "\n",
       "                                       Company              Location  \\\n",
       "0                   Prime Asset Ventures, Inc.           Taguig City   \n",
       "1    Gan Advanced Osseointegration Center Inc.           Makati City   \n",
       "2                    Rua Seguridad Corporation  National Capital Reg   \n",
       "3                  Philsearch Consulting, Inc.  National Capital Reg   \n",
       "4                         Brand'eM Philippines           Quezon City   \n",
       "..                                         ...                   ...   \n",
       "497                    AMDOCS PHILIPPINES INC.  National Capital Reg   \n",
       "498                    AMDOCS PHILIPPINES INC.  National Capital Reg   \n",
       "499                    AMDOCS PHILIPPINES INC.  National Capital Reg   \n",
       "500                    AMDOCS PHILIPPINES INC.  National Capital Reg   \n",
       "501                       Canva Solutions Inc.  National Capital Reg   \n",
       "\n",
       "                                               Summary  \\\n",
       "0    Develop factual and enticing articles for onli...   \n",
       "1    Bachelor’s degree in film studies, cinematogra...   \n",
       "2    Produce creative videos and motion graphics th...   \n",
       "3    Candidate must possess at least a Bachelor's/C...   \n",
       "4    Effectively create, revise, and produce creati...   \n",
       "..                                                 ...   \n",
       "497                                               None   \n",
       "498                                               None   \n",
       "499                                               None   \n",
       "500                                               None   \n",
       "501  Work with the direction of Operations Lead and...   \n",
       "\n",
       "                      Salary  \\\n",
       "0                       None   \n",
       "1                       None   \n",
       "2                       None   \n",
       "3    PHP 15,000 - PHP 18,000   \n",
       "4                       None   \n",
       "..                       ...   \n",
       "497                     None   \n",
       "498                     None   \n",
       "499                     None   \n",
       "500                     None   \n",
       "501                     None   \n",
       "\n",
       "                                Qualification & Skills  \\\n",
       "0    ['Develop factual and enticing articles for on...   \n",
       "1    ['Bachelor’s degree in film studies, cinematog...   \n",
       "2    ['Produce creative videos and motion graphics ...   \n",
       "3    [\"Candidate must possess at least a Bachelor's...   \n",
       "4    [\"Effectively create, revise, and produce crea...   \n",
       "..                                                 ...   \n",
       "497                                                 []   \n",
       "498                                                 []   \n",
       "499                                                 []   \n",
       "500                                                 []   \n",
       "501  ['Work with the direction of Operations Lead a...   \n",
       "\n",
       "                             Role and Responsibilities  \\\n",
       "0    ['The ideal candidate must have an in-depth kn...   \n",
       "1                                  ['QUALIFICATIONS:']   \n",
       "2    ['The Videographer is responsible for planning...   \n",
       "3                                                   []   \n",
       "4             ['Responsibilities:', 'Qualifications:']   \n",
       "..                                                 ...   \n",
       "497  ['reasons to work for amdocs', 'Join a leading...   \n",
       "498  ['reasons to work for amdocs', 'Join a leading...   \n",
       "499  ['reasons to work for amdocs', 'Join a leading...   \n",
       "500  ['reasons to work for amdocs', 'Join a leading...   \n",
       "501  ['Canva’s Commitment and Mission', 'At Canva, ...   \n",
       "\n",
       "                                              Job Type  \\\n",
       "0             ['Full-Time', 'Average Processing Time']   \n",
       "1    ['Organizational and Time management skills', ...   \n",
       "2             ['Full-Time', 'Average Processing Time']   \n",
       "3    ['2 Full-Time position(s) available.', 'Full-T...   \n",
       "4                                                   []   \n",
       "..                                                 ...   \n",
       "497                        ['Average Processing Time']   \n",
       "498                        ['Average Processing Time']   \n",
       "499                        ['Average Processing Time']   \n",
       "500                        ['Average Processing Time']   \n",
       "501                                                 []   \n",
       "\n",
       "                              Company Profile&Job Desc  \\\n",
       "0    [\"The ideal candidate must have an in-depth kn...   \n",
       "1    ['QUALIFICATIONS:Bachelor’s degree in film stu...   \n",
       "2    ['The Videographer is responsible for planning...   \n",
       "3    [\"Candidate must possess at least a Bachelor's...   \n",
       "4    [\"Responsibilities:Effectively create, revise,...   \n",
       "..                                                 ...   \n",
       "497  ['reasons to work for amdocsJoin a leading glo...   \n",
       "498  ['reasons to work for amdocsJoin a leading glo...   \n",
       "499  ['reasons to work for amdocsJoin a leading glo...   \n",
       "500  ['reasons to work for amdocsJoin a leading glo...   \n",
       "501  [\"Canva’s Commitment and MissionAt Canva, we c...   \n",
       "\n",
       "                              Career Level  \\\n",
       "0           1-4 Years Experienced Employee   \n",
       "1           1-4 Years Experienced Employee   \n",
       "2           1-4 Years Experienced Employee   \n",
       "3           1-4 Years Experienced Employee   \n",
       "4    Less than 1 Year Experienced Employee   \n",
       "..                                     ...   \n",
       "497                                    NaN   \n",
       "498                                    NaN   \n",
       "499                                    NaN   \n",
       "500                                    NaN   \n",
       "501                                    NaN   \n",
       "\n",
       "                                              Benefits           Company Size  \n",
       "0    ['Dental, Medical, Loans, Business (e.g. Shirt...    201 - 500 Employees  \n",
       "1    ['Healthcare / Medical', 'Dental, Medical, For...    201 - 500 Employees  \n",
       "2    ['Dental, Education support, Miscellaneous all...       1 - 50 Employees  \n",
       "3                                                   []       1 - 50 Employees  \n",
       "4                                                   []       1 - 50 Employees  \n",
       "..                                                 ...                    ...  \n",
       "497  ['Dental, Medical, Regular hours, Mondays - Fr...  1001 - 2000 Employees  \n",
       "498  ['Dental, Medical, Regular hours, Mondays - Fr...  1001 - 2000 Employees  \n",
       "499  ['Dental, Medical, Regular hours, Mondays - Fr...  1001 - 2000 Employees  \n",
       "500  ['Dental, Medical, Regular hours, Mondays - Fr...  1001 - 2000 Employees  \n",
       "501  ['Education support, Miscellaneous allowance, ...     51 - 200 Employees  \n",
       "\n",
       "[502 rows x 12 columns]"
      ]
     },
     "execution_count": 3,
     "metadata": {},
     "output_type": "execute_result"
    }
   ],
   "source": [
    "merge"
   ]
  },
  {
   "cell_type": "code",
   "execution_count": 4,
   "metadata": {},
   "outputs": [
    {
     "data": {
      "text/html": [
       "<div>\n",
       "<style scoped>\n",
       "    .dataframe tbody tr th:only-of-type {\n",
       "        vertical-align: middle;\n",
       "    }\n",
       "\n",
       "    .dataframe tbody tr th {\n",
       "        vertical-align: top;\n",
       "    }\n",
       "\n",
       "    .dataframe thead th {\n",
       "        text-align: right;\n",
       "    }\n",
       "</style>\n",
       "<table border=\"1\" class=\"dataframe\">\n",
       "  <thead>\n",
       "    <tr style=\"text-align: right;\">\n",
       "      <th></th>\n",
       "      <th>Title</th>\n",
       "      <th>Company</th>\n",
       "      <th>Location</th>\n",
       "      <th>Summary</th>\n",
       "      <th>Salary</th>\n",
       "      <th>Qualification &amp; Skills</th>\n",
       "      <th>Role and Responsibilities</th>\n",
       "      <th>Job Type</th>\n",
       "      <th>Company Profile&amp;Job Desc</th>\n",
       "      <th>Career Level</th>\n",
       "      <th>Benefits</th>\n",
       "      <th>Company Size</th>\n",
       "    </tr>\n",
       "  </thead>\n",
       "  <tbody>\n",
       "    <tr>\n",
       "      <th>count</th>\n",
       "      <td>502</td>\n",
       "      <td>502</td>\n",
       "      <td>502</td>\n",
       "      <td>502</td>\n",
       "      <td>502</td>\n",
       "      <td>502</td>\n",
       "      <td>502</td>\n",
       "      <td>502</td>\n",
       "      <td>502</td>\n",
       "      <td>464</td>\n",
       "      <td>502</td>\n",
       "      <td>451</td>\n",
       "    </tr>\n",
       "    <tr>\n",
       "      <th>unique</th>\n",
       "      <td>131</td>\n",
       "      <td>100</td>\n",
       "      <td>21</td>\n",
       "      <td>86</td>\n",
       "      <td>30</td>\n",
       "      <td>88</td>\n",
       "      <td>83</td>\n",
       "      <td>13</td>\n",
       "      <td>128</td>\n",
       "      <td>4</td>\n",
       "      <td>58</td>\n",
       "      <td>7</td>\n",
       "    </tr>\n",
       "    <tr>\n",
       "      <th>top</th>\n",
       "      <td>Video Editor</td>\n",
       "      <td>AMDOCS PHILIPPINES INC.</td>\n",
       "      <td>National Capital Reg</td>\n",
       "      <td>None</td>\n",
       "      <td>None</td>\n",
       "      <td>[]</td>\n",
       "      <td>[]</td>\n",
       "      <td>['Full-Time', 'Average Processing Time']</td>\n",
       "      <td>['reasons to work for amdocsJoin a leading glo...</td>\n",
       "      <td>1-4 Years Experienced Employee</td>\n",
       "      <td>[]</td>\n",
       "      <td>201 - 500 Employees</td>\n",
       "    </tr>\n",
       "    <tr>\n",
       "      <th>freq</th>\n",
       "      <td>30</td>\n",
       "      <td>46</td>\n",
       "      <td>206</td>\n",
       "      <td>174</td>\n",
       "      <td>374</td>\n",
       "      <td>174</td>\n",
       "      <td>166</td>\n",
       "      <td>233</td>\n",
       "      <td>46</td>\n",
       "      <td>339</td>\n",
       "      <td>162</td>\n",
       "      <td>91</td>\n",
       "    </tr>\n",
       "  </tbody>\n",
       "</table>\n",
       "</div>"
      ],
      "text/plain": [
       "               Title                  Company              Location Summary  \\\n",
       "count            502                      502                   502     502   \n",
       "unique           131                      100                    21      86   \n",
       "top     Video Editor  AMDOCS PHILIPPINES INC.  National Capital Reg    None   \n",
       "freq              30                       46                   206     174   \n",
       "\n",
       "       Salary Qualification & Skills Role and Responsibilities  \\\n",
       "count     502                    502                       502   \n",
       "unique     30                     88                        83   \n",
       "top      None                     []                        []   \n",
       "freq      374                    174                       166   \n",
       "\n",
       "                                        Job Type  \\\n",
       "count                                        502   \n",
       "unique                                        13   \n",
       "top     ['Full-Time', 'Average Processing Time']   \n",
       "freq                                         233   \n",
       "\n",
       "                                 Company Profile&Job Desc  \\\n",
       "count                                                 502   \n",
       "unique                                                128   \n",
       "top     ['reasons to work for amdocsJoin a leading glo...   \n",
       "freq                                                   46   \n",
       "\n",
       "                          Career Level Benefits         Company Size  \n",
       "count                              464      502                  451  \n",
       "unique                               4       58                    7  \n",
       "top     1-4 Years Experienced Employee       []  201 - 500 Employees  \n",
       "freq                               339      162                   91  "
      ]
     },
     "execution_count": 4,
     "metadata": {},
     "output_type": "execute_result"
    }
   ],
   "source": [
    "merge.describe()"
   ]
  },
  {
   "cell_type": "code",
   "execution_count": 5,
   "metadata": {},
   "outputs": [],
   "source": [
    "job_title_lower = merge[\"Title\"].str.lower()"
   ]
  },
  {
   "cell_type": "code",
   "execution_count": 6,
   "metadata": {},
   "outputs": [],
   "source": [
    "job_title = job_title_lower.value_counts()[0:10]"
   ]
  },
  {
   "cell_type": "code",
   "execution_count": 7,
   "metadata": {},
   "outputs": [
    {
     "data": {
      "text/plain": [
       "video editor                            36\n",
       "technical video production assistant    20\n",
       "quality assurance (game tester)         16\n",
       "marketing specialist                    15\n",
       "motion designer - work remote           13\n",
       "videographer                            12\n",
       "application specialist                  11\n",
       "district manager                         9\n",
       "production manager                       9\n",
       "graphics designer (cf 1937)              8\n",
       "Name: Title, dtype: int64"
      ]
     },
     "execution_count": 7,
     "metadata": {},
     "output_type": "execute_result"
    }
   ],
   "source": [
    "job_title"
   ]
  },
  {
   "cell_type": "code",
   "execution_count": 8,
   "metadata": {},
   "outputs": [
    {
     "data": {
      "image/png": "[encoded data removed]",
      "text/plain": [
       "<Figure size 432x288 with 1 Axes>"
      ]
     },
     "metadata": {
      "needs_background": "light"
     },
     "output_type": "display_data"
    }
   ],
   "source": [
    "plt.bar(job_title.index, job_title.values)\n",
    "plt.xticks(rotation=\"30\", ha=\"right\")\n",
    "plt.show()"
   ]
  },
  {
   "cell_type": "code",
   "execution_count": 9,
   "metadata": {},
   "outputs": [],
   "source": [
    "company_name = merge[\"Company\"].value_counts()[0:10]"
   ]
  },
  {
   "cell_type": "code",
   "execution_count": 10,
   "metadata": {},
   "outputs": [
    {
     "data": {
      "image/png": "[encoded data removed]",
      "text/plain": [
       "<Figure size 432x288 with 1 Axes>"
      ]
     },
     "metadata": {
      "needs_background": "light"
     },
     "output_type": "display_data"
    }
   ],
   "source": [
    "plt.bar(company_name.index, company_name.values)\n",
    "plt.xticks(rotation=\"30\", ha=\"right\")\n",
    "plt.show()"
   ]
  },
  {
   "cell_type": "code",
   "execution_count": 11,
   "metadata": {},
   "outputs": [],
   "source": [
    "company_location = merge[\"Location\"].value_counts()[0:10]"
   ]
  },
  {
   "cell_type": "code",
   "execution_count": 12,
   "metadata": {},
   "outputs": [
    {
     "data": {
      "image/png": "[encoded data removed]",
      "text/plain": [
       "<Figure size 432x288 with 1 Axes>"
      ]
     },
     "metadata": {
      "needs_background": "light"
     },
     "output_type": "display_data"
    }
   ],
   "source": [
    "plt.bar(company_location.index, company_location.values)\n",
    "plt.xticks(rotation=\"30\", ha=\"right\")\n",
    "plt.show()\n"
   ]
  },
  {
   "cell_type": "code",
   "execution_count": 13,
   "metadata": {},
   "outputs": [],
   "source": [
    "filt = (merge[\"Salary\"] != \"None\")\n",
    "results = merge.loc[filt]"
   ]
  },
  {
   "cell_type": "code",
   "execution_count": 14,
   "metadata": {},
   "outputs": [],
   "source": [
    "salary = results[\"Salary\"].value_counts()[0:10]"
   ]
  },
  {
   "cell_type": "code",
   "execution_count": 15,
   "metadata": {},
   "outputs": [
    {
     "data": {
      "image/png": "[encoded data removed]",
      "text/plain": [
       "<Figure size 432x288 with 1 Axes>"
      ]
     },
     "metadata": {
      "needs_background": "light"
     },
     "output_type": "display_data"
    }
   ],
   "source": [
    "plt.bar(salary.index, salary.values)\n",
    "plt.xticks(rotation=\"30\", ha=\"right\")\n",
    "plt.show()"
   ]
  },
  {
   "cell_type": "code",
   "execution_count": 16,
   "metadata": {},
   "outputs": [],
   "source": [
    "job_type = merge[\"Job Type\"].apply(ast.literal_eval)\n",
    "job_type_append = []\n",
    "for i in job_type:\n",
    "    job_type_append.append(job_type[0][0])"
   ]
  },
  {
   "cell_type": "code",
   "execution_count": 17,
   "metadata": {},
   "outputs": [
    {
     "data": {
      "text/plain": [
       "Job Type \n",
       "Full-Time    502\n",
       "dtype: int64"
      ]
     },
     "execution_count": 17,
     "metadata": {},
     "output_type": "execute_result"
    }
   ],
   "source": [
    "# List to Dataframe ( Count Job Type )\n",
    "job_type_df = pd.DataFrame(job_type_append,columns=[\"Job Type\"])\n",
    "job_type_df.value_counts()\n"
   ]
  },
  {
   "cell_type": "code",
   "execution_count": 18,
   "metadata": {},
   "outputs": [
    {
     "data": {
      "text/plain": [
       "1-4 Years Experienced Employee                                      339\n",
       "Less than 1 Year Experienced Employee                                78\n",
       "Supervisor/5 Years & Up Experienced Employee                         44\n",
       "Experienced in product development, preferably in Telco industry      3\n",
       "Name: Career Level, dtype: int64"
      ]
     },
     "execution_count": 18,
     "metadata": {},
     "output_type": "execute_result"
    }
   ],
   "source": [
    "career_level = merge[\"Career Level\"]\n",
    "count_career_level = career_level.value_counts()\n",
    "count_career_level"
   ]
  },
  {
   "cell_type": "code",
   "execution_count": 19,
   "metadata": {},
   "outputs": [
    {
     "data": {
      "image/png": "[encoded data removed]",
      "text/plain": [
       "<Figure size 432x288 with 1 Axes>"
      ]
     },
     "metadata": {
      "needs_background": "light"
     },
     "output_type": "display_data"
    }
   ],
   "source": [
    "plt.bar(count_career_level.index, count_career_level.values)\n",
    "plt.xticks(rotation=\"30\",ha=\"right\")\n",
    "plt.show()"
   ]
  },
  {
   "cell_type": "code",
   "execution_count": 20,
   "metadata": {},
   "outputs": [
    {
     "data": {
      "text/plain": [
       "201 - 500 Employees      91\n",
       "1 - 50 Employees         86\n",
       "51 - 200 Employees       75\n",
       "1001 - 2000 Employees    68\n",
       "501 - 1000 Employees     55\n",
       "None                     50\n",
       "Name: Company Size, dtype: int64"
      ]
     },
     "execution_count": 20,
     "metadata": {},
     "output_type": "execute_result"
    }
   ],
   "source": [
    "company_size = merge[\"Company Size\"]\n",
    "count_company_size = company_size.value_counts()[0:6]\n",
    "count_company_size"
   ]
  },
  {
   "cell_type": "code",
   "execution_count": 21,
   "metadata": {},
   "outputs": [
    {
     "data": {
      "image/png": "[encoded data removed]",
      "text/plain": [
       "<Figure size 432x288 with 1 Axes>"
      ]
     },
     "metadata": {
      "needs_background": "light"
     },
     "output_type": "display_data"
    }
   ],
   "source": [
    "plt.bar(count_company_size.index, count_company_size.values)\n",
    "plt.xticks(rotation=\"30\",ha=\"right\")\n",
    "plt.show()"
   ]
  },
  {
   "cell_type": "code",
   "execution_count": 22,
   "metadata": {},
   "outputs": [
    {
     "name": "stderr",
     "output_type": "stream",
     "text": [
      "/var/folders/tc/qdg72rpx523gjsqcr2vf_0c00000gn/T/ipykernel_1497/2971443327.py:1: FutureWarning: The default value of regex will change from True to False in a future version.\n",
      "  benefits = merge[\"Benefits\"].str.replace(\"^\\['|'\\]$\",\"\")\n"
     ]
    }
   ],
   "source": [
    "benefits = merge[\"Benefits\"].str.replace(\"^\\['|'\\]$\",\"\")\n",
    "benefits_append = []\n",
    "split_benefits = benefits.str.split(\",\")\n",
    "\n",
    "for i in range(len(split_benefits)):\n",
    "    for j in split_benefits[i]:\n",
    "        benefits_append.append(j)\n"
   ]
  },
  {
   "cell_type": "code",
   "execution_count": 23,
   "metadata": {},
   "outputs": [
    {
     "data": {
      "text/plain": [
       "Medical                                              338\n",
       "Dental                                               205\n",
       "Regular hours                                        205\n",
       "Mondays - Fridays                                    196\n",
       "Business (e.g. Shirts)                               147\n",
       "Miscellaneous allowance                              144\n",
       "Loans                                                108\n",
       "Casual (e.g. T-shirts)                                90\n",
       "Education support                                     60\n",
       "Vision                                                47\n",
       "Parking                                               44\n",
       "•\\tCompetitive compensation and benefits packages     33\n",
       "Sports (e.g. Gym)                                     32\n",
       "Mondays-Fridays                                       23\n",
       "Smart casual                                          23\n",
       "Name: Benefits, dtype: int64"
      ]
     },
     "execution_count": 23,
     "metadata": {},
     "output_type": "execute_result"
    }
   ],
   "source": [
    "benefits_df = pd.DataFrame(benefits_append, columns=[\"Benefits\"])\n",
    "benefits_df = benefits_df[\"Benefits\"].str.strip()\n",
    "filt = (benefits_df != \"[]\")\n",
    "benefits_df = benefits_df.loc[filt]\n",
    "benefits_count = benefits_df.value_counts()[0:15]\n",
    "benefits_count\n",
    "\n"
   ]
  },
  {
   "cell_type": "code",
   "execution_count": 24,
   "metadata": {},
   "outputs": [
    {
     "data": {
      "image/png": "[encoded data removed]",
      "text/plain": [
       "<Figure size 432x288 with 1 Axes>"
      ]
     },
     "metadata": {
      "needs_background": "light"
     },
     "output_type": "display_data"
    }
   ],
   "source": [
    "plt.bar(benefits_count.index, benefits_count.values)\n",
    "plt.xticks(rotation=\"30\",ha=\"right\")\n",
    "plt.show()"
   ]
  },
  {
   "cell_type": "code",
   "execution_count": 25,
   "metadata": {},
   "outputs": [],
   "source": [
    "filt = (merge[\"Salary\"] != \"None\")\n",
    "salary_career_level = merge[filt].sort_values(by=\"Salary\",ascending=True)\n",
    "count = salary_career_level[[\"Title\",\"Salary\",\"Career Level\"]]\n",
    "\n"
   ]
  },
  {
   "cell_type": "code",
   "execution_count": 26,
   "metadata": {},
   "outputs": [
    {
     "data": {
      "text/plain": [
       "1-4 Years Experienced Employee                                      339\n",
       "Less than 1 Year Experienced Employee                                78\n",
       "Supervisor/5 Years & Up Experienced Employee                         44\n",
       "Experienced in product development, preferably in Telco industry      3\n",
       "Name: Career Level, dtype: int64"
      ]
     },
     "execution_count": 26,
     "metadata": {},
     "output_type": "execute_result"
    }
   ],
   "source": [
    "merge[\"Career Level\"].value_counts()"
   ]
  },
  {
   "cell_type": "code",
   "execution_count": 27,
   "metadata": {},
   "outputs": [
    {
     "data": {
      "image/png": "[encoded data removed]",
      "text/plain": [
       "<Figure size 432x288 with 1 Axes>"
      ]
     },
     "metadata": {
      "needs_background": "light"
     },
     "output_type": "display_data"
    }
   ],
   "source": [
    "mid_level = merge.loc[merge[\"Career Level\"] == \"1-4 Years Experienced Employee\"]\n",
    "mid_level_salary = mid_level[mid_level[\"Salary\"] != \"None\"]\n",
    "count_mid = mid_level_salary[\"Salary\"].value_counts()[0:10]\n",
    "plt.bar(count_mid.index, count_mid.values)\n",
    "plt.xticks(rotation=\"30\",ha=\"right\")\n",
    "plt.show()"
   ]
  },
  {
   "cell_type": "code",
   "execution_count": 28,
   "metadata": {},
   "outputs": [
    {
     "data": {
      "image/png": "[encoded data removed]",
      "text/plain": [
       "<Figure size 432x288 with 1 Axes>"
      ]
     },
     "metadata": {
      "needs_background": "light"
     },
     "output_type": "display_data"
    }
   ],
   "source": [
    "low_level = merge.loc[merge[\"Career Level\"] == \"Less than 1 Year Experienced Employee\"]\n",
    "low_level_salary = low_level[low_level[\"Salary\"] != \"None\"]\n",
    "count_low = low_level_salary[\"Salary\"].value_counts()[0:10]\n",
    "\n",
    "plt.bar(count_low.index, count_low.values)\n",
    "plt.xticks(rotation=\"30\",ha=\"right\")\n",
    "plt.show()"
   ]
  },
  {
   "cell_type": "code",
   "execution_count": 29,
   "metadata": {},
   "outputs": [
    {
     "data": {
      "image/png": "[encoded data removed]",
      "text/plain": [
       "<Figure size 432x288 with 1 Axes>"
      ]
     },
     "metadata": {
      "needs_background": "light"
     },
     "output_type": "display_data"
    }
   ],
   "source": [
    "high_level = merge.loc[merge[\"Career Level\"] == \"Supervisor/5 Years & Up Experienced Employee\"]\n",
    "high_level_salary = high_level[high_level[\"Salary\"] != \"None\"]\n",
    "count_high = high_level_salary[\"Salary\"].value_counts()[0:10]\n",
    "plt.bar(count_high.index, count_high.values)\n",
    "plt.xticks(rotation=\"30\",ha=\"right\")\n",
    "plt.show()"
   ]
  },
  {
   "cell_type": "code",
   "execution_count": null,
   "metadata": {},
   "outputs": [],
   "source": []
  }
 ],
 "metadata": {
  "interpreter": {
   "hash": "aee8b7b246df8f9039afb4144a1f6fd8d2ca17a180786b69acc140d282b71a49"
  },
  "kernelspec": {
   "display_name": "Python 3.10.4 64-bit",
   "language": "python",
   "name": "python3"
  },
  "language_info": {
   "codemirror_mode": {
    "name": "ipython",
    "version": 3
   },
   "file_extension": ".py",
   "mimetype": "text/x-python",
   "name": "python",
   "nbconvert_exporter": "python",
   "pygments_lexer": "ipython3",
   "version": "3.10.4"
  },
  "orig_nbformat": 4
 },
 "nbformat": 4,
 "nbformat_minor": 2
}
