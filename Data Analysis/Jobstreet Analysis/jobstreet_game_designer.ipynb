{
 "cells": [
  {
   "cell_type": "code",
   "execution_count": 30,
   "metadata": {},
   "outputs": [],
   "source": [
    "import matplotlib.pyplot as plt\n",
    "import pandas as pd\n",
    "import re\n",
    "import ast"
   ]
  },
  {
   "cell_type": "code",
   "execution_count": 31,
   "metadata": {},
   "outputs": [
    {
     "data": {
      "text/html": [
       "<div>\n",
       "<style scoped>\n",
       "    .dataframe tbody tr th:only-of-type {\n",
       "        vertical-align: middle;\n",
       "    }\n",
       "\n",
       "    .dataframe tbody tr th {\n",
       "        vertical-align: top;\n",
       "    }\n",
       "\n",
       "    .dataframe thead th {\n",
       "        text-align: right;\n",
       "    }\n",
       "</style>\n",
       "<table border=\"1\" class=\"dataframe\">\n",
       "  <thead>\n",
       "    <tr style=\"text-align: right;\">\n",
       "      <th></th>\n",
       "      <th>Title</th>\n",
       "      <th>Company</th>\n",
       "      <th>Location</th>\n",
       "      <th>Summary</th>\n",
       "      <th>Salary</th>\n",
       "      <th>Qualification &amp; Skills</th>\n",
       "      <th>Role and Responsibilities</th>\n",
       "      <th>Job Type</th>\n",
       "      <th>Company Profile&amp;Job Desc</th>\n",
       "      <th>Career Level</th>\n",
       "      <th>Benefits</th>\n",
       "      <th>Company Size</th>\n",
       "    </tr>\n",
       "  </thead>\n",
       "  <tbody>\n",
       "    <tr>\n",
       "      <th>0</th>\n",
       "      <td>Senior Backend Developer</td>\n",
       "      <td>CodingChiefs</td>\n",
       "      <td>National Capital Reg</td>\n",
       "      <td>Helping the client further develop our API’s;</td>\n",
       "      <td>None</td>\n",
       "      <td>['Helping the client further develop our API’s...</td>\n",
       "      <td>[]</td>\n",
       "      <td>['Full-Time', 'Average Processing Time']</td>\n",
       "      <td>[\"The RoleCodingChiefs, a rising industry lead...</td>\n",
       "      <td>1-4 Years Experienced Employee</td>\n",
       "      <td>['Dental, Education support, Miscellaneous all...</td>\n",
       "      <td>51 - 200 Employees</td>\n",
       "    </tr>\n",
       "    <tr>\n",
       "      <th>1</th>\n",
       "      <td>Sr. Multimedia Artist-Animator (URGENT)</td>\n",
       "      <td>AVOLUTION, INC.</td>\n",
       "      <td>Manila City</td>\n",
       "      <td>Training opportunities here and abroad</td>\n",
       "      <td>PHP 25,000 - PHP 35,000</td>\n",
       "      <td>['Training opportunities here and abroad', 'Le...</td>\n",
       "      <td>['HIGHLIGHT:', 'BE PART OF OUR GROWING TEAM!',...</td>\n",
       "      <td>['Full-Time', 'Average Processing Time']</td>\n",
       "      <td>['HIGHLIGHT:BE PART OF OUR GROWING TEAM!APPLY ...</td>\n",
       "      <td>1-4 Years Experienced Employee</td>\n",
       "      <td>['Dental, Miscellaneous allowance, Medical, Lo...</td>\n",
       "      <td>51 - 200 Employees</td>\n",
       "    </tr>\n",
       "    <tr>\n",
       "      <th>2</th>\n",
       "      <td>Senior Backend Developer</td>\n",
       "      <td>CodingChiefs</td>\n",
       "      <td>National Capital Reg</td>\n",
       "      <td>Helping the client further develop our API’s;</td>\n",
       "      <td>None</td>\n",
       "      <td>['Helping the client further develop our API’s...</td>\n",
       "      <td>[]</td>\n",
       "      <td>['Full-Time', 'Average Processing Time']</td>\n",
       "      <td>[\"The RoleCodingChiefs, a rising industry lead...</td>\n",
       "      <td>1-4 Years Experienced Employee</td>\n",
       "      <td>['Dental, Education support, Miscellaneous all...</td>\n",
       "      <td>51 - 200 Employees</td>\n",
       "    </tr>\n",
       "    <tr>\n",
       "      <th>3</th>\n",
       "      <td>Unity Game Developer</td>\n",
       "      <td>ThinkBIT Solutions Phils. Inc.</td>\n",
       "      <td>National Capital Reg</td>\n",
       "      <td>1+ years professional game programming experience</td>\n",
       "      <td>PHP 25,000 - PHP 35,000</td>\n",
       "      <td>['1+ years professional game programming exper...</td>\n",
       "      <td>['Minimum Qualifications and Experience', 'Res...</td>\n",
       "      <td>['Average Processing Time']</td>\n",
       "      <td>['Minimum Qualifications and Experience1+ year...</td>\n",
       "      <td>1-4 Years Experienced Employee</td>\n",
       "      <td>['Miscellaneous allowance, Medical, Loans, Reg...</td>\n",
       "      <td>51 - 200 Employees</td>\n",
       "    </tr>\n",
       "    <tr>\n",
       "      <th>4</th>\n",
       "      <td>Senior Backend Developer</td>\n",
       "      <td>CodingChiefs</td>\n",
       "      <td>National Capital Reg</td>\n",
       "      <td>Helping the client further develop our API’s;</td>\n",
       "      <td>None</td>\n",
       "      <td>['Helping the client further develop our API’s...</td>\n",
       "      <td>[]</td>\n",
       "      <td>['Full-Time', 'Average Processing Time']</td>\n",
       "      <td>[\"The RoleCodingChiefs, a rising industry lead...</td>\n",
       "      <td>1-4 Years Experienced Employee</td>\n",
       "      <td>['Dental, Education support, Miscellaneous all...</td>\n",
       "      <td>51 - 200 Employees</td>\n",
       "    </tr>\n",
       "    <tr>\n",
       "      <th>...</th>\n",
       "      <td>...</td>\n",
       "      <td>...</td>\n",
       "      <td>...</td>\n",
       "      <td>...</td>\n",
       "      <td>...</td>\n",
       "      <td>...</td>\n",
       "      <td>...</td>\n",
       "      <td>...</td>\n",
       "      <td>...</td>\n",
       "      <td>...</td>\n",
       "      <td>...</td>\n",
       "      <td>...</td>\n",
       "    </tr>\n",
       "    <tr>\n",
       "      <th>689</th>\n",
       "      <td>Business Analyst</td>\n",
       "      <td>CEBU AIR, INC.</td>\n",
       "      <td>Pasay City</td>\n",
       "      <td>Work closely with Service Engagement Managers ...</td>\n",
       "      <td>None</td>\n",
       "      <td>['Work closely with Service Engagement Manager...</td>\n",
       "      <td>['Cebu Pacific\\xa0is always up for new challen...</td>\n",
       "      <td>[]</td>\n",
       "      <td>[\"Cebu Pacific\\xa0is always up for new challen...</td>\n",
       "      <td>NaN</td>\n",
       "      <td>['Dental, Medical, Parking, Regular hours, Mon...</td>\n",
       "      <td>2001 - 5000 Employees</td>\n",
       "    </tr>\n",
       "    <tr>\n",
       "      <th>690</th>\n",
       "      <td>3D Designer (Game Development)</td>\n",
       "      <td>Outsourced Quality Assured Services Inc. (ISO ...</td>\n",
       "      <td>National Capital Reg</td>\n",
       "      <td>None</td>\n",
       "      <td>None</td>\n",
       "      <td>[]</td>\n",
       "      <td>[]</td>\n",
       "      <td>['Full-Time', 'Average Processing Time']</td>\n",
       "      <td>[\"➔ Sculpt high-resolution character models in...</td>\n",
       "      <td>1-4 Years Experienced Employee</td>\n",
       "      <td>['Dental, Miscellaneous allowance, Medical, Lo...</td>\n",
       "      <td>201 - 500 Employees</td>\n",
       "    </tr>\n",
       "    <tr>\n",
       "      <th>691</th>\n",
       "      <td>Animator</td>\n",
       "      <td>Ubisoft Entertainment Philippines</td>\n",
       "      <td>Calabarzon &amp; Mimaropa</td>\n",
       "      <td>Create high-quality animations while optimizin...</td>\n",
       "      <td>None</td>\n",
       "      <td>['Create high-quality animations while optimiz...</td>\n",
       "      <td>['Welcome to Ubisoft Philippines.', 'We push c...</td>\n",
       "      <td>['Full-Time', 'Average Processing Time']</td>\n",
       "      <td>['Company DescriptionWelcome to Ubisoft Philip...</td>\n",
       "      <td>NaN</td>\n",
       "      <td>['Dental, Medical, Sports (e.g. Gym), Parking,...</td>\n",
       "      <td>51 - 200 Employees</td>\n",
       "    </tr>\n",
       "    <tr>\n",
       "      <th>692</th>\n",
       "      <td>Animator</td>\n",
       "      <td>Ubisoft Entertainment Philippines</td>\n",
       "      <td>Calabarzon &amp; Mimaropa</td>\n",
       "      <td>Create high-quality animations while optimizin...</td>\n",
       "      <td>None</td>\n",
       "      <td>['Create high-quality animations while optimiz...</td>\n",
       "      <td>['Welcome to Ubisoft Philippines.', 'We push c...</td>\n",
       "      <td>['Full-Time', 'Average Processing Time']</td>\n",
       "      <td>['Company DescriptionWelcome to Ubisoft Philip...</td>\n",
       "      <td>NaN</td>\n",
       "      <td>['Dental, Medical, Sports (e.g. Gym), Parking,...</td>\n",
       "      <td>51 - 200 Employees</td>\n",
       "    </tr>\n",
       "    <tr>\n",
       "      <th>693</th>\n",
       "      <td>Digital Marketing Manager</td>\n",
       "      <td>LIFULL Connect</td>\n",
       "      <td>Makati City</td>\n",
       "      <td>Successfully set up, manage and report on digi...</td>\n",
       "      <td>None</td>\n",
       "      <td>['Successfully set up, manage and report on di...</td>\n",
       "      <td>['LIFULL Connect is a Global Marketplace Group...</td>\n",
       "      <td>['Full Time', 'Full-Time']</td>\n",
       "      <td>['LIFULL Connect is a Global Marketplace Group...</td>\n",
       "      <td>NaN</td>\n",
       "      <td>[]</td>\n",
       "      <td>NaN</td>\n",
       "    </tr>\n",
       "  </tbody>\n",
       "</table>\n",
       "<p>694 rows × 12 columns</p>\n",
       "</div>"
      ],
      "text/plain": [
       "                                       Title  \\\n",
       "0                   Senior Backend Developer   \n",
       "1    Sr. Multimedia Artist-Animator (URGENT)   \n",
       "2                   Senior Backend Developer   \n",
       "3                       Unity Game Developer   \n",
       "4                   Senior Backend Developer   \n",
       "..                                       ...   \n",
       "689                         Business Analyst   \n",
       "690           3D Designer (Game Development)   \n",
       "691                                 Animator   \n",
       "692                                 Animator   \n",
       "693                Digital Marketing Manager   \n",
       "\n",
       "                                               Company               Location  \\\n",
       "0                                         CodingChiefs   National Capital Reg   \n",
       "1                                      AVOLUTION, INC.            Manila City   \n",
       "2                                         CodingChiefs   National Capital Reg   \n",
       "3                       ThinkBIT Solutions Phils. Inc.   National Capital Reg   \n",
       "4                                         CodingChiefs   National Capital Reg   \n",
       "..                                                 ...                    ...   \n",
       "689                                     CEBU AIR, INC.             Pasay City   \n",
       "690  Outsourced Quality Assured Services Inc. (ISO ...   National Capital Reg   \n",
       "691                  Ubisoft Entertainment Philippines  Calabarzon & Mimaropa   \n",
       "692                  Ubisoft Entertainment Philippines  Calabarzon & Mimaropa   \n",
       "693                                     LIFULL Connect            Makati City   \n",
       "\n",
       "                                               Summary  \\\n",
       "0        Helping the client further develop our API’s;   \n",
       "1               Training opportunities here and abroad   \n",
       "2        Helping the client further develop our API’s;   \n",
       "3    1+ years professional game programming experience   \n",
       "4        Helping the client further develop our API’s;   \n",
       "..                                                 ...   \n",
       "689  Work closely with Service Engagement Managers ...   \n",
       "690                                               None   \n",
       "691  Create high-quality animations while optimizin...   \n",
       "692  Create high-quality animations while optimizin...   \n",
       "693  Successfully set up, manage and report on digi...   \n",
       "\n",
       "                      Salary  \\\n",
       "0                       None   \n",
       "1    PHP 25,000 - PHP 35,000   \n",
       "2                       None   \n",
       "3    PHP 25,000 - PHP 35,000   \n",
       "4                       None   \n",
       "..                       ...   \n",
       "689                     None   \n",
       "690                     None   \n",
       "691                     None   \n",
       "692                     None   \n",
       "693                     None   \n",
       "\n",
       "                                Qualification & Skills  \\\n",
       "0    ['Helping the client further develop our API’s...   \n",
       "1    ['Training opportunities here and abroad', 'Le...   \n",
       "2    ['Helping the client further develop our API’s...   \n",
       "3    ['1+ years professional game programming exper...   \n",
       "4    ['Helping the client further develop our API’s...   \n",
       "..                                                 ...   \n",
       "689  ['Work closely with Service Engagement Manager...   \n",
       "690                                                 []   \n",
       "691  ['Create high-quality animations while optimiz...   \n",
       "692  ['Create high-quality animations while optimiz...   \n",
       "693  ['Successfully set up, manage and report on di...   \n",
       "\n",
       "                             Role and Responsibilities  \\\n",
       "0                                                   []   \n",
       "1    ['HIGHLIGHT:', 'BE PART OF OUR GROWING TEAM!',...   \n",
       "2                                                   []   \n",
       "3    ['Minimum Qualifications and Experience', 'Res...   \n",
       "4                                                   []   \n",
       "..                                                 ...   \n",
       "689  ['Cebu Pacific\\xa0is always up for new challen...   \n",
       "690                                                 []   \n",
       "691  ['Welcome to Ubisoft Philippines.', 'We push c...   \n",
       "692  ['Welcome to Ubisoft Philippines.', 'We push c...   \n",
       "693  ['LIFULL Connect is a Global Marketplace Group...   \n",
       "\n",
       "                                     Job Type  \\\n",
       "0    ['Full-Time', 'Average Processing Time']   \n",
       "1    ['Full-Time', 'Average Processing Time']   \n",
       "2    ['Full-Time', 'Average Processing Time']   \n",
       "3                 ['Average Processing Time']   \n",
       "4    ['Full-Time', 'Average Processing Time']   \n",
       "..                                        ...   \n",
       "689                                        []   \n",
       "690  ['Full-Time', 'Average Processing Time']   \n",
       "691  ['Full-Time', 'Average Processing Time']   \n",
       "692  ['Full-Time', 'Average Processing Time']   \n",
       "693                ['Full Time', 'Full-Time']   \n",
       "\n",
       "                              Company Profile&Job Desc  \\\n",
       "0    [\"The RoleCodingChiefs, a rising industry lead...   \n",
       "1    ['HIGHLIGHT:BE PART OF OUR GROWING TEAM!APPLY ...   \n",
       "2    [\"The RoleCodingChiefs, a rising industry lead...   \n",
       "3    ['Minimum Qualifications and Experience1+ year...   \n",
       "4    [\"The RoleCodingChiefs, a rising industry lead...   \n",
       "..                                                 ...   \n",
       "689  [\"Cebu Pacific\\xa0is always up for new challen...   \n",
       "690  [\"➔ Sculpt high-resolution character models in...   \n",
       "691  ['Company DescriptionWelcome to Ubisoft Philip...   \n",
       "692  ['Company DescriptionWelcome to Ubisoft Philip...   \n",
       "693  ['LIFULL Connect is a Global Marketplace Group...   \n",
       "\n",
       "                       Career Level  \\\n",
       "0    1-4 Years Experienced Employee   \n",
       "1    1-4 Years Experienced Employee   \n",
       "2    1-4 Years Experienced Employee   \n",
       "3    1-4 Years Experienced Employee   \n",
       "4    1-4 Years Experienced Employee   \n",
       "..                              ...   \n",
       "689                             NaN   \n",
       "690  1-4 Years Experienced Employee   \n",
       "691                             NaN   \n",
       "692                             NaN   \n",
       "693                             NaN   \n",
       "\n",
       "                                              Benefits           Company Size  \n",
       "0    ['Dental, Education support, Miscellaneous all...     51 - 200 Employees  \n",
       "1    ['Dental, Miscellaneous allowance, Medical, Lo...     51 - 200 Employees  \n",
       "2    ['Dental, Education support, Miscellaneous all...     51 - 200 Employees  \n",
       "3    ['Miscellaneous allowance, Medical, Loans, Reg...     51 - 200 Employees  \n",
       "4    ['Dental, Education support, Miscellaneous all...     51 - 200 Employees  \n",
       "..                                                 ...                    ...  \n",
       "689  ['Dental, Medical, Parking, Regular hours, Mon...  2001 - 5000 Employees  \n",
       "690  ['Dental, Miscellaneous allowance, Medical, Lo...    201 - 500 Employees  \n",
       "691  ['Dental, Medical, Sports (e.g. Gym), Parking,...     51 - 200 Employees  \n",
       "692  ['Dental, Medical, Sports (e.g. Gym), Parking,...     51 - 200 Employees  \n",
       "693                                                 []                    NaN  \n",
       "\n",
       "[694 rows x 12 columns]"
      ]
     },
     "execution_count": 31,
     "metadata": {},
     "output_type": "execute_result"
    }
   ],
   "source": [
    "csv_path = [\n",
    "   \"../../Raw_CSV/April 25-26 - 2022/Jobstreet/Jobstreet-game-designer.csv\",\n",
    "   \"../../Raw_CSV/April 27 - 2022/Jobstreet/Jobstreet-game-designer.csv\",\n",
    "    \"../../Raw_CSV/April 28 - 2022/Jobstreet/Jobstreet-game-designer.csv\", \n",
    "]\n",
    "merge = pd.concat(map(pd.read_csv,csv_path),ignore_index=True)\n",
    "merge[\"Salary\"].str.strip()\n",
    "merge"
   ]
  },
  {
   "cell_type": "code",
   "execution_count": 32,
   "metadata": {},
   "outputs": [
    {
     "data": {
      "text/html": [
       "<div>\n",
       "<style scoped>\n",
       "    .dataframe tbody tr th:only-of-type {\n",
       "        vertical-align: middle;\n",
       "    }\n",
       "\n",
       "    .dataframe tbody tr th {\n",
       "        vertical-align: top;\n",
       "    }\n",
       "\n",
       "    .dataframe thead th {\n",
       "        text-align: right;\n",
       "    }\n",
       "</style>\n",
       "<table border=\"1\" class=\"dataframe\">\n",
       "  <thead>\n",
       "    <tr style=\"text-align: right;\">\n",
       "      <th></th>\n",
       "      <th>Title</th>\n",
       "      <th>Company</th>\n",
       "      <th>Location</th>\n",
       "      <th>Summary</th>\n",
       "      <th>Salary</th>\n",
       "      <th>Qualification &amp; Skills</th>\n",
       "      <th>Role and Responsibilities</th>\n",
       "      <th>Job Type</th>\n",
       "      <th>Company Profile&amp;Job Desc</th>\n",
       "      <th>Career Level</th>\n",
       "      <th>Benefits</th>\n",
       "      <th>Company Size</th>\n",
       "    </tr>\n",
       "  </thead>\n",
       "  <tbody>\n",
       "    <tr>\n",
       "      <th>0</th>\n",
       "      <td>Senior Backend Developer</td>\n",
       "      <td>CodingChiefs</td>\n",
       "      <td>National Capital Reg</td>\n",
       "      <td>Helping the client further develop our API’s;</td>\n",
       "      <td>None</td>\n",
       "      <td>['Helping the client further develop our API’s...</td>\n",
       "      <td>[]</td>\n",
       "      <td>['Full-Time', 'Average Processing Time']</td>\n",
       "      <td>[\"The RoleCodingChiefs, a rising industry lead...</td>\n",
       "      <td>1-4 Years Experienced Employee</td>\n",
       "      <td>['Dental, Education support, Miscellaneous all...</td>\n",
       "      <td>51 - 200 Employees</td>\n",
       "    </tr>\n",
       "    <tr>\n",
       "      <th>1</th>\n",
       "      <td>Sr. Multimedia Artist-Animator (URGENT)</td>\n",
       "      <td>AVOLUTION, INC.</td>\n",
       "      <td>Manila City</td>\n",
       "      <td>Training opportunities here and abroad</td>\n",
       "      <td>PHP 25,000 - PHP 35,000</td>\n",
       "      <td>['Training opportunities here and abroad', 'Le...</td>\n",
       "      <td>['HIGHLIGHT:', 'BE PART OF OUR GROWING TEAM!',...</td>\n",
       "      <td>['Full-Time', 'Average Processing Time']</td>\n",
       "      <td>['HIGHLIGHT:BE PART OF OUR GROWING TEAM!APPLY ...</td>\n",
       "      <td>1-4 Years Experienced Employee</td>\n",
       "      <td>['Dental, Miscellaneous allowance, Medical, Lo...</td>\n",
       "      <td>51 - 200 Employees</td>\n",
       "    </tr>\n",
       "    <tr>\n",
       "      <th>2</th>\n",
       "      <td>Senior Backend Developer</td>\n",
       "      <td>CodingChiefs</td>\n",
       "      <td>National Capital Reg</td>\n",
       "      <td>Helping the client further develop our API’s;</td>\n",
       "      <td>None</td>\n",
       "      <td>['Helping the client further develop our API’s...</td>\n",
       "      <td>[]</td>\n",
       "      <td>['Full-Time', 'Average Processing Time']</td>\n",
       "      <td>[\"The RoleCodingChiefs, a rising industry lead...</td>\n",
       "      <td>1-4 Years Experienced Employee</td>\n",
       "      <td>['Dental, Education support, Miscellaneous all...</td>\n",
       "      <td>51 - 200 Employees</td>\n",
       "    </tr>\n",
       "    <tr>\n",
       "      <th>3</th>\n",
       "      <td>Unity Game Developer</td>\n",
       "      <td>ThinkBIT Solutions Phils. Inc.</td>\n",
       "      <td>National Capital Reg</td>\n",
       "      <td>1+ years professional game programming experience</td>\n",
       "      <td>PHP 25,000 - PHP 35,000</td>\n",
       "      <td>['1+ years professional game programming exper...</td>\n",
       "      <td>['Minimum Qualifications and Experience', 'Res...</td>\n",
       "      <td>['Average Processing Time']</td>\n",
       "      <td>['Minimum Qualifications and Experience1+ year...</td>\n",
       "      <td>1-4 Years Experienced Employee</td>\n",
       "      <td>['Miscellaneous allowance, Medical, Loans, Reg...</td>\n",
       "      <td>51 - 200 Employees</td>\n",
       "    </tr>\n",
       "    <tr>\n",
       "      <th>4</th>\n",
       "      <td>Senior Backend Developer</td>\n",
       "      <td>CodingChiefs</td>\n",
       "      <td>National Capital Reg</td>\n",
       "      <td>Helping the client further develop our API’s;</td>\n",
       "      <td>None</td>\n",
       "      <td>['Helping the client further develop our API’s...</td>\n",
       "      <td>[]</td>\n",
       "      <td>['Full-Time', 'Average Processing Time']</td>\n",
       "      <td>[\"The RoleCodingChiefs, a rising industry lead...</td>\n",
       "      <td>1-4 Years Experienced Employee</td>\n",
       "      <td>['Dental, Education support, Miscellaneous all...</td>\n",
       "      <td>51 - 200 Employees</td>\n",
       "    </tr>\n",
       "    <tr>\n",
       "      <th>...</th>\n",
       "      <td>...</td>\n",
       "      <td>...</td>\n",
       "      <td>...</td>\n",
       "      <td>...</td>\n",
       "      <td>...</td>\n",
       "      <td>...</td>\n",
       "      <td>...</td>\n",
       "      <td>...</td>\n",
       "      <td>...</td>\n",
       "      <td>...</td>\n",
       "      <td>...</td>\n",
       "      <td>...</td>\n",
       "    </tr>\n",
       "    <tr>\n",
       "      <th>689</th>\n",
       "      <td>Business Analyst</td>\n",
       "      <td>CEBU AIR, INC.</td>\n",
       "      <td>Pasay City</td>\n",
       "      <td>Work closely with Service Engagement Managers ...</td>\n",
       "      <td>None</td>\n",
       "      <td>['Work closely with Service Engagement Manager...</td>\n",
       "      <td>['Cebu Pacific\\xa0is always up for new challen...</td>\n",
       "      <td>[]</td>\n",
       "      <td>[\"Cebu Pacific\\xa0is always up for new challen...</td>\n",
       "      <td>NaN</td>\n",
       "      <td>['Dental, Medical, Parking, Regular hours, Mon...</td>\n",
       "      <td>2001 - 5000 Employees</td>\n",
       "    </tr>\n",
       "    <tr>\n",
       "      <th>690</th>\n",
       "      <td>3D Designer (Game Development)</td>\n",
       "      <td>Outsourced Quality Assured Services Inc. (ISO ...</td>\n",
       "      <td>National Capital Reg</td>\n",
       "      <td>None</td>\n",
       "      <td>None</td>\n",
       "      <td>[]</td>\n",
       "      <td>[]</td>\n",
       "      <td>['Full-Time', 'Average Processing Time']</td>\n",
       "      <td>[\"➔ Sculpt high-resolution character models in...</td>\n",
       "      <td>1-4 Years Experienced Employee</td>\n",
       "      <td>['Dental, Miscellaneous allowance, Medical, Lo...</td>\n",
       "      <td>201 - 500 Employees</td>\n",
       "    </tr>\n",
       "    <tr>\n",
       "      <th>691</th>\n",
       "      <td>Animator</td>\n",
       "      <td>Ubisoft Entertainment Philippines</td>\n",
       "      <td>Calabarzon &amp; Mimaropa</td>\n",
       "      <td>Create high-quality animations while optimizin...</td>\n",
       "      <td>None</td>\n",
       "      <td>['Create high-quality animations while optimiz...</td>\n",
       "      <td>['Welcome to Ubisoft Philippines.', 'We push c...</td>\n",
       "      <td>['Full-Time', 'Average Processing Time']</td>\n",
       "      <td>['Company DescriptionWelcome to Ubisoft Philip...</td>\n",
       "      <td>NaN</td>\n",
       "      <td>['Dental, Medical, Sports (e.g. Gym), Parking,...</td>\n",
       "      <td>51 - 200 Employees</td>\n",
       "    </tr>\n",
       "    <tr>\n",
       "      <th>692</th>\n",
       "      <td>Animator</td>\n",
       "      <td>Ubisoft Entertainment Philippines</td>\n",
       "      <td>Calabarzon &amp; Mimaropa</td>\n",
       "      <td>Create high-quality animations while optimizin...</td>\n",
       "      <td>None</td>\n",
       "      <td>['Create high-quality animations while optimiz...</td>\n",
       "      <td>['Welcome to Ubisoft Philippines.', 'We push c...</td>\n",
       "      <td>['Full-Time', 'Average Processing Time']</td>\n",
       "      <td>['Company DescriptionWelcome to Ubisoft Philip...</td>\n",
       "      <td>NaN</td>\n",
       "      <td>['Dental, Medical, Sports (e.g. Gym), Parking,...</td>\n",
       "      <td>51 - 200 Employees</td>\n",
       "    </tr>\n",
       "    <tr>\n",
       "      <th>693</th>\n",
       "      <td>Digital Marketing Manager</td>\n",
       "      <td>LIFULL Connect</td>\n",
       "      <td>Makati City</td>\n",
       "      <td>Successfully set up, manage and report on digi...</td>\n",
       "      <td>None</td>\n",
       "      <td>['Successfully set up, manage and report on di...</td>\n",
       "      <td>['LIFULL Connect is a Global Marketplace Group...</td>\n",
       "      <td>['Full Time', 'Full-Time']</td>\n",
       "      <td>['LIFULL Connect is a Global Marketplace Group...</td>\n",
       "      <td>NaN</td>\n",
       "      <td>[]</td>\n",
       "      <td>NaN</td>\n",
       "    </tr>\n",
       "  </tbody>\n",
       "</table>\n",
       "<p>694 rows × 12 columns</p>\n",
       "</div>"
      ],
      "text/plain": [
       "                                       Title  \\\n",
       "0                   Senior Backend Developer   \n",
       "1    Sr. Multimedia Artist-Animator (URGENT)   \n",
       "2                   Senior Backend Developer   \n",
       "3                       Unity Game Developer   \n",
       "4                   Senior Backend Developer   \n",
       "..                                       ...   \n",
       "689                         Business Analyst   \n",
       "690           3D Designer (Game Development)   \n",
       "691                                 Animator   \n",
       "692                                 Animator   \n",
       "693                Digital Marketing Manager   \n",
       "\n",
       "                                               Company               Location  \\\n",
       "0                                         CodingChiefs   National Capital Reg   \n",
       "1                                      AVOLUTION, INC.            Manila City   \n",
       "2                                         CodingChiefs   National Capital Reg   \n",
       "3                       ThinkBIT Solutions Phils. Inc.   National Capital Reg   \n",
       "4                                         CodingChiefs   National Capital Reg   \n",
       "..                                                 ...                    ...   \n",
       "689                                     CEBU AIR, INC.             Pasay City   \n",
       "690  Outsourced Quality Assured Services Inc. (ISO ...   National Capital Reg   \n",
       "691                  Ubisoft Entertainment Philippines  Calabarzon & Mimaropa   \n",
       "692                  Ubisoft Entertainment Philippines  Calabarzon & Mimaropa   \n",
       "693                                     LIFULL Connect            Makati City   \n",
       "\n",
       "                                               Summary  \\\n",
       "0        Helping the client further develop our API’s;   \n",
       "1               Training opportunities here and abroad   \n",
       "2        Helping the client further develop our API’s;   \n",
       "3    1+ years professional game programming experience   \n",
       "4        Helping the client further develop our API’s;   \n",
       "..                                                 ...   \n",
       "689  Work closely with Service Engagement Managers ...   \n",
       "690                                               None   \n",
       "691  Create high-quality animations while optimizin...   \n",
       "692  Create high-quality animations while optimizin...   \n",
       "693  Successfully set up, manage and report on digi...   \n",
       "\n",
       "                      Salary  \\\n",
       "0                       None   \n",
       "1    PHP 25,000 - PHP 35,000   \n",
       "2                       None   \n",
       "3    PHP 25,000 - PHP 35,000   \n",
       "4                       None   \n",
       "..                       ...   \n",
       "689                     None   \n",
       "690                     None   \n",
       "691                     None   \n",
       "692                     None   \n",
       "693                     None   \n",
       "\n",
       "                                Qualification & Skills  \\\n",
       "0    ['Helping the client further develop our API’s...   \n",
       "1    ['Training opportunities here and abroad', 'Le...   \n",
       "2    ['Helping the client further develop our API’s...   \n",
       "3    ['1+ years professional game programming exper...   \n",
       "4    ['Helping the client further develop our API’s...   \n",
       "..                                                 ...   \n",
       "689  ['Work closely with Service Engagement Manager...   \n",
       "690                                                 []   \n",
       "691  ['Create high-quality animations while optimiz...   \n",
       "692  ['Create high-quality animations while optimiz...   \n",
       "693  ['Successfully set up, manage and report on di...   \n",
       "\n",
       "                             Role and Responsibilities  \\\n",
       "0                                                   []   \n",
       "1    ['HIGHLIGHT:', 'BE PART OF OUR GROWING TEAM!',...   \n",
       "2                                                   []   \n",
       "3    ['Minimum Qualifications and Experience', 'Res...   \n",
       "4                                                   []   \n",
       "..                                                 ...   \n",
       "689  ['Cebu Pacific\\xa0is always up for new challen...   \n",
       "690                                                 []   \n",
       "691  ['Welcome to Ubisoft Philippines.', 'We push c...   \n",
       "692  ['Welcome to Ubisoft Philippines.', 'We push c...   \n",
       "693  ['LIFULL Connect is a Global Marketplace Group...   \n",
       "\n",
       "                                     Job Type  \\\n",
       "0    ['Full-Time', 'Average Processing Time']   \n",
       "1    ['Full-Time', 'Average Processing Time']   \n",
       "2    ['Full-Time', 'Average Processing Time']   \n",
       "3                 ['Average Processing Time']   \n",
       "4    ['Full-Time', 'Average Processing Time']   \n",
       "..                                        ...   \n",
       "689                                        []   \n",
       "690  ['Full-Time', 'Average Processing Time']   \n",
       "691  ['Full-Time', 'Average Processing Time']   \n",
       "692  ['Full-Time', 'Average Processing Time']   \n",
       "693                ['Full Time', 'Full-Time']   \n",
       "\n",
       "                              Company Profile&Job Desc  \\\n",
       "0    [\"The RoleCodingChiefs, a rising industry lead...   \n",
       "1    ['HIGHLIGHT:BE PART OF OUR GROWING TEAM!APPLY ...   \n",
       "2    [\"The RoleCodingChiefs, a rising industry lead...   \n",
       "3    ['Minimum Qualifications and Experience1+ year...   \n",
       "4    [\"The RoleCodingChiefs, a rising industry lead...   \n",
       "..                                                 ...   \n",
       "689  [\"Cebu Pacific\\xa0is always up for new challen...   \n",
       "690  [\"➔ Sculpt high-resolution character models in...   \n",
       "691  ['Company DescriptionWelcome to Ubisoft Philip...   \n",
       "692  ['Company DescriptionWelcome to Ubisoft Philip...   \n",
       "693  ['LIFULL Connect is a Global Marketplace Group...   \n",
       "\n",
       "                       Career Level  \\\n",
       "0    1-4 Years Experienced Employee   \n",
       "1    1-4 Years Experienced Employee   \n",
       "2    1-4 Years Experienced Employee   \n",
       "3    1-4 Years Experienced Employee   \n",
       "4    1-4 Years Experienced Employee   \n",
       "..                              ...   \n",
       "689                             NaN   \n",
       "690  1-4 Years Experienced Employee   \n",
       "691                             NaN   \n",
       "692                             NaN   \n",
       "693                             NaN   \n",
       "\n",
       "                                              Benefits           Company Size  \n",
       "0    ['Dental, Education support, Miscellaneous all...     51 - 200 Employees  \n",
       "1    ['Dental, Miscellaneous allowance, Medical, Lo...     51 - 200 Employees  \n",
       "2    ['Dental, Education support, Miscellaneous all...     51 - 200 Employees  \n",
       "3    ['Miscellaneous allowance, Medical, Loans, Reg...     51 - 200 Employees  \n",
       "4    ['Dental, Education support, Miscellaneous all...     51 - 200 Employees  \n",
       "..                                                 ...                    ...  \n",
       "689  ['Dental, Medical, Parking, Regular hours, Mon...  2001 - 5000 Employees  \n",
       "690  ['Dental, Miscellaneous allowance, Medical, Lo...    201 - 500 Employees  \n",
       "691  ['Dental, Medical, Sports (e.g. Gym), Parking,...     51 - 200 Employees  \n",
       "692  ['Dental, Medical, Sports (e.g. Gym), Parking,...     51 - 200 Employees  \n",
       "693                                                 []                    NaN  \n",
       "\n",
       "[694 rows x 12 columns]"
      ]
     },
     "execution_count": 32,
     "metadata": {},
     "output_type": "execute_result"
    }
   ],
   "source": [
    "merge"
   ]
  },
  {
   "cell_type": "code",
   "execution_count": 33,
   "metadata": {},
   "outputs": [
    {
     "data": {
      "text/html": [
       "<div>\n",
       "<style scoped>\n",
       "    .dataframe tbody tr th:only-of-type {\n",
       "        vertical-align: middle;\n",
       "    }\n",
       "\n",
       "    .dataframe tbody tr th {\n",
       "        vertical-align: top;\n",
       "    }\n",
       "\n",
       "    .dataframe thead th {\n",
       "        text-align: right;\n",
       "    }\n",
       "</style>\n",
       "<table border=\"1\" class=\"dataframe\">\n",
       "  <thead>\n",
       "    <tr style=\"text-align: right;\">\n",
       "      <th></th>\n",
       "      <th>Title</th>\n",
       "      <th>Company</th>\n",
       "      <th>Location</th>\n",
       "      <th>Summary</th>\n",
       "      <th>Salary</th>\n",
       "      <th>Qualification &amp; Skills</th>\n",
       "      <th>Role and Responsibilities</th>\n",
       "      <th>Job Type</th>\n",
       "      <th>Company Profile&amp;Job Desc</th>\n",
       "      <th>Career Level</th>\n",
       "      <th>Benefits</th>\n",
       "      <th>Company Size</th>\n",
       "    </tr>\n",
       "  </thead>\n",
       "  <tbody>\n",
       "    <tr>\n",
       "      <th>count</th>\n",
       "      <td>694</td>\n",
       "      <td>694</td>\n",
       "      <td>694</td>\n",
       "      <td>694</td>\n",
       "      <td>694</td>\n",
       "      <td>694</td>\n",
       "      <td>694</td>\n",
       "      <td>694</td>\n",
       "      <td>694</td>\n",
       "      <td>646</td>\n",
       "      <td>694</td>\n",
       "      <td>616</td>\n",
       "    </tr>\n",
       "    <tr>\n",
       "      <th>unique</th>\n",
       "      <td>158</td>\n",
       "      <td>83</td>\n",
       "      <td>22</td>\n",
       "      <td>105</td>\n",
       "      <td>36</td>\n",
       "      <td>138</td>\n",
       "      <td>98</td>\n",
       "      <td>19</td>\n",
       "      <td>162</td>\n",
       "      <td>4</td>\n",
       "      <td>48</td>\n",
       "      <td>8</td>\n",
       "    </tr>\n",
       "    <tr>\n",
       "      <th>top</th>\n",
       "      <td>.Net Software Developer | Open for Permanent WFH</td>\n",
       "      <td>Fusion360</td>\n",
       "      <td>National Capital Reg</td>\n",
       "      <td>Work from the comfort of your own home</td>\n",
       "      <td>None</td>\n",
       "      <td>[]</td>\n",
       "      <td>[]</td>\n",
       "      <td>['Full-Time', 'Average Processing Time']</td>\n",
       "      <td>[\"ROLE HIGHLIGHTSPHP 60K-90K MonthlyFun workin...</td>\n",
       "      <td>1-4 Years Experienced Employee</td>\n",
       "      <td>['Education support, Miscellaneous allowance, ...</td>\n",
       "      <td>51 - 200 Employees</td>\n",
       "    </tr>\n",
       "    <tr>\n",
       "      <th>freq</th>\n",
       "      <td>22</td>\n",
       "      <td>206</td>\n",
       "      <td>246</td>\n",
       "      <td>84</td>\n",
       "      <td>540</td>\n",
       "      <td>65</td>\n",
       "      <td>324</td>\n",
       "      <td>414</td>\n",
       "      <td>55</td>\n",
       "      <td>532</td>\n",
       "      <td>206</td>\n",
       "      <td>305</td>\n",
       "    </tr>\n",
       "  </tbody>\n",
       "</table>\n",
       "</div>"
      ],
      "text/plain": [
       "                                                   Title    Company  \\\n",
       "count                                                694        694   \n",
       "unique                                               158         83   \n",
       "top     .Net Software Developer | Open for Permanent WFH  Fusion360   \n",
       "freq                                                  22        206   \n",
       "\n",
       "                    Location                                 Summary Salary  \\\n",
       "count                    694                                     694    694   \n",
       "unique                    22                                     105     36   \n",
       "top     National Capital Reg  Work from the comfort of your own home   None   \n",
       "freq                     246                                      84    540   \n",
       "\n",
       "       Qualification & Skills Role and Responsibilities  \\\n",
       "count                     694                       694   \n",
       "unique                    138                        98   \n",
       "top                        []                        []   \n",
       "freq                       65                       324   \n",
       "\n",
       "                                        Job Type  \\\n",
       "count                                        694   \n",
       "unique                                        19   \n",
       "top     ['Full-Time', 'Average Processing Time']   \n",
       "freq                                         414   \n",
       "\n",
       "                                 Company Profile&Job Desc  \\\n",
       "count                                                 694   \n",
       "unique                                                162   \n",
       "top     [\"ROLE HIGHLIGHTSPHP 60K-90K MonthlyFun workin...   \n",
       "freq                                                   55   \n",
       "\n",
       "                          Career Level  \\\n",
       "count                              646   \n",
       "unique                               4   \n",
       "top     1-4 Years Experienced Employee   \n",
       "freq                               532   \n",
       "\n",
       "                                                 Benefits        Company Size  \n",
       "count                                                 694                 616  \n",
       "unique                                                 48                   8  \n",
       "top     ['Education support, Miscellaneous allowance, ...  51 - 200 Employees  \n",
       "freq                                                  206                 305  "
      ]
     },
     "execution_count": 33,
     "metadata": {},
     "output_type": "execute_result"
    }
   ],
   "source": [
    "merge.describe()"
   ]
  },
  {
   "cell_type": "code",
   "execution_count": 34,
   "metadata": {},
   "outputs": [],
   "source": [
    "job_title_lower = merge[\"Title\"].str.lower()"
   ]
  },
  {
   "cell_type": "code",
   "execution_count": 35,
   "metadata": {},
   "outputs": [],
   "source": [
    "job_title = job_title_lower.value_counts()[0:10]"
   ]
  },
  {
   "cell_type": "code",
   "execution_count": 36,
   "metadata": {},
   "outputs": [],
   "source": [
    "sort = job_title.sort_values()"
   ]
  },
  {
   "cell_type": "code",
   "execution_count": 37,
   "metadata": {},
   "outputs": [
    {
     "data": {
      "image/png": "[encoded data removed]",
      "text/plain": [
       "<Figure size 432x288 with 1 Axes>"
      ]
     },
     "metadata": {
      "needs_background": "light"
     },
     "output_type": "display_data"
    }
   ],
   "source": [
    "plt.barh(sort.index, sort.values)\n",
    "plt.title(\"Jobstreet Game Designer\")\n",
    "plt.xticks(rotation=\"30\", ha=\"right\")\n",
    "plt.show()"
   ]
  },
  {
   "cell_type": "code",
   "execution_count": 38,
   "metadata": {},
   "outputs": [],
   "source": [
    "company_name = merge[\"Company\"].value_counts()[0:10]"
   ]
  },
  {
   "cell_type": "code",
   "execution_count": 39,
   "metadata": {},
   "outputs": [
    {
     "data": {
      "image/png": "[encoded data removed]",
      "text/plain": [
       "<Figure size 432x288 with 1 Axes>"
      ]
     },
     "metadata": {
      "needs_background": "light"
     },
     "output_type": "display_data"
    }
   ],
   "source": [
    "plt.bar(company_name.index, company_name.values)\n",
    "plt.xticks(rotation=\"30\", ha=\"right\")\n",
    "plt.show()"
   ]
  },
  {
   "cell_type": "code",
   "execution_count": 40,
   "metadata": {},
   "outputs": [],
   "source": [
    "company_location = merge[\"Location\"].value_counts()[0:10]"
   ]
  },
  {
   "cell_type": "code",
   "execution_count": 41,
   "metadata": {},
   "outputs": [
    {
     "data": {
      "image/png": "[encoded data removed]",
      "text/plain": [
       "<Figure size 432x288 with 1 Axes>"
      ]
     },
     "metadata": {
      "needs_background": "light"
     },
     "output_type": "display_data"
    }
   ],
   "source": [
    "plt.bar(company_location.index, company_location.values)\n",
    "plt.xticks(rotation=\"30\", ha=\"right\")\n",
    "plt.show()\n"
   ]
  },
  {
   "cell_type": "code",
   "execution_count": 42,
   "metadata": {},
   "outputs": [],
   "source": [
    "filt = (merge[\"Salary\"] != \"None\")\n",
    "results = merge.loc[filt]"
   ]
  },
  {
   "cell_type": "code",
   "execution_count": 43,
   "metadata": {},
   "outputs": [],
   "source": [
    "salary = results[\"Salary\"].value_counts()[0:10]"
   ]
  },
  {
   "cell_type": "code",
   "execution_count": 44,
   "metadata": {},
   "outputs": [
    {
     "data": {
      "image/png": "[encoded data removed]",
      "text/plain": [
       "<Figure size 432x288 with 1 Axes>"
      ]
     },
     "metadata": {
      "needs_background": "light"
     },
     "output_type": "display_data"
    }
   ],
   "source": [
    "plt.bar(salary.index, salary.values)\n",
    "plt.xticks(rotation=\"30\", ha=\"right\")\n",
    "plt.show()"
   ]
  },
  {
   "cell_type": "code",
   "execution_count": 45,
   "metadata": {},
   "outputs": [],
   "source": [
    "job_type = merge[\"Job Type\"].apply(ast.literal_eval)\n",
    "job_type_append = []\n",
    "for i in job_type:\n",
    "    job_type_append.append(job_type[0][0])"
   ]
  },
  {
   "cell_type": "code",
   "execution_count": 46,
   "metadata": {},
   "outputs": [
    {
     "data": {
      "text/plain": [
       "Job Type \n",
       "Full-Time    694\n",
       "dtype: int64"
      ]
     },
     "execution_count": 46,
     "metadata": {},
     "output_type": "execute_result"
    }
   ],
   "source": [
    "# List to Dataframe ( Count Job Type )\n",
    "job_type_df = pd.DataFrame(job_type_append,columns=[\"Job Type\"])\n",
    "job_type_df.value_counts()\n"
   ]
  },
  {
   "cell_type": "code",
   "execution_count": 47,
   "metadata": {},
   "outputs": [
    {
     "data": {
      "text/plain": [
       "1-4 Years Experienced Employee                  532\n",
       "Supervisor/5 Years & Up Experienced Employee     94\n",
       "Less than 1 Year Experienced Employee            15\n",
       "Experienced in Kotlin/Java                        5\n",
       "Name: Career Level, dtype: int64"
      ]
     },
     "execution_count": 47,
     "metadata": {},
     "output_type": "execute_result"
    }
   ],
   "source": [
    "career_level = merge[\"Career Level\"]\n",
    "count_career_level = career_level.value_counts()\n",
    "count_career_level"
   ]
  },
  {
   "cell_type": "code",
   "execution_count": 48,
   "metadata": {},
   "outputs": [
    {
     "data": {
      "image/png": "[encoded data removed]",
      "text/plain": [
       "<Figure size 432x288 with 1 Axes>"
      ]
     },
     "metadata": {
      "needs_background": "light"
     },
     "output_type": "display_data"
    }
   ],
   "source": [
    "plt.bar(count_career_level.index, count_career_level.values)\n",
    "plt.xticks(rotation=\"30\",ha=\"right\")\n",
    "plt.show()"
   ]
  },
  {
   "cell_type": "code",
   "execution_count": 49,
   "metadata": {},
   "outputs": [
    {
     "data": {
      "text/plain": [
       "51 - 200 Employees       305\n",
       "1 - 50 Employees         111\n",
       "2001 - 5000 Employees     90\n",
       "501 - 1000 Employees      57\n",
       "201 - 500 Employees       34\n",
       "None                      14\n",
       "Name: Company Size, dtype: int64"
      ]
     },
     "execution_count": 49,
     "metadata": {},
     "output_type": "execute_result"
    }
   ],
   "source": [
    "company_size = merge[\"Company Size\"]\n",
    "count_company_size = company_size.value_counts()[0:6]\n",
    "count_company_size"
   ]
  },
  {
   "cell_type": "code",
   "execution_count": 50,
   "metadata": {},
   "outputs": [
    {
     "data": {
      "image/png": "[encoded data removed]",
      "text/plain": [
       "<Figure size 432x288 with 1 Axes>"
      ]
     },
     "metadata": {
      "needs_background": "light"
     },
     "output_type": "display_data"
    }
   ],
   "source": [
    "plt.bar(count_company_size.index, count_company_size.values)\n",
    "plt.xticks(rotation=\"30\",ha=\"right\")\n",
    "plt.show()"
   ]
  },
  {
   "cell_type": "code",
   "execution_count": 51,
   "metadata": {},
   "outputs": [
    {
     "name": "stderr",
     "output_type": "stream",
     "text": [
      "/var/folders/tc/qdg72rpx523gjsqcr2vf_0c00000gn/T/ipykernel_2470/2971443327.py:1: FutureWarning: The default value of regex will change from True to False in a future version.\n",
      "  benefits = merge[\"Benefits\"].str.replace(\"^\\['|'\\]$\",\"\")\n"
     ]
    }
   ],
   "source": [
    "benefits = merge[\"Benefits\"].str.replace(\"^\\['|'\\]$\",\"\")\n",
    "benefits_append = []\n",
    "split_benefits = benefits.str.split(\",\")\n",
    "\n",
    "for i in range(len(split_benefits)):\n",
    "    for j in split_benefits[i]:\n",
    "        benefits_append.append(j)\n"
   ]
  },
  {
   "cell_type": "code",
   "execution_count": 52,
   "metadata": {},
   "outputs": [
    {
     "data": {
      "text/plain": [
       "Medical                                               508\n",
       "Casual (e.g. T-shirts)                                319\n",
       "Miscellaneous allowance                               316\n",
       "Education support                                     298\n",
       "Dental                                                266\n",
       "6:30 AM - 3:30 PM (Weekends off and No rush hour!)    206\n",
       "Loyalty Incentives and more!                          206\n",
       "Island/Overseas Trips                                 206\n",
       "Meals                                                 206\n",
       "Regular hours                                         142\n",
       "Mondays - Fridays                                     142\n",
       "Parking                                               106\n",
       "Loans                                                 101\n",
       "Sports (e.g. Gym)                                      97\n",
       "Vision                                                 72\n",
       "Name: Benefits, dtype: int64"
      ]
     },
     "execution_count": 52,
     "metadata": {},
     "output_type": "execute_result"
    }
   ],
   "source": [
    "benefits_df = pd.DataFrame(benefits_append, columns=[\"Benefits\"])\n",
    "benefits_df = benefits_df[\"Benefits\"].str.strip()\n",
    "filt = (benefits_df != \"[]\")\n",
    "benefits_df = benefits_df.loc[filt]\n",
    "benefits_count = benefits_df.value_counts()[0:15]\n",
    "benefits_count\n",
    "\n"
   ]
  },
  {
   "cell_type": "code",
   "execution_count": 53,
   "metadata": {},
   "outputs": [
    {
     "data": {
      "image/png": "[encoded data removed]",
      "text/plain": [
       "<Figure size 432x288 with 1 Axes>"
      ]
     },
     "metadata": {
      "needs_background": "light"
     },
     "output_type": "display_data"
    }
   ],
   "source": [
    "plt.bar(benefits_count.index, benefits_count.values)\n",
    "plt.xticks(rotation=\"30\",ha=\"right\")\n",
    "plt.show()"
   ]
  },
  {
   "cell_type": "code",
   "execution_count": 54,
   "metadata": {},
   "outputs": [],
   "source": [
    "filt = (merge[\"Salary\"] != \"None\")\n",
    "salary_career_level = merge[filt].sort_values(by=\"Salary\",ascending=True)\n",
    "count = salary_career_level[[\"Title\",\"Salary\",\"Career Level\"]]\n",
    "\n"
   ]
  },
  {
   "cell_type": "code",
   "execution_count": 55,
   "metadata": {},
   "outputs": [
    {
     "data": {
      "text/plain": [
       "1-4 Years Experienced Employee                  532\n",
       "Supervisor/5 Years & Up Experienced Employee     94\n",
       "Less than 1 Year Experienced Employee            15\n",
       "Experienced in Kotlin/Java                        5\n",
       "Name: Career Level, dtype: int64"
      ]
     },
     "execution_count": 55,
     "metadata": {},
     "output_type": "execute_result"
    }
   ],
   "source": [
    "merge[\"Career Level\"].value_counts()"
   ]
  },
  {
   "cell_type": "code",
   "execution_count": 56,
   "metadata": {},
   "outputs": [
    {
     "data": {
      "image/png": "[encoded data removed]",
      "text/plain": [
       "<Figure size 432x288 with 1 Axes>"
      ]
     },
     "metadata": {
      "needs_background": "light"
     },
     "output_type": "display_data"
    }
   ],
   "source": [
    "mid_level = merge.loc[merge[\"Career Level\"] == \"1-4 Years Experienced Employee\"]\n",
    "mid_level_salary = mid_level[mid_level[\"Salary\"] != \"None\"]\n",
    "count_mid = mid_level_salary[\"Salary\"].value_counts()[0:10]\n",
    "plt.barh(count_mid.index, count_mid.values)\n",
    "plt.title(\"Mid Level and Salary - Game Designer\")\n",
    "plt.xticks(rotation=\"30\",ha=\"right\")\n",
    "plt.show()"
   ]
  },
  {
   "cell_type": "code",
   "execution_count": 57,
   "metadata": {},
   "outputs": [
    {
     "data": {
      "image/png": "[encoded data removed]",
      "text/plain": [
       "<Figure size 432x288 with 1 Axes>"
      ]
     },
     "metadata": {
      "needs_background": "light"
     },
     "output_type": "display_data"
    }
   ],
   "source": [
    "low_level = merge.loc[merge[\"Career Level\"] == \"Less than 1 Year Experienced Employee\"]\n",
    "low_level_salary = low_level[low_level[\"Salary\"] != \"None\"]\n",
    "count_low = low_level_salary[\"Salary\"].value_counts()[0:10]\n",
    "\n",
    "plt.barh(count_low.index, count_low.values)\n",
    "plt.title(\"Entry Level and Salary - Game Designer\")\n",
    "plt.xticks(rotation=\"30\",ha=\"right\")\n",
    "plt.show()"
   ]
  },
  {
   "cell_type": "code",
   "execution_count": 58,
   "metadata": {},
   "outputs": [
    {
     "data": {
      "image/png": "[encoded data removed]",
      "text/plain": [
       "<Figure size 432x288 with 1 Axes>"
      ]
     },
     "metadata": {
      "needs_background": "light"
     },
     "output_type": "display_data"
    }
   ],
   "source": [
    "high_level = merge.loc[merge[\"Career Level\"] == \"Supervisor/5 Years & Up Experienced Employee\"]\n",
    "high_level_salary = high_level[high_level[\"Salary\"] != \"None\"]\n",
    "count_high = high_level_salary[\"Salary\"].value_counts()[0:10]\n",
    "plt.barh(count_high.index, count_high.values)\n",
    "plt.title(\"Senior Level and Salary - Game Designer\")\n",
    "plt.xticks(rotation=\"30\",ha=\"right\")\n",
    "plt.show()"
   ]
  },
  {
   "cell_type": "code",
   "execution_count": null,
   "metadata": {},
   "outputs": [],
   "source": []
  }
 ],
 "metadata": {
  "interpreter": {
   "hash": "aee8b7b246df8f9039afb4144a1f6fd8d2ca17a180786b69acc140d282b71a49"
  },
  "kernelspec": {
   "display_name": "Python 3.10.4 64-bit",
   "language": "python",
   "name": "python3"
  },
  "language_info": {
   "codemirror_mode": {
    "name": "ipython",
    "version": 3
   },
   "file_extension": ".py",
   "mimetype": "text/x-python",
   "name": "python",
   "nbconvert_exporter": "python",
   "pygments_lexer": "ipython3",
   "version": "3.10.4"
  },
  "orig_nbformat": 4
 },
 "nbformat": 4,
 "nbformat_minor": 2
}
