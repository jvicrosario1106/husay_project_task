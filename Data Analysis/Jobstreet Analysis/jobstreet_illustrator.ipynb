{
 "cells": [
  {
   "cell_type": "code",
   "execution_count": 1,
   "metadata": {},
   "outputs": [],
   "source": [
    "import matplotlib.pyplot as plt\n",
    "import pandas as pd\n",
    "import re\n",
    "import ast"
   ]
  },
  {
   "cell_type": "code",
   "execution_count": 2,
   "metadata": {},
   "outputs": [
    {
     "data": {
      "text/html": [
       "<div>\n",
       "<style scoped>\n",
       "    .dataframe tbody tr th:only-of-type {\n",
       "        vertical-align: middle;\n",
       "    }\n",
       "\n",
       "    .dataframe tbody tr th {\n",
       "        vertical-align: top;\n",
       "    }\n",
       "\n",
       "    .dataframe thead th {\n",
       "        text-align: right;\n",
       "    }\n",
       "</style>\n",
       "<table border=\"1\" class=\"dataframe\">\n",
       "  <thead>\n",
       "    <tr style=\"text-align: right;\">\n",
       "      <th></th>\n",
       "      <th>Title</th>\n",
       "      <th>Company</th>\n",
       "      <th>Location</th>\n",
       "      <th>Summary</th>\n",
       "      <th>Salary</th>\n",
       "      <th>Qualification &amp; Skills</th>\n",
       "      <th>Role and Responsibilities</th>\n",
       "      <th>Job Type</th>\n",
       "      <th>Company Profile&amp;Job Desc</th>\n",
       "      <th>Career Level</th>\n",
       "      <th>Benefits</th>\n",
       "      <th>Company Size</th>\n",
       "    </tr>\n",
       "  </thead>\n",
       "  <tbody>\n",
       "    <tr>\n",
       "      <th>0</th>\n",
       "      <td>Print Graphic Designer | Taguig</td>\n",
       "      <td>NTT Philippines Digital Business Solutions, Inc.</td>\n",
       "      <td>National Capital Reg</td>\n",
       "      <td>Candidate must possess at least a Vocational D...</td>\n",
       "      <td>None</td>\n",
       "      <td>[\"Candidate must possess at least a Vocational...</td>\n",
       "      <td>[]</td>\n",
       "      <td>['Average Processing Time']</td>\n",
       "      <td>[\"QUALIFICATIONSCandidate must possess at leas...</td>\n",
       "      <td>1-4 Years Experienced Employee</td>\n",
       "      <td>['Dental, Medical, Regular hours, Mondays - Fr...</td>\n",
       "      <td>201 - 500 Employees</td>\n",
       "    </tr>\n",
       "    <tr>\n",
       "      <th>1</th>\n",
       "      <td>Graphic Designer</td>\n",
       "      <td>Zenith United Electric Corp</td>\n",
       "      <td>National Capital Reg</td>\n",
       "      <td>Design and produce all types of graphic elemen...</td>\n",
       "      <td>None</td>\n",
       "      <td>['Design and produce all types of graphic elem...</td>\n",
       "      <td>['We are looking for a highly creative candida...</td>\n",
       "      <td>['Full-Time']</td>\n",
       "      <td>['We are looking for a highly creative candida...</td>\n",
       "      <td>1-4 Years Experienced Employee</td>\n",
       "      <td>[]</td>\n",
       "      <td>201 - 500 Employees</td>\n",
       "    </tr>\n",
       "    <tr>\n",
       "      <th>2</th>\n",
       "      <td>2D SR. Graphic Artist</td>\n",
       "      <td>ARUZE PHILIPPINES MANUFACTURING INC</td>\n",
       "      <td>Batangas</td>\n",
       "      <td>None</td>\n",
       "      <td>PHP 30,000 - PHP 40,000</td>\n",
       "      <td>[]</td>\n",
       "      <td>['· Manage schedule of projects in your team',...</td>\n",
       "      <td>['Full-Time', 'Average Processing Time']</td>\n",
       "      <td>['· Manage schedule of projects in your team· ...</td>\n",
       "      <td>1-4 Years Experienced Employee</td>\n",
       "      <td>['Dental, Miscellaneous allowance, Medical, Lo...</td>\n",
       "      <td>201 - 500 Employees</td>\n",
       "    </tr>\n",
       "    <tr>\n",
       "      <th>3</th>\n",
       "      <td>Graphic Artist</td>\n",
       "      <td>TOPBOND PHILIPPINES INC.</td>\n",
       "      <td>Quezon City</td>\n",
       "      <td>None</td>\n",
       "      <td>None</td>\n",
       "      <td>[]</td>\n",
       "      <td>['Job Description', \"1. Graduate of Bachelor's...</td>\n",
       "      <td>['Full-Time', 'Average Processing Time']</td>\n",
       "      <td>[\"Job Description1. Graduate of Bachelor's/Col...</td>\n",
       "      <td>1-4 Years Experienced Employee</td>\n",
       "      <td>[]</td>\n",
       "      <td>51 - 200 Employees</td>\n",
       "    </tr>\n",
       "    <tr>\n",
       "      <th>4</th>\n",
       "      <td>Graphic Artist</td>\n",
       "      <td>Intership Navigation Training Center Inc.</td>\n",
       "      <td>National Capital Reg</td>\n",
       "      <td>Candidate must possess at least a High School ...</td>\n",
       "      <td>PHP 12,000 - PHP 13,000</td>\n",
       "      <td>[\"Candidate must possess at least a High Schoo...</td>\n",
       "      <td>[]</td>\n",
       "      <td>['Full-Time position(s) available.', 'Full-Tim...</td>\n",
       "      <td>[\"Candidate must possess at least a High Schoo...</td>\n",
       "      <td>Less than 1 Year Experienced Employee</td>\n",
       "      <td>['Dental, Medical, Loans, Regular hours, Monda...</td>\n",
       "      <td>1 - 50 Employees</td>\n",
       "    </tr>\n",
       "    <tr>\n",
       "      <th>...</th>\n",
       "      <td>...</td>\n",
       "      <td>...</td>\n",
       "      <td>...</td>\n",
       "      <td>...</td>\n",
       "      <td>...</td>\n",
       "      <td>...</td>\n",
       "      <td>...</td>\n",
       "      <td>...</td>\n",
       "      <td>...</td>\n",
       "      <td>...</td>\n",
       "      <td>...</td>\n",
       "      <td>...</td>\n",
       "    </tr>\n",
       "    <tr>\n",
       "      <th>1195</th>\n",
       "      <td>MULTIMEDIA ARTIST</td>\n",
       "      <td>Executive Optical, Inc.</td>\n",
       "      <td>National Capital Reg</td>\n",
       "      <td>Candidate must possess at least Bachelor's/Col...</td>\n",
       "      <td>PHP 18,000 - PHP 25,200</td>\n",
       "      <td>[\"Candidate must possess at least Bachelor's/C...</td>\n",
       "      <td>['QUALIFICATIONS:', 'JOB RESPONSIBILITIES:', '...</td>\n",
       "      <td>['Full-Time', 'Average Processing Time']</td>\n",
       "      <td>[\"QUALIFICATIONS:Candidate must possess at lea...</td>\n",
       "      <td>Less than 1 Year Experienced Employee</td>\n",
       "      <td>['Miscellaneous allowance, Medical, Loans, Vis...</td>\n",
       "      <td>1001 - 2000 Employees</td>\n",
       "    </tr>\n",
       "    <tr>\n",
       "      <th>1196</th>\n",
       "      <td>Multimedia Artist</td>\n",
       "      <td>Demo Power Phillippines Inc.</td>\n",
       "      <td>National Capital Reg</td>\n",
       "      <td>Develop artistic ideas for each project and me...</td>\n",
       "      <td>None</td>\n",
       "      <td>['Develop artistic ideas for each project and ...</td>\n",
       "      <td>['Responsibilities', 'Requirements']</td>\n",
       "      <td>['Full-Time', 'Average Processing Time']</td>\n",
       "      <td>[\"ResponsibilitiesDevelop artistic ideas for e...</td>\n",
       "      <td>1-4 Years Experienced Employee</td>\n",
       "      <td>['Education support, Miscellaneous allowance, ...</td>\n",
       "      <td>51 - 200 Employees</td>\n",
       "    </tr>\n",
       "    <tr>\n",
       "      <th>1197</th>\n",
       "      <td>Graphic Designer | Dayshift | Onsite | Eastwood</td>\n",
       "      <td>Acquire Asia</td>\n",
       "      <td>National Capital Reg</td>\n",
       "      <td>Create promotional materials, web banners, eDM...</td>\n",
       "      <td>PHP 25,000 - PHP 35,000</td>\n",
       "      <td>['Create promotional materials, web banners, e...</td>\n",
       "      <td>['The Web/Graphic Designer will be responsible...</td>\n",
       "      <td>['Full-Time']</td>\n",
       "      <td>['The Web/Graphic Designer will be responsible...</td>\n",
       "      <td>1-4 Years Experienced Employee</td>\n",
       "      <td>[]</td>\n",
       "      <td>None</td>\n",
       "    </tr>\n",
       "    <tr>\n",
       "      <th>1198</th>\n",
       "      <td>Junior Interior Designer</td>\n",
       "      <td>Jas Ancheta Interiors</td>\n",
       "      <td>Muntinlupa City</td>\n",
       "      <td>Candidate must possess at least Bachelor's/Col...</td>\n",
       "      <td>PHP 15,000 - PHP 19,500</td>\n",
       "      <td>[\"Candidate must possess at least Bachelor's/C...</td>\n",
       "      <td>['Responsibilities:']</td>\n",
       "      <td>['Full-Time', 'Average Processing Time']</td>\n",
       "      <td>[\"Candidate must possess at least Bachelor's/C...</td>\n",
       "      <td>Less than 1 Year Experienced Employee</td>\n",
       "      <td>[]</td>\n",
       "      <td>1 - 50 Employees</td>\n",
       "    </tr>\n",
       "    <tr>\n",
       "      <th>1199</th>\n",
       "      <td>VISUAL &amp; GRAPHIC ARTIST ASSISTANT</td>\n",
       "      <td>Allied Botanical Corporation</td>\n",
       "      <td>Quezon City</td>\n",
       "      <td>Must be bachelor’s fine arts major in advertis...</td>\n",
       "      <td>PHP 14,000 - PHP 15,000</td>\n",
       "      <td>['Must be bachelor’s fine arts major in advert...</td>\n",
       "      <td>['VISUAL &amp; GRAPHIC ARTIST ASSISTANT', 'Vacant ...</td>\n",
       "      <td>['Full-Time', 'Average Processing Time']</td>\n",
       "      <td>['VISUAL &amp; GRAPHIC ARTIST ASSISTANTVacant Posi...</td>\n",
       "      <td>1-4 Years Experienced Employee</td>\n",
       "      <td>['Dental, Medical, Casual (e.g. T-shirts), Acc...</td>\n",
       "      <td>51 - 200 Employees</td>\n",
       "    </tr>\n",
       "  </tbody>\n",
       "</table>\n",
       "<p>1200 rows × 12 columns</p>\n",
       "</div>"
      ],
      "text/plain": [
       "                                                Title  \\\n",
       "0                     Print Graphic Designer | Taguig   \n",
       "1                                    Graphic Designer   \n",
       "2                               2D SR. Graphic Artist   \n",
       "3                                      Graphic Artist   \n",
       "4                                      Graphic Artist   \n",
       "...                                               ...   \n",
       "1195                                MULTIMEDIA ARTIST   \n",
       "1196                                Multimedia Artist   \n",
       "1197  Graphic Designer | Dayshift | Onsite | Eastwood   \n",
       "1198                         Junior Interior Designer   \n",
       "1199                VISUAL & GRAPHIC ARTIST ASSISTANT   \n",
       "\n",
       "                                               Company              Location  \\\n",
       "0     NTT Philippines Digital Business Solutions, Inc.  National Capital Reg   \n",
       "1                          Zenith United Electric Corp  National Capital Reg   \n",
       "2                  ARUZE PHILIPPINES MANUFACTURING INC              Batangas   \n",
       "3                             TOPBOND PHILIPPINES INC.           Quezon City   \n",
       "4            Intership Navigation Training Center Inc.  National Capital Reg   \n",
       "...                                                ...                   ...   \n",
       "1195                           Executive Optical, Inc.  National Capital Reg   \n",
       "1196                      Demo Power Phillippines Inc.  National Capital Reg   \n",
       "1197                                      Acquire Asia  National Capital Reg   \n",
       "1198                             Jas Ancheta Interiors       Muntinlupa City   \n",
       "1199                      Allied Botanical Corporation           Quezon City   \n",
       "\n",
       "                                                Summary  \\\n",
       "0     Candidate must possess at least a Vocational D...   \n",
       "1     Design and produce all types of graphic elemen...   \n",
       "2                                                  None   \n",
       "3                                                  None   \n",
       "4     Candidate must possess at least a High School ...   \n",
       "...                                                 ...   \n",
       "1195  Candidate must possess at least Bachelor's/Col...   \n",
       "1196  Develop artistic ideas for each project and me...   \n",
       "1197  Create promotional materials, web banners, eDM...   \n",
       "1198  Candidate must possess at least Bachelor's/Col...   \n",
       "1199  Must be bachelor’s fine arts major in advertis...   \n",
       "\n",
       "                       Salary  \\\n",
       "0                        None   \n",
       "1                        None   \n",
       "2     PHP 30,000 - PHP 40,000   \n",
       "3                        None   \n",
       "4     PHP 12,000 - PHP 13,000   \n",
       "...                       ...   \n",
       "1195  PHP 18,000 - PHP 25,200   \n",
       "1196                     None   \n",
       "1197  PHP 25,000 - PHP 35,000   \n",
       "1198  PHP 15,000 - PHP 19,500   \n",
       "1199  PHP 14,000 - PHP 15,000   \n",
       "\n",
       "                                 Qualification & Skills  \\\n",
       "0     [\"Candidate must possess at least a Vocational...   \n",
       "1     ['Design and produce all types of graphic elem...   \n",
       "2                                                    []   \n",
       "3                                                    []   \n",
       "4     [\"Candidate must possess at least a High Schoo...   \n",
       "...                                                 ...   \n",
       "1195  [\"Candidate must possess at least Bachelor's/C...   \n",
       "1196  ['Develop artistic ideas for each project and ...   \n",
       "1197  ['Create promotional materials, web banners, e...   \n",
       "1198  [\"Candidate must possess at least Bachelor's/C...   \n",
       "1199  ['Must be bachelor’s fine arts major in advert...   \n",
       "\n",
       "                              Role and Responsibilities  \\\n",
       "0                                                    []   \n",
       "1     ['We are looking for a highly creative candida...   \n",
       "2     ['· Manage schedule of projects in your team',...   \n",
       "3     ['Job Description', \"1. Graduate of Bachelor's...   \n",
       "4                                                    []   \n",
       "...                                                 ...   \n",
       "1195  ['QUALIFICATIONS:', 'JOB RESPONSIBILITIES:', '...   \n",
       "1196               ['Responsibilities', 'Requirements']   \n",
       "1197  ['The Web/Graphic Designer will be responsible...   \n",
       "1198                              ['Responsibilities:']   \n",
       "1199  ['VISUAL & GRAPHIC ARTIST ASSISTANT', 'Vacant ...   \n",
       "\n",
       "                                               Job Type  \\\n",
       "0                           ['Average Processing Time']   \n",
       "1                                         ['Full-Time']   \n",
       "2              ['Full-Time', 'Average Processing Time']   \n",
       "3              ['Full-Time', 'Average Processing Time']   \n",
       "4     ['Full-Time position(s) available.', 'Full-Tim...   \n",
       "...                                                 ...   \n",
       "1195           ['Full-Time', 'Average Processing Time']   \n",
       "1196           ['Full-Time', 'Average Processing Time']   \n",
       "1197                                      ['Full-Time']   \n",
       "1198           ['Full-Time', 'Average Processing Time']   \n",
       "1199           ['Full-Time', 'Average Processing Time']   \n",
       "\n",
       "                               Company Profile&Job Desc  \\\n",
       "0     [\"QUALIFICATIONSCandidate must possess at leas...   \n",
       "1     ['We are looking for a highly creative candida...   \n",
       "2     ['· Manage schedule of projects in your team· ...   \n",
       "3     [\"Job Description1. Graduate of Bachelor's/Col...   \n",
       "4     [\"Candidate must possess at least a High Schoo...   \n",
       "...                                                 ...   \n",
       "1195  [\"QUALIFICATIONS:Candidate must possess at lea...   \n",
       "1196  [\"ResponsibilitiesDevelop artistic ideas for e...   \n",
       "1197  ['The Web/Graphic Designer will be responsible...   \n",
       "1198  [\"Candidate must possess at least Bachelor's/C...   \n",
       "1199  ['VISUAL & GRAPHIC ARTIST ASSISTANTVacant Posi...   \n",
       "\n",
       "                               Career Level  \\\n",
       "0            1-4 Years Experienced Employee   \n",
       "1            1-4 Years Experienced Employee   \n",
       "2            1-4 Years Experienced Employee   \n",
       "3            1-4 Years Experienced Employee   \n",
       "4     Less than 1 Year Experienced Employee   \n",
       "...                                     ...   \n",
       "1195  Less than 1 Year Experienced Employee   \n",
       "1196         1-4 Years Experienced Employee   \n",
       "1197         1-4 Years Experienced Employee   \n",
       "1198  Less than 1 Year Experienced Employee   \n",
       "1199         1-4 Years Experienced Employee   \n",
       "\n",
       "                                               Benefits           Company Size  \n",
       "0     ['Dental, Medical, Regular hours, Mondays - Fr...    201 - 500 Employees  \n",
       "1                                                    []    201 - 500 Employees  \n",
       "2     ['Dental, Miscellaneous allowance, Medical, Lo...    201 - 500 Employees  \n",
       "3                                                    []     51 - 200 Employees  \n",
       "4     ['Dental, Medical, Loans, Regular hours, Monda...       1 - 50 Employees  \n",
       "...                                                 ...                    ...  \n",
       "1195  ['Miscellaneous allowance, Medical, Loans, Vis...  1001 - 2000 Employees  \n",
       "1196  ['Education support, Miscellaneous allowance, ...     51 - 200 Employees  \n",
       "1197                                                 []                   None  \n",
       "1198                                                 []       1 - 50 Employees  \n",
       "1199  ['Dental, Medical, Casual (e.g. T-shirts), Acc...     51 - 200 Employees  \n",
       "\n",
       "[1200 rows x 12 columns]"
      ]
     },
     "execution_count": 2,
     "metadata": {},
     "output_type": "execute_result"
    }
   ],
   "source": [
    "csv_path = [\n",
    "   \"../../Raw_CSV/April 25-26 - 2022/Jobstreet/Jobstreet-illustrator.csv\",\n",
    "   \"../../Raw_CSV/April 27 - 2022/Jobstreet/Jobstreet-illustrator.csv\",\n",
    "    \"../../Raw_CSV/April 28 - 2022/Jobstreet/Jobstreet-illustrator.csv\", \n",
    "]\n",
    "merge = pd.concat(map(pd.read_csv,csv_path),ignore_index=True)\n",
    "merge[\"Salary\"].str.strip()\n",
    "merge"
   ]
  },
  {
   "cell_type": "code",
   "execution_count": 3,
   "metadata": {},
   "outputs": [
    {
     "data": {
      "text/html": [
       "<div>\n",
       "<style scoped>\n",
       "    .dataframe tbody tr th:only-of-type {\n",
       "        vertical-align: middle;\n",
       "    }\n",
       "\n",
       "    .dataframe tbody tr th {\n",
       "        vertical-align: top;\n",
       "    }\n",
       "\n",
       "    .dataframe thead th {\n",
       "        text-align: right;\n",
       "    }\n",
       "</style>\n",
       "<table border=\"1\" class=\"dataframe\">\n",
       "  <thead>\n",
       "    <tr style=\"text-align: right;\">\n",
       "      <th></th>\n",
       "      <th>Title</th>\n",
       "      <th>Company</th>\n",
       "      <th>Location</th>\n",
       "      <th>Summary</th>\n",
       "      <th>Salary</th>\n",
       "      <th>Qualification &amp; Skills</th>\n",
       "      <th>Role and Responsibilities</th>\n",
       "      <th>Job Type</th>\n",
       "      <th>Company Profile&amp;Job Desc</th>\n",
       "      <th>Career Level</th>\n",
       "      <th>Benefits</th>\n",
       "      <th>Company Size</th>\n",
       "    </tr>\n",
       "  </thead>\n",
       "  <tbody>\n",
       "    <tr>\n",
       "      <th>0</th>\n",
       "      <td>Print Graphic Designer | Taguig</td>\n",
       "      <td>NTT Philippines Digital Business Solutions, Inc.</td>\n",
       "      <td>National Capital Reg</td>\n",
       "      <td>Candidate must possess at least a Vocational D...</td>\n",
       "      <td>None</td>\n",
       "      <td>[\"Candidate must possess at least a Vocational...</td>\n",
       "      <td>[]</td>\n",
       "      <td>['Average Processing Time']</td>\n",
       "      <td>[\"QUALIFICATIONSCandidate must possess at leas...</td>\n",
       "      <td>1-4 Years Experienced Employee</td>\n",
       "      <td>['Dental, Medical, Regular hours, Mondays - Fr...</td>\n",
       "      <td>201 - 500 Employees</td>\n",
       "    </tr>\n",
       "    <tr>\n",
       "      <th>1</th>\n",
       "      <td>Graphic Designer</td>\n",
       "      <td>Zenith United Electric Corp</td>\n",
       "      <td>National Capital Reg</td>\n",
       "      <td>Design and produce all types of graphic elemen...</td>\n",
       "      <td>None</td>\n",
       "      <td>['Design and produce all types of graphic elem...</td>\n",
       "      <td>['We are looking for a highly creative candida...</td>\n",
       "      <td>['Full-Time']</td>\n",
       "      <td>['We are looking for a highly creative candida...</td>\n",
       "      <td>1-4 Years Experienced Employee</td>\n",
       "      <td>[]</td>\n",
       "      <td>201 - 500 Employees</td>\n",
       "    </tr>\n",
       "    <tr>\n",
       "      <th>2</th>\n",
       "      <td>2D SR. Graphic Artist</td>\n",
       "      <td>ARUZE PHILIPPINES MANUFACTURING INC</td>\n",
       "      <td>Batangas</td>\n",
       "      <td>None</td>\n",
       "      <td>PHP 30,000 - PHP 40,000</td>\n",
       "      <td>[]</td>\n",
       "      <td>['· Manage schedule of projects in your team',...</td>\n",
       "      <td>['Full-Time', 'Average Processing Time']</td>\n",
       "      <td>['· Manage schedule of projects in your team· ...</td>\n",
       "      <td>1-4 Years Experienced Employee</td>\n",
       "      <td>['Dental, Miscellaneous allowance, Medical, Lo...</td>\n",
       "      <td>201 - 500 Employees</td>\n",
       "    </tr>\n",
       "    <tr>\n",
       "      <th>3</th>\n",
       "      <td>Graphic Artist</td>\n",
       "      <td>TOPBOND PHILIPPINES INC.</td>\n",
       "      <td>Quezon City</td>\n",
       "      <td>None</td>\n",
       "      <td>None</td>\n",
       "      <td>[]</td>\n",
       "      <td>['Job Description', \"1. Graduate of Bachelor's...</td>\n",
       "      <td>['Full-Time', 'Average Processing Time']</td>\n",
       "      <td>[\"Job Description1. Graduate of Bachelor's/Col...</td>\n",
       "      <td>1-4 Years Experienced Employee</td>\n",
       "      <td>[]</td>\n",
       "      <td>51 - 200 Employees</td>\n",
       "    </tr>\n",
       "    <tr>\n",
       "      <th>4</th>\n",
       "      <td>Graphic Artist</td>\n",
       "      <td>Intership Navigation Training Center Inc.</td>\n",
       "      <td>National Capital Reg</td>\n",
       "      <td>Candidate must possess at least a High School ...</td>\n",
       "      <td>PHP 12,000 - PHP 13,000</td>\n",
       "      <td>[\"Candidate must possess at least a High Schoo...</td>\n",
       "      <td>[]</td>\n",
       "      <td>['Full-Time position(s) available.', 'Full-Tim...</td>\n",
       "      <td>[\"Candidate must possess at least a High Schoo...</td>\n",
       "      <td>Less than 1 Year Experienced Employee</td>\n",
       "      <td>['Dental, Medical, Loans, Regular hours, Monda...</td>\n",
       "      <td>1 - 50 Employees</td>\n",
       "    </tr>\n",
       "    <tr>\n",
       "      <th>...</th>\n",
       "      <td>...</td>\n",
       "      <td>...</td>\n",
       "      <td>...</td>\n",
       "      <td>...</td>\n",
       "      <td>...</td>\n",
       "      <td>...</td>\n",
       "      <td>...</td>\n",
       "      <td>...</td>\n",
       "      <td>...</td>\n",
       "      <td>...</td>\n",
       "      <td>...</td>\n",
       "      <td>...</td>\n",
       "    </tr>\n",
       "    <tr>\n",
       "      <th>1195</th>\n",
       "      <td>MULTIMEDIA ARTIST</td>\n",
       "      <td>Executive Optical, Inc.</td>\n",
       "      <td>National Capital Reg</td>\n",
       "      <td>Candidate must possess at least Bachelor's/Col...</td>\n",
       "      <td>PHP 18,000 - PHP 25,200</td>\n",
       "      <td>[\"Candidate must possess at least Bachelor's/C...</td>\n",
       "      <td>['QUALIFICATIONS:', 'JOB RESPONSIBILITIES:', '...</td>\n",
       "      <td>['Full-Time', 'Average Processing Time']</td>\n",
       "      <td>[\"QUALIFICATIONS:Candidate must possess at lea...</td>\n",
       "      <td>Less than 1 Year Experienced Employee</td>\n",
       "      <td>['Miscellaneous allowance, Medical, Loans, Vis...</td>\n",
       "      <td>1001 - 2000 Employees</td>\n",
       "    </tr>\n",
       "    <tr>\n",
       "      <th>1196</th>\n",
       "      <td>Multimedia Artist</td>\n",
       "      <td>Demo Power Phillippines Inc.</td>\n",
       "      <td>National Capital Reg</td>\n",
       "      <td>Develop artistic ideas for each project and me...</td>\n",
       "      <td>None</td>\n",
       "      <td>['Develop artistic ideas for each project and ...</td>\n",
       "      <td>['Responsibilities', 'Requirements']</td>\n",
       "      <td>['Full-Time', 'Average Processing Time']</td>\n",
       "      <td>[\"ResponsibilitiesDevelop artistic ideas for e...</td>\n",
       "      <td>1-4 Years Experienced Employee</td>\n",
       "      <td>['Education support, Miscellaneous allowance, ...</td>\n",
       "      <td>51 - 200 Employees</td>\n",
       "    </tr>\n",
       "    <tr>\n",
       "      <th>1197</th>\n",
       "      <td>Graphic Designer | Dayshift | Onsite | Eastwood</td>\n",
       "      <td>Acquire Asia</td>\n",
       "      <td>National Capital Reg</td>\n",
       "      <td>Create promotional materials, web banners, eDM...</td>\n",
       "      <td>PHP 25,000 - PHP 35,000</td>\n",
       "      <td>['Create promotional materials, web banners, e...</td>\n",
       "      <td>['The Web/Graphic Designer will be responsible...</td>\n",
       "      <td>['Full-Time']</td>\n",
       "      <td>['The Web/Graphic Designer will be responsible...</td>\n",
       "      <td>1-4 Years Experienced Employee</td>\n",
       "      <td>[]</td>\n",
       "      <td>None</td>\n",
       "    </tr>\n",
       "    <tr>\n",
       "      <th>1198</th>\n",
       "      <td>Junior Interior Designer</td>\n",
       "      <td>Jas Ancheta Interiors</td>\n",
       "      <td>Muntinlupa City</td>\n",
       "      <td>Candidate must possess at least Bachelor's/Col...</td>\n",
       "      <td>PHP 15,000 - PHP 19,500</td>\n",
       "      <td>[\"Candidate must possess at least Bachelor's/C...</td>\n",
       "      <td>['Responsibilities:']</td>\n",
       "      <td>['Full-Time', 'Average Processing Time']</td>\n",
       "      <td>[\"Candidate must possess at least Bachelor's/C...</td>\n",
       "      <td>Less than 1 Year Experienced Employee</td>\n",
       "      <td>[]</td>\n",
       "      <td>1 - 50 Employees</td>\n",
       "    </tr>\n",
       "    <tr>\n",
       "      <th>1199</th>\n",
       "      <td>VISUAL &amp; GRAPHIC ARTIST ASSISTANT</td>\n",
       "      <td>Allied Botanical Corporation</td>\n",
       "      <td>Quezon City</td>\n",
       "      <td>Must be bachelor’s fine arts major in advertis...</td>\n",
       "      <td>PHP 14,000 - PHP 15,000</td>\n",
       "      <td>['Must be bachelor’s fine arts major in advert...</td>\n",
       "      <td>['VISUAL &amp; GRAPHIC ARTIST ASSISTANT', 'Vacant ...</td>\n",
       "      <td>['Full-Time', 'Average Processing Time']</td>\n",
       "      <td>['VISUAL &amp; GRAPHIC ARTIST ASSISTANTVacant Posi...</td>\n",
       "      <td>1-4 Years Experienced Employee</td>\n",
       "      <td>['Dental, Medical, Casual (e.g. T-shirts), Acc...</td>\n",
       "      <td>51 - 200 Employees</td>\n",
       "    </tr>\n",
       "  </tbody>\n",
       "</table>\n",
       "<p>1200 rows × 12 columns</p>\n",
       "</div>"
      ],
      "text/plain": [
       "                                                Title  \\\n",
       "0                     Print Graphic Designer | Taguig   \n",
       "1                                    Graphic Designer   \n",
       "2                               2D SR. Graphic Artist   \n",
       "3                                      Graphic Artist   \n",
       "4                                      Graphic Artist   \n",
       "...                                               ...   \n",
       "1195                                MULTIMEDIA ARTIST   \n",
       "1196                                Multimedia Artist   \n",
       "1197  Graphic Designer | Dayshift | Onsite | Eastwood   \n",
       "1198                         Junior Interior Designer   \n",
       "1199                VISUAL & GRAPHIC ARTIST ASSISTANT   \n",
       "\n",
       "                                               Company              Location  \\\n",
       "0     NTT Philippines Digital Business Solutions, Inc.  National Capital Reg   \n",
       "1                          Zenith United Electric Corp  National Capital Reg   \n",
       "2                  ARUZE PHILIPPINES MANUFACTURING INC              Batangas   \n",
       "3                             TOPBOND PHILIPPINES INC.           Quezon City   \n",
       "4            Intership Navigation Training Center Inc.  National Capital Reg   \n",
       "...                                                ...                   ...   \n",
       "1195                           Executive Optical, Inc.  National Capital Reg   \n",
       "1196                      Demo Power Phillippines Inc.  National Capital Reg   \n",
       "1197                                      Acquire Asia  National Capital Reg   \n",
       "1198                             Jas Ancheta Interiors       Muntinlupa City   \n",
       "1199                      Allied Botanical Corporation           Quezon City   \n",
       "\n",
       "                                                Summary  \\\n",
       "0     Candidate must possess at least a Vocational D...   \n",
       "1     Design and produce all types of graphic elemen...   \n",
       "2                                                  None   \n",
       "3                                                  None   \n",
       "4     Candidate must possess at least a High School ...   \n",
       "...                                                 ...   \n",
       "1195  Candidate must possess at least Bachelor's/Col...   \n",
       "1196  Develop artistic ideas for each project and me...   \n",
       "1197  Create promotional materials, web banners, eDM...   \n",
       "1198  Candidate must possess at least Bachelor's/Col...   \n",
       "1199  Must be bachelor’s fine arts major in advertis...   \n",
       "\n",
       "                       Salary  \\\n",
       "0                        None   \n",
       "1                        None   \n",
       "2     PHP 30,000 - PHP 40,000   \n",
       "3                        None   \n",
       "4     PHP 12,000 - PHP 13,000   \n",
       "...                       ...   \n",
       "1195  PHP 18,000 - PHP 25,200   \n",
       "1196                     None   \n",
       "1197  PHP 25,000 - PHP 35,000   \n",
       "1198  PHP 15,000 - PHP 19,500   \n",
       "1199  PHP 14,000 - PHP 15,000   \n",
       "\n",
       "                                 Qualification & Skills  \\\n",
       "0     [\"Candidate must possess at least a Vocational...   \n",
       "1     ['Design and produce all types of graphic elem...   \n",
       "2                                                    []   \n",
       "3                                                    []   \n",
       "4     [\"Candidate must possess at least a High Schoo...   \n",
       "...                                                 ...   \n",
       "1195  [\"Candidate must possess at least Bachelor's/C...   \n",
       "1196  ['Develop artistic ideas for each project and ...   \n",
       "1197  ['Create promotional materials, web banners, e...   \n",
       "1198  [\"Candidate must possess at least Bachelor's/C...   \n",
       "1199  ['Must be bachelor’s fine arts major in advert...   \n",
       "\n",
       "                              Role and Responsibilities  \\\n",
       "0                                                    []   \n",
       "1     ['We are looking for a highly creative candida...   \n",
       "2     ['· Manage schedule of projects in your team',...   \n",
       "3     ['Job Description', \"1. Graduate of Bachelor's...   \n",
       "4                                                    []   \n",
       "...                                                 ...   \n",
       "1195  ['QUALIFICATIONS:', 'JOB RESPONSIBILITIES:', '...   \n",
       "1196               ['Responsibilities', 'Requirements']   \n",
       "1197  ['The Web/Graphic Designer will be responsible...   \n",
       "1198                              ['Responsibilities:']   \n",
       "1199  ['VISUAL & GRAPHIC ARTIST ASSISTANT', 'Vacant ...   \n",
       "\n",
       "                                               Job Type  \\\n",
       "0                           ['Average Processing Time']   \n",
       "1                                         ['Full-Time']   \n",
       "2              ['Full-Time', 'Average Processing Time']   \n",
       "3              ['Full-Time', 'Average Processing Time']   \n",
       "4     ['Full-Time position(s) available.', 'Full-Tim...   \n",
       "...                                                 ...   \n",
       "1195           ['Full-Time', 'Average Processing Time']   \n",
       "1196           ['Full-Time', 'Average Processing Time']   \n",
       "1197                                      ['Full-Time']   \n",
       "1198           ['Full-Time', 'Average Processing Time']   \n",
       "1199           ['Full-Time', 'Average Processing Time']   \n",
       "\n",
       "                               Company Profile&Job Desc  \\\n",
       "0     [\"QUALIFICATIONSCandidate must possess at leas...   \n",
       "1     ['We are looking for a highly creative candida...   \n",
       "2     ['· Manage schedule of projects in your team· ...   \n",
       "3     [\"Job Description1. Graduate of Bachelor's/Col...   \n",
       "4     [\"Candidate must possess at least a High Schoo...   \n",
       "...                                                 ...   \n",
       "1195  [\"QUALIFICATIONS:Candidate must possess at lea...   \n",
       "1196  [\"ResponsibilitiesDevelop artistic ideas for e...   \n",
       "1197  ['The Web/Graphic Designer will be responsible...   \n",
       "1198  [\"Candidate must possess at least Bachelor's/C...   \n",
       "1199  ['VISUAL & GRAPHIC ARTIST ASSISTANTVacant Posi...   \n",
       "\n",
       "                               Career Level  \\\n",
       "0            1-4 Years Experienced Employee   \n",
       "1            1-4 Years Experienced Employee   \n",
       "2            1-4 Years Experienced Employee   \n",
       "3            1-4 Years Experienced Employee   \n",
       "4     Less than 1 Year Experienced Employee   \n",
       "...                                     ...   \n",
       "1195  Less than 1 Year Experienced Employee   \n",
       "1196         1-4 Years Experienced Employee   \n",
       "1197         1-4 Years Experienced Employee   \n",
       "1198  Less than 1 Year Experienced Employee   \n",
       "1199         1-4 Years Experienced Employee   \n",
       "\n",
       "                                               Benefits           Company Size  \n",
       "0     ['Dental, Medical, Regular hours, Mondays - Fr...    201 - 500 Employees  \n",
       "1                                                    []    201 - 500 Employees  \n",
       "2     ['Dental, Miscellaneous allowance, Medical, Lo...    201 - 500 Employees  \n",
       "3                                                    []     51 - 200 Employees  \n",
       "4     ['Dental, Medical, Loans, Regular hours, Monda...       1 - 50 Employees  \n",
       "...                                                 ...                    ...  \n",
       "1195  ['Miscellaneous allowance, Medical, Loans, Vis...  1001 - 2000 Employees  \n",
       "1196  ['Education support, Miscellaneous allowance, ...     51 - 200 Employees  \n",
       "1197                                                 []                   None  \n",
       "1198                                                 []       1 - 50 Employees  \n",
       "1199  ['Dental, Medical, Casual (e.g. T-shirts), Acc...     51 - 200 Employees  \n",
       "\n",
       "[1200 rows x 12 columns]"
      ]
     },
     "execution_count": 3,
     "metadata": {},
     "output_type": "execute_result"
    }
   ],
   "source": [
    "merge"
   ]
  },
  {
   "cell_type": "code",
   "execution_count": 4,
   "metadata": {},
   "outputs": [
    {
     "data": {
      "text/html": [
       "<div>\n",
       "<style scoped>\n",
       "    .dataframe tbody tr th:only-of-type {\n",
       "        vertical-align: middle;\n",
       "    }\n",
       "\n",
       "    .dataframe tbody tr th {\n",
       "        vertical-align: top;\n",
       "    }\n",
       "\n",
       "    .dataframe thead th {\n",
       "        text-align: right;\n",
       "    }\n",
       "</style>\n",
       "<table border=\"1\" class=\"dataframe\">\n",
       "  <thead>\n",
       "    <tr style=\"text-align: right;\">\n",
       "      <th></th>\n",
       "      <th>Title</th>\n",
       "      <th>Company</th>\n",
       "      <th>Location</th>\n",
       "      <th>Summary</th>\n",
       "      <th>Salary</th>\n",
       "      <th>Qualification &amp; Skills</th>\n",
       "      <th>Role and Responsibilities</th>\n",
       "      <th>Job Type</th>\n",
       "      <th>Company Profile&amp;Job Desc</th>\n",
       "      <th>Career Level</th>\n",
       "      <th>Benefits</th>\n",
       "      <th>Company Size</th>\n",
       "    </tr>\n",
       "  </thead>\n",
       "  <tbody>\n",
       "    <tr>\n",
       "      <th>count</th>\n",
       "      <td>1200</td>\n",
       "      <td>1200</td>\n",
       "      <td>1200</td>\n",
       "      <td>1200</td>\n",
       "      <td>1200</td>\n",
       "      <td>1200</td>\n",
       "      <td>1200</td>\n",
       "      <td>1200</td>\n",
       "      <td>1200</td>\n",
       "      <td>1188</td>\n",
       "      <td>1200</td>\n",
       "      <td>1145</td>\n",
       "    </tr>\n",
       "    <tr>\n",
       "      <th>unique</th>\n",
       "      <td>333</td>\n",
       "      <td>332</td>\n",
       "      <td>36</td>\n",
       "      <td>332</td>\n",
       "      <td>101</td>\n",
       "      <td>359</td>\n",
       "      <td>266</td>\n",
       "      <td>48</td>\n",
       "      <td>473</td>\n",
       "      <td>4</td>\n",
       "      <td>192</td>\n",
       "      <td>9</td>\n",
       "    </tr>\n",
       "    <tr>\n",
       "      <th>top</th>\n",
       "      <td>Graphic Artist</td>\n",
       "      <td>Asticom Technology Inc</td>\n",
       "      <td>National Capital Reg</td>\n",
       "      <td>None</td>\n",
       "      <td>None</td>\n",
       "      <td>[]</td>\n",
       "      <td>[]</td>\n",
       "      <td>['Full-Time', 'Average Processing Time']</td>\n",
       "      <td>['I. JOB MISSION/SUMMARY\\xa0To assist for crea...</td>\n",
       "      <td>1-4 Years Experienced Employee</td>\n",
       "      <td>[]</td>\n",
       "      <td>51 - 200 Employees</td>\n",
       "    </tr>\n",
       "    <tr>\n",
       "      <th>freq</th>\n",
       "      <td>184</td>\n",
       "      <td>41</td>\n",
       "      <td>555</td>\n",
       "      <td>272</td>\n",
       "      <td>714</td>\n",
       "      <td>272</td>\n",
       "      <td>531</td>\n",
       "      <td>683</td>\n",
       "      <td>23</td>\n",
       "      <td>913</td>\n",
       "      <td>433</td>\n",
       "      <td>245</td>\n",
       "    </tr>\n",
       "  </tbody>\n",
       "</table>\n",
       "</div>"
      ],
      "text/plain": [
       "                 Title                 Company              Location Summary  \\\n",
       "count             1200                    1200                  1200    1200   \n",
       "unique             333                     332                    36     332   \n",
       "top     Graphic Artist  Asticom Technology Inc  National Capital Reg    None   \n",
       "freq               184                      41                   555     272   \n",
       "\n",
       "       Salary Qualification & Skills Role and Responsibilities  \\\n",
       "count    1200                   1200                      1200   \n",
       "unique    101                    359                       266   \n",
       "top      None                     []                        []   \n",
       "freq      714                    272                       531   \n",
       "\n",
       "                                        Job Type  \\\n",
       "count                                       1200   \n",
       "unique                                        48   \n",
       "top     ['Full-Time', 'Average Processing Time']   \n",
       "freq                                         683   \n",
       "\n",
       "                                 Company Profile&Job Desc  \\\n",
       "count                                                1200   \n",
       "unique                                                473   \n",
       "top     ['I. JOB MISSION/SUMMARY\\xa0To assist for crea...   \n",
       "freq                                                   23   \n",
       "\n",
       "                          Career Level Benefits        Company Size  \n",
       "count                             1188     1200                1145  \n",
       "unique                               4      192                   9  \n",
       "top     1-4 Years Experienced Employee       []  51 - 200 Employees  \n",
       "freq                               913      433                 245  "
      ]
     },
     "execution_count": 4,
     "metadata": {},
     "output_type": "execute_result"
    }
   ],
   "source": [
    "merge.describe()"
   ]
  },
  {
   "cell_type": "code",
   "execution_count": 5,
   "metadata": {},
   "outputs": [],
   "source": [
    "job_title_lower = merge[\"Title\"].str.lower()"
   ]
  },
  {
   "cell_type": "code",
   "execution_count": 6,
   "metadata": {},
   "outputs": [],
   "source": [
    "job_title = job_title_lower.value_counts()[0:10]"
   ]
  },
  {
   "cell_type": "code",
   "execution_count": 7,
   "metadata": {},
   "outputs": [
    {
     "data": {
      "text/plain": [
       "graphic artist                                        213\n",
       "graphic designer                                      121\n",
       "multimedia artist                                      51\n",
       "multimedia designer                                    29\n",
       "graphic artist (bgc)                                   13\n",
       "graphic designer video editor (part time)              11\n",
       "senior graphic designer                                10\n",
       "auto marketing creative supervisor (laguna-based)      10\n",
       "graphic designer (day shift, temp wfh) - hmo day 1      9\n",
       "digital marketing officer                               9\n",
       "Name: Title, dtype: int64"
      ]
     },
     "execution_count": 7,
     "metadata": {},
     "output_type": "execute_result"
    }
   ],
   "source": [
    "job_title"
   ]
  },
  {
   "cell_type": "code",
   "execution_count": 8,
   "metadata": {},
   "outputs": [
    {
     "data": {
      "image/png": "[encoded data removed]",
      "text/plain": [
       "<Figure size 432x288 with 1 Axes>"
      ]
     },
     "metadata": {
      "needs_background": "light"
     },
     "output_type": "display_data"
    }
   ],
   "source": [
    "plt.bar(job_title.index, job_title.values)\n",
    "plt.xticks(rotation=\"30\", ha=\"right\")\n",
    "plt.show()"
   ]
  },
  {
   "cell_type": "code",
   "execution_count": 9,
   "metadata": {},
   "outputs": [],
   "source": [
    "company_name = merge[\"Company\"].value_counts()[0:10]"
   ]
  },
  {
   "cell_type": "code",
   "execution_count": 10,
   "metadata": {},
   "outputs": [
    {
     "data": {
      "image/png": "[encoded data removed]",
      "text/plain": [
       "<Figure size 432x288 with 1 Axes>"
      ]
     },
     "metadata": {
      "needs_background": "light"
     },
     "output_type": "display_data"
    }
   ],
   "source": [
    "plt.bar(company_name.index, company_name.values)\n",
    "plt.xticks(rotation=\"30\", ha=\"right\")\n",
    "plt.show()"
   ]
  },
  {
   "cell_type": "code",
   "execution_count": 11,
   "metadata": {},
   "outputs": [],
   "source": [
    "company_location = merge[\"Location\"].value_counts()[0:10]"
   ]
  },
  {
   "cell_type": "code",
   "execution_count": 12,
   "metadata": {},
   "outputs": [
    {
     "data": {
      "image/png": "[encoded data removed]",
      "text/plain": [
       "<Figure size 432x288 with 1 Axes>"
      ]
     },
     "metadata": {
      "needs_background": "light"
     },
     "output_type": "display_data"
    }
   ],
   "source": [
    "plt.bar(company_location.index, company_location.values)\n",
    "plt.xticks(rotation=\"30\", ha=\"right\")\n",
    "plt.show()\n"
   ]
  },
  {
   "cell_type": "code",
   "execution_count": 13,
   "metadata": {},
   "outputs": [],
   "source": [
    "filt = (merge[\"Salary\"] != \"None\")\n",
    "results = merge.loc[filt]"
   ]
  },
  {
   "cell_type": "code",
   "execution_count": 14,
   "metadata": {},
   "outputs": [],
   "source": [
    "salary = results[\"Salary\"].value_counts()[0:10]"
   ]
  },
  {
   "cell_type": "code",
   "execution_count": 15,
   "metadata": {},
   "outputs": [
    {
     "data": {
      "image/png": "[encoded data removed]",
      "text/plain": [
       "<Figure size 432x288 with 1 Axes>"
      ]
     },
     "metadata": {
      "needs_background": "light"
     },
     "output_type": "display_data"
    }
   ],
   "source": [
    "plt.bar(salary.index, salary.values)\n",
    "plt.xticks(rotation=\"30\", ha=\"right\")\n",
    "plt.show()"
   ]
  },
  {
   "cell_type": "code",
   "execution_count": 16,
   "metadata": {},
   "outputs": [],
   "source": [
    "job_type = merge[\"Job Type\"].apply(ast.literal_eval)\n",
    "job_type_append = []\n",
    "for i in job_type:\n",
    "    job_type_append.append(job_type[0][0])"
   ]
  },
  {
   "cell_type": "code",
   "execution_count": 17,
   "metadata": {},
   "outputs": [
    {
     "data": {
      "text/plain": [
       "Job Type               \n",
       "Average Processing Time    1200\n",
       "dtype: int64"
      ]
     },
     "execution_count": 17,
     "metadata": {},
     "output_type": "execute_result"
    }
   ],
   "source": [
    "# List to Dataframe ( Count Job Type )\n",
    "job_type_df = pd.DataFrame(job_type_append,columns=[\"Job Type\"])\n",
    "job_type_df.value_counts()\n"
   ]
  },
  {
   "cell_type": "code",
   "execution_count": 18,
   "metadata": {},
   "outputs": [
    {
     "data": {
      "text/plain": [
       "1-4 Years Experienced Employee                  913\n",
       "Supervisor/5 Years & Up Experienced Employee    147\n",
       "Less than 1 Year Experienced Employee           127\n",
       "Industry Experienced Trainers                     1\n",
       "Name: Career Level, dtype: int64"
      ]
     },
     "execution_count": 18,
     "metadata": {},
     "output_type": "execute_result"
    }
   ],
   "source": [
    "career_level = merge[\"Career Level\"]\n",
    "count_career_level = career_level.value_counts()\n",
    "count_career_level"
   ]
  },
  {
   "cell_type": "code",
   "execution_count": 19,
   "metadata": {},
   "outputs": [
    {
     "data": {
      "image/png": "[encoded data removed]",
      "text/plain": [
       "<Figure size 432x288 with 1 Axes>"
      ]
     },
     "metadata": {
      "needs_background": "light"
     },
     "output_type": "display_data"
    }
   ],
   "source": [
    "plt.bar(count_career_level.index, count_career_level.values)\n",
    "plt.xticks(rotation=\"30\",ha=\"right\")\n",
    "plt.show()"
   ]
  },
  {
   "cell_type": "code",
   "execution_count": 20,
   "metadata": {},
   "outputs": [
    {
     "data": {
      "text/plain": [
       "51 - 200 Employees       245\n",
       "1 - 50 Employees         238\n",
       "201 - 500 Employees      191\n",
       "2001 - 5000 Employees    162\n",
       "501 - 1000 Employees     141\n",
       "1001 - 2000 Employees     96\n",
       "Name: Company Size, dtype: int64"
      ]
     },
     "execution_count": 20,
     "metadata": {},
     "output_type": "execute_result"
    }
   ],
   "source": [
    "company_size = merge[\"Company Size\"]\n",
    "count_company_size = company_size.value_counts()[0:6]\n",
    "count_company_size"
   ]
  },
  {
   "cell_type": "code",
   "execution_count": 21,
   "metadata": {},
   "outputs": [
    {
     "data": {
      "image/png": "[encoded data removed]",
      "text/plain": [
       "<Figure size 432x288 with 1 Axes>"
      ]
     },
     "metadata": {
      "needs_background": "light"
     },
     "output_type": "display_data"
    }
   ],
   "source": [
    "plt.bar(count_company_size.index, count_company_size.values)\n",
    "plt.xticks(rotation=\"30\",ha=\"right\")\n",
    "plt.show()"
   ]
  },
  {
   "cell_type": "code",
   "execution_count": 22,
   "metadata": {},
   "outputs": [
    {
     "name": "stderr",
     "output_type": "stream",
     "text": [
      "/var/folders/tc/qdg72rpx523gjsqcr2vf_0c00000gn/T/ipykernel_1282/2971443327.py:1: FutureWarning: The default value of regex will change from True to False in a future version.\n",
      "  benefits = merge[\"Benefits\"].str.replace(\"^\\['|'\\]$\",\"\")\n"
     ]
    }
   ],
   "source": [
    "benefits = merge[\"Benefits\"].str.replace(\"^\\['|'\\]$\",\"\")\n",
    "benefits_append = []\n",
    "split_benefits = benefits.str.split(\",\")\n",
    "\n",
    "for i in range(len(split_benefits)):\n",
    "    for j in split_benefits[i]:\n",
    "        benefits_append.append(j)\n"
   ]
  },
  {
   "cell_type": "code",
   "execution_count": 23,
   "metadata": {},
   "outputs": [
    {
     "data": {
      "text/plain": [
       "Medical                    756\n",
       "Dental                     538\n",
       "Miscellaneous allowance    502\n",
       "Loans                      444\n",
       "Regular hours              356\n",
       "Business (e.g. Shirts)     342\n",
       "Mondays - Fridays          338\n",
       "Vision                     165\n",
       "Casual (e.g. T-shirts)     136\n",
       "Education support          134\n",
       "Parking                    133\n",
       "Sports (e.g. Gym)          112\n",
       "Smart Casual                53\n",
       "Life Insurance              37\n",
       "Shifting Schedule           35\n",
       "Name: Benefits, dtype: int64"
      ]
     },
     "execution_count": 23,
     "metadata": {},
     "output_type": "execute_result"
    }
   ],
   "source": [
    "benefits_df = pd.DataFrame(benefits_append, columns=[\"Benefits\"])\n",
    "benefits_df = benefits_df[\"Benefits\"].str.strip()\n",
    "filt = (benefits_df != \"[]\")\n",
    "benefits_df = benefits_df.loc[filt]\n",
    "benefits_count = benefits_df.value_counts()[0:15]\n",
    "benefits_count\n",
    "\n"
   ]
  },
  {
   "cell_type": "code",
   "execution_count": 24,
   "metadata": {},
   "outputs": [
    {
     "data": {
      "image/png": "[encoded data removed]",
      "text/plain": [
       "<Figure size 432x288 with 1 Axes>"
      ]
     },
     "metadata": {
      "needs_background": "light"
     },
     "output_type": "display_data"
    }
   ],
   "source": [
    "plt.bar(benefits_count.index, benefits_count.values)\n",
    "plt.xticks(rotation=\"30\",ha=\"right\")\n",
    "plt.show()"
   ]
  },
  {
   "cell_type": "code",
   "execution_count": 25,
   "metadata": {},
   "outputs": [],
   "source": [
    "filt = (merge[\"Salary\"] != \"None\")\n",
    "salary_career_level = merge[filt].sort_values(by=\"Salary\",ascending=True)\n",
    "count = salary_career_level[[\"Title\",\"Salary\",\"Career Level\"]]\n",
    "\n"
   ]
  },
  {
   "cell_type": "code",
   "execution_count": 26,
   "metadata": {},
   "outputs": [
    {
     "data": {
      "text/plain": [
       "1-4 Years Experienced Employee                  913\n",
       "Supervisor/5 Years & Up Experienced Employee    147\n",
       "Less than 1 Year Experienced Employee           127\n",
       "Industry Experienced Trainers                     1\n",
       "Name: Career Level, dtype: int64"
      ]
     },
     "execution_count": 26,
     "metadata": {},
     "output_type": "execute_result"
    }
   ],
   "source": [
    "merge[\"Career Level\"].value_counts()"
   ]
  },
  {
   "cell_type": "code",
   "execution_count": 27,
   "metadata": {},
   "outputs": [
    {
     "data": {
      "image/png": "[encoded data removed]",
      "text/plain": [
       "<Figure size 432x288 with 1 Axes>"
      ]
     },
     "metadata": {
      "needs_background": "light"
     },
     "output_type": "display_data"
    }
   ],
   "source": [
    "mid_level = merge.loc[merge[\"Career Level\"] == \"1-4 Years Experienced Employee\"]\n",
    "mid_level_salary = mid_level[mid_level[\"Salary\"] != \"None\"]\n",
    "count_mid = mid_level_salary[\"Salary\"].value_counts()[0:10]\n",
    "plt.bar(count_mid.index, count_mid.values)\n",
    "plt.xticks(rotation=\"30\",ha=\"right\")\n",
    "plt.show()"
   ]
  },
  {
   "cell_type": "code",
   "execution_count": 28,
   "metadata": {},
   "outputs": [
    {
     "data": {
      "image/png": "[encoded data removed]",
      "text/plain": [
       "<Figure size 432x288 with 1 Axes>"
      ]
     },
     "metadata": {
      "needs_background": "light"
     },
     "output_type": "display_data"
    }
   ],
   "source": [
    "low_level = merge.loc[merge[\"Career Level\"] == \"Less than 1 Year Experienced Employee\"]\n",
    "low_level_salary = low_level[low_level[\"Salary\"] != \"None\"]\n",
    "count_low = low_level_salary[\"Salary\"].value_counts()[0:10]\n",
    "\n",
    "plt.bar(count_low.index, count_low.values)\n",
    "plt.xticks(rotation=\"30\",ha=\"right\")\n",
    "plt.show()"
   ]
  },
  {
   "cell_type": "code",
   "execution_count": 29,
   "metadata": {},
   "outputs": [
    {
     "data": {
      "image/png": "[encoded data removed]",
      "text/plain": [
       "<Figure size 432x288 with 1 Axes>"
      ]
     },
     "metadata": {
      "needs_background": "light"
     },
     "output_type": "display_data"
    }
   ],
   "source": [
    "high_level = merge.loc[merge[\"Career Level\"] == \"Supervisor/5 Years & Up Experienced Employee\"]\n",
    "high_level_salary = high_level[high_level[\"Salary\"] != \"None\"]\n",
    "count_high = high_level_salary[\"Salary\"].value_counts()[0:10]\n",
    "plt.bar(count_high.index, count_high.values)\n",
    "plt.xticks(rotation=\"30\",ha=\"right\")\n",
    "plt.show()"
   ]
  },
  {
   "cell_type": "code",
   "execution_count": null,
   "metadata": {},
   "outputs": [],
   "source": []
  }
 ],
 "metadata": {
  "interpreter": {
   "hash": "aee8b7b246df8f9039afb4144a1f6fd8d2ca17a180786b69acc140d282b71a49"
  },
  "kernelspec": {
   "display_name": "Python 3.10.4 64-bit",
   "language": "python",
   "name": "python3"
  },
  "language_info": {
   "codemirror_mode": {
    "name": "ipython",
    "version": 3
   },
   "file_extension": ".py",
   "mimetype": "text/x-python",
   "name": "python",
   "nbconvert_exporter": "python",
   "pygments_lexer": "ipython3",
   "version": "3.10.4"
  },
  "orig_nbformat": 4
 },
 "nbformat": 4,
 "nbformat_minor": 2
}
