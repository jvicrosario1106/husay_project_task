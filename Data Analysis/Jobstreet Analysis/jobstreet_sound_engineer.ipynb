{
 "cells": [
  {
   "cell_type": "code",
   "execution_count": 1,
   "metadata": {},
   "outputs": [],
   "source": [
    "import matplotlib.pyplot as plt\n",
    "import pandas as pd\n",
    "import re\n",
    "import ast"
   ]
  },
  {
   "cell_type": "code",
   "execution_count": 2,
   "metadata": {},
   "outputs": [
    {
     "data": {
      "text/html": [
       "<div>\n",
       "<style scoped>\n",
       "    .dataframe tbody tr th:only-of-type {\n",
       "        vertical-align: middle;\n",
       "    }\n",
       "\n",
       "    .dataframe tbody tr th {\n",
       "        vertical-align: top;\n",
       "    }\n",
       "\n",
       "    .dataframe thead th {\n",
       "        text-align: right;\n",
       "    }\n",
       "</style>\n",
       "<table border=\"1\" class=\"dataframe\">\n",
       "  <thead>\n",
       "    <tr style=\"text-align: right;\">\n",
       "      <th></th>\n",
       "      <th>Title</th>\n",
       "      <th>Company</th>\n",
       "      <th>Location</th>\n",
       "      <th>Summary</th>\n",
       "      <th>Salary</th>\n",
       "      <th>Qualification &amp; Skills</th>\n",
       "      <th>Role and Responsibilities</th>\n",
       "      <th>Job Type</th>\n",
       "      <th>Company Profile&amp;Job Desc</th>\n",
       "      <th>Career Level</th>\n",
       "      <th>Benefits</th>\n",
       "      <th>Company Size</th>\n",
       "    </tr>\n",
       "  </thead>\n",
       "  <tbody>\n",
       "    <tr>\n",
       "      <th>0</th>\n",
       "      <td>Site Engineer</td>\n",
       "      <td>ZUIDEN BUILDERS INC.</td>\n",
       "      <td>Muntinlupa City</td>\n",
       "      <td>Bachelor's degree in engineering, construction...</td>\n",
       "      <td>None</td>\n",
       "      <td>[\"Bachelor's degree in engineering, constructi...</td>\n",
       "      <td>['The hirer is still in the process of verific...</td>\n",
       "      <td>['Full-Time']</td>\n",
       "      <td>[\"The hirer is still in the process of verific...</td>\n",
       "      <td>Less than 1 Year Experienced Employee</td>\n",
       "      <td>[]</td>\n",
       "      <td>1 - 50 Employees</td>\n",
       "    </tr>\n",
       "    <tr>\n",
       "      <th>1</th>\n",
       "      <td>MECHANICAL ENGINEER (L1-L3) (KiwiRail)</td>\n",
       "      <td>21st Century Manpower Resources, Inc.</td>\n",
       "      <td>New Zealand</td>\n",
       "      <td>Work within the boundaries of your known and r...</td>\n",
       "      <td>None</td>\n",
       "      <td>['Work within the boundaries of your known and...</td>\n",
       "      <td>['Job Responsibilities:', 'Job Qualifications:...</td>\n",
       "      <td>['Full-Time']</td>\n",
       "      <td>[\"Job Responsibilities:Work within the boundar...</td>\n",
       "      <td>1-4 Years Experienced Employee</td>\n",
       "      <td>['\\n\\t\\t\\tHealthcare Professionals such Physic...</td>\n",
       "      <td>1 - 50 Employees</td>\n",
       "    </tr>\n",
       "    <tr>\n",
       "      <th>2</th>\n",
       "      <td>Video Editor</td>\n",
       "      <td>Asticom Technology Inc</td>\n",
       "      <td>National Capital Reg</td>\n",
       "      <td>We are looking for 2 talented Video Editors to...</td>\n",
       "      <td>None</td>\n",
       "      <td>[\"We are looking for 2 talented Video Editors ...</td>\n",
       "      <td>[]</td>\n",
       "      <td>['Employment: Full Time /regular position', 'F...</td>\n",
       "      <td>[\"Position: Video EditorLocation: BGC TaguigIn...</td>\n",
       "      <td>1-4 Years Experienced Employee</td>\n",
       "      <td>['Dental, Education support, Miscellaneous all...</td>\n",
       "      <td>2001 - 5000 Employees</td>\n",
       "    </tr>\n",
       "    <tr>\n",
       "      <th>3</th>\n",
       "      <td>Maritime Engineer</td>\n",
       "      <td>WSP Manila, Inc.</td>\n",
       "      <td>National Capital Reg</td>\n",
       "      <td>Leading design and planning works across vario...</td>\n",
       "      <td>None</td>\n",
       "      <td>['Leading design and planning works across var...</td>\n",
       "      <td>[]</td>\n",
       "      <td>['Full-Time', 'Average Processing Time']</td>\n",
       "      <td>[\"WSP, a world leading management and consulta...</td>\n",
       "      <td>Supervisor/5 Years &amp; Up Experienced Employee</td>\n",
       "      <td>['Dental, Medical, Regular hours, Mondays - Fr...</td>\n",
       "      <td>201 - 500 Employees</td>\n",
       "    </tr>\n",
       "    <tr>\n",
       "      <th>4</th>\n",
       "      <td>Senior Designer (URGENT - WFH)</td>\n",
       "      <td>Your Employee Offshore ( Yempo ) Inc.</td>\n",
       "      <td>National Capital Reg</td>\n",
       "      <td>None</td>\n",
       "      <td>PHP 50,000 - PHP 65,000</td>\n",
       "      <td>[]</td>\n",
       "      <td>[]</td>\n",
       "      <td>['Full-Time', 'Average Processing Time']</td>\n",
       "      <td>['We have an exciting opportunity available fo...</td>\n",
       "      <td>1-4 Years Experienced Employee</td>\n",
       "      <td>['Dental, Medical, Vision, Regular hours, Mond...</td>\n",
       "      <td>51 - 200 Employees</td>\n",
       "    </tr>\n",
       "    <tr>\n",
       "      <th>...</th>\n",
       "      <td>...</td>\n",
       "      <td>...</td>\n",
       "      <td>...</td>\n",
       "      <td>...</td>\n",
       "      <td>...</td>\n",
       "      <td>...</td>\n",
       "      <td>...</td>\n",
       "      <td>...</td>\n",
       "      <td>...</td>\n",
       "      <td>...</td>\n",
       "      <td>...</td>\n",
       "      <td>...</td>\n",
       "    </tr>\n",
       "    <tr>\n",
       "      <th>66</th>\n",
       "      <td>MECHANICAL ENGINEER (L1-L3) (KiwiRail)</td>\n",
       "      <td>21st Century Manpower Resources, Inc.</td>\n",
       "      <td>New Zealand</td>\n",
       "      <td>Work within the boundaries of your known and r...</td>\n",
       "      <td>None</td>\n",
       "      <td>['Work within the boundaries of your known and...</td>\n",
       "      <td>['Job Responsibilities:', 'Job Qualifications:...</td>\n",
       "      <td>['Full-Time']</td>\n",
       "      <td>[\"Job Responsibilities:Work within the boundar...</td>\n",
       "      <td>1-4 Years Experienced Employee</td>\n",
       "      <td>['\\n\\t\\t\\tHealthcare Professionals such Physic...</td>\n",
       "      <td>1 - 50 Employees</td>\n",
       "    </tr>\n",
       "    <tr>\n",
       "      <th>67</th>\n",
       "      <td>Engineer 2, Power Systems</td>\n",
       "      <td>VERTIV (PHILIPPINES), INC</td>\n",
       "      <td>Philippines</td>\n",
       "      <td>1 year of professional experience in the field...</td>\n",
       "      <td>None</td>\n",
       "      <td>['1 year of professional experience in the fie...</td>\n",
       "      <td>['Primary Duties and Responsibilities:', 'Coll...</td>\n",
       "      <td>[]</td>\n",
       "      <td>['Primary Duties and Responsibilities:Collect ...</td>\n",
       "      <td>NaN</td>\n",
       "      <td>['Dental, Medical, Regular hours, Mondays - Fr...</td>\n",
       "      <td>1001 - 2000 Employees</td>\n",
       "    </tr>\n",
       "    <tr>\n",
       "      <th>68</th>\n",
       "      <td>MECHANICAL ENGINEER (L1-L3) (KiwiRail)</td>\n",
       "      <td>21st Century Manpower Resources, Inc.</td>\n",
       "      <td>New Zealand</td>\n",
       "      <td>Work within the boundaries of your known and r...</td>\n",
       "      <td>None</td>\n",
       "      <td>['Work within the boundaries of your known and...</td>\n",
       "      <td>['Job Responsibilities:', 'Job Qualifications:...</td>\n",
       "      <td>['Full-Time']</td>\n",
       "      <td>[\"Job Responsibilities:Work within the boundar...</td>\n",
       "      <td>1-4 Years Experienced Employee</td>\n",
       "      <td>['\\n\\t\\t\\tHealthcare Professionals such Physic...</td>\n",
       "      <td>1 - 50 Employees</td>\n",
       "    </tr>\n",
       "    <tr>\n",
       "      <th>69</th>\n",
       "      <td>Assistant Design Engineer - Structures</td>\n",
       "      <td>ARCADIS PHILIPPINES INC .</td>\n",
       "      <td>Makati City</td>\n",
       "      <td>Apply Arcadis Health and Safety Principles dur...</td>\n",
       "      <td>None</td>\n",
       "      <td>['Apply Arcadis Health and Safety Principles d...</td>\n",
       "      <td>['JOB DESCRIPTION', 'At Arcadis we focus on at...</td>\n",
       "      <td>['Average Processing Time']</td>\n",
       "      <td>[\"JOB DESCRIPTIONAt Arcadis we focus on attrac...</td>\n",
       "      <td>Experienced in performing work per agreed budg...</td>\n",
       "      <td>[]</td>\n",
       "      <td>1 - 50 Employees</td>\n",
       "    </tr>\n",
       "    <tr>\n",
       "      <th>70</th>\n",
       "      <td>Analyst - Client Service Trainee Program</td>\n",
       "      <td>MSCI Hong Kong Limited</td>\n",
       "      <td>National Capital Reg</td>\n",
       "      <td>Competitive fixed and variable compensation, h...</td>\n",
       "      <td>None</td>\n",
       "      <td>['Competitive fixed and variable compensation,...</td>\n",
       "      <td>['Your team responsibilities', 'The APAC Clien...</td>\n",
       "      <td>['Full-Time', 'Average Processing Time']</td>\n",
       "      <td>['Your team responsibilitiesThe APAC Client Se...</td>\n",
       "      <td>NaN</td>\n",
       "      <td>['Dental, Education support, Miscellaneous all...</td>\n",
       "      <td>201 - 500 Employees</td>\n",
       "    </tr>\n",
       "  </tbody>\n",
       "</table>\n",
       "<p>71 rows × 12 columns</p>\n",
       "</div>"
      ],
      "text/plain": [
       "                                       Title  \\\n",
       "0                              Site Engineer   \n",
       "1     MECHANICAL ENGINEER (L1-L3) (KiwiRail)   \n",
       "2                               Video Editor   \n",
       "3                          Maritime Engineer   \n",
       "4             Senior Designer (URGENT - WFH)   \n",
       "..                                       ...   \n",
       "66    MECHANICAL ENGINEER (L1-L3) (KiwiRail)   \n",
       "67                 Engineer 2, Power Systems   \n",
       "68    MECHANICAL ENGINEER (L1-L3) (KiwiRail)   \n",
       "69    Assistant Design Engineer - Structures   \n",
       "70  Analyst - Client Service Trainee Program   \n",
       "\n",
       "                                  Company              Location  \\\n",
       "0                    ZUIDEN BUILDERS INC.       Muntinlupa City   \n",
       "1   21st Century Manpower Resources, Inc.           New Zealand   \n",
       "2                  Asticom Technology Inc  National Capital Reg   \n",
       "3                        WSP Manila, Inc.  National Capital Reg   \n",
       "4   Your Employee Offshore ( Yempo ) Inc.  National Capital Reg   \n",
       "..                                    ...                   ...   \n",
       "66  21st Century Manpower Resources, Inc.           New Zealand   \n",
       "67              VERTIV (PHILIPPINES), INC           Philippines   \n",
       "68  21st Century Manpower Resources, Inc.           New Zealand   \n",
       "69              ARCADIS PHILIPPINES INC .           Makati City   \n",
       "70                 MSCI Hong Kong Limited  National Capital Reg   \n",
       "\n",
       "                                              Summary  \\\n",
       "0   Bachelor's degree in engineering, construction...   \n",
       "1   Work within the boundaries of your known and r...   \n",
       "2   We are looking for 2 talented Video Editors to...   \n",
       "3   Leading design and planning works across vario...   \n",
       "4                                                None   \n",
       "..                                                ...   \n",
       "66  Work within the boundaries of your known and r...   \n",
       "67  1 year of professional experience in the field...   \n",
       "68  Work within the boundaries of your known and r...   \n",
       "69  Apply Arcadis Health and Safety Principles dur...   \n",
       "70  Competitive fixed and variable compensation, h...   \n",
       "\n",
       "                     Salary  \\\n",
       "0                      None   \n",
       "1                      None   \n",
       "2                      None   \n",
       "3                      None   \n",
       "4   PHP 50,000 - PHP 65,000   \n",
       "..                      ...   \n",
       "66                     None   \n",
       "67                     None   \n",
       "68                     None   \n",
       "69                     None   \n",
       "70                     None   \n",
       "\n",
       "                               Qualification & Skills  \\\n",
       "0   [\"Bachelor's degree in engineering, constructi...   \n",
       "1   ['Work within the boundaries of your known and...   \n",
       "2   [\"We are looking for 2 talented Video Editors ...   \n",
       "3   ['Leading design and planning works across var...   \n",
       "4                                                  []   \n",
       "..                                                ...   \n",
       "66  ['Work within the boundaries of your known and...   \n",
       "67  ['1 year of professional experience in the fie...   \n",
       "68  ['Work within the boundaries of your known and...   \n",
       "69  ['Apply Arcadis Health and Safety Principles d...   \n",
       "70  ['Competitive fixed and variable compensation,...   \n",
       "\n",
       "                            Role and Responsibilities  \\\n",
       "0   ['The hirer is still in the process of verific...   \n",
       "1   ['Job Responsibilities:', 'Job Qualifications:...   \n",
       "2                                                  []   \n",
       "3                                                  []   \n",
       "4                                                  []   \n",
       "..                                                ...   \n",
       "66  ['Job Responsibilities:', 'Job Qualifications:...   \n",
       "67  ['Primary Duties and Responsibilities:', 'Coll...   \n",
       "68  ['Job Responsibilities:', 'Job Qualifications:...   \n",
       "69  ['JOB DESCRIPTION', 'At Arcadis we focus on at...   \n",
       "70  ['Your team responsibilities', 'The APAC Clien...   \n",
       "\n",
       "                                             Job Type  \\\n",
       "0                                       ['Full-Time']   \n",
       "1                                       ['Full-Time']   \n",
       "2   ['Employment: Full Time /regular position', 'F...   \n",
       "3            ['Full-Time', 'Average Processing Time']   \n",
       "4            ['Full-Time', 'Average Processing Time']   \n",
       "..                                                ...   \n",
       "66                                      ['Full-Time']   \n",
       "67                                                 []   \n",
       "68                                      ['Full-Time']   \n",
       "69                        ['Average Processing Time']   \n",
       "70           ['Full-Time', 'Average Processing Time']   \n",
       "\n",
       "                             Company Profile&Job Desc  \\\n",
       "0   [\"The hirer is still in the process of verific...   \n",
       "1   [\"Job Responsibilities:Work within the boundar...   \n",
       "2   [\"Position: Video EditorLocation: BGC TaguigIn...   \n",
       "3   [\"WSP, a world leading management and consulta...   \n",
       "4   ['We have an exciting opportunity available fo...   \n",
       "..                                                ...   \n",
       "66  [\"Job Responsibilities:Work within the boundar...   \n",
       "67  ['Primary Duties and Responsibilities:Collect ...   \n",
       "68  [\"Job Responsibilities:Work within the boundar...   \n",
       "69  [\"JOB DESCRIPTIONAt Arcadis we focus on attrac...   \n",
       "70  ['Your team responsibilitiesThe APAC Client Se...   \n",
       "\n",
       "                                         Career Level  \\\n",
       "0               Less than 1 Year Experienced Employee   \n",
       "1                      1-4 Years Experienced Employee   \n",
       "2                      1-4 Years Experienced Employee   \n",
       "3        Supervisor/5 Years & Up Experienced Employee   \n",
       "4                      1-4 Years Experienced Employee   \n",
       "..                                                ...   \n",
       "66                     1-4 Years Experienced Employee   \n",
       "67                                                NaN   \n",
       "68                     1-4 Years Experienced Employee   \n",
       "69  Experienced in performing work per agreed budg...   \n",
       "70                                                NaN   \n",
       "\n",
       "                                             Benefits           Company Size  \n",
       "0                                                  []       1 - 50 Employees  \n",
       "1   ['\\n\\t\\t\\tHealthcare Professionals such Physic...       1 - 50 Employees  \n",
       "2   ['Dental, Education support, Miscellaneous all...  2001 - 5000 Employees  \n",
       "3   ['Dental, Medical, Regular hours, Mondays - Fr...    201 - 500 Employees  \n",
       "4   ['Dental, Medical, Vision, Regular hours, Mond...     51 - 200 Employees  \n",
       "..                                                ...                    ...  \n",
       "66  ['\\n\\t\\t\\tHealthcare Professionals such Physic...       1 - 50 Employees  \n",
       "67  ['Dental, Medical, Regular hours, Mondays - Fr...  1001 - 2000 Employees  \n",
       "68  ['\\n\\t\\t\\tHealthcare Professionals such Physic...       1 - 50 Employees  \n",
       "69                                                 []       1 - 50 Employees  \n",
       "70  ['Dental, Education support, Miscellaneous all...    201 - 500 Employees  \n",
       "\n",
       "[71 rows x 12 columns]"
      ]
     },
     "execution_count": 2,
     "metadata": {},
     "output_type": "execute_result"
    }
   ],
   "source": [
    "csv_path = [\n",
    "   \"../../Raw_CSV/April 25-26 - 2022/Jobstreet/Jobstreet-sound-engineer.csv\",\n",
    "   \"../../Raw_CSV/April 27 - 2022/Jobstreet/Jobstreet-sound-engineer.csv\",\n",
    "    \"../../Raw_CSV/April 28 - 2022/Jobstreet/Jobstreet-sound-engineer.csv\", \n",
    "]\n",
    "merge = pd.concat(map(pd.read_csv,csv_path),ignore_index=True)\n",
    "merge[\"Salary\"].str.strip()\n",
    "merge"
   ]
  },
  {
   "cell_type": "code",
   "execution_count": 3,
   "metadata": {},
   "outputs": [
    {
     "data": {
      "text/html": [
       "<div>\n",
       "<style scoped>\n",
       "    .dataframe tbody tr th:only-of-type {\n",
       "        vertical-align: middle;\n",
       "    }\n",
       "\n",
       "    .dataframe tbody tr th {\n",
       "        vertical-align: top;\n",
       "    }\n",
       "\n",
       "    .dataframe thead th {\n",
       "        text-align: right;\n",
       "    }\n",
       "</style>\n",
       "<table border=\"1\" class=\"dataframe\">\n",
       "  <thead>\n",
       "    <tr style=\"text-align: right;\">\n",
       "      <th></th>\n",
       "      <th>Title</th>\n",
       "      <th>Company</th>\n",
       "      <th>Location</th>\n",
       "      <th>Summary</th>\n",
       "      <th>Salary</th>\n",
       "      <th>Qualification &amp; Skills</th>\n",
       "      <th>Role and Responsibilities</th>\n",
       "      <th>Job Type</th>\n",
       "      <th>Company Profile&amp;Job Desc</th>\n",
       "      <th>Career Level</th>\n",
       "      <th>Benefits</th>\n",
       "      <th>Company Size</th>\n",
       "    </tr>\n",
       "  </thead>\n",
       "  <tbody>\n",
       "    <tr>\n",
       "      <th>0</th>\n",
       "      <td>Site Engineer</td>\n",
       "      <td>ZUIDEN BUILDERS INC.</td>\n",
       "      <td>Muntinlupa City</td>\n",
       "      <td>Bachelor's degree in engineering, construction...</td>\n",
       "      <td>None</td>\n",
       "      <td>[\"Bachelor's degree in engineering, constructi...</td>\n",
       "      <td>['The hirer is still in the process of verific...</td>\n",
       "      <td>['Full-Time']</td>\n",
       "      <td>[\"The hirer is still in the process of verific...</td>\n",
       "      <td>Less than 1 Year Experienced Employee</td>\n",
       "      <td>[]</td>\n",
       "      <td>1 - 50 Employees</td>\n",
       "    </tr>\n",
       "    <tr>\n",
       "      <th>1</th>\n",
       "      <td>MECHANICAL ENGINEER (L1-L3) (KiwiRail)</td>\n",
       "      <td>21st Century Manpower Resources, Inc.</td>\n",
       "      <td>New Zealand</td>\n",
       "      <td>Work within the boundaries of your known and r...</td>\n",
       "      <td>None</td>\n",
       "      <td>['Work within the boundaries of your known and...</td>\n",
       "      <td>['Job Responsibilities:', 'Job Qualifications:...</td>\n",
       "      <td>['Full-Time']</td>\n",
       "      <td>[\"Job Responsibilities:Work within the boundar...</td>\n",
       "      <td>1-4 Years Experienced Employee</td>\n",
       "      <td>['\\n\\t\\t\\tHealthcare Professionals such Physic...</td>\n",
       "      <td>1 - 50 Employees</td>\n",
       "    </tr>\n",
       "    <tr>\n",
       "      <th>2</th>\n",
       "      <td>Video Editor</td>\n",
       "      <td>Asticom Technology Inc</td>\n",
       "      <td>National Capital Reg</td>\n",
       "      <td>We are looking for 2 talented Video Editors to...</td>\n",
       "      <td>None</td>\n",
       "      <td>[\"We are looking for 2 talented Video Editors ...</td>\n",
       "      <td>[]</td>\n",
       "      <td>['Employment: Full Time /regular position', 'F...</td>\n",
       "      <td>[\"Position: Video EditorLocation: BGC TaguigIn...</td>\n",
       "      <td>1-4 Years Experienced Employee</td>\n",
       "      <td>['Dental, Education support, Miscellaneous all...</td>\n",
       "      <td>2001 - 5000 Employees</td>\n",
       "    </tr>\n",
       "    <tr>\n",
       "      <th>3</th>\n",
       "      <td>Maritime Engineer</td>\n",
       "      <td>WSP Manila, Inc.</td>\n",
       "      <td>National Capital Reg</td>\n",
       "      <td>Leading design and planning works across vario...</td>\n",
       "      <td>None</td>\n",
       "      <td>['Leading design and planning works across var...</td>\n",
       "      <td>[]</td>\n",
       "      <td>['Full-Time', 'Average Processing Time']</td>\n",
       "      <td>[\"WSP, a world leading management and consulta...</td>\n",
       "      <td>Supervisor/5 Years &amp; Up Experienced Employee</td>\n",
       "      <td>['Dental, Medical, Regular hours, Mondays - Fr...</td>\n",
       "      <td>201 - 500 Employees</td>\n",
       "    </tr>\n",
       "    <tr>\n",
       "      <th>4</th>\n",
       "      <td>Senior Designer (URGENT - WFH)</td>\n",
       "      <td>Your Employee Offshore ( Yempo ) Inc.</td>\n",
       "      <td>National Capital Reg</td>\n",
       "      <td>None</td>\n",
       "      <td>PHP 50,000 - PHP 65,000</td>\n",
       "      <td>[]</td>\n",
       "      <td>[]</td>\n",
       "      <td>['Full-Time', 'Average Processing Time']</td>\n",
       "      <td>['We have an exciting opportunity available fo...</td>\n",
       "      <td>1-4 Years Experienced Employee</td>\n",
       "      <td>['Dental, Medical, Vision, Regular hours, Mond...</td>\n",
       "      <td>51 - 200 Employees</td>\n",
       "    </tr>\n",
       "    <tr>\n",
       "      <th>...</th>\n",
       "      <td>...</td>\n",
       "      <td>...</td>\n",
       "      <td>...</td>\n",
       "      <td>...</td>\n",
       "      <td>...</td>\n",
       "      <td>...</td>\n",
       "      <td>...</td>\n",
       "      <td>...</td>\n",
       "      <td>...</td>\n",
       "      <td>...</td>\n",
       "      <td>...</td>\n",
       "      <td>...</td>\n",
       "    </tr>\n",
       "    <tr>\n",
       "      <th>66</th>\n",
       "      <td>MECHANICAL ENGINEER (L1-L3) (KiwiRail)</td>\n",
       "      <td>21st Century Manpower Resources, Inc.</td>\n",
       "      <td>New Zealand</td>\n",
       "      <td>Work within the boundaries of your known and r...</td>\n",
       "      <td>None</td>\n",
       "      <td>['Work within the boundaries of your known and...</td>\n",
       "      <td>['Job Responsibilities:', 'Job Qualifications:...</td>\n",
       "      <td>['Full-Time']</td>\n",
       "      <td>[\"Job Responsibilities:Work within the boundar...</td>\n",
       "      <td>1-4 Years Experienced Employee</td>\n",
       "      <td>['\\n\\t\\t\\tHealthcare Professionals such Physic...</td>\n",
       "      <td>1 - 50 Employees</td>\n",
       "    </tr>\n",
       "    <tr>\n",
       "      <th>67</th>\n",
       "      <td>Engineer 2, Power Systems</td>\n",
       "      <td>VERTIV (PHILIPPINES), INC</td>\n",
       "      <td>Philippines</td>\n",
       "      <td>1 year of professional experience in the field...</td>\n",
       "      <td>None</td>\n",
       "      <td>['1 year of professional experience in the fie...</td>\n",
       "      <td>['Primary Duties and Responsibilities:', 'Coll...</td>\n",
       "      <td>[]</td>\n",
       "      <td>['Primary Duties and Responsibilities:Collect ...</td>\n",
       "      <td>NaN</td>\n",
       "      <td>['Dental, Medical, Regular hours, Mondays - Fr...</td>\n",
       "      <td>1001 - 2000 Employees</td>\n",
       "    </tr>\n",
       "    <tr>\n",
       "      <th>68</th>\n",
       "      <td>MECHANICAL ENGINEER (L1-L3) (KiwiRail)</td>\n",
       "      <td>21st Century Manpower Resources, Inc.</td>\n",
       "      <td>New Zealand</td>\n",
       "      <td>Work within the boundaries of your known and r...</td>\n",
       "      <td>None</td>\n",
       "      <td>['Work within the boundaries of your known and...</td>\n",
       "      <td>['Job Responsibilities:', 'Job Qualifications:...</td>\n",
       "      <td>['Full-Time']</td>\n",
       "      <td>[\"Job Responsibilities:Work within the boundar...</td>\n",
       "      <td>1-4 Years Experienced Employee</td>\n",
       "      <td>['\\n\\t\\t\\tHealthcare Professionals such Physic...</td>\n",
       "      <td>1 - 50 Employees</td>\n",
       "    </tr>\n",
       "    <tr>\n",
       "      <th>69</th>\n",
       "      <td>Assistant Design Engineer - Structures</td>\n",
       "      <td>ARCADIS PHILIPPINES INC .</td>\n",
       "      <td>Makati City</td>\n",
       "      <td>Apply Arcadis Health and Safety Principles dur...</td>\n",
       "      <td>None</td>\n",
       "      <td>['Apply Arcadis Health and Safety Principles d...</td>\n",
       "      <td>['JOB DESCRIPTION', 'At Arcadis we focus on at...</td>\n",
       "      <td>['Average Processing Time']</td>\n",
       "      <td>[\"JOB DESCRIPTIONAt Arcadis we focus on attrac...</td>\n",
       "      <td>Experienced in performing work per agreed budg...</td>\n",
       "      <td>[]</td>\n",
       "      <td>1 - 50 Employees</td>\n",
       "    </tr>\n",
       "    <tr>\n",
       "      <th>70</th>\n",
       "      <td>Analyst - Client Service Trainee Program</td>\n",
       "      <td>MSCI Hong Kong Limited</td>\n",
       "      <td>National Capital Reg</td>\n",
       "      <td>Competitive fixed and variable compensation, h...</td>\n",
       "      <td>None</td>\n",
       "      <td>['Competitive fixed and variable compensation,...</td>\n",
       "      <td>['Your team responsibilities', 'The APAC Clien...</td>\n",
       "      <td>['Full-Time', 'Average Processing Time']</td>\n",
       "      <td>['Your team responsibilitiesThe APAC Client Se...</td>\n",
       "      <td>NaN</td>\n",
       "      <td>['Dental, Education support, Miscellaneous all...</td>\n",
       "      <td>201 - 500 Employees</td>\n",
       "    </tr>\n",
       "  </tbody>\n",
       "</table>\n",
       "<p>71 rows × 12 columns</p>\n",
       "</div>"
      ],
      "text/plain": [
       "                                       Title  \\\n",
       "0                              Site Engineer   \n",
       "1     MECHANICAL ENGINEER (L1-L3) (KiwiRail)   \n",
       "2                               Video Editor   \n",
       "3                          Maritime Engineer   \n",
       "4             Senior Designer (URGENT - WFH)   \n",
       "..                                       ...   \n",
       "66    MECHANICAL ENGINEER (L1-L3) (KiwiRail)   \n",
       "67                 Engineer 2, Power Systems   \n",
       "68    MECHANICAL ENGINEER (L1-L3) (KiwiRail)   \n",
       "69    Assistant Design Engineer - Structures   \n",
       "70  Analyst - Client Service Trainee Program   \n",
       "\n",
       "                                  Company              Location  \\\n",
       "0                    ZUIDEN BUILDERS INC.       Muntinlupa City   \n",
       "1   21st Century Manpower Resources, Inc.           New Zealand   \n",
       "2                  Asticom Technology Inc  National Capital Reg   \n",
       "3                        WSP Manila, Inc.  National Capital Reg   \n",
       "4   Your Employee Offshore ( Yempo ) Inc.  National Capital Reg   \n",
       "..                                    ...                   ...   \n",
       "66  21st Century Manpower Resources, Inc.           New Zealand   \n",
       "67              VERTIV (PHILIPPINES), INC           Philippines   \n",
       "68  21st Century Manpower Resources, Inc.           New Zealand   \n",
       "69              ARCADIS PHILIPPINES INC .           Makati City   \n",
       "70                 MSCI Hong Kong Limited  National Capital Reg   \n",
       "\n",
       "                                              Summary  \\\n",
       "0   Bachelor's degree in engineering, construction...   \n",
       "1   Work within the boundaries of your known and r...   \n",
       "2   We are looking for 2 talented Video Editors to...   \n",
       "3   Leading design and planning works across vario...   \n",
       "4                                                None   \n",
       "..                                                ...   \n",
       "66  Work within the boundaries of your known and r...   \n",
       "67  1 year of professional experience in the field...   \n",
       "68  Work within the boundaries of your known and r...   \n",
       "69  Apply Arcadis Health and Safety Principles dur...   \n",
       "70  Competitive fixed and variable compensation, h...   \n",
       "\n",
       "                     Salary  \\\n",
       "0                      None   \n",
       "1                      None   \n",
       "2                      None   \n",
       "3                      None   \n",
       "4   PHP 50,000 - PHP 65,000   \n",
       "..                      ...   \n",
       "66                     None   \n",
       "67                     None   \n",
       "68                     None   \n",
       "69                     None   \n",
       "70                     None   \n",
       "\n",
       "                               Qualification & Skills  \\\n",
       "0   [\"Bachelor's degree in engineering, constructi...   \n",
       "1   ['Work within the boundaries of your known and...   \n",
       "2   [\"We are looking for 2 talented Video Editors ...   \n",
       "3   ['Leading design and planning works across var...   \n",
       "4                                                  []   \n",
       "..                                                ...   \n",
       "66  ['Work within the boundaries of your known and...   \n",
       "67  ['1 year of professional experience in the fie...   \n",
       "68  ['Work within the boundaries of your known and...   \n",
       "69  ['Apply Arcadis Health and Safety Principles d...   \n",
       "70  ['Competitive fixed and variable compensation,...   \n",
       "\n",
       "                            Role and Responsibilities  \\\n",
       "0   ['The hirer is still in the process of verific...   \n",
       "1   ['Job Responsibilities:', 'Job Qualifications:...   \n",
       "2                                                  []   \n",
       "3                                                  []   \n",
       "4                                                  []   \n",
       "..                                                ...   \n",
       "66  ['Job Responsibilities:', 'Job Qualifications:...   \n",
       "67  ['Primary Duties and Responsibilities:', 'Coll...   \n",
       "68  ['Job Responsibilities:', 'Job Qualifications:...   \n",
       "69  ['JOB DESCRIPTION', 'At Arcadis we focus on at...   \n",
       "70  ['Your team responsibilities', 'The APAC Clien...   \n",
       "\n",
       "                                             Job Type  \\\n",
       "0                                       ['Full-Time']   \n",
       "1                                       ['Full-Time']   \n",
       "2   ['Employment: Full Time /regular position', 'F...   \n",
       "3            ['Full-Time', 'Average Processing Time']   \n",
       "4            ['Full-Time', 'Average Processing Time']   \n",
       "..                                                ...   \n",
       "66                                      ['Full-Time']   \n",
       "67                                                 []   \n",
       "68                                      ['Full-Time']   \n",
       "69                        ['Average Processing Time']   \n",
       "70           ['Full-Time', 'Average Processing Time']   \n",
       "\n",
       "                             Company Profile&Job Desc  \\\n",
       "0   [\"The hirer is still in the process of verific...   \n",
       "1   [\"Job Responsibilities:Work within the boundar...   \n",
       "2   [\"Position: Video EditorLocation: BGC TaguigIn...   \n",
       "3   [\"WSP, a world leading management and consulta...   \n",
       "4   ['We have an exciting opportunity available fo...   \n",
       "..                                                ...   \n",
       "66  [\"Job Responsibilities:Work within the boundar...   \n",
       "67  ['Primary Duties and Responsibilities:Collect ...   \n",
       "68  [\"Job Responsibilities:Work within the boundar...   \n",
       "69  [\"JOB DESCRIPTIONAt Arcadis we focus on attrac...   \n",
       "70  ['Your team responsibilitiesThe APAC Client Se...   \n",
       "\n",
       "                                         Career Level  \\\n",
       "0               Less than 1 Year Experienced Employee   \n",
       "1                      1-4 Years Experienced Employee   \n",
       "2                      1-4 Years Experienced Employee   \n",
       "3        Supervisor/5 Years & Up Experienced Employee   \n",
       "4                      1-4 Years Experienced Employee   \n",
       "..                                                ...   \n",
       "66                     1-4 Years Experienced Employee   \n",
       "67                                                NaN   \n",
       "68                     1-4 Years Experienced Employee   \n",
       "69  Experienced in performing work per agreed budg...   \n",
       "70                                                NaN   \n",
       "\n",
       "                                             Benefits           Company Size  \n",
       "0                                                  []       1 - 50 Employees  \n",
       "1   ['\\n\\t\\t\\tHealthcare Professionals such Physic...       1 - 50 Employees  \n",
       "2   ['Dental, Education support, Miscellaneous all...  2001 - 5000 Employees  \n",
       "3   ['Dental, Medical, Regular hours, Mondays - Fr...    201 - 500 Employees  \n",
       "4   ['Dental, Medical, Vision, Regular hours, Mond...     51 - 200 Employees  \n",
       "..                                                ...                    ...  \n",
       "66  ['\\n\\t\\t\\tHealthcare Professionals such Physic...       1 - 50 Employees  \n",
       "67  ['Dental, Medical, Regular hours, Mondays - Fr...  1001 - 2000 Employees  \n",
       "68  ['\\n\\t\\t\\tHealthcare Professionals such Physic...       1 - 50 Employees  \n",
       "69                                                 []       1 - 50 Employees  \n",
       "70  ['Dental, Education support, Miscellaneous all...    201 - 500 Employees  \n",
       "\n",
       "[71 rows x 12 columns]"
      ]
     },
     "execution_count": 3,
     "metadata": {},
     "output_type": "execute_result"
    }
   ],
   "source": [
    "merge"
   ]
  },
  {
   "cell_type": "code",
   "execution_count": 4,
   "metadata": {},
   "outputs": [
    {
     "data": {
      "text/html": [
       "<div>\n",
       "<style scoped>\n",
       "    .dataframe tbody tr th:only-of-type {\n",
       "        vertical-align: middle;\n",
       "    }\n",
       "\n",
       "    .dataframe tbody tr th {\n",
       "        vertical-align: top;\n",
       "    }\n",
       "\n",
       "    .dataframe thead th {\n",
       "        text-align: right;\n",
       "    }\n",
       "</style>\n",
       "<table border=\"1\" class=\"dataframe\">\n",
       "  <thead>\n",
       "    <tr style=\"text-align: right;\">\n",
       "      <th></th>\n",
       "      <th>Title</th>\n",
       "      <th>Company</th>\n",
       "      <th>Location</th>\n",
       "      <th>Summary</th>\n",
       "      <th>Salary</th>\n",
       "      <th>Qualification &amp; Skills</th>\n",
       "      <th>Role and Responsibilities</th>\n",
       "      <th>Job Type</th>\n",
       "      <th>Company Profile&amp;Job Desc</th>\n",
       "      <th>Career Level</th>\n",
       "      <th>Benefits</th>\n",
       "      <th>Company Size</th>\n",
       "    </tr>\n",
       "  </thead>\n",
       "  <tbody>\n",
       "    <tr>\n",
       "      <th>count</th>\n",
       "      <td>71</td>\n",
       "      <td>71</td>\n",
       "      <td>71</td>\n",
       "      <td>71</td>\n",
       "      <td>71</td>\n",
       "      <td>71</td>\n",
       "      <td>71</td>\n",
       "      <td>71</td>\n",
       "      <td>71</td>\n",
       "      <td>57</td>\n",
       "      <td>71</td>\n",
       "      <td>66</td>\n",
       "    </tr>\n",
       "    <tr>\n",
       "      <th>unique</th>\n",
       "      <td>15</td>\n",
       "      <td>17</td>\n",
       "      <td>13</td>\n",
       "      <td>17</td>\n",
       "      <td>4</td>\n",
       "      <td>17</td>\n",
       "      <td>12</td>\n",
       "      <td>6</td>\n",
       "      <td>18</td>\n",
       "      <td>4</td>\n",
       "      <td>11</td>\n",
       "      <td>6</td>\n",
       "    </tr>\n",
       "    <tr>\n",
       "      <th>top</th>\n",
       "      <td>Site Engineer</td>\n",
       "      <td>ZUIDEN BUILDERS INC.</td>\n",
       "      <td>National Capital Reg</td>\n",
       "      <td>Bachelor's degree in engineering, construction...</td>\n",
       "      <td>None</td>\n",
       "      <td>[\"Bachelor's degree in engineering, constructi...</td>\n",
       "      <td>[]</td>\n",
       "      <td>['Full-Time']</td>\n",
       "      <td>[\"The hirer is still in the process of verific...</td>\n",
       "      <td>1-4 Years Experienced Employee</td>\n",
       "      <td>[]</td>\n",
       "      <td>1 - 50 Employees</td>\n",
       "    </tr>\n",
       "    <tr>\n",
       "      <th>freq</th>\n",
       "      <td>14</td>\n",
       "      <td>12</td>\n",
       "      <td>16</td>\n",
       "      <td>12</td>\n",
       "      <td>64</td>\n",
       "      <td>12</td>\n",
       "      <td>19</td>\n",
       "      <td>40</td>\n",
       "      <td>12</td>\n",
       "      <td>29</td>\n",
       "      <td>34</td>\n",
       "      <td>31</td>\n",
       "    </tr>\n",
       "  </tbody>\n",
       "</table>\n",
       "</div>"
      ],
      "text/plain": [
       "                Title               Company              Location  \\\n",
       "count              71                    71                    71   \n",
       "unique             15                    17                    13   \n",
       "top     Site Engineer  ZUIDEN BUILDERS INC.  National Capital Reg   \n",
       "freq               14                    12                    16   \n",
       "\n",
       "                                                  Summary Salary  \\\n",
       "count                                                  71     71   \n",
       "unique                                                 17      4   \n",
       "top     Bachelor's degree in engineering, construction...   None   \n",
       "freq                                                   12     64   \n",
       "\n",
       "                                   Qualification & Skills  \\\n",
       "count                                                  71   \n",
       "unique                                                 17   \n",
       "top     [\"Bachelor's degree in engineering, constructi...   \n",
       "freq                                                   12   \n",
       "\n",
       "       Role and Responsibilities       Job Type  \\\n",
       "count                         71             71   \n",
       "unique                        12              6   \n",
       "top                           []  ['Full-Time']   \n",
       "freq                          19             40   \n",
       "\n",
       "                                 Company Profile&Job Desc  \\\n",
       "count                                                  71   \n",
       "unique                                                 18   \n",
       "top     [\"The hirer is still in the process of verific...   \n",
       "freq                                                   12   \n",
       "\n",
       "                          Career Level Benefits      Company Size  \n",
       "count                               57       71                66  \n",
       "unique                               4       11                 6  \n",
       "top     1-4 Years Experienced Employee       []  1 - 50 Employees  \n",
       "freq                                29       34                31  "
      ]
     },
     "execution_count": 4,
     "metadata": {},
     "output_type": "execute_result"
    }
   ],
   "source": [
    "merge.describe()"
   ]
  },
  {
   "cell_type": "code",
   "execution_count": 5,
   "metadata": {},
   "outputs": [],
   "source": [
    "job_title_lower = merge[\"Title\"].str.lower()"
   ]
  },
  {
   "cell_type": "code",
   "execution_count": 6,
   "metadata": {},
   "outputs": [],
   "source": [
    "job_title = job_title_lower.value_counts()[0:10]"
   ]
  },
  {
   "cell_type": "code",
   "execution_count": 7,
   "metadata": {},
   "outputs": [],
   "source": [
    "sort = job_title.sort_values()"
   ]
  },
  {
   "cell_type": "code",
   "execution_count": 8,
   "metadata": {},
   "outputs": [
    {
     "data": {
      "image/png": "[encoded data removed]",
      "text/plain": [
       "<Figure size 432x288 with 1 Axes>"
      ]
     },
     "metadata": {
      "needs_background": "light"
     },
     "output_type": "display_data"
    }
   ],
   "source": [
    "plt.barh(sort.index, sort.values)\n",
    "plt.title(\"Jobstreet Sound Engineer\")\n",
    "plt.xticks(rotation=\"30\", ha=\"right\")\n",
    "plt.show()"
   ]
  },
  {
   "cell_type": "code",
   "execution_count": 9,
   "metadata": {},
   "outputs": [],
   "source": [
    "company_name = merge[\"Company\"].value_counts()[0:10]"
   ]
  },
  {
   "cell_type": "code",
   "execution_count": 10,
   "metadata": {},
   "outputs": [
    {
     "data": {
      "image/png": "[encoded data removed]",
      "text/plain": [
       "<Figure size 432x288 with 1 Axes>"
      ]
     },
     "metadata": {
      "needs_background": "light"
     },
     "output_type": "display_data"
    }
   ],
   "source": [
    "plt.bar(company_name.index, company_name.values)\n",
    "plt.xticks(rotation=\"30\", ha=\"right\")\n",
    "plt.show()"
   ]
  },
  {
   "cell_type": "code",
   "execution_count": 11,
   "metadata": {},
   "outputs": [],
   "source": [
    "company_location = merge[\"Location\"].value_counts()[0:10]"
   ]
  },
  {
   "cell_type": "code",
   "execution_count": 12,
   "metadata": {},
   "outputs": [
    {
     "data": {
      "image/png": "[encoded data removed]",
      "text/plain": [
       "<Figure size 432x288 with 1 Axes>"
      ]
     },
     "metadata": {
      "needs_background": "light"
     },
     "output_type": "display_data"
    }
   ],
   "source": [
    "plt.bar(company_location.index, company_location.values)\n",
    "plt.xticks(rotation=\"30\", ha=\"right\")\n",
    "plt.show()\n"
   ]
  },
  {
   "cell_type": "code",
   "execution_count": 13,
   "metadata": {},
   "outputs": [],
   "source": [
    "filt = (merge[\"Salary\"] != \"None\")\n",
    "results = merge.loc[filt]"
   ]
  },
  {
   "cell_type": "code",
   "execution_count": 14,
   "metadata": {},
   "outputs": [],
   "source": [
    "salary = results[\"Salary\"].value_counts()[0:10]"
   ]
  },
  {
   "cell_type": "code",
   "execution_count": 15,
   "metadata": {},
   "outputs": [
    {
     "data": {
      "image/png": "[encoded data removed]",
      "text/plain": [
       "<Figure size 432x288 with 1 Axes>"
      ]
     },
     "metadata": {
      "needs_background": "light"
     },
     "output_type": "display_data"
    }
   ],
   "source": [
    "plt.bar(salary.index, salary.values)\n",
    "plt.xticks(rotation=\"30\", ha=\"right\")\n",
    "plt.show()"
   ]
  },
  {
   "cell_type": "code",
   "execution_count": 16,
   "metadata": {},
   "outputs": [],
   "source": [
    "job_type = merge[\"Job Type\"].apply(ast.literal_eval)\n",
    "job_type_append = []\n",
    "for i in job_type:\n",
    "    job_type_append.append(job_type[0][0])"
   ]
  },
  {
   "cell_type": "code",
   "execution_count": 17,
   "metadata": {},
   "outputs": [
    {
     "data": {
      "text/plain": [
       "Job Type \n",
       "Full-Time    71\n",
       "dtype: int64"
      ]
     },
     "execution_count": 17,
     "metadata": {},
     "output_type": "execute_result"
    }
   ],
   "source": [
    "# List to Dataframe ( Count Job Type )\n",
    "job_type_df = pd.DataFrame(job_type_append,columns=[\"Job Type\"])\n",
    "job_type_df.value_counts()\n"
   ]
  },
  {
   "cell_type": "code",
   "execution_count": 18,
   "metadata": {},
   "outputs": [
    {
     "data": {
      "text/plain": [
       "1-4 Years Experienced Employee                                                            29\n",
       "Less than 1 Year Experienced Employee                                                     19\n",
       "Supervisor/5 Years & Up Experienced Employee                                               5\n",
       "Experienced in performing work per agreed budget and schedule with limited supervision     4\n",
       "Name: Career Level, dtype: int64"
      ]
     },
     "execution_count": 18,
     "metadata": {},
     "output_type": "execute_result"
    }
   ],
   "source": [
    "career_level = merge[\"Career Level\"]\n",
    "count_career_level = career_level.value_counts()\n",
    "count_career_level"
   ]
  },
  {
   "cell_type": "code",
   "execution_count": 19,
   "metadata": {},
   "outputs": [
    {
     "data": {
      "image/png": "[encoded data removed]",
      "text/plain": [
       "<Figure size 432x288 with 1 Axes>"
      ]
     },
     "metadata": {
      "needs_background": "light"
     },
     "output_type": "display_data"
    }
   ],
   "source": [
    "plt.bar(count_career_level.index, count_career_level.values)\n",
    "plt.xticks(rotation=\"30\",ha=\"right\")\n",
    "plt.show()"
   ]
  },
  {
   "cell_type": "code",
   "execution_count": 20,
   "metadata": {},
   "outputs": [
    {
     "data": {
      "text/plain": [
       "1 - 50 Employees         31\n",
       "201 - 500 Employees      13\n",
       "51 - 200 Employees       13\n",
       "2001 - 5000 Employees     3\n",
       "None                      3\n",
       "1001 - 2000 Employees     3\n",
       "Name: Company Size, dtype: int64"
      ]
     },
     "execution_count": 20,
     "metadata": {},
     "output_type": "execute_result"
    }
   ],
   "source": [
    "company_size = merge[\"Company Size\"]\n",
    "count_company_size = company_size.value_counts()[0:6]\n",
    "count_company_size"
   ]
  },
  {
   "cell_type": "code",
   "execution_count": 21,
   "metadata": {},
   "outputs": [
    {
     "data": {
      "image/png": "[encoded data removed]",
      "text/plain": [
       "<Figure size 432x288 with 1 Axes>"
      ]
     },
     "metadata": {
      "needs_background": "light"
     },
     "output_type": "display_data"
    }
   ],
   "source": [
    "plt.bar(count_company_size.index, count_company_size.values)\n",
    "plt.xticks(rotation=\"30\",ha=\"right\")\n",
    "plt.show()"
   ]
  },
  {
   "cell_type": "code",
   "execution_count": 22,
   "metadata": {},
   "outputs": [
    {
     "name": "stderr",
     "output_type": "stream",
     "text": [
      "/var/folders/tc/qdg72rpx523gjsqcr2vf_0c00000gn/T/ipykernel_2240/2971443327.py:1: FutureWarning: The default value of regex will change from True to False in a future version.\n",
      "  benefits = merge[\"Benefits\"].str.replace(\"^\\['|'\\]$\",\"\")\n"
     ]
    }
   ],
   "source": [
    "benefits = merge[\"Benefits\"].str.replace(\"^\\['|'\\]$\",\"\")\n",
    "benefits_append = []\n",
    "split_benefits = benefits.str.split(\",\")\n",
    "\n",
    "for i in range(len(split_benefits)):\n",
    "    for j in split_benefits[i]:\n",
    "        benefits_append.append(j)\n"
   ]
  },
  {
   "cell_type": "code",
   "execution_count": 23,
   "metadata": {},
   "outputs": [
    {
     "data": {
      "text/plain": [
       "Medical                                             28\n",
       "Dental                                              22\n",
       "Regular hours                                       16\n",
       "Mondays - Fridays                                   16\n",
       "Miscellaneous allowance                             15\n",
       "Education support                                   12\n",
       "Dentists                                             9\n",
       "Loans                                                9\n",
       "\\n\\t\\t\\tHealthcare Professionals such Physicians     9\n",
       "'\\n\\t\\t\\tMedical Examination                         9\n",
       "Pharmacists                                          9\n",
       "Radiologic Technicians                               9\n",
       "Medical Technologists                                9\n",
       "Physical and Occupational Therapists                 9\n",
       "etc.'                                                9\n",
       "Name: Benefits, dtype: int64"
      ]
     },
     "execution_count": 23,
     "metadata": {},
     "output_type": "execute_result"
    }
   ],
   "source": [
    "benefits_df = pd.DataFrame(benefits_append, columns=[\"Benefits\"])\n",
    "benefits_df = benefits_df[\"Benefits\"].str.strip()\n",
    "filt = (benefits_df != \"[]\")\n",
    "benefits_df = benefits_df.loc[filt]\n",
    "benefits_count = benefits_df.value_counts()[0:15]\n",
    "benefits_count\n",
    "\n"
   ]
  },
  {
   "cell_type": "code",
   "execution_count": 24,
   "metadata": {},
   "outputs": [
    {
     "data": {
      "image/png": "[encoded data removed]",
      "text/plain": [
       "<Figure size 432x288 with 1 Axes>"
      ]
     },
     "metadata": {
      "needs_background": "light"
     },
     "output_type": "display_data"
    }
   ],
   "source": [
    "plt.bar(benefits_count.index, benefits_count.values)\n",
    "plt.xticks(rotation=\"30\",ha=\"right\")\n",
    "plt.show()"
   ]
  },
  {
   "cell_type": "code",
   "execution_count": 25,
   "metadata": {},
   "outputs": [],
   "source": [
    "filt = (merge[\"Salary\"] != \"None\")\n",
    "salary_career_level = merge[filt].sort_values(by=\"Salary\",ascending=True)\n",
    "count = salary_career_level[[\"Title\",\"Salary\",\"Career Level\"]]\n",
    "\n"
   ]
  },
  {
   "cell_type": "code",
   "execution_count": 26,
   "metadata": {},
   "outputs": [
    {
     "data": {
      "text/plain": [
       "1-4 Years Experienced Employee                                                            29\n",
       "Less than 1 Year Experienced Employee                                                     19\n",
       "Supervisor/5 Years & Up Experienced Employee                                               5\n",
       "Experienced in performing work per agreed budget and schedule with limited supervision     4\n",
       "Name: Career Level, dtype: int64"
      ]
     },
     "execution_count": 26,
     "metadata": {},
     "output_type": "execute_result"
    }
   ],
   "source": [
    "merge[\"Career Level\"].value_counts()"
   ]
  },
  {
   "cell_type": "code",
   "execution_count": 27,
   "metadata": {},
   "outputs": [
    {
     "name": "stderr",
     "output_type": "stream",
     "text": [
      "/var/folders/tc/qdg72rpx523gjsqcr2vf_0c00000gn/T/ipykernel_2240/1619117618.py:3: SettingWithCopyWarning: \n",
      "A value is trying to be set on a copy of a slice from a DataFrame.\n",
      "Try using .loc[row_indexer,col_indexer] = value instead\n",
      "\n",
      "See the caveats in the documentation: https://pandas.pydata.org/pandas-docs/stable/user_guide/indexing.html#returning-a-view-versus-a-copy\n",
      "  merge[\"Salary\"] = merge[\"Salary\"].str.replace(\",\", \"\")\n",
      "/var/folders/tc/qdg72rpx523gjsqcr2vf_0c00000gn/T/ipykernel_2240/1619117618.py:4: SettingWithCopyWarning: \n",
      "A value is trying to be set on a copy of a slice from a DataFrame.\n",
      "Try using .loc[row_indexer,col_indexer] = value instead\n",
      "\n",
      "See the caveats in the documentation: https://pandas.pydata.org/pandas-docs/stable/user_guide/indexing.html#returning-a-view-versus-a-copy\n",
      "  merge[\"Salary\"] = merge[\"Salary\"].str.replace(\"PHP\", \"\")\n",
      "/var/folders/tc/qdg72rpx523gjsqcr2vf_0c00000gn/T/ipykernel_2240/1619117618.py:5: SettingWithCopyWarning: \n",
      "A value is trying to be set on a copy of a slice from a DataFrame.\n",
      "Try using .loc[row_indexer,col_indexer] = value instead\n",
      "\n",
      "See the caveats in the documentation: https://pandas.pydata.org/pandas-docs/stable/user_guide/indexing.html#returning-a-view-versus-a-copy\n",
      "  merge[\"Salary\"] = merge[\"Salary\"].str.replace(\"-\", \"\")\n",
      "/var/folders/tc/qdg72rpx523gjsqcr2vf_0c00000gn/T/ipykernel_2240/1619117618.py:6: SettingWithCopyWarning: \n",
      "A value is trying to be set on a copy of a slice from a DataFrame.\n",
      "Try using .loc[row_indexer,col_indexer] = value instead\n",
      "\n",
      "See the caveats in the documentation: https://pandas.pydata.org/pandas-docs/stable/user_guide/indexing.html#returning-a-view-versus-a-copy\n",
      "  merge[\"Salary\"] = merge[\"Salary\"].str.split(\"  \")\n"
     ]
    }
   ],
   "source": [
    "salary_append = []\n",
    "merge = merge.loc[merge[\"Salary\"] != \"None\"]\n",
    "merge[\"Salary\"] = merge[\"Salary\"].str.replace(\",\", \"\")\n",
    "merge[\"Salary\"] = merge[\"Salary\"].str.replace(\"PHP\", \"\")\n",
    "merge[\"Salary\"] = merge[\"Salary\"].str.replace(\"-\", \"\")\n",
    "merge[\"Salary\"] = merge[\"Salary\"].str.split(\"  \")\n"
   ]
  },
  {
   "cell_type": "code",
   "execution_count": 28,
   "metadata": {},
   "outputs": [],
   "source": [
    "mid_append = []\n",
    "mid_level = merge.loc[merge[\"Career Level\"] == \"1-4 Years Experienced Employee\"]\n",
    "mid_level_salary = mid_level[mid_level[\"Salary\"] != \"None\"]\n",
    "count_mid = mid_level_salary[\"Salary\"]\n",
    "df_mid = count_mid.reset_index()\n",
    "df_mid = df_mid.drop(columns=\"index\")\n",
    "\n",
    "for i in range(len(df_mid)):\n",
    "    salary = df_mid[\"Salary\"][i]\n",
    "    for j in range(len(salary)):\n",
    "        mid_append.append(int(salary[j]))"
   ]
  },
  {
   "cell_type": "code",
   "execution_count": 29,
   "metadata": {},
   "outputs": [],
   "source": [
    "low_append = []\n",
    "low_level = merge.loc[merge[\"Career Level\"] == \"Less than 1 Year Experienced Employee\"]\n",
    "low_level_salary = low_level[low_level[\"Salary\"] != \"None\"]\n",
    "count_low = low_level_salary[\"Salary\"]\n",
    "df_low = count_low.reset_index()\n",
    "df_low = df_low.drop(columns=\"index\")\n",
    "\n",
    "for i in range(len(df_low)):\n",
    "    salary = df_low[\"Salary\"][i]\n",
    "    for j in range(len(salary)):\n",
    "        low_append.append(int(salary[j]))"
   ]
  },
  {
   "cell_type": "code",
   "execution_count": 30,
   "metadata": {},
   "outputs": [],
   "source": [
    "high_append = []\n",
    "high_level = merge.loc[merge[\"Career Level\"] == \"Supervisor/5 Years & Up Experienced Employee\"]\n",
    "high_level_salary = high_level[high_level[\"Salary\"] != \"None\"]\n",
    "count_high = high_level_salary[\"Salary\"]\n",
    "df_high = count_high.reset_index()\n",
    "df_high = df_high.drop(columns=\"index\")\n",
    "\n",
    "for i in range(len(df_high)):\n",
    "    salary = df_high[\"Salary\"][i]\n",
    "    for j in range(len(salary)):\n",
    "        high_append.append(int(salary[j]))\n",
    "\n"
   ]
  },
  {
   "cell_type": "code",
   "execution_count": 31,
   "metadata": {},
   "outputs": [
    {
     "data": {
      "text/plain": [
       "<matplotlib.legend.Legend at 0x12fbb2320>"
      ]
     },
     "execution_count": 31,
     "metadata": {},
     "output_type": "execute_result"
    },
    {
     "data": {
      "image/png": "[encoded data removed]",
      "text/plain": [
       "<Figure size 1440x720 with 1 Axes>"
      ]
     },
     "metadata": {
      "needs_background": "light"
     },
     "output_type": "display_data"
    }
   ],
   "source": [
    "combine_salary = low_append + mid_append + high_append\n",
    "df_combine_salary = pd.DataFrame(combine_salary, columns=[\"Combine Salary\"])\n",
    "\n",
    "bins = [10000,20000,30000,40000,50000,60000,70000,80000,90000,100000,110000,120000,130000,140000,150000,160000,170000,180000,190000,200000,210000,220000]\n",
    "plt.figure(figsize=(20,10))\n",
    "plt.hist(low_append,bins=bins,alpha = 0.5,color=\"black\")\n",
    "plt.hist(mid_append,bins=bins,alpha = 0.5)\n",
    "plt.hist(high_append,bins=bins,alpha = 0.5)\n",
    "plt.ylabel(\"Number Of Salary\")\n",
    "plt.xlabel(\"Salary\")\n",
    "plt.title(\"Distribution of Salary in Sound Engineer\")\n",
    "plt.axvline(df_combine_salary[\"Combine Salary\"].median(), linewidth=5,color=\"red\", label=\"Median Salary is PHP {}\".format(df_combine_salary[\"Combine Salary\"].median()))\n",
    "plt.axvline(df_combine_salary[\"Combine Salary\"].mean(), linewidth=5,color=\"green\", label=\"Mean Salary is PHP {}\".format(df_combine_salary[\"Combine Salary\"].mean()))\n",
    "\n",
    "plt.legend([\"Median Salary is PHP {}\".format(df_combine_salary[\"Combine Salary\"].median()),\"Mean Salary is PHP {}\".format(round(df_combine_salary[\"Combine Salary\"].mean(),2)),'Entry Level', 'Mid Level', 'Senior Level',])\n"
   ]
  }
 ],
 "metadata": {
  "interpreter": {
   "hash": "aee8b7b246df8f9039afb4144a1f6fd8d2ca17a180786b69acc140d282b71a49"
  },
  "kernelspec": {
   "display_name": "Python 3.10.4 64-bit",
   "language": "python",
   "name": "python3"
  },
  "language_info": {
   "codemirror_mode": {
    "name": "ipython",
    "version": 3
   },
   "file_extension": ".py",
   "mimetype": "text/x-python",
   "name": "python",
   "nbconvert_exporter": "python",
   "pygments_lexer": "ipython3",
   "version": "3.10.4"
  },
  "orig_nbformat": 4
 },
 "nbformat": 4,
 "nbformat_minor": 2
}
