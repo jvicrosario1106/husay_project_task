{
 "cells": [
  {
   "cell_type": "code",
   "execution_count": 1,
   "metadata": {},
   "outputs": [],
   "source": [
    "import matplotlib.pyplot as plt\n",
    "import pandas as pd\n",
    "import re\n",
    "import ast"
   ]
  },
  {
   "cell_type": "code",
   "execution_count": 2,
   "metadata": {},
   "outputs": [
    {
     "data": {
      "text/html": [
       "<div>\n",
       "<style scoped>\n",
       "    .dataframe tbody tr th:only-of-type {\n",
       "        vertical-align: middle;\n",
       "    }\n",
       "\n",
       "    .dataframe tbody tr th {\n",
       "        vertical-align: top;\n",
       "    }\n",
       "\n",
       "    .dataframe thead th {\n",
       "        text-align: right;\n",
       "    }\n",
       "</style>\n",
       "<table border=\"1\" class=\"dataframe\">\n",
       "  <thead>\n",
       "    <tr style=\"text-align: right;\">\n",
       "      <th></th>\n",
       "      <th>Title</th>\n",
       "      <th>Company</th>\n",
       "      <th>Location</th>\n",
       "      <th>Summary</th>\n",
       "      <th>Salary</th>\n",
       "      <th>Qualification &amp; Skills</th>\n",
       "      <th>Role and Responsibilities</th>\n",
       "      <th>Job Type</th>\n",
       "      <th>Company Profile&amp;Job Desc</th>\n",
       "      <th>Career Level</th>\n",
       "      <th>Benefits</th>\n",
       "      <th>Company Size</th>\n",
       "    </tr>\n",
       "  </thead>\n",
       "  <tbody>\n",
       "    <tr>\n",
       "      <th>0</th>\n",
       "      <td>Digital Content Producer</td>\n",
       "      <td>Mindbridge Resources Corporation</td>\n",
       "      <td>Pasig City</td>\n",
       "      <td>None</td>\n",
       "      <td>PHP 19,000 - PHP 20,000</td>\n",
       "      <td>[]</td>\n",
       "      <td>['Roles and Responsibilities:', '·\\xa0\\xa0\\xa0...</td>\n",
       "      <td>['Full-Time', 'Average Processing Time']</td>\n",
       "      <td>['Roles and Responsibilities:·\\xa0\\xa0\\xa0\\xa0...</td>\n",
       "      <td>1-4 Years Experienced Employee</td>\n",
       "      <td>[]</td>\n",
       "      <td>1 - 50 Employees</td>\n",
       "    </tr>\n",
       "    <tr>\n",
       "      <th>1</th>\n",
       "      <td>Digital Content Producer</td>\n",
       "      <td>Mindbridge Resources Corporation</td>\n",
       "      <td>Pasig City</td>\n",
       "      <td>None</td>\n",
       "      <td>PHP 19,000 - PHP 20,000</td>\n",
       "      <td>[]</td>\n",
       "      <td>['Roles and Responsibilities:', '·\\xa0\\xa0\\xa0...</td>\n",
       "      <td>['Full-Time', 'Average Processing Time']</td>\n",
       "      <td>['Roles and Responsibilities:·\\xa0\\xa0\\xa0\\xa0...</td>\n",
       "      <td>1-4 Years Experienced Employee</td>\n",
       "      <td>[]</td>\n",
       "      <td>1 - 50 Employees</td>\n",
       "    </tr>\n",
       "    <tr>\n",
       "      <th>2</th>\n",
       "      <td>DIGITAL MARKETING (MELLA HOTEL)</td>\n",
       "      <td>All Value Holdings Corp.</td>\n",
       "      <td>National Capital Reg</td>\n",
       "      <td>Candidate must possess at least a Bachelor's/C...</td>\n",
       "      <td>None</td>\n",
       "      <td>[\"Candidate must possess at least a Bachelor's...</td>\n",
       "      <td>[]</td>\n",
       "      <td>['Full-Time position(s) available.', 'Full-Tim...</td>\n",
       "      <td>[\"Candidate must possess at least a Bachelor's...</td>\n",
       "      <td>1-4 Years Experienced Employee</td>\n",
       "      <td>['Dental, Medical, Loans, Sports (e.g. Gym), V...</td>\n",
       "      <td>201 - 500 Employees</td>\n",
       "    </tr>\n",
       "    <tr>\n",
       "      <th>3</th>\n",
       "      <td>Art Director</td>\n",
       "      <td>KDCI</td>\n",
       "      <td>National Capital Reg</td>\n",
       "      <td>Participate in design meetings and provide con...</td>\n",
       "      <td>PHP 35,000 - PHP 55,000</td>\n",
       "      <td>['Participate in design meetings and provide c...</td>\n",
       "      <td>[]</td>\n",
       "      <td>['Full-Time', 'Average Processing Time']</td>\n",
       "      <td>['KDCI Outsourcing is in the business of provi...</td>\n",
       "      <td>1-4 Years Experienced Employee</td>\n",
       "      <td>['Dental, Medical, Business (e.g. Shirts), Gov...</td>\n",
       "      <td>51 - 200 Employees</td>\n",
       "    </tr>\n",
       "    <tr>\n",
       "      <th>4</th>\n",
       "      <td>Presentation and PowerPoint Designer - Cebu</td>\n",
       "      <td>AvePoint</td>\n",
       "      <td>Cebu (Cebu City)</td>\n",
       "      <td>Build strategic narratives in PowerPoint that ...</td>\n",
       "      <td>PHP 17,000 - PHP 25,000</td>\n",
       "      <td>['Build strategic narratives in PowerPoint tha...</td>\n",
       "      <td>[]</td>\n",
       "      <td>['Full-Time', 'Average Processing Time']</td>\n",
       "      <td>['Overview:As a Presentation/PowerPoint Design...</td>\n",
       "      <td>Less than 1 Year Experienced Employee</td>\n",
       "      <td>[]</td>\n",
       "      <td>1001 - 2000 Employees</td>\n",
       "    </tr>\n",
       "    <tr>\n",
       "      <th>...</th>\n",
       "      <td>...</td>\n",
       "      <td>...</td>\n",
       "      <td>...</td>\n",
       "      <td>...</td>\n",
       "      <td>...</td>\n",
       "      <td>...</td>\n",
       "      <td>...</td>\n",
       "      <td>...</td>\n",
       "      <td>...</td>\n",
       "      <td>...</td>\n",
       "      <td>...</td>\n",
       "      <td>...</td>\n",
       "    </tr>\n",
       "    <tr>\n",
       "      <th>321</th>\n",
       "      <td>Graphic Designer</td>\n",
       "      <td>Saratel Solutions Inc.</td>\n",
       "      <td>Davao</td>\n",
       "      <td>Study design briefs and determine requirements</td>\n",
       "      <td>None</td>\n",
       "      <td>['Study design briefs and determine requiremen...</td>\n",
       "      <td>['Are you waiting for an opportunity for caree...</td>\n",
       "      <td>[]</td>\n",
       "      <td>['Are you waiting for an opportunity for caree...</td>\n",
       "      <td>NaN</td>\n",
       "      <td>[]</td>\n",
       "      <td>NaN</td>\n",
       "    </tr>\n",
       "    <tr>\n",
       "      <th>322</th>\n",
       "      <td>Junior Video Designer - Cebu</td>\n",
       "      <td>AvePoint Holdings USA, LLC</td>\n",
       "      <td>Cebu (Cebu City)</td>\n",
       "      <td>Assist in editing video and audio for marketin...</td>\n",
       "      <td>None</td>\n",
       "      <td>['Assist in editing video and audio for market...</td>\n",
       "      <td>['Overview:', 'The Junior Video Designer will ...</td>\n",
       "      <td>['Average Processing Time']</td>\n",
       "      <td>['Overview:The Junior Video Designer will be r...</td>\n",
       "      <td>NaN</td>\n",
       "      <td>[]</td>\n",
       "      <td>1001 - 2000 Employees</td>\n",
       "    </tr>\n",
       "    <tr>\n",
       "      <th>323</th>\n",
       "      <td>Marketing Manager</td>\n",
       "      <td>Wholeliving Corporation</td>\n",
       "      <td>Makati City</td>\n",
       "      <td>Candidate must possess at least Bachelor's/Col...</td>\n",
       "      <td>None</td>\n",
       "      <td>[\"Candidate must possess at least Bachelor's/C...</td>\n",
       "      <td>['POSITION SUMMARY:', 'Reporting to the VP, th...</td>\n",
       "      <td>['Full-Time', 'Average Processing Time']</td>\n",
       "      <td>[\"Candidate must possess at least Bachelor's/C...</td>\n",
       "      <td>NaN</td>\n",
       "      <td>[]</td>\n",
       "      <td>51 - 200 Employees</td>\n",
       "    </tr>\n",
       "    <tr>\n",
       "      <th>324</th>\n",
       "      <td>Senior Graphic Designer - Print Launches</td>\n",
       "      <td>Canva Solutions Inc.</td>\n",
       "      <td>National Capital Reg</td>\n",
       "      <td>Create designs for projects that align with in...</td>\n",
       "      <td>None</td>\n",
       "      <td>['Create designs for projects that align with ...</td>\n",
       "      <td>['Canva’s Commitment and Mission', 'At Canva, ...</td>\n",
       "      <td>[]</td>\n",
       "      <td>['Canva’s Commitment and MissionAt Canva, we c...</td>\n",
       "      <td>NaN</td>\n",
       "      <td>['Education support, Miscellaneous allowance, ...</td>\n",
       "      <td>51 - 200 Employees</td>\n",
       "    </tr>\n",
       "    <tr>\n",
       "      <th>325</th>\n",
       "      <td>Senior Graphic Designer - Print BAU</td>\n",
       "      <td>Canva Solutions Inc.</td>\n",
       "      <td>National Capital Reg</td>\n",
       "      <td>Create designs for projects that align with in...</td>\n",
       "      <td>None</td>\n",
       "      <td>['Create designs for projects that align with ...</td>\n",
       "      <td>['Canva’s Commitment and Mission', 'At Canva, ...</td>\n",
       "      <td>[]</td>\n",
       "      <td>['Canva’s Commitment and MissionAt Canva, we c...</td>\n",
       "      <td>NaN</td>\n",
       "      <td>['Education support, Miscellaneous allowance, ...</td>\n",
       "      <td>51 - 200 Employees</td>\n",
       "    </tr>\n",
       "  </tbody>\n",
       "</table>\n",
       "<p>326 rows × 12 columns</p>\n",
       "</div>"
      ],
      "text/plain": [
       "                                           Title  \\\n",
       "0                       Digital Content Producer   \n",
       "1                       Digital Content Producer   \n",
       "2                DIGITAL MARKETING (MELLA HOTEL)   \n",
       "3                                   Art Director   \n",
       "4    Presentation and PowerPoint Designer - Cebu   \n",
       "..                                           ...   \n",
       "321                             Graphic Designer   \n",
       "322                 Junior Video Designer - Cebu   \n",
       "323                            Marketing Manager   \n",
       "324     Senior Graphic Designer - Print Launches   \n",
       "325          Senior Graphic Designer - Print BAU   \n",
       "\n",
       "                              Company              Location  \\\n",
       "0    Mindbridge Resources Corporation            Pasig City   \n",
       "1    Mindbridge Resources Corporation            Pasig City   \n",
       "2            All Value Holdings Corp.  National Capital Reg   \n",
       "3                                KDCI  National Capital Reg   \n",
       "4                            AvePoint      Cebu (Cebu City)   \n",
       "..                                ...                   ...   \n",
       "321            Saratel Solutions Inc.                 Davao   \n",
       "322        AvePoint Holdings USA, LLC      Cebu (Cebu City)   \n",
       "323           Wholeliving Corporation           Makati City   \n",
       "324              Canva Solutions Inc.  National Capital Reg   \n",
       "325              Canva Solutions Inc.  National Capital Reg   \n",
       "\n",
       "                                               Summary  \\\n",
       "0                                                 None   \n",
       "1                                                 None   \n",
       "2    Candidate must possess at least a Bachelor's/C...   \n",
       "3    Participate in design meetings and provide con...   \n",
       "4    Build strategic narratives in PowerPoint that ...   \n",
       "..                                                 ...   \n",
       "321     Study design briefs and determine requirements   \n",
       "322  Assist in editing video and audio for marketin...   \n",
       "323  Candidate must possess at least Bachelor's/Col...   \n",
       "324  Create designs for projects that align with in...   \n",
       "325  Create designs for projects that align with in...   \n",
       "\n",
       "                      Salary  \\\n",
       "0    PHP 19,000 - PHP 20,000   \n",
       "1    PHP 19,000 - PHP 20,000   \n",
       "2                       None   \n",
       "3    PHP 35,000 - PHP 55,000   \n",
       "4    PHP 17,000 - PHP 25,000   \n",
       "..                       ...   \n",
       "321                     None   \n",
       "322                     None   \n",
       "323                     None   \n",
       "324                     None   \n",
       "325                     None   \n",
       "\n",
       "                                Qualification & Skills  \\\n",
       "0                                                   []   \n",
       "1                                                   []   \n",
       "2    [\"Candidate must possess at least a Bachelor's...   \n",
       "3    ['Participate in design meetings and provide c...   \n",
       "4    ['Build strategic narratives in PowerPoint tha...   \n",
       "..                                                 ...   \n",
       "321  ['Study design briefs and determine requiremen...   \n",
       "322  ['Assist in editing video and audio for market...   \n",
       "323  [\"Candidate must possess at least Bachelor's/C...   \n",
       "324  ['Create designs for projects that align with ...   \n",
       "325  ['Create designs for projects that align with ...   \n",
       "\n",
       "                             Role and Responsibilities  \\\n",
       "0    ['Roles and Responsibilities:', '·\\xa0\\xa0\\xa0...   \n",
       "1    ['Roles and Responsibilities:', '·\\xa0\\xa0\\xa0...   \n",
       "2                                                   []   \n",
       "3                                                   []   \n",
       "4                                                   []   \n",
       "..                                                 ...   \n",
       "321  ['Are you waiting for an opportunity for caree...   \n",
       "322  ['Overview:', 'The Junior Video Designer will ...   \n",
       "323  ['POSITION SUMMARY:', 'Reporting to the VP, th...   \n",
       "324  ['Canva’s Commitment and Mission', 'At Canva, ...   \n",
       "325  ['Canva’s Commitment and Mission', 'At Canva, ...   \n",
       "\n",
       "                                              Job Type  \\\n",
       "0             ['Full-Time', 'Average Processing Time']   \n",
       "1             ['Full-Time', 'Average Processing Time']   \n",
       "2    ['Full-Time position(s) available.', 'Full-Tim...   \n",
       "3             ['Full-Time', 'Average Processing Time']   \n",
       "4             ['Full-Time', 'Average Processing Time']   \n",
       "..                                                 ...   \n",
       "321                                                 []   \n",
       "322                        ['Average Processing Time']   \n",
       "323           ['Full-Time', 'Average Processing Time']   \n",
       "324                                                 []   \n",
       "325                                                 []   \n",
       "\n",
       "                              Company Profile&Job Desc  \\\n",
       "0    ['Roles and Responsibilities:·\\xa0\\xa0\\xa0\\xa0...   \n",
       "1    ['Roles and Responsibilities:·\\xa0\\xa0\\xa0\\xa0...   \n",
       "2    [\"Candidate must possess at least a Bachelor's...   \n",
       "3    ['KDCI Outsourcing is in the business of provi...   \n",
       "4    ['Overview:As a Presentation/PowerPoint Design...   \n",
       "..                                                 ...   \n",
       "321  ['Are you waiting for an opportunity for caree...   \n",
       "322  ['Overview:The Junior Video Designer will be r...   \n",
       "323  [\"Candidate must possess at least Bachelor's/C...   \n",
       "324  ['Canva’s Commitment and MissionAt Canva, we c...   \n",
       "325  ['Canva’s Commitment and MissionAt Canva, we c...   \n",
       "\n",
       "                              Career Level  \\\n",
       "0           1-4 Years Experienced Employee   \n",
       "1           1-4 Years Experienced Employee   \n",
       "2           1-4 Years Experienced Employee   \n",
       "3           1-4 Years Experienced Employee   \n",
       "4    Less than 1 Year Experienced Employee   \n",
       "..                                     ...   \n",
       "321                                    NaN   \n",
       "322                                    NaN   \n",
       "323                                    NaN   \n",
       "324                                    NaN   \n",
       "325                                    NaN   \n",
       "\n",
       "                                              Benefits           Company Size  \n",
       "0                                                   []       1 - 50 Employees  \n",
       "1                                                   []       1 - 50 Employees  \n",
       "2    ['Dental, Medical, Loans, Sports (e.g. Gym), V...    201 - 500 Employees  \n",
       "3    ['Dental, Medical, Business (e.g. Shirts), Gov...     51 - 200 Employees  \n",
       "4                                                   []  1001 - 2000 Employees  \n",
       "..                                                 ...                    ...  \n",
       "321                                                 []                    NaN  \n",
       "322                                                 []  1001 - 2000 Employees  \n",
       "323                                                 []     51 - 200 Employees  \n",
       "324  ['Education support, Miscellaneous allowance, ...     51 - 200 Employees  \n",
       "325  ['Education support, Miscellaneous allowance, ...     51 - 200 Employees  \n",
       "\n",
       "[326 rows x 12 columns]"
      ]
     },
     "execution_count": 2,
     "metadata": {},
     "output_type": "execute_result"
    }
   ],
   "source": [
    "csv_path = [\n",
    "   \"../../Raw_CSV/April 25-26 - 2022/Jobstreet/Jobstreet-creative-director.csv\",\n",
    "   \"../../Raw_CSV/April 27 - 2022/Jobstreet/Jobstreet-creative-director.csv\",\n",
    "    \"../../Raw_CSV/April 28 - 2022/Jobstreet/Jobstreet-creative-director.csv\", \n",
    "]\n",
    "merge = pd.concat(map(pd.read_csv,csv_path),ignore_index=True)\n",
    "merge[\"Salary\"].str.strip()\n",
    "merge"
   ]
  },
  {
   "cell_type": "code",
   "execution_count": 3,
   "metadata": {},
   "outputs": [
    {
     "data": {
      "text/html": [
       "<div>\n",
       "<style scoped>\n",
       "    .dataframe tbody tr th:only-of-type {\n",
       "        vertical-align: middle;\n",
       "    }\n",
       "\n",
       "    .dataframe tbody tr th {\n",
       "        vertical-align: top;\n",
       "    }\n",
       "\n",
       "    .dataframe thead th {\n",
       "        text-align: right;\n",
       "    }\n",
       "</style>\n",
       "<table border=\"1\" class=\"dataframe\">\n",
       "  <thead>\n",
       "    <tr style=\"text-align: right;\">\n",
       "      <th></th>\n",
       "      <th>Title</th>\n",
       "      <th>Company</th>\n",
       "      <th>Location</th>\n",
       "      <th>Summary</th>\n",
       "      <th>Salary</th>\n",
       "      <th>Qualification &amp; Skills</th>\n",
       "      <th>Role and Responsibilities</th>\n",
       "      <th>Job Type</th>\n",
       "      <th>Company Profile&amp;Job Desc</th>\n",
       "      <th>Career Level</th>\n",
       "      <th>Benefits</th>\n",
       "      <th>Company Size</th>\n",
       "    </tr>\n",
       "  </thead>\n",
       "  <tbody>\n",
       "    <tr>\n",
       "      <th>0</th>\n",
       "      <td>Digital Content Producer</td>\n",
       "      <td>Mindbridge Resources Corporation</td>\n",
       "      <td>Pasig City</td>\n",
       "      <td>None</td>\n",
       "      <td>PHP 19,000 - PHP 20,000</td>\n",
       "      <td>[]</td>\n",
       "      <td>['Roles and Responsibilities:', '·\\xa0\\xa0\\xa0...</td>\n",
       "      <td>['Full-Time', 'Average Processing Time']</td>\n",
       "      <td>['Roles and Responsibilities:·\\xa0\\xa0\\xa0\\xa0...</td>\n",
       "      <td>1-4 Years Experienced Employee</td>\n",
       "      <td>[]</td>\n",
       "      <td>1 - 50 Employees</td>\n",
       "    </tr>\n",
       "    <tr>\n",
       "      <th>1</th>\n",
       "      <td>Digital Content Producer</td>\n",
       "      <td>Mindbridge Resources Corporation</td>\n",
       "      <td>Pasig City</td>\n",
       "      <td>None</td>\n",
       "      <td>PHP 19,000 - PHP 20,000</td>\n",
       "      <td>[]</td>\n",
       "      <td>['Roles and Responsibilities:', '·\\xa0\\xa0\\xa0...</td>\n",
       "      <td>['Full-Time', 'Average Processing Time']</td>\n",
       "      <td>['Roles and Responsibilities:·\\xa0\\xa0\\xa0\\xa0...</td>\n",
       "      <td>1-4 Years Experienced Employee</td>\n",
       "      <td>[]</td>\n",
       "      <td>1 - 50 Employees</td>\n",
       "    </tr>\n",
       "    <tr>\n",
       "      <th>2</th>\n",
       "      <td>DIGITAL MARKETING (MELLA HOTEL)</td>\n",
       "      <td>All Value Holdings Corp.</td>\n",
       "      <td>National Capital Reg</td>\n",
       "      <td>Candidate must possess at least a Bachelor's/C...</td>\n",
       "      <td>None</td>\n",
       "      <td>[\"Candidate must possess at least a Bachelor's...</td>\n",
       "      <td>[]</td>\n",
       "      <td>['Full-Time position(s) available.', 'Full-Tim...</td>\n",
       "      <td>[\"Candidate must possess at least a Bachelor's...</td>\n",
       "      <td>1-4 Years Experienced Employee</td>\n",
       "      <td>['Dental, Medical, Loans, Sports (e.g. Gym), V...</td>\n",
       "      <td>201 - 500 Employees</td>\n",
       "    </tr>\n",
       "    <tr>\n",
       "      <th>3</th>\n",
       "      <td>Art Director</td>\n",
       "      <td>KDCI</td>\n",
       "      <td>National Capital Reg</td>\n",
       "      <td>Participate in design meetings and provide con...</td>\n",
       "      <td>PHP 35,000 - PHP 55,000</td>\n",
       "      <td>['Participate in design meetings and provide c...</td>\n",
       "      <td>[]</td>\n",
       "      <td>['Full-Time', 'Average Processing Time']</td>\n",
       "      <td>['KDCI Outsourcing is in the business of provi...</td>\n",
       "      <td>1-4 Years Experienced Employee</td>\n",
       "      <td>['Dental, Medical, Business (e.g. Shirts), Gov...</td>\n",
       "      <td>51 - 200 Employees</td>\n",
       "    </tr>\n",
       "    <tr>\n",
       "      <th>4</th>\n",
       "      <td>Presentation and PowerPoint Designer - Cebu</td>\n",
       "      <td>AvePoint</td>\n",
       "      <td>Cebu (Cebu City)</td>\n",
       "      <td>Build strategic narratives in PowerPoint that ...</td>\n",
       "      <td>PHP 17,000 - PHP 25,000</td>\n",
       "      <td>['Build strategic narratives in PowerPoint tha...</td>\n",
       "      <td>[]</td>\n",
       "      <td>['Full-Time', 'Average Processing Time']</td>\n",
       "      <td>['Overview:As a Presentation/PowerPoint Design...</td>\n",
       "      <td>Less than 1 Year Experienced Employee</td>\n",
       "      <td>[]</td>\n",
       "      <td>1001 - 2000 Employees</td>\n",
       "    </tr>\n",
       "    <tr>\n",
       "      <th>...</th>\n",
       "      <td>...</td>\n",
       "      <td>...</td>\n",
       "      <td>...</td>\n",
       "      <td>...</td>\n",
       "      <td>...</td>\n",
       "      <td>...</td>\n",
       "      <td>...</td>\n",
       "      <td>...</td>\n",
       "      <td>...</td>\n",
       "      <td>...</td>\n",
       "      <td>...</td>\n",
       "      <td>...</td>\n",
       "    </tr>\n",
       "    <tr>\n",
       "      <th>321</th>\n",
       "      <td>Graphic Designer</td>\n",
       "      <td>Saratel Solutions Inc.</td>\n",
       "      <td>Davao</td>\n",
       "      <td>Study design briefs and determine requirements</td>\n",
       "      <td>None</td>\n",
       "      <td>['Study design briefs and determine requiremen...</td>\n",
       "      <td>['Are you waiting for an opportunity for caree...</td>\n",
       "      <td>[]</td>\n",
       "      <td>['Are you waiting for an opportunity for caree...</td>\n",
       "      <td>NaN</td>\n",
       "      <td>[]</td>\n",
       "      <td>NaN</td>\n",
       "    </tr>\n",
       "    <tr>\n",
       "      <th>322</th>\n",
       "      <td>Junior Video Designer - Cebu</td>\n",
       "      <td>AvePoint Holdings USA, LLC</td>\n",
       "      <td>Cebu (Cebu City)</td>\n",
       "      <td>Assist in editing video and audio for marketin...</td>\n",
       "      <td>None</td>\n",
       "      <td>['Assist in editing video and audio for market...</td>\n",
       "      <td>['Overview:', 'The Junior Video Designer will ...</td>\n",
       "      <td>['Average Processing Time']</td>\n",
       "      <td>['Overview:The Junior Video Designer will be r...</td>\n",
       "      <td>NaN</td>\n",
       "      <td>[]</td>\n",
       "      <td>1001 - 2000 Employees</td>\n",
       "    </tr>\n",
       "    <tr>\n",
       "      <th>323</th>\n",
       "      <td>Marketing Manager</td>\n",
       "      <td>Wholeliving Corporation</td>\n",
       "      <td>Makati City</td>\n",
       "      <td>Candidate must possess at least Bachelor's/Col...</td>\n",
       "      <td>None</td>\n",
       "      <td>[\"Candidate must possess at least Bachelor's/C...</td>\n",
       "      <td>['POSITION SUMMARY:', 'Reporting to the VP, th...</td>\n",
       "      <td>['Full-Time', 'Average Processing Time']</td>\n",
       "      <td>[\"Candidate must possess at least Bachelor's/C...</td>\n",
       "      <td>NaN</td>\n",
       "      <td>[]</td>\n",
       "      <td>51 - 200 Employees</td>\n",
       "    </tr>\n",
       "    <tr>\n",
       "      <th>324</th>\n",
       "      <td>Senior Graphic Designer - Print Launches</td>\n",
       "      <td>Canva Solutions Inc.</td>\n",
       "      <td>National Capital Reg</td>\n",
       "      <td>Create designs for projects that align with in...</td>\n",
       "      <td>None</td>\n",
       "      <td>['Create designs for projects that align with ...</td>\n",
       "      <td>['Canva’s Commitment and Mission', 'At Canva, ...</td>\n",
       "      <td>[]</td>\n",
       "      <td>['Canva’s Commitment and MissionAt Canva, we c...</td>\n",
       "      <td>NaN</td>\n",
       "      <td>['Education support, Miscellaneous allowance, ...</td>\n",
       "      <td>51 - 200 Employees</td>\n",
       "    </tr>\n",
       "    <tr>\n",
       "      <th>325</th>\n",
       "      <td>Senior Graphic Designer - Print BAU</td>\n",
       "      <td>Canva Solutions Inc.</td>\n",
       "      <td>National Capital Reg</td>\n",
       "      <td>Create designs for projects that align with in...</td>\n",
       "      <td>None</td>\n",
       "      <td>['Create designs for projects that align with ...</td>\n",
       "      <td>['Canva’s Commitment and Mission', 'At Canva, ...</td>\n",
       "      <td>[]</td>\n",
       "      <td>['Canva’s Commitment and MissionAt Canva, we c...</td>\n",
       "      <td>NaN</td>\n",
       "      <td>['Education support, Miscellaneous allowance, ...</td>\n",
       "      <td>51 - 200 Employees</td>\n",
       "    </tr>\n",
       "  </tbody>\n",
       "</table>\n",
       "<p>326 rows × 12 columns</p>\n",
       "</div>"
      ],
      "text/plain": [
       "                                           Title  \\\n",
       "0                       Digital Content Producer   \n",
       "1                       Digital Content Producer   \n",
       "2                DIGITAL MARKETING (MELLA HOTEL)   \n",
       "3                                   Art Director   \n",
       "4    Presentation and PowerPoint Designer - Cebu   \n",
       "..                                           ...   \n",
       "321                             Graphic Designer   \n",
       "322                 Junior Video Designer - Cebu   \n",
       "323                            Marketing Manager   \n",
       "324     Senior Graphic Designer - Print Launches   \n",
       "325          Senior Graphic Designer - Print BAU   \n",
       "\n",
       "                              Company              Location  \\\n",
       "0    Mindbridge Resources Corporation            Pasig City   \n",
       "1    Mindbridge Resources Corporation            Pasig City   \n",
       "2            All Value Holdings Corp.  National Capital Reg   \n",
       "3                                KDCI  National Capital Reg   \n",
       "4                            AvePoint      Cebu (Cebu City)   \n",
       "..                                ...                   ...   \n",
       "321            Saratel Solutions Inc.                 Davao   \n",
       "322        AvePoint Holdings USA, LLC      Cebu (Cebu City)   \n",
       "323           Wholeliving Corporation           Makati City   \n",
       "324              Canva Solutions Inc.  National Capital Reg   \n",
       "325              Canva Solutions Inc.  National Capital Reg   \n",
       "\n",
       "                                               Summary  \\\n",
       "0                                                 None   \n",
       "1                                                 None   \n",
       "2    Candidate must possess at least a Bachelor's/C...   \n",
       "3    Participate in design meetings and provide con...   \n",
       "4    Build strategic narratives in PowerPoint that ...   \n",
       "..                                                 ...   \n",
       "321     Study design briefs and determine requirements   \n",
       "322  Assist in editing video and audio for marketin...   \n",
       "323  Candidate must possess at least Bachelor's/Col...   \n",
       "324  Create designs for projects that align with in...   \n",
       "325  Create designs for projects that align with in...   \n",
       "\n",
       "                      Salary  \\\n",
       "0    PHP 19,000 - PHP 20,000   \n",
       "1    PHP 19,000 - PHP 20,000   \n",
       "2                       None   \n",
       "3    PHP 35,000 - PHP 55,000   \n",
       "4    PHP 17,000 - PHP 25,000   \n",
       "..                       ...   \n",
       "321                     None   \n",
       "322                     None   \n",
       "323                     None   \n",
       "324                     None   \n",
       "325                     None   \n",
       "\n",
       "                                Qualification & Skills  \\\n",
       "0                                                   []   \n",
       "1                                                   []   \n",
       "2    [\"Candidate must possess at least a Bachelor's...   \n",
       "3    ['Participate in design meetings and provide c...   \n",
       "4    ['Build strategic narratives in PowerPoint tha...   \n",
       "..                                                 ...   \n",
       "321  ['Study design briefs and determine requiremen...   \n",
       "322  ['Assist in editing video and audio for market...   \n",
       "323  [\"Candidate must possess at least Bachelor's/C...   \n",
       "324  ['Create designs for projects that align with ...   \n",
       "325  ['Create designs for projects that align with ...   \n",
       "\n",
       "                             Role and Responsibilities  \\\n",
       "0    ['Roles and Responsibilities:', '·\\xa0\\xa0\\xa0...   \n",
       "1    ['Roles and Responsibilities:', '·\\xa0\\xa0\\xa0...   \n",
       "2                                                   []   \n",
       "3                                                   []   \n",
       "4                                                   []   \n",
       "..                                                 ...   \n",
       "321  ['Are you waiting for an opportunity for caree...   \n",
       "322  ['Overview:', 'The Junior Video Designer will ...   \n",
       "323  ['POSITION SUMMARY:', 'Reporting to the VP, th...   \n",
       "324  ['Canva’s Commitment and Mission', 'At Canva, ...   \n",
       "325  ['Canva’s Commitment and Mission', 'At Canva, ...   \n",
       "\n",
       "                                              Job Type  \\\n",
       "0             ['Full-Time', 'Average Processing Time']   \n",
       "1             ['Full-Time', 'Average Processing Time']   \n",
       "2    ['Full-Time position(s) available.', 'Full-Tim...   \n",
       "3             ['Full-Time', 'Average Processing Time']   \n",
       "4             ['Full-Time', 'Average Processing Time']   \n",
       "..                                                 ...   \n",
       "321                                                 []   \n",
       "322                        ['Average Processing Time']   \n",
       "323           ['Full-Time', 'Average Processing Time']   \n",
       "324                                                 []   \n",
       "325                                                 []   \n",
       "\n",
       "                              Company Profile&Job Desc  \\\n",
       "0    ['Roles and Responsibilities:·\\xa0\\xa0\\xa0\\xa0...   \n",
       "1    ['Roles and Responsibilities:·\\xa0\\xa0\\xa0\\xa0...   \n",
       "2    [\"Candidate must possess at least a Bachelor's...   \n",
       "3    ['KDCI Outsourcing is in the business of provi...   \n",
       "4    ['Overview:As a Presentation/PowerPoint Design...   \n",
       "..                                                 ...   \n",
       "321  ['Are you waiting for an opportunity for caree...   \n",
       "322  ['Overview:The Junior Video Designer will be r...   \n",
       "323  [\"Candidate must possess at least Bachelor's/C...   \n",
       "324  ['Canva’s Commitment and MissionAt Canva, we c...   \n",
       "325  ['Canva’s Commitment and MissionAt Canva, we c...   \n",
       "\n",
       "                              Career Level  \\\n",
       "0           1-4 Years Experienced Employee   \n",
       "1           1-4 Years Experienced Employee   \n",
       "2           1-4 Years Experienced Employee   \n",
       "3           1-4 Years Experienced Employee   \n",
       "4    Less than 1 Year Experienced Employee   \n",
       "..                                     ...   \n",
       "321                                    NaN   \n",
       "322                                    NaN   \n",
       "323                                    NaN   \n",
       "324                                    NaN   \n",
       "325                                    NaN   \n",
       "\n",
       "                                              Benefits           Company Size  \n",
       "0                                                   []       1 - 50 Employees  \n",
       "1                                                   []       1 - 50 Employees  \n",
       "2    ['Dental, Medical, Loans, Sports (e.g. Gym), V...    201 - 500 Employees  \n",
       "3    ['Dental, Medical, Business (e.g. Shirts), Gov...     51 - 200 Employees  \n",
       "4                                                   []  1001 - 2000 Employees  \n",
       "..                                                 ...                    ...  \n",
       "321                                                 []                    NaN  \n",
       "322                                                 []  1001 - 2000 Employees  \n",
       "323                                                 []     51 - 200 Employees  \n",
       "324  ['Education support, Miscellaneous allowance, ...     51 - 200 Employees  \n",
       "325  ['Education support, Miscellaneous allowance, ...     51 - 200 Employees  \n",
       "\n",
       "[326 rows x 12 columns]"
      ]
     },
     "execution_count": 3,
     "metadata": {},
     "output_type": "execute_result"
    }
   ],
   "source": [
    "merge"
   ]
  },
  {
   "cell_type": "code",
   "execution_count": 4,
   "metadata": {},
   "outputs": [
    {
     "data": {
      "text/html": [
       "<div>\n",
       "<style scoped>\n",
       "    .dataframe tbody tr th:only-of-type {\n",
       "        vertical-align: middle;\n",
       "    }\n",
       "\n",
       "    .dataframe tbody tr th {\n",
       "        vertical-align: top;\n",
       "    }\n",
       "\n",
       "    .dataframe thead th {\n",
       "        text-align: right;\n",
       "    }\n",
       "</style>\n",
       "<table border=\"1\" class=\"dataframe\">\n",
       "  <thead>\n",
       "    <tr style=\"text-align: right;\">\n",
       "      <th></th>\n",
       "      <th>Title</th>\n",
       "      <th>Company</th>\n",
       "      <th>Location</th>\n",
       "      <th>Summary</th>\n",
       "      <th>Salary</th>\n",
       "      <th>Qualification &amp; Skills</th>\n",
       "      <th>Role and Responsibilities</th>\n",
       "      <th>Job Type</th>\n",
       "      <th>Company Profile&amp;Job Desc</th>\n",
       "      <th>Career Level</th>\n",
       "      <th>Benefits</th>\n",
       "      <th>Company Size</th>\n",
       "    </tr>\n",
       "  </thead>\n",
       "  <tbody>\n",
       "    <tr>\n",
       "      <th>count</th>\n",
       "      <td>326</td>\n",
       "      <td>326</td>\n",
       "      <td>326</td>\n",
       "      <td>326</td>\n",
       "      <td>326</td>\n",
       "      <td>326</td>\n",
       "      <td>326</td>\n",
       "      <td>326</td>\n",
       "      <td>326</td>\n",
       "      <td>279</td>\n",
       "      <td>326</td>\n",
       "      <td>301</td>\n",
       "    </tr>\n",
       "    <tr>\n",
       "      <th>unique</th>\n",
       "      <td>86</td>\n",
       "      <td>79</td>\n",
       "      <td>23</td>\n",
       "      <td>70</td>\n",
       "      <td>32</td>\n",
       "      <td>75</td>\n",
       "      <td>71</td>\n",
       "      <td>10</td>\n",
       "      <td>104</td>\n",
       "      <td>3</td>\n",
       "      <td>45</td>\n",
       "      <td>8</td>\n",
       "    </tr>\n",
       "    <tr>\n",
       "      <th>top</th>\n",
       "      <td>Graphic Designer</td>\n",
       "      <td>Canva Solutions Inc.</td>\n",
       "      <td>National Capital Reg</td>\n",
       "      <td>None</td>\n",
       "      <td>None</td>\n",
       "      <td>[]</td>\n",
       "      <td>[]</td>\n",
       "      <td>['Full-Time', 'Average Processing Time']</td>\n",
       "      <td>[\"Art Director (Project Based)FEU Institute of...</td>\n",
       "      <td>1-4 Years Experienced Employee</td>\n",
       "      <td>[]</td>\n",
       "      <td>51 - 200 Employees</td>\n",
       "    </tr>\n",
       "    <tr>\n",
       "      <th>freq</th>\n",
       "      <td>20</td>\n",
       "      <td>24</td>\n",
       "      <td>124</td>\n",
       "      <td>71</td>\n",
       "      <td>217</td>\n",
       "      <td>71</td>\n",
       "      <td>87</td>\n",
       "      <td>181</td>\n",
       "      <td>11</td>\n",
       "      <td>193</td>\n",
       "      <td>133</td>\n",
       "      <td>84</td>\n",
       "    </tr>\n",
       "  </tbody>\n",
       "</table>\n",
       "</div>"
      ],
      "text/plain": [
       "                   Title               Company              Location Summary  \\\n",
       "count                326                   326                   326     326   \n",
       "unique                86                    79                    23      70   \n",
       "top     Graphic Designer  Canva Solutions Inc.  National Capital Reg    None   \n",
       "freq                  20                    24                   124      71   \n",
       "\n",
       "       Salary Qualification & Skills Role and Responsibilities  \\\n",
       "count     326                    326                       326   \n",
       "unique     32                     75                        71   \n",
       "top      None                     []                        []   \n",
       "freq      217                     71                        87   \n",
       "\n",
       "                                        Job Type  \\\n",
       "count                                        326   \n",
       "unique                                        10   \n",
       "top     ['Full-Time', 'Average Processing Time']   \n",
       "freq                                         181   \n",
       "\n",
       "                                 Company Profile&Job Desc  \\\n",
       "count                                                 326   \n",
       "unique                                                104   \n",
       "top     [\"Art Director (Project Based)FEU Institute of...   \n",
       "freq                                                   11   \n",
       "\n",
       "                          Career Level Benefits        Company Size  \n",
       "count                              279      326                 301  \n",
       "unique                               3       45                   8  \n",
       "top     1-4 Years Experienced Employee       []  51 - 200 Employees  \n",
       "freq                               193      133                  84  "
      ]
     },
     "execution_count": 4,
     "metadata": {},
     "output_type": "execute_result"
    }
   ],
   "source": [
    "merge.describe()"
   ]
  },
  {
   "cell_type": "code",
   "execution_count": 5,
   "metadata": {},
   "outputs": [],
   "source": [
    "job_title_lower = merge[\"Title\"].str.lower()"
   ]
  },
  {
   "cell_type": "code",
   "execution_count": 6,
   "metadata": {},
   "outputs": [],
   "source": [
    "job_title = job_title_lower.value_counts()[0:10]"
   ]
  },
  {
   "cell_type": "code",
   "execution_count": 7,
   "metadata": {},
   "outputs": [
    {
     "data": {
      "text/plain": [
       "graphic designer                            23\n",
       "graphic artist                              16\n",
       "art director                                13\n",
       "art director (project based)                11\n",
       "multimedia designer                         10\n",
       "art director (work from home)               10\n",
       "marketing manager                            8\n",
       "digital content producer                     8\n",
       "creative lead - illustrations (graphics)     8\n",
       "visual merchandiser -iloilo                  7\n",
       "Name: Title, dtype: int64"
      ]
     },
     "execution_count": 7,
     "metadata": {},
     "output_type": "execute_result"
    }
   ],
   "source": [
    "job_title"
   ]
  },
  {
   "cell_type": "code",
   "execution_count": 8,
   "metadata": {},
   "outputs": [
    {
     "data": {
      "image/png": "[encoded data removed]",
      "text/plain": [
       "<Figure size 432x288 with 1 Axes>"
      ]
     },
     "metadata": {
      "needs_background": "light"
     },
     "output_type": "display_data"
    }
   ],
   "source": [
    "plt.bar(job_title.index, job_title.values)\n",
    "plt.xticks(rotation=\"30\", ha=\"right\")\n",
    "plt.show()"
   ]
  },
  {
   "cell_type": "code",
   "execution_count": 9,
   "metadata": {},
   "outputs": [],
   "source": [
    "company_name = merge[\"Company\"].value_counts()[0:10]"
   ]
  },
  {
   "cell_type": "code",
   "execution_count": 10,
   "metadata": {},
   "outputs": [
    {
     "data": {
      "image/png": "[encoded data removed]",
      "text/plain": [
       "<Figure size 432x288 with 1 Axes>"
      ]
     },
     "metadata": {
      "needs_background": "light"
     },
     "output_type": "display_data"
    }
   ],
   "source": [
    "plt.bar(company_name.index, company_name.values)\n",
    "plt.xticks(rotation=\"30\", ha=\"right\")\n",
    "plt.show()"
   ]
  },
  {
   "cell_type": "code",
   "execution_count": 11,
   "metadata": {},
   "outputs": [],
   "source": [
    "company_location = merge[\"Location\"].value_counts()[0:10]"
   ]
  },
  {
   "cell_type": "code",
   "execution_count": 12,
   "metadata": {},
   "outputs": [
    {
     "data": {
      "image/png": "[encoded data removed]",
      "text/plain": [
       "<Figure size 432x288 with 1 Axes>"
      ]
     },
     "metadata": {
      "needs_background": "light"
     },
     "output_type": "display_data"
    }
   ],
   "source": [
    "plt.bar(company_location.index, company_location.values)\n",
    "plt.xticks(rotation=\"30\", ha=\"right\")\n",
    "plt.show()\n"
   ]
  },
  {
   "cell_type": "code",
   "execution_count": 13,
   "metadata": {},
   "outputs": [],
   "source": [
    "filt = (merge[\"Salary\"] != \"None\")\n",
    "results = merge.loc[filt]"
   ]
  },
  {
   "cell_type": "code",
   "execution_count": 14,
   "metadata": {},
   "outputs": [],
   "source": [
    "salary = results[\"Salary\"].value_counts()[0:10]"
   ]
  },
  {
   "cell_type": "code",
   "execution_count": 15,
   "metadata": {},
   "outputs": [
    {
     "data": {
      "image/png": "[encoded data removed]",
      "text/plain": [
       "<Figure size 432x288 with 1 Axes>"
      ]
     },
     "metadata": {
      "needs_background": "light"
     },
     "output_type": "display_data"
    }
   ],
   "source": [
    "plt.bar(salary.index, salary.values)\n",
    "plt.xticks(rotation=\"30\", ha=\"right\")\n",
    "plt.show()"
   ]
  },
  {
   "cell_type": "code",
   "execution_count": 16,
   "metadata": {},
   "outputs": [],
   "source": [
    "job_type = merge[\"Job Type\"].apply(ast.literal_eval)\n",
    "job_type_append = []\n",
    "for i in job_type:\n",
    "    job_type_append.append(job_type[0][0])"
   ]
  },
  {
   "cell_type": "code",
   "execution_count": 17,
   "metadata": {},
   "outputs": [
    {
     "data": {
      "text/plain": [
       "Job Type \n",
       "Full-Time    326\n",
       "dtype: int64"
      ]
     },
     "execution_count": 17,
     "metadata": {},
     "output_type": "execute_result"
    }
   ],
   "source": [
    "# List to Dataframe ( Count Job Type )\n",
    "job_type_df = pd.DataFrame(job_type_append,columns=[\"Job Type\"])\n",
    "job_type_df.value_counts()\n"
   ]
  },
  {
   "cell_type": "code",
   "execution_count": 18,
   "metadata": {},
   "outputs": [
    {
     "data": {
      "text/plain": [
       "1-4 Years Experienced Employee                  193\n",
       "Less than 1 Year Experienced Employee            43\n",
       "Supervisor/5 Years & Up Experienced Employee     43\n",
       "Name: Career Level, dtype: int64"
      ]
     },
     "execution_count": 18,
     "metadata": {},
     "output_type": "execute_result"
    }
   ],
   "source": [
    "career_level = merge[\"Career Level\"]\n",
    "count_career_level = career_level.value_counts()\n",
    "count_career_level"
   ]
  },
  {
   "cell_type": "code",
   "execution_count": 19,
   "metadata": {},
   "outputs": [
    {
     "data": {
      "image/png": "[encoded data removed]",
      "text/plain": [
       "<Figure size 432x288 with 1 Axes>"
      ]
     },
     "metadata": {
      "needs_background": "light"
     },
     "output_type": "display_data"
    }
   ],
   "source": [
    "plt.bar(count_career_level.index, count_career_level.values)\n",
    "plt.xticks(rotation=\"30\",ha=\"right\")\n",
    "plt.show()"
   ]
  },
  {
   "cell_type": "code",
   "execution_count": 20,
   "metadata": {},
   "outputs": [
    {
     "data": {
      "text/plain": [
       "51 - 200 Employees       84\n",
       "1 - 50 Employees         60\n",
       "501 - 1000 Employees     54\n",
       "201 - 500 Employees      31\n",
       "2001 - 5000 Employees    27\n",
       "None                     26\n",
       "Name: Company Size, dtype: int64"
      ]
     },
     "execution_count": 20,
     "metadata": {},
     "output_type": "execute_result"
    }
   ],
   "source": [
    "company_size = merge[\"Company Size\"]\n",
    "count_company_size = company_size.value_counts()[0:6]\n",
    "count_company_size"
   ]
  },
  {
   "cell_type": "code",
   "execution_count": 21,
   "metadata": {},
   "outputs": [
    {
     "data": {
      "image/png": "[encoded data removed]",
      "text/plain": [
       "<Figure size 432x288 with 1 Axes>"
      ]
     },
     "metadata": {
      "needs_background": "light"
     },
     "output_type": "display_data"
    }
   ],
   "source": [
    "plt.bar(count_company_size.index, count_company_size.values)\n",
    "plt.xticks(rotation=\"30\",ha=\"right\")\n",
    "plt.show()"
   ]
  },
  {
   "cell_type": "code",
   "execution_count": 22,
   "metadata": {},
   "outputs": [
    {
     "name": "stderr",
     "output_type": "stream",
     "text": [
      "/var/folders/tc/qdg72rpx523gjsqcr2vf_0c00000gn/T/ipykernel_1024/2971443327.py:1: FutureWarning: The default value of regex will change from True to False in a future version.\n",
      "  benefits = merge[\"Benefits\"].str.replace(\"^\\['|'\\]$\",\"\")\n"
     ]
    }
   ],
   "source": [
    "benefits = merge[\"Benefits\"].str.replace(\"^\\['|'\\]$\",\"\")\n",
    "benefits_append = []\n",
    "split_benefits = benefits.str.split(\",\")\n",
    "\n",
    "for i in range(len(split_benefits)):\n",
    "    for j in split_benefits[i]:\n",
    "        benefits_append.append(j)\n"
   ]
  },
  {
   "cell_type": "code",
   "execution_count": 23,
   "metadata": {},
   "outputs": [
    {
     "data": {
      "text/plain": [
       "Medical                    188\n",
       "Miscellaneous allowance    117\n",
       "Mondays - Fridays          111\n",
       "Regular hours              111\n",
       "Casual (e.g. T-shirts)      89\n",
       "Dental                      81\n",
       "Education support           64\n",
       "Business (e.g. Shirts)      62\n",
       "Sports (e.g. Gym)           55\n",
       "Loans                       54\n",
       "Vision                      39\n",
       "Parking                     35\n",
       "Equity Shares               24\n",
       "In-house Chef               24\n",
       "Rice Subsidy                12\n",
       "Name: Benefits, dtype: int64"
      ]
     },
     "execution_count": 23,
     "metadata": {},
     "output_type": "execute_result"
    }
   ],
   "source": [
    "benefits_df = pd.DataFrame(benefits_append, columns=[\"Benefits\"])\n",
    "benefits_df = benefits_df[\"Benefits\"].str.strip()\n",
    "filt = (benefits_df != \"[]\")\n",
    "benefits_df = benefits_df.loc[filt]\n",
    "benefits_count = benefits_df.value_counts()[0:15]\n",
    "benefits_count\n",
    "\n"
   ]
  },
  {
   "cell_type": "code",
   "execution_count": 24,
   "metadata": {},
   "outputs": [
    {
     "data": {
      "image/png": "[encoded data removed]",
      "text/plain": [
       "<Figure size 432x288 with 1 Axes>"
      ]
     },
     "metadata": {
      "needs_background": "light"
     },
     "output_type": "display_data"
    }
   ],
   "source": [
    "plt.bar(benefits_count.index, benefits_count.values)\n",
    "plt.xticks(rotation=\"30\",ha=\"right\")\n",
    "plt.show()"
   ]
  },
  {
   "cell_type": "code",
   "execution_count": 25,
   "metadata": {},
   "outputs": [],
   "source": [
    "filt = (merge[\"Salary\"] != \"None\")\n",
    "salary_career_level = merge[filt].sort_values(by=\"Salary\",ascending=True)\n",
    "count = salary_career_level[[\"Title\",\"Salary\",\"Career Level\"]]\n",
    "\n"
   ]
  },
  {
   "cell_type": "code",
   "execution_count": 26,
   "metadata": {},
   "outputs": [
    {
     "data": {
      "text/plain": [
       "1-4 Years Experienced Employee                  193\n",
       "Less than 1 Year Experienced Employee            43\n",
       "Supervisor/5 Years & Up Experienced Employee     43\n",
       "Name: Career Level, dtype: int64"
      ]
     },
     "execution_count": 26,
     "metadata": {},
     "output_type": "execute_result"
    }
   ],
   "source": [
    "merge[\"Career Level\"].value_counts()"
   ]
  },
  {
   "cell_type": "code",
   "execution_count": 27,
   "metadata": {},
   "outputs": [
    {
     "data": {
      "image/png": "[encoded data removed]",
      "text/plain": [
       "<Figure size 432x288 with 1 Axes>"
      ]
     },
     "metadata": {
      "needs_background": "light"
     },
     "output_type": "display_data"
    }
   ],
   "source": [
    "mid_level = merge.loc[merge[\"Career Level\"] == \"1-4 Years Experienced Employee\"]\n",
    "mid_level_salary = mid_level[mid_level[\"Salary\"] != \"None\"]\n",
    "count_mid = mid_level_salary[\"Salary\"].value_counts()[0:10]\n",
    "plt.bar(count_mid.index, count_mid.values)\n",
    "plt.xticks(rotation=\"30\",ha=\"right\")\n",
    "plt.show()"
   ]
  },
  {
   "cell_type": "code",
   "execution_count": 28,
   "metadata": {},
   "outputs": [
    {
     "data": {
      "image/png": "[encoded data removed]",
      "text/plain": [
       "<Figure size 432x288 with 1 Axes>"
      ]
     },
     "metadata": {
      "needs_background": "light"
     },
     "output_type": "display_data"
    }
   ],
   "source": [
    "low_level = merge.loc[merge[\"Career Level\"] == \"Less than 1 Year Experienced Employee\"]\n",
    "low_level_salary = low_level[low_level[\"Salary\"] != \"None\"]\n",
    "count_low = low_level_salary[\"Salary\"].value_counts()[0:10]\n",
    "\n",
    "plt.bar(count_low.index, count_low.values)\n",
    "plt.xticks(rotation=\"30\",ha=\"right\")\n",
    "plt.show()"
   ]
  },
  {
   "cell_type": "code",
   "execution_count": 29,
   "metadata": {},
   "outputs": [
    {
     "data": {
      "image/png": "[encoded data removed]",
      "text/plain": [
       "<Figure size 432x288 with 1 Axes>"
      ]
     },
     "metadata": {
      "needs_background": "light"
     },
     "output_type": "display_data"
    }
   ],
   "source": [
    "high_level = merge.loc[merge[\"Career Level\"] == \"Supervisor/5 Years & Up Experienced Employee\"]\n",
    "high_level_salary = high_level[high_level[\"Salary\"] != \"None\"]\n",
    "count_high = high_level_salary[\"Salary\"].value_counts()[0:10]\n",
    "plt.bar(count_high.index, count_high.values)\n",
    "plt.xticks(rotation=\"30\",ha=\"right\")\n",
    "plt.show()"
   ]
  },
  {
   "cell_type": "code",
   "execution_count": null,
   "metadata": {},
   "outputs": [],
   "source": []
  }
 ],
 "metadata": {
  "interpreter": {
   "hash": "aee8b7b246df8f9039afb4144a1f6fd8d2ca17a180786b69acc140d282b71a49"
  },
  "kernelspec": {
   "display_name": "Python 3.10.4 64-bit",
   "language": "python",
   "name": "python3"
  },
  "language_info": {
   "codemirror_mode": {
    "name": "ipython",
    "version": 3
   },
   "file_extension": ".py",
   "mimetype": "text/x-python",
   "name": "python",
   "nbconvert_exporter": "python",
   "pygments_lexer": "ipython3",
   "version": "3.10.4"
  },
  "orig_nbformat": 4
 },
 "nbformat": 4,
 "nbformat_minor": 2
}
