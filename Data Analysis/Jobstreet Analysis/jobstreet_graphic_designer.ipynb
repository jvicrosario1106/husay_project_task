{
 "cells": [
  {
   "cell_type": "code",
   "execution_count": 1,
   "metadata": {},
   "outputs": [],
   "source": [
    "import matplotlib.pyplot as plt\n",
    "import pandas as pd\n",
    "import re\n",
    "import ast"
   ]
  },
  {
   "cell_type": "code",
   "execution_count": 2,
   "metadata": {},
   "outputs": [
    {
     "data": {
      "text/html": [
       "<div>\n",
       "<style scoped>\n",
       "    .dataframe tbody tr th:only-of-type {\n",
       "        vertical-align: middle;\n",
       "    }\n",
       "\n",
       "    .dataframe tbody tr th {\n",
       "        vertical-align: top;\n",
       "    }\n",
       "\n",
       "    .dataframe thead th {\n",
       "        text-align: right;\n",
       "    }\n",
       "</style>\n",
       "<table border=\"1\" class=\"dataframe\">\n",
       "  <thead>\n",
       "    <tr style=\"text-align: right;\">\n",
       "      <th></th>\n",
       "      <th>Title</th>\n",
       "      <th>Company</th>\n",
       "      <th>Location</th>\n",
       "      <th>Summary</th>\n",
       "      <th>Salary</th>\n",
       "      <th>Qualification &amp; Skills</th>\n",
       "      <th>Role and Responsibilities</th>\n",
       "      <th>Job Type</th>\n",
       "      <th>Company Profile&amp;Job Desc</th>\n",
       "      <th>Career Level</th>\n",
       "      <th>Benefits</th>\n",
       "      <th>Company Size</th>\n",
       "    </tr>\n",
       "  </thead>\n",
       "  <tbody>\n",
       "    <tr>\n",
       "      <th>0</th>\n",
       "      <td>Midlevel Designer</td>\n",
       "      <td>SPi Global (now Straive)</td>\n",
       "      <td>National Capital Reg</td>\n",
       "      <td>Midlevel DesignerNational Capital RegResponsib...</td>\n",
       "      <td>PHP 18,000 - PHP 25,000</td>\n",
       "      <td>['Midlevel DesignerNational Capital RegRespons...</td>\n",
       "      <td>[]</td>\n",
       "      <td>['Full-Time', 'Average Processing Time']</td>\n",
       "      <td>['Midlevel DesignerNational Capital RegRespons...</td>\n",
       "      <td>1-4 Years Experienced Employee</td>\n",
       "      <td>['Dental, Miscellaneous allowance, Medical, Lo...</td>\n",
       "      <td>None</td>\n",
       "    </tr>\n",
       "    <tr>\n",
       "      <th>1</th>\n",
       "      <td>Midlevel Designer</td>\n",
       "      <td>SPi Global (now Straive)</td>\n",
       "      <td>National Capital Reg</td>\n",
       "      <td>Midlevel DesignerNational Capital RegResponsib...</td>\n",
       "      <td>PHP 18,000 - PHP 25,000</td>\n",
       "      <td>['Midlevel DesignerNational Capital RegRespons...</td>\n",
       "      <td>[]</td>\n",
       "      <td>['Full-Time', 'Average Processing Time']</td>\n",
       "      <td>['Midlevel DesignerNational Capital RegRespons...</td>\n",
       "      <td>1-4 Years Experienced Employee</td>\n",
       "      <td>['Dental, Miscellaneous allowance, Medical, Lo...</td>\n",
       "      <td>None</td>\n",
       "    </tr>\n",
       "    <tr>\n",
       "      <th>2</th>\n",
       "      <td>Senior Graphic Artist/Designer ( Makati : 30K ...</td>\n",
       "      <td>SAGASS CONSULTING</td>\n",
       "      <td>National Capital Reg</td>\n",
       "      <td>BS Degree in Arts / Designs / Creative Multime...</td>\n",
       "      <td>PHP 30,000 - PHP 60,000</td>\n",
       "      <td>['BS Degree in Arts / Designs / Creative Multi...</td>\n",
       "      <td>[]</td>\n",
       "      <td>['Full-Time', 'Average Processing Time']</td>\n",
       "      <td>[\"REQUIREMENTS:BS Degree in Arts / Designs / C...</td>\n",
       "      <td>1-4 Years Experienced Employee</td>\n",
       "      <td>[]</td>\n",
       "      <td>1 - 50 Employees</td>\n",
       "    </tr>\n",
       "    <tr>\n",
       "      <th>3</th>\n",
       "      <td>Graphic Artist</td>\n",
       "      <td>Emerald Wireless Tech Inc. (Oppo)</td>\n",
       "      <td>Taguig City</td>\n",
       "      <td>Responsible for the design of platform page, c...</td>\n",
       "      <td>PHP 30,000 - PHP 35,000</td>\n",
       "      <td>['Responsible for the design of platform page,...</td>\n",
       "      <td>['Job Qualifications:']</td>\n",
       "      <td>['Full-Time', 'Average Processing Time']</td>\n",
       "      <td>[\"Responsible for the design of platform page,...</td>\n",
       "      <td>1-4 Years Experienced Employee</td>\n",
       "      <td>[]</td>\n",
       "      <td>2001 - 5000 Employees</td>\n",
       "    </tr>\n",
       "    <tr>\n",
       "      <th>4</th>\n",
       "      <td>Graphic Designer (Day Shift - Bi)</td>\n",
       "      <td>Sourcefit Philippines, Inc.</td>\n",
       "      <td>National Capital Reg</td>\n",
       "      <td>None</td>\n",
       "      <td>None</td>\n",
       "      <td>[]</td>\n",
       "      <td>[]</td>\n",
       "      <td>['-Paid Time offs (Vacation Leaves Are Convert...</td>\n",
       "      <td>[\"We are looking for a Graphic Designer to joi...</td>\n",
       "      <td>1-4 Years Experienced Employee</td>\n",
       "      <td>['Dental, Miscellaneous allowance, Medical, Lo...</td>\n",
       "      <td>501 - 1000 Employees</td>\n",
       "    </tr>\n",
       "    <tr>\n",
       "      <th>...</th>\n",
       "      <td>...</td>\n",
       "      <td>...</td>\n",
       "      <td>...</td>\n",
       "      <td>...</td>\n",
       "      <td>...</td>\n",
       "      <td>...</td>\n",
       "      <td>...</td>\n",
       "      <td>...</td>\n",
       "      <td>...</td>\n",
       "      <td>...</td>\n",
       "      <td>...</td>\n",
       "      <td>...</td>\n",
       "    </tr>\n",
       "    <tr>\n",
       "      <th>805</th>\n",
       "      <td>JSAI534: Start ASAP! Senior Instructional Desi...</td>\n",
       "      <td>247.ai Philippines</td>\n",
       "      <td>Taguig City</td>\n",
       "      <td>Excellent written and oral English communicat...</td>\n",
       "      <td>None</td>\n",
       "      <td>['\\xa0Excellent written and oral English commu...</td>\n",
       "      <td>[]</td>\n",
       "      <td>['Full-Time', 'Average Processing Time']</td>\n",
       "      <td>[\"REQUIREMENTS:\\xa0Excellent written and oral ...</td>\n",
       "      <td>Supervisor/5 Years &amp; Up Experienced Employee</td>\n",
       "      <td>['Dental, Miscellaneous allowance, Medical, Lo...</td>\n",
       "      <td>2001 - 5000 Employees</td>\n",
       "    </tr>\n",
       "    <tr>\n",
       "      <th>806</th>\n",
       "      <td>Marketing Assistant (Lipa)</td>\n",
       "      <td>Salinas (IM) Corporation</td>\n",
       "      <td>Calabarzon &amp; Mimaropa</td>\n",
       "      <td>Candidate must possess at least a Bachelor's D...</td>\n",
       "      <td>None</td>\n",
       "      <td>[\"Candidate must possess at least a Bachelor's...</td>\n",
       "      <td>[]</td>\n",
       "      <td>['1 Full-Time position available.', 'Full-Time...</td>\n",
       "      <td>[\"Candidate must possess at least a Bachelor's...</td>\n",
       "      <td>1-4 Years Experienced Employee</td>\n",
       "      <td>['Dental, Miscellaneous allowance, Medical, Lo...</td>\n",
       "      <td>51 - 200 Employees</td>\n",
       "    </tr>\n",
       "    <tr>\n",
       "      <th>807</th>\n",
       "      <td>Multimedia Artist (Graphics and Video)</td>\n",
       "      <td>UNIVERSAL ACCESS and SYSTEMS SOLUTIONS, PHIL. ...</td>\n",
       "      <td>National Capital Reg</td>\n",
       "      <td>Bachelor’s degree in fine arts, computer graph...</td>\n",
       "      <td>None</td>\n",
       "      <td>['Bachelor’s degree in fine arts, computer gra...</td>\n",
       "      <td>[]</td>\n",
       "      <td>['Full-Time', 'Average Processing Time']</td>\n",
       "      <td>['Qualifications:Bachelor’s degree in fine art...</td>\n",
       "      <td>1-4 Years Experienced Employee</td>\n",
       "      <td>['Dental, Miscellaneous allowance, Medical, Sp...</td>\n",
       "      <td>501 - 1000 Employees</td>\n",
       "    </tr>\n",
       "    <tr>\n",
       "      <th>808</th>\n",
       "      <td>Graphic Designer (with Animation skills)</td>\n",
       "      <td>Fruitas Holdings Incorporated</td>\n",
       "      <td>National Capital Reg</td>\n",
       "      <td>Graduate of Bachelor's Degree in Multimedia Ar...</td>\n",
       "      <td>PHP 14,000 - PHP 18,000</td>\n",
       "      <td>[\"Graduate of Bachelor's Degree in Multimedia ...</td>\n",
       "      <td>[]</td>\n",
       "      <td>['Full-Time', 'Average Processing Time']</td>\n",
       "      <td>[\"Minimum Qualifications:Graduate of Bachelor'...</td>\n",
       "      <td>1-4 Years Experienced Employee</td>\n",
       "      <td>[]</td>\n",
       "      <td>1001 - 2000 Employees</td>\n",
       "    </tr>\n",
       "    <tr>\n",
       "      <th>809</th>\n",
       "      <td>Animation Modeller/Renderer</td>\n",
       "      <td>The Studio Bridge</td>\n",
       "      <td>Manila City</td>\n",
       "      <td>Liaising with animators and concept artists re...</td>\n",
       "      <td>None</td>\n",
       "      <td>['Liaising with animators and concept artists ...</td>\n",
       "      <td>['The Studio Bridge, founded in 2020, is a gra...</td>\n",
       "      <td>['Full-Time', 'Average Processing Time']</td>\n",
       "      <td>[\"The Studio Bridge, founded in 2020, is a gra...</td>\n",
       "      <td>Supervisor/5 Years &amp; Up Experienced Employee</td>\n",
       "      <td>['Dental, Miscellaneous allowance, Medical, Re...</td>\n",
       "      <td>1 - 50 Employees</td>\n",
       "    </tr>\n",
       "  </tbody>\n",
       "</table>\n",
       "<p>810 rows × 12 columns</p>\n",
       "</div>"
      ],
      "text/plain": [
       "                                                 Title  \\\n",
       "0                                    Midlevel Designer   \n",
       "1                                    Midlevel Designer   \n",
       "2    Senior Graphic Artist/Designer ( Makati : 30K ...   \n",
       "3                                       Graphic Artist   \n",
       "4                    Graphic Designer (Day Shift - Bi)   \n",
       "..                                                 ...   \n",
       "805  JSAI534: Start ASAP! Senior Instructional Desi...   \n",
       "806                         Marketing Assistant (Lipa)   \n",
       "807             Multimedia Artist (Graphics and Video)   \n",
       "808           Graphic Designer (with Animation skills)   \n",
       "809                        Animation Modeller/Renderer   \n",
       "\n",
       "                                               Company               Location  \\\n",
       "0                             SPi Global (now Straive)   National Capital Reg   \n",
       "1                             SPi Global (now Straive)   National Capital Reg   \n",
       "2                                    SAGASS CONSULTING   National Capital Reg   \n",
       "3                    Emerald Wireless Tech Inc. (Oppo)            Taguig City   \n",
       "4                          Sourcefit Philippines, Inc.   National Capital Reg   \n",
       "..                                                 ...                    ...   \n",
       "805                                 247.ai Philippines            Taguig City   \n",
       "806                           Salinas (IM) Corporation  Calabarzon & Mimaropa   \n",
       "807  UNIVERSAL ACCESS and SYSTEMS SOLUTIONS, PHIL. ...   National Capital Reg   \n",
       "808                      Fruitas Holdings Incorporated   National Capital Reg   \n",
       "809                                  The Studio Bridge            Manila City   \n",
       "\n",
       "                                               Summary  \\\n",
       "0    Midlevel DesignerNational Capital RegResponsib...   \n",
       "1    Midlevel DesignerNational Capital RegResponsib...   \n",
       "2    BS Degree in Arts / Designs / Creative Multime...   \n",
       "3    Responsible for the design of platform page, c...   \n",
       "4                                                 None   \n",
       "..                                                 ...   \n",
       "805   Excellent written and oral English communicat...   \n",
       "806  Candidate must possess at least a Bachelor's D...   \n",
       "807  Bachelor’s degree in fine arts, computer graph...   \n",
       "808  Graduate of Bachelor's Degree in Multimedia Ar...   \n",
       "809  Liaising with animators and concept artists re...   \n",
       "\n",
       "                      Salary  \\\n",
       "0    PHP 18,000 - PHP 25,000   \n",
       "1    PHP 18,000 - PHP 25,000   \n",
       "2    PHP 30,000 - PHP 60,000   \n",
       "3    PHP 30,000 - PHP 35,000   \n",
       "4                       None   \n",
       "..                       ...   \n",
       "805                     None   \n",
       "806                     None   \n",
       "807                     None   \n",
       "808  PHP 14,000 - PHP 18,000   \n",
       "809                     None   \n",
       "\n",
       "                                Qualification & Skills  \\\n",
       "0    ['Midlevel DesignerNational Capital RegRespons...   \n",
       "1    ['Midlevel DesignerNational Capital RegRespons...   \n",
       "2    ['BS Degree in Arts / Designs / Creative Multi...   \n",
       "3    ['Responsible for the design of platform page,...   \n",
       "4                                                   []   \n",
       "..                                                 ...   \n",
       "805  ['\\xa0Excellent written and oral English commu...   \n",
       "806  [\"Candidate must possess at least a Bachelor's...   \n",
       "807  ['Bachelor’s degree in fine arts, computer gra...   \n",
       "808  [\"Graduate of Bachelor's Degree in Multimedia ...   \n",
       "809  ['Liaising with animators and concept artists ...   \n",
       "\n",
       "                             Role and Responsibilities  \\\n",
       "0                                                   []   \n",
       "1                                                   []   \n",
       "2                                                   []   \n",
       "3                              ['Job Qualifications:']   \n",
       "4                                                   []   \n",
       "..                                                 ...   \n",
       "805                                                 []   \n",
       "806                                                 []   \n",
       "807                                                 []   \n",
       "808                                                 []   \n",
       "809  ['The Studio Bridge, founded in 2020, is a gra...   \n",
       "\n",
       "                                              Job Type  \\\n",
       "0             ['Full-Time', 'Average Processing Time']   \n",
       "1             ['Full-Time', 'Average Processing Time']   \n",
       "2             ['Full-Time', 'Average Processing Time']   \n",
       "3             ['Full-Time', 'Average Processing Time']   \n",
       "4    ['-Paid Time offs (Vacation Leaves Are Convert...   \n",
       "..                                                 ...   \n",
       "805           ['Full-Time', 'Average Processing Time']   \n",
       "806  ['1 Full-Time position available.', 'Full-Time...   \n",
       "807           ['Full-Time', 'Average Processing Time']   \n",
       "808           ['Full-Time', 'Average Processing Time']   \n",
       "809           ['Full-Time', 'Average Processing Time']   \n",
       "\n",
       "                              Company Profile&Job Desc  \\\n",
       "0    ['Midlevel DesignerNational Capital RegRespons...   \n",
       "1    ['Midlevel DesignerNational Capital RegRespons...   \n",
       "2    [\"REQUIREMENTS:BS Degree in Arts / Designs / C...   \n",
       "3    [\"Responsible for the design of platform page,...   \n",
       "4    [\"We are looking for a Graphic Designer to joi...   \n",
       "..                                                 ...   \n",
       "805  [\"REQUIREMENTS:\\xa0Excellent written and oral ...   \n",
       "806  [\"Candidate must possess at least a Bachelor's...   \n",
       "807  ['Qualifications:Bachelor’s degree in fine art...   \n",
       "808  [\"Minimum Qualifications:Graduate of Bachelor'...   \n",
       "809  [\"The Studio Bridge, founded in 2020, is a gra...   \n",
       "\n",
       "                                     Career Level  \\\n",
       "0                  1-4 Years Experienced Employee   \n",
       "1                  1-4 Years Experienced Employee   \n",
       "2                  1-4 Years Experienced Employee   \n",
       "3                  1-4 Years Experienced Employee   \n",
       "4                  1-4 Years Experienced Employee   \n",
       "..                                            ...   \n",
       "805  Supervisor/5 Years & Up Experienced Employee   \n",
       "806                1-4 Years Experienced Employee   \n",
       "807                1-4 Years Experienced Employee   \n",
       "808                1-4 Years Experienced Employee   \n",
       "809  Supervisor/5 Years & Up Experienced Employee   \n",
       "\n",
       "                                              Benefits           Company Size  \n",
       "0    ['Dental, Miscellaneous allowance, Medical, Lo...                   None  \n",
       "1    ['Dental, Miscellaneous allowance, Medical, Lo...                   None  \n",
       "2                                                   []       1 - 50 Employees  \n",
       "3                                                   []  2001 - 5000 Employees  \n",
       "4    ['Dental, Miscellaneous allowance, Medical, Lo...   501 - 1000 Employees  \n",
       "..                                                 ...                    ...  \n",
       "805  ['Dental, Miscellaneous allowance, Medical, Lo...  2001 - 5000 Employees  \n",
       "806  ['Dental, Miscellaneous allowance, Medical, Lo...     51 - 200 Employees  \n",
       "807  ['Dental, Miscellaneous allowance, Medical, Sp...   501 - 1000 Employees  \n",
       "808                                                 []  1001 - 2000 Employees  \n",
       "809  ['Dental, Miscellaneous allowance, Medical, Re...       1 - 50 Employees  \n",
       "\n",
       "[810 rows x 12 columns]"
      ]
     },
     "execution_count": 2,
     "metadata": {},
     "output_type": "execute_result"
    }
   ],
   "source": [
    "csv_path = [\n",
    "   \"../../Raw_CSV/April 25-26 - 2022/Jobstreet/Jobstreet-graphic-designer.csv\",\n",
    "   \"../../Raw_CSV/April 27 - 2022/Jobstreet/Jobstreet-graphic-designer.csv\",\n",
    "    \"../../Raw_CSV/April 28 - 2022/Jobstreet/Jobstreet-graphic-designer.csv\", \n",
    "]\n",
    "merge = pd.concat(map(pd.read_csv,csv_path),ignore_index=True)\n",
    "merge[\"Salary\"].str.strip()\n",
    "merge"
   ]
  },
  {
   "cell_type": "code",
   "execution_count": 3,
   "metadata": {},
   "outputs": [
    {
     "data": {
      "text/html": [
       "<div>\n",
       "<style scoped>\n",
       "    .dataframe tbody tr th:only-of-type {\n",
       "        vertical-align: middle;\n",
       "    }\n",
       "\n",
       "    .dataframe tbody tr th {\n",
       "        vertical-align: top;\n",
       "    }\n",
       "\n",
       "    .dataframe thead th {\n",
       "        text-align: right;\n",
       "    }\n",
       "</style>\n",
       "<table border=\"1\" class=\"dataframe\">\n",
       "  <thead>\n",
       "    <tr style=\"text-align: right;\">\n",
       "      <th></th>\n",
       "      <th>Title</th>\n",
       "      <th>Company</th>\n",
       "      <th>Location</th>\n",
       "      <th>Summary</th>\n",
       "      <th>Salary</th>\n",
       "      <th>Qualification &amp; Skills</th>\n",
       "      <th>Role and Responsibilities</th>\n",
       "      <th>Job Type</th>\n",
       "      <th>Company Profile&amp;Job Desc</th>\n",
       "      <th>Career Level</th>\n",
       "      <th>Benefits</th>\n",
       "      <th>Company Size</th>\n",
       "    </tr>\n",
       "  </thead>\n",
       "  <tbody>\n",
       "    <tr>\n",
       "      <th>0</th>\n",
       "      <td>Midlevel Designer</td>\n",
       "      <td>SPi Global (now Straive)</td>\n",
       "      <td>National Capital Reg</td>\n",
       "      <td>Midlevel DesignerNational Capital RegResponsib...</td>\n",
       "      <td>PHP 18,000 - PHP 25,000</td>\n",
       "      <td>['Midlevel DesignerNational Capital RegRespons...</td>\n",
       "      <td>[]</td>\n",
       "      <td>['Full-Time', 'Average Processing Time']</td>\n",
       "      <td>['Midlevel DesignerNational Capital RegRespons...</td>\n",
       "      <td>1-4 Years Experienced Employee</td>\n",
       "      <td>['Dental, Miscellaneous allowance, Medical, Lo...</td>\n",
       "      <td>None</td>\n",
       "    </tr>\n",
       "    <tr>\n",
       "      <th>1</th>\n",
       "      <td>Midlevel Designer</td>\n",
       "      <td>SPi Global (now Straive)</td>\n",
       "      <td>National Capital Reg</td>\n",
       "      <td>Midlevel DesignerNational Capital RegResponsib...</td>\n",
       "      <td>PHP 18,000 - PHP 25,000</td>\n",
       "      <td>['Midlevel DesignerNational Capital RegRespons...</td>\n",
       "      <td>[]</td>\n",
       "      <td>['Full-Time', 'Average Processing Time']</td>\n",
       "      <td>['Midlevel DesignerNational Capital RegRespons...</td>\n",
       "      <td>1-4 Years Experienced Employee</td>\n",
       "      <td>['Dental, Miscellaneous allowance, Medical, Lo...</td>\n",
       "      <td>None</td>\n",
       "    </tr>\n",
       "    <tr>\n",
       "      <th>2</th>\n",
       "      <td>Senior Graphic Artist/Designer ( Makati : 30K ...</td>\n",
       "      <td>SAGASS CONSULTING</td>\n",
       "      <td>National Capital Reg</td>\n",
       "      <td>BS Degree in Arts / Designs / Creative Multime...</td>\n",
       "      <td>PHP 30,000 - PHP 60,000</td>\n",
       "      <td>['BS Degree in Arts / Designs / Creative Multi...</td>\n",
       "      <td>[]</td>\n",
       "      <td>['Full-Time', 'Average Processing Time']</td>\n",
       "      <td>[\"REQUIREMENTS:BS Degree in Arts / Designs / C...</td>\n",
       "      <td>1-4 Years Experienced Employee</td>\n",
       "      <td>[]</td>\n",
       "      <td>1 - 50 Employees</td>\n",
       "    </tr>\n",
       "    <tr>\n",
       "      <th>3</th>\n",
       "      <td>Graphic Artist</td>\n",
       "      <td>Emerald Wireless Tech Inc. (Oppo)</td>\n",
       "      <td>Taguig City</td>\n",
       "      <td>Responsible for the design of platform page, c...</td>\n",
       "      <td>PHP 30,000 - PHP 35,000</td>\n",
       "      <td>['Responsible for the design of platform page,...</td>\n",
       "      <td>['Job Qualifications:']</td>\n",
       "      <td>['Full-Time', 'Average Processing Time']</td>\n",
       "      <td>[\"Responsible for the design of platform page,...</td>\n",
       "      <td>1-4 Years Experienced Employee</td>\n",
       "      <td>[]</td>\n",
       "      <td>2001 - 5000 Employees</td>\n",
       "    </tr>\n",
       "    <tr>\n",
       "      <th>4</th>\n",
       "      <td>Graphic Designer (Day Shift - Bi)</td>\n",
       "      <td>Sourcefit Philippines, Inc.</td>\n",
       "      <td>National Capital Reg</td>\n",
       "      <td>None</td>\n",
       "      <td>None</td>\n",
       "      <td>[]</td>\n",
       "      <td>[]</td>\n",
       "      <td>['-Paid Time offs (Vacation Leaves Are Convert...</td>\n",
       "      <td>[\"We are looking for a Graphic Designer to joi...</td>\n",
       "      <td>1-4 Years Experienced Employee</td>\n",
       "      <td>['Dental, Miscellaneous allowance, Medical, Lo...</td>\n",
       "      <td>501 - 1000 Employees</td>\n",
       "    </tr>\n",
       "    <tr>\n",
       "      <th>...</th>\n",
       "      <td>...</td>\n",
       "      <td>...</td>\n",
       "      <td>...</td>\n",
       "      <td>...</td>\n",
       "      <td>...</td>\n",
       "      <td>...</td>\n",
       "      <td>...</td>\n",
       "      <td>...</td>\n",
       "      <td>...</td>\n",
       "      <td>...</td>\n",
       "      <td>...</td>\n",
       "      <td>...</td>\n",
       "    </tr>\n",
       "    <tr>\n",
       "      <th>805</th>\n",
       "      <td>JSAI534: Start ASAP! Senior Instructional Desi...</td>\n",
       "      <td>247.ai Philippines</td>\n",
       "      <td>Taguig City</td>\n",
       "      <td>Excellent written and oral English communicat...</td>\n",
       "      <td>None</td>\n",
       "      <td>['\\xa0Excellent written and oral English commu...</td>\n",
       "      <td>[]</td>\n",
       "      <td>['Full-Time', 'Average Processing Time']</td>\n",
       "      <td>[\"REQUIREMENTS:\\xa0Excellent written and oral ...</td>\n",
       "      <td>Supervisor/5 Years &amp; Up Experienced Employee</td>\n",
       "      <td>['Dental, Miscellaneous allowance, Medical, Lo...</td>\n",
       "      <td>2001 - 5000 Employees</td>\n",
       "    </tr>\n",
       "    <tr>\n",
       "      <th>806</th>\n",
       "      <td>Marketing Assistant (Lipa)</td>\n",
       "      <td>Salinas (IM) Corporation</td>\n",
       "      <td>Calabarzon &amp; Mimaropa</td>\n",
       "      <td>Candidate must possess at least a Bachelor's D...</td>\n",
       "      <td>None</td>\n",
       "      <td>[\"Candidate must possess at least a Bachelor's...</td>\n",
       "      <td>[]</td>\n",
       "      <td>['1 Full-Time position available.', 'Full-Time...</td>\n",
       "      <td>[\"Candidate must possess at least a Bachelor's...</td>\n",
       "      <td>1-4 Years Experienced Employee</td>\n",
       "      <td>['Dental, Miscellaneous allowance, Medical, Lo...</td>\n",
       "      <td>51 - 200 Employees</td>\n",
       "    </tr>\n",
       "    <tr>\n",
       "      <th>807</th>\n",
       "      <td>Multimedia Artist (Graphics and Video)</td>\n",
       "      <td>UNIVERSAL ACCESS and SYSTEMS SOLUTIONS, PHIL. ...</td>\n",
       "      <td>National Capital Reg</td>\n",
       "      <td>Bachelor’s degree in fine arts, computer graph...</td>\n",
       "      <td>None</td>\n",
       "      <td>['Bachelor’s degree in fine arts, computer gra...</td>\n",
       "      <td>[]</td>\n",
       "      <td>['Full-Time', 'Average Processing Time']</td>\n",
       "      <td>['Qualifications:Bachelor’s degree in fine art...</td>\n",
       "      <td>1-4 Years Experienced Employee</td>\n",
       "      <td>['Dental, Miscellaneous allowance, Medical, Sp...</td>\n",
       "      <td>501 - 1000 Employees</td>\n",
       "    </tr>\n",
       "    <tr>\n",
       "      <th>808</th>\n",
       "      <td>Graphic Designer (with Animation skills)</td>\n",
       "      <td>Fruitas Holdings Incorporated</td>\n",
       "      <td>National Capital Reg</td>\n",
       "      <td>Graduate of Bachelor's Degree in Multimedia Ar...</td>\n",
       "      <td>PHP 14,000 - PHP 18,000</td>\n",
       "      <td>[\"Graduate of Bachelor's Degree in Multimedia ...</td>\n",
       "      <td>[]</td>\n",
       "      <td>['Full-Time', 'Average Processing Time']</td>\n",
       "      <td>[\"Minimum Qualifications:Graduate of Bachelor'...</td>\n",
       "      <td>1-4 Years Experienced Employee</td>\n",
       "      <td>[]</td>\n",
       "      <td>1001 - 2000 Employees</td>\n",
       "    </tr>\n",
       "    <tr>\n",
       "      <th>809</th>\n",
       "      <td>Animation Modeller/Renderer</td>\n",
       "      <td>The Studio Bridge</td>\n",
       "      <td>Manila City</td>\n",
       "      <td>Liaising with animators and concept artists re...</td>\n",
       "      <td>None</td>\n",
       "      <td>['Liaising with animators and concept artists ...</td>\n",
       "      <td>['The Studio Bridge, founded in 2020, is a gra...</td>\n",
       "      <td>['Full-Time', 'Average Processing Time']</td>\n",
       "      <td>[\"The Studio Bridge, founded in 2020, is a gra...</td>\n",
       "      <td>Supervisor/5 Years &amp; Up Experienced Employee</td>\n",
       "      <td>['Dental, Miscellaneous allowance, Medical, Re...</td>\n",
       "      <td>1 - 50 Employees</td>\n",
       "    </tr>\n",
       "  </tbody>\n",
       "</table>\n",
       "<p>810 rows × 12 columns</p>\n",
       "</div>"
      ],
      "text/plain": [
       "                                                 Title  \\\n",
       "0                                    Midlevel Designer   \n",
       "1                                    Midlevel Designer   \n",
       "2    Senior Graphic Artist/Designer ( Makati : 30K ...   \n",
       "3                                       Graphic Artist   \n",
       "4                    Graphic Designer (Day Shift - Bi)   \n",
       "..                                                 ...   \n",
       "805  JSAI534: Start ASAP! Senior Instructional Desi...   \n",
       "806                         Marketing Assistant (Lipa)   \n",
       "807             Multimedia Artist (Graphics and Video)   \n",
       "808           Graphic Designer (with Animation skills)   \n",
       "809                        Animation Modeller/Renderer   \n",
       "\n",
       "                                               Company               Location  \\\n",
       "0                             SPi Global (now Straive)   National Capital Reg   \n",
       "1                             SPi Global (now Straive)   National Capital Reg   \n",
       "2                                    SAGASS CONSULTING   National Capital Reg   \n",
       "3                    Emerald Wireless Tech Inc. (Oppo)            Taguig City   \n",
       "4                          Sourcefit Philippines, Inc.   National Capital Reg   \n",
       "..                                                 ...                    ...   \n",
       "805                                 247.ai Philippines            Taguig City   \n",
       "806                           Salinas (IM) Corporation  Calabarzon & Mimaropa   \n",
       "807  UNIVERSAL ACCESS and SYSTEMS SOLUTIONS, PHIL. ...   National Capital Reg   \n",
       "808                      Fruitas Holdings Incorporated   National Capital Reg   \n",
       "809                                  The Studio Bridge            Manila City   \n",
       "\n",
       "                                               Summary  \\\n",
       "0    Midlevel DesignerNational Capital RegResponsib...   \n",
       "1    Midlevel DesignerNational Capital RegResponsib...   \n",
       "2    BS Degree in Arts / Designs / Creative Multime...   \n",
       "3    Responsible for the design of platform page, c...   \n",
       "4                                                 None   \n",
       "..                                                 ...   \n",
       "805   Excellent written and oral English communicat...   \n",
       "806  Candidate must possess at least a Bachelor's D...   \n",
       "807  Bachelor’s degree in fine arts, computer graph...   \n",
       "808  Graduate of Bachelor's Degree in Multimedia Ar...   \n",
       "809  Liaising with animators and concept artists re...   \n",
       "\n",
       "                      Salary  \\\n",
       "0    PHP 18,000 - PHP 25,000   \n",
       "1    PHP 18,000 - PHP 25,000   \n",
       "2    PHP 30,000 - PHP 60,000   \n",
       "3    PHP 30,000 - PHP 35,000   \n",
       "4                       None   \n",
       "..                       ...   \n",
       "805                     None   \n",
       "806                     None   \n",
       "807                     None   \n",
       "808  PHP 14,000 - PHP 18,000   \n",
       "809                     None   \n",
       "\n",
       "                                Qualification & Skills  \\\n",
       "0    ['Midlevel DesignerNational Capital RegRespons...   \n",
       "1    ['Midlevel DesignerNational Capital RegRespons...   \n",
       "2    ['BS Degree in Arts / Designs / Creative Multi...   \n",
       "3    ['Responsible for the design of platform page,...   \n",
       "4                                                   []   \n",
       "..                                                 ...   \n",
       "805  ['\\xa0Excellent written and oral English commu...   \n",
       "806  [\"Candidate must possess at least a Bachelor's...   \n",
       "807  ['Bachelor’s degree in fine arts, computer gra...   \n",
       "808  [\"Graduate of Bachelor's Degree in Multimedia ...   \n",
       "809  ['Liaising with animators and concept artists ...   \n",
       "\n",
       "                             Role and Responsibilities  \\\n",
       "0                                                   []   \n",
       "1                                                   []   \n",
       "2                                                   []   \n",
       "3                              ['Job Qualifications:']   \n",
       "4                                                   []   \n",
       "..                                                 ...   \n",
       "805                                                 []   \n",
       "806                                                 []   \n",
       "807                                                 []   \n",
       "808                                                 []   \n",
       "809  ['The Studio Bridge, founded in 2020, is a gra...   \n",
       "\n",
       "                                              Job Type  \\\n",
       "0             ['Full-Time', 'Average Processing Time']   \n",
       "1             ['Full-Time', 'Average Processing Time']   \n",
       "2             ['Full-Time', 'Average Processing Time']   \n",
       "3             ['Full-Time', 'Average Processing Time']   \n",
       "4    ['-Paid Time offs (Vacation Leaves Are Convert...   \n",
       "..                                                 ...   \n",
       "805           ['Full-Time', 'Average Processing Time']   \n",
       "806  ['1 Full-Time position available.', 'Full-Time...   \n",
       "807           ['Full-Time', 'Average Processing Time']   \n",
       "808           ['Full-Time', 'Average Processing Time']   \n",
       "809           ['Full-Time', 'Average Processing Time']   \n",
       "\n",
       "                              Company Profile&Job Desc  \\\n",
       "0    ['Midlevel DesignerNational Capital RegRespons...   \n",
       "1    ['Midlevel DesignerNational Capital RegRespons...   \n",
       "2    [\"REQUIREMENTS:BS Degree in Arts / Designs / C...   \n",
       "3    [\"Responsible for the design of platform page,...   \n",
       "4    [\"We are looking for a Graphic Designer to joi...   \n",
       "..                                                 ...   \n",
       "805  [\"REQUIREMENTS:\\xa0Excellent written and oral ...   \n",
       "806  [\"Candidate must possess at least a Bachelor's...   \n",
       "807  ['Qualifications:Bachelor’s degree in fine art...   \n",
       "808  [\"Minimum Qualifications:Graduate of Bachelor'...   \n",
       "809  [\"The Studio Bridge, founded in 2020, is a gra...   \n",
       "\n",
       "                                     Career Level  \\\n",
       "0                  1-4 Years Experienced Employee   \n",
       "1                  1-4 Years Experienced Employee   \n",
       "2                  1-4 Years Experienced Employee   \n",
       "3                  1-4 Years Experienced Employee   \n",
       "4                  1-4 Years Experienced Employee   \n",
       "..                                            ...   \n",
       "805  Supervisor/5 Years & Up Experienced Employee   \n",
       "806                1-4 Years Experienced Employee   \n",
       "807                1-4 Years Experienced Employee   \n",
       "808                1-4 Years Experienced Employee   \n",
       "809  Supervisor/5 Years & Up Experienced Employee   \n",
       "\n",
       "                                              Benefits           Company Size  \n",
       "0    ['Dental, Miscellaneous allowance, Medical, Lo...                   None  \n",
       "1    ['Dental, Miscellaneous allowance, Medical, Lo...                   None  \n",
       "2                                                   []       1 - 50 Employees  \n",
       "3                                                   []  2001 - 5000 Employees  \n",
       "4    ['Dental, Miscellaneous allowance, Medical, Lo...   501 - 1000 Employees  \n",
       "..                                                 ...                    ...  \n",
       "805  ['Dental, Miscellaneous allowance, Medical, Lo...  2001 - 5000 Employees  \n",
       "806  ['Dental, Miscellaneous allowance, Medical, Lo...     51 - 200 Employees  \n",
       "807  ['Dental, Miscellaneous allowance, Medical, Sp...   501 - 1000 Employees  \n",
       "808                                                 []  1001 - 2000 Employees  \n",
       "809  ['Dental, Miscellaneous allowance, Medical, Re...       1 - 50 Employees  \n",
       "\n",
       "[810 rows x 12 columns]"
      ]
     },
     "execution_count": 3,
     "metadata": {},
     "output_type": "execute_result"
    }
   ],
   "source": [
    "merge"
   ]
  },
  {
   "cell_type": "code",
   "execution_count": 4,
   "metadata": {},
   "outputs": [
    {
     "data": {
      "text/html": [
       "<div>\n",
       "<style scoped>\n",
       "    .dataframe tbody tr th:only-of-type {\n",
       "        vertical-align: middle;\n",
       "    }\n",
       "\n",
       "    .dataframe tbody tr th {\n",
       "        vertical-align: top;\n",
       "    }\n",
       "\n",
       "    .dataframe thead th {\n",
       "        text-align: right;\n",
       "    }\n",
       "</style>\n",
       "<table border=\"1\" class=\"dataframe\">\n",
       "  <thead>\n",
       "    <tr style=\"text-align: right;\">\n",
       "      <th></th>\n",
       "      <th>Title</th>\n",
       "      <th>Company</th>\n",
       "      <th>Location</th>\n",
       "      <th>Summary</th>\n",
       "      <th>Salary</th>\n",
       "      <th>Qualification &amp; Skills</th>\n",
       "      <th>Role and Responsibilities</th>\n",
       "      <th>Job Type</th>\n",
       "      <th>Company Profile&amp;Job Desc</th>\n",
       "      <th>Career Level</th>\n",
       "      <th>Benefits</th>\n",
       "      <th>Company Size</th>\n",
       "    </tr>\n",
       "  </thead>\n",
       "  <tbody>\n",
       "    <tr>\n",
       "      <th>count</th>\n",
       "      <td>810</td>\n",
       "      <td>810</td>\n",
       "      <td>810</td>\n",
       "      <td>810</td>\n",
       "      <td>810</td>\n",
       "      <td>810</td>\n",
       "      <td>810</td>\n",
       "      <td>810</td>\n",
       "      <td>810</td>\n",
       "      <td>801</td>\n",
       "      <td>810</td>\n",
       "      <td>788</td>\n",
       "    </tr>\n",
       "    <tr>\n",
       "      <th>unique</th>\n",
       "      <td>301</td>\n",
       "      <td>280</td>\n",
       "      <td>30</td>\n",
       "      <td>304</td>\n",
       "      <td>93</td>\n",
       "      <td>325</td>\n",
       "      <td>207</td>\n",
       "      <td>46</td>\n",
       "      <td>417</td>\n",
       "      <td>4</td>\n",
       "      <td>181</td>\n",
       "      <td>9</td>\n",
       "    </tr>\n",
       "    <tr>\n",
       "      <th>top</th>\n",
       "      <td>Graphic Artist</td>\n",
       "      <td>Asticom Technology Inc</td>\n",
       "      <td>National Capital Reg</td>\n",
       "      <td>None</td>\n",
       "      <td>None</td>\n",
       "      <td>[]</td>\n",
       "      <td>[]</td>\n",
       "      <td>['Full-Time', 'Average Processing Time']</td>\n",
       "      <td>[\"REQUIREMENTS:\\xa0Excellent written and oral ...</td>\n",
       "      <td>1-4 Years Experienced Employee</td>\n",
       "      <td>[]</td>\n",
       "      <td>51 - 200 Employees</td>\n",
       "    </tr>\n",
       "    <tr>\n",
       "      <th>freq</th>\n",
       "      <td>83</td>\n",
       "      <td>29</td>\n",
       "      <td>426</td>\n",
       "      <td>160</td>\n",
       "      <td>475</td>\n",
       "      <td>160</td>\n",
       "      <td>391</td>\n",
       "      <td>513</td>\n",
       "      <td>17</td>\n",
       "      <td>616</td>\n",
       "      <td>257</td>\n",
       "      <td>180</td>\n",
       "    </tr>\n",
       "  </tbody>\n",
       "</table>\n",
       "</div>"
      ],
      "text/plain": [
       "                 Title                 Company              Location Summary  \\\n",
       "count              810                     810                   810     810   \n",
       "unique             301                     280                    30     304   \n",
       "top     Graphic Artist  Asticom Technology Inc  National Capital Reg    None   \n",
       "freq                83                      29                   426     160   \n",
       "\n",
       "       Salary Qualification & Skills Role and Responsibilities  \\\n",
       "count     810                    810                       810   \n",
       "unique     93                    325                       207   \n",
       "top      None                     []                        []   \n",
       "freq      475                    160                       391   \n",
       "\n",
       "                                        Job Type  \\\n",
       "count                                        810   \n",
       "unique                                        46   \n",
       "top     ['Full-Time', 'Average Processing Time']   \n",
       "freq                                         513   \n",
       "\n",
       "                                 Company Profile&Job Desc  \\\n",
       "count                                                 810   \n",
       "unique                                                417   \n",
       "top     [\"REQUIREMENTS:\\xa0Excellent written and oral ...   \n",
       "freq                                                   17   \n",
       "\n",
       "                          Career Level Benefits        Company Size  \n",
       "count                              801      810                 788  \n",
       "unique                               4      181                   9  \n",
       "top     1-4 Years Experienced Employee       []  51 - 200 Employees  \n",
       "freq                               616      257                 180  "
      ]
     },
     "execution_count": 4,
     "metadata": {},
     "output_type": "execute_result"
    }
   ],
   "source": [
    "merge.describe()"
   ]
  },
  {
   "cell_type": "code",
   "execution_count": 5,
   "metadata": {},
   "outputs": [],
   "source": [
    "job_title_lower = merge[\"Title\"].str.lower()"
   ]
  },
  {
   "cell_type": "code",
   "execution_count": 6,
   "metadata": {},
   "outputs": [],
   "source": [
    "job_title = job_title_lower.value_counts()[0:10]"
   ]
  },
  {
   "cell_type": "code",
   "execution_count": 7,
   "metadata": {},
   "outputs": [
    {
     "data": {
      "text/plain": [
       "graphic artist                  91\n",
       "graphic designer                40\n",
       "multimedia designer             20\n",
       "digital marketing officer       19\n",
       "digital marketing specialist    15\n",
       "video editor                    15\n",
       "multimedia artist               14\n",
       "2d sr. graphic artist           12\n",
       "graphic designer- multimedia    12\n",
       "multimedia artist - manila      10\n",
       "Name: Title, dtype: int64"
      ]
     },
     "execution_count": 7,
     "metadata": {},
     "output_type": "execute_result"
    }
   ],
   "source": [
    "job_title"
   ]
  },
  {
   "cell_type": "code",
   "execution_count": 8,
   "metadata": {},
   "outputs": [
    {
     "data": {
      "image/png": "[encoded data removed]",
      "text/plain": [
       "<Figure size 432x288 with 1 Axes>"
      ]
     },
     "metadata": {
      "needs_background": "light"
     },
     "output_type": "display_data"
    }
   ],
   "source": [
    "plt.barh(job_title.index, job_title.values)\n",
    "plt.title(\"Jobstreet Graphic Designer\")\n",
    "plt.xticks(rotation=\"30\", ha=\"right\")\n",
    "plt.show()"
   ]
  },
  {
   "cell_type": "code",
   "execution_count": 9,
   "metadata": {},
   "outputs": [],
   "source": [
    "company_name = merge[\"Company\"].value_counts()[0:10]"
   ]
  },
  {
   "cell_type": "code",
   "execution_count": 10,
   "metadata": {},
   "outputs": [
    {
     "data": {
      "image/png": "[encoded data removed]",
      "text/plain": [
       "<Figure size 432x288 with 1 Axes>"
      ]
     },
     "metadata": {
      "needs_background": "light"
     },
     "output_type": "display_data"
    }
   ],
   "source": [
    "plt.bar(company_name.index, company_name.values)\n",
    "plt.xticks(rotation=\"30\", ha=\"right\")\n",
    "plt.show()"
   ]
  },
  {
   "cell_type": "code",
   "execution_count": 11,
   "metadata": {},
   "outputs": [],
   "source": [
    "company_location = merge[\"Location\"].value_counts()[0:10]"
   ]
  },
  {
   "cell_type": "code",
   "execution_count": 12,
   "metadata": {},
   "outputs": [
    {
     "data": {
      "image/png": "[encoded data removed]",
      "text/plain": [
       "<Figure size 432x288 with 1 Axes>"
      ]
     },
     "metadata": {
      "needs_background": "light"
     },
     "output_type": "display_data"
    }
   ],
   "source": [
    "plt.bar(company_location.index, company_location.values)\n",
    "plt.xticks(rotation=\"30\", ha=\"right\")\n",
    "plt.show()\n"
   ]
  },
  {
   "cell_type": "code",
   "execution_count": 13,
   "metadata": {},
   "outputs": [],
   "source": [
    "filt = (merge[\"Salary\"] != \"None\")\n",
    "results = merge.loc[filt]"
   ]
  },
  {
   "cell_type": "code",
   "execution_count": 14,
   "metadata": {},
   "outputs": [],
   "source": [
    "salary = results[\"Salary\"].value_counts()[0:10]"
   ]
  },
  {
   "cell_type": "code",
   "execution_count": 15,
   "metadata": {},
   "outputs": [
    {
     "data": {
      "image/png": "[encoded data removed]",
      "text/plain": [
       "<Figure size 432x288 with 1 Axes>"
      ]
     },
     "metadata": {
      "needs_background": "light"
     },
     "output_type": "display_data"
    }
   ],
   "source": [
    "plt.bar(salary.index, salary.values)\n",
    "plt.xticks(rotation=\"30\", ha=\"right\")\n",
    "plt.show()"
   ]
  },
  {
   "cell_type": "code",
   "execution_count": 16,
   "metadata": {},
   "outputs": [],
   "source": [
    "job_type = merge[\"Job Type\"].apply(ast.literal_eval)\n",
    "job_type_append = []\n",
    "for i in job_type:\n",
    "    job_type_append.append(job_type[0][0])"
   ]
  },
  {
   "cell_type": "code",
   "execution_count": 17,
   "metadata": {},
   "outputs": [
    {
     "data": {
      "text/plain": [
       "Job Type \n",
       "Full-Time    810\n",
       "dtype: int64"
      ]
     },
     "execution_count": 17,
     "metadata": {},
     "output_type": "execute_result"
    }
   ],
   "source": [
    "# List to Dataframe ( Count Job Type )\n",
    "job_type_df = pd.DataFrame(job_type_append,columns=[\"Job Type\"])\n",
    "job_type_df.value_counts()\n"
   ]
  },
  {
   "cell_type": "code",
   "execution_count": 18,
   "metadata": {},
   "outputs": [
    {
     "data": {
      "text/plain": [
       "1-4 Years Experienced Employee                  616\n",
       "Supervisor/5 Years & Up Experienced Employee    122\n",
       "Less than 1 Year Experienced Employee            62\n",
       "Industry Experienced Trainers                     1\n",
       "Name: Career Level, dtype: int64"
      ]
     },
     "execution_count": 18,
     "metadata": {},
     "output_type": "execute_result"
    }
   ],
   "source": [
    "career_level = merge[\"Career Level\"]\n",
    "count_career_level = career_level.value_counts()\n",
    "count_career_level"
   ]
  },
  {
   "cell_type": "code",
   "execution_count": 19,
   "metadata": {},
   "outputs": [
    {
     "data": {
      "image/png": "[encoded data removed]",
      "text/plain": [
       "<Figure size 432x288 with 1 Axes>"
      ]
     },
     "metadata": {
      "needs_background": "light"
     },
     "output_type": "display_data"
    }
   ],
   "source": [
    "plt.bar(count_career_level.index, count_career_level.values)\n",
    "plt.xticks(rotation=\"30\",ha=\"right\")\n",
    "plt.show()"
   ]
  },
  {
   "cell_type": "code",
   "execution_count": 20,
   "metadata": {},
   "outputs": [
    {
     "data": {
      "text/plain": [
       "51 - 200 Employees       180\n",
       "201 - 500 Employees      156\n",
       "1 - 50 Employees         122\n",
       "2001 - 5000 Employees    114\n",
       "501 - 1000 Employees      93\n",
       "1001 - 2000 Employees     61\n",
       "Name: Company Size, dtype: int64"
      ]
     },
     "execution_count": 20,
     "metadata": {},
     "output_type": "execute_result"
    }
   ],
   "source": [
    "company_size = merge[\"Company Size\"]\n",
    "count_company_size = company_size.value_counts()[0:6]\n",
    "count_company_size"
   ]
  },
  {
   "cell_type": "code",
   "execution_count": 21,
   "metadata": {},
   "outputs": [
    {
     "data": {
      "image/png": "[encoded data removed]",
      "text/plain": [
       "<Figure size 432x288 with 1 Axes>"
      ]
     },
     "metadata": {
      "needs_background": "light"
     },
     "output_type": "display_data"
    }
   ],
   "source": [
    "plt.bar(count_company_size.index, count_company_size.values)\n",
    "plt.xticks(rotation=\"30\",ha=\"right\")\n",
    "plt.show()"
   ]
  },
  {
   "cell_type": "code",
   "execution_count": 22,
   "metadata": {},
   "outputs": [
    {
     "name": "stderr",
     "output_type": "stream",
     "text": [
      "/var/folders/tc/qdg72rpx523gjsqcr2vf_0c00000gn/T/ipykernel_1315/2971443327.py:1: FutureWarning: The default value of regex will change from True to False in a future version.\n",
      "  benefits = merge[\"Benefits\"].str.replace(\"^\\['|'\\]$\",\"\")\n"
     ]
    }
   ],
   "source": [
    "benefits = merge[\"Benefits\"].str.replace(\"^\\['|'\\]$\",\"\")\n",
    "benefits_append = []\n",
    "split_benefits = benefits.str.split(\",\")\n",
    "\n",
    "for i in range(len(split_benefits)):\n",
    "    for j in split_benefits[i]:\n",
    "        benefits_append.append(j)\n"
   ]
  },
  {
   "cell_type": "code",
   "execution_count": 23,
   "metadata": {},
   "outputs": [
    {
     "data": {
      "text/plain": [
       "Medical                    548\n",
       "Dental                     390\n",
       "Miscellaneous allowance    361\n",
       "Loans                      303\n",
       "Regular hours              258\n",
       "Business (e.g. Shirts)     248\n",
       "Mondays - Fridays          240\n",
       "Vision                     132\n",
       "Parking                    127\n",
       "Education support          110\n",
       "Casual (e.g. T-shirts)     107\n",
       "Sports (e.g. Gym)           78\n",
       "Smart Casual                57\n",
       "Life Insurance              36\n",
       "Shifting Schedule           35\n",
       "Name: Benefits, dtype: int64"
      ]
     },
     "execution_count": 23,
     "metadata": {},
     "output_type": "execute_result"
    }
   ],
   "source": [
    "benefits_df = pd.DataFrame(benefits_append, columns=[\"Benefits\"])\n",
    "benefits_df = benefits_df[\"Benefits\"].str.strip()\n",
    "filt = (benefits_df != \"[]\")\n",
    "benefits_df = benefits_df.loc[filt]\n",
    "benefits_count = benefits_df.value_counts()[0:15]\n",
    "benefits_count\n",
    "\n"
   ]
  },
  {
   "cell_type": "code",
   "execution_count": 24,
   "metadata": {},
   "outputs": [
    {
     "data": {
      "image/png": "[encoded data removed]",
      "text/plain": [
       "<Figure size 432x288 with 1 Axes>"
      ]
     },
     "metadata": {
      "needs_background": "light"
     },
     "output_type": "display_data"
    }
   ],
   "source": [
    "plt.bar(benefits_count.index, benefits_count.values)\n",
    "plt.xticks(rotation=\"30\",ha=\"right\")\n",
    "plt.show()"
   ]
  },
  {
   "cell_type": "code",
   "execution_count": 25,
   "metadata": {},
   "outputs": [],
   "source": [
    "filt = (merge[\"Salary\"] != \"None\")\n",
    "salary_career_level = merge[filt].sort_values(by=\"Salary\",ascending=True)\n",
    "count = salary_career_level[[\"Title\",\"Salary\",\"Career Level\"]]\n",
    "\n"
   ]
  },
  {
   "cell_type": "code",
   "execution_count": 26,
   "metadata": {},
   "outputs": [
    {
     "data": {
      "text/plain": [
       "1-4 Years Experienced Employee                  616\n",
       "Supervisor/5 Years & Up Experienced Employee    122\n",
       "Less than 1 Year Experienced Employee            62\n",
       "Industry Experienced Trainers                     1\n",
       "Name: Career Level, dtype: int64"
      ]
     },
     "execution_count": 26,
     "metadata": {},
     "output_type": "execute_result"
    }
   ],
   "source": [
    "merge[\"Career Level\"].value_counts()"
   ]
  },
  {
   "cell_type": "code",
   "execution_count": 27,
   "metadata": {},
   "outputs": [
    {
     "data": {
      "image/png": "[encoded data removed]",
      "text/plain": [
       "<Figure size 432x288 with 1 Axes>"
      ]
     },
     "metadata": {
      "needs_background": "light"
     },
     "output_type": "display_data"
    }
   ],
   "source": [
    "mid_level = merge.loc[merge[\"Career Level\"] == \"1-4 Years Experienced Employee\"]\n",
    "mid_level_salary = mid_level[mid_level[\"Salary\"] != \"None\"]\n",
    "count_mid = mid_level_salary[\"Salary\"].value_counts()[0:10]\n",
    "plt.barh(count_mid.index, count_mid.values)\n",
    "plt.title(\"Mid Level and Salary - Graphic Designer\")\n",
    "plt.xticks(rotation=\"30\",ha=\"right\")\n",
    "plt.show()"
   ]
  },
  {
   "cell_type": "code",
   "execution_count": 28,
   "metadata": {},
   "outputs": [
    {
     "data": {
      "image/png": "[encoded data removed]",
      "text/plain": [
       "<Figure size 432x288 with 1 Axes>"
      ]
     },
     "metadata": {
      "needs_background": "light"
     },
     "output_type": "display_data"
    }
   ],
   "source": [
    "low_level = merge.loc[merge[\"Career Level\"] == \"Less than 1 Year Experienced Employee\"]\n",
    "low_level_salary = low_level[low_level[\"Salary\"] != \"None\"]\n",
    "count_low = low_level_salary[\"Salary\"].value_counts()[0:10]\n",
    "\n",
    "plt.barh(count_low.index, count_low.values)\n",
    "plt.title(\"Entry Level and Salary - Graphic Designer\")\n",
    "plt.xticks(rotation=\"30\",ha=\"right\")\n",
    "plt.show()"
   ]
  },
  {
   "cell_type": "code",
   "execution_count": 29,
   "metadata": {},
   "outputs": [
    {
     "data": {
      "image/png": "[encoded data removed]",
      "text/plain": [
       "<Figure size 432x288 with 1 Axes>"
      ]
     },
     "metadata": {
      "needs_background": "light"
     },
     "output_type": "display_data"
    }
   ],
   "source": [
    "high_level = merge.loc[merge[\"Career Level\"] == \"Supervisor/5 Years & Up Experienced Employee\"]\n",
    "high_level_salary = high_level[high_level[\"Salary\"] != \"None\"]\n",
    "count_high = high_level_salary[\"Salary\"].value_counts()[0:10]\n",
    "plt.barh(count_high.index, count_high.values)\n",
    "plt.title(\"Senior Level and Salary - Graphic Designer\")\n",
    "plt.xticks(rotation=\"30\",ha=\"right\")\n",
    "plt.show()"
   ]
  },
  {
   "cell_type": "code",
   "execution_count": null,
   "metadata": {},
   "outputs": [],
   "source": []
  }
 ],
 "metadata": {
  "interpreter": {
   "hash": "aee8b7b246df8f9039afb4144a1f6fd8d2ca17a180786b69acc140d282b71a49"
  },
  "kernelspec": {
   "display_name": "Python 3.10.4 64-bit",
   "language": "python",
   "name": "python3"
  },
  "language_info": {
   "codemirror_mode": {
    "name": "ipython",
    "version": 3
   },
   "file_extension": ".py",
   "mimetype": "text/x-python",
   "name": "python",
   "nbconvert_exporter": "python",
   "pygments_lexer": "ipython3",
   "version": "3.10.4"
  },
  "orig_nbformat": 4
 },
 "nbformat": 4,
 "nbformat_minor": 2
}
