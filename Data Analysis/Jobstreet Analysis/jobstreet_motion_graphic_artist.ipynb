{
 "cells": [
  {
   "cell_type": "code",
   "execution_count": 1,
   "metadata": {},
   "outputs": [],
   "source": [
    "import matplotlib.pyplot as plt\n",
    "import pandas as pd\n",
    "import re\n",
    "import ast"
   ]
  },
  {
   "cell_type": "code",
   "execution_count": 2,
   "metadata": {},
   "outputs": [
    {
     "data": {
      "text/html": [
       "<div>\n",
       "<style scoped>\n",
       "    .dataframe tbody tr th:only-of-type {\n",
       "        vertical-align: middle;\n",
       "    }\n",
       "\n",
       "    .dataframe tbody tr th {\n",
       "        vertical-align: top;\n",
       "    }\n",
       "\n",
       "    .dataframe thead th {\n",
       "        text-align: right;\n",
       "    }\n",
       "</style>\n",
       "<table border=\"1\" class=\"dataframe\">\n",
       "  <thead>\n",
       "    <tr style=\"text-align: right;\">\n",
       "      <th></th>\n",
       "      <th>Title</th>\n",
       "      <th>Company</th>\n",
       "      <th>Location</th>\n",
       "      <th>Summary</th>\n",
       "      <th>Salary</th>\n",
       "      <th>Qualification &amp; Skills</th>\n",
       "      <th>Role and Responsibilities</th>\n",
       "      <th>Job Type</th>\n",
       "      <th>Company Profile&amp;Job Desc</th>\n",
       "      <th>Career Level</th>\n",
       "      <th>Benefits</th>\n",
       "      <th>Company Size</th>\n",
       "    </tr>\n",
       "  </thead>\n",
       "  <tbody>\n",
       "    <tr>\n",
       "      <th>0</th>\n",
       "      <td>3D Graphic Artist (Sto. Tomas, Batangas: 15K-2...</td>\n",
       "      <td>SAGASS CONSULTING</td>\n",
       "      <td>Calabarzon &amp; Mimaropa</td>\n",
       "      <td>Candidate must possess at least a Bachelor's/C...</td>\n",
       "      <td>PHP 15,000 - PHP 25,000</td>\n",
       "      <td>[\"Candidate must possess at least a Bachelor's...</td>\n",
       "      <td>[]</td>\n",
       "      <td>['10 Full-Time position(s) available.', 'Full-...</td>\n",
       "      <td>[\"Requirements:Candidate must possess at least...</td>\n",
       "      <td>1-4 Years Experienced Employee</td>\n",
       "      <td>[]</td>\n",
       "      <td>1 - 50 Employees</td>\n",
       "    </tr>\n",
       "    <tr>\n",
       "      <th>1</th>\n",
       "      <td>Graphic Artist/Web Graphic Artist</td>\n",
       "      <td>C3 Interactive Manila, Inc.</td>\n",
       "      <td>Taguig City</td>\n",
       "      <td>None</td>\n",
       "      <td>None</td>\n",
       "      <td>[]</td>\n",
       "      <td>['Qualifications:', \"Bachelor's/College Degree...</td>\n",
       "      <td>['Full-Time', 'Average Processing Time']</td>\n",
       "      <td>[\"Qualifications:Bachelor's/College Degree in ...</td>\n",
       "      <td>1-4 Years Experienced Employee</td>\n",
       "      <td>['Medical, Casual (e.g. T-shirts), Work From H...</td>\n",
       "      <td>1 - 50 Employees</td>\n",
       "    </tr>\n",
       "    <tr>\n",
       "      <th>2</th>\n",
       "      <td>3D Graphic Artist (Sto. Tomas, Batangas: 15K-2...</td>\n",
       "      <td>SAGASS CONSULTING</td>\n",
       "      <td>Calabarzon &amp; Mimaropa</td>\n",
       "      <td>Candidate must possess at least a Bachelor's/C...</td>\n",
       "      <td>PHP 15,000 - PHP 25,000</td>\n",
       "      <td>[\"Candidate must possess at least a Bachelor's...</td>\n",
       "      <td>[]</td>\n",
       "      <td>['10 Full-Time position(s) available.', 'Full-...</td>\n",
       "      <td>[\"Requirements:Candidate must possess at least...</td>\n",
       "      <td>1-4 Years Experienced Employee</td>\n",
       "      <td>[]</td>\n",
       "      <td>1 - 50 Employees</td>\n",
       "    </tr>\n",
       "    <tr>\n",
       "      <th>3</th>\n",
       "      <td>Graphic Artist</td>\n",
       "      <td>Raffco International Trading Corp.</td>\n",
       "      <td>National Capital Reg</td>\n",
       "      <td>Responsible for continuously maintaining the c...</td>\n",
       "      <td>PHP 20,000 - PHP 25,000</td>\n",
       "      <td>[\"Responsible for continuously maintaining the...</td>\n",
       "      <td>[]</td>\n",
       "      <td>['·\\xa0\\xa0\\xa0\\xa0\\xa0\\xa0\\xa0\\xa0Passion and...</td>\n",
       "      <td>[\"Graphic Artist:Responsible for continuously ...</td>\n",
       "      <td>1-4 Years Experienced Employee</td>\n",
       "      <td>['Medical, Loans, Regular hours, Mondays - Fri...</td>\n",
       "      <td>201 - 500 Employees</td>\n",
       "    </tr>\n",
       "    <tr>\n",
       "      <th>4</th>\n",
       "      <td>Multimedia Artist</td>\n",
       "      <td>Victoria Sports</td>\n",
       "      <td>Quezon City</td>\n",
       "      <td>None</td>\n",
       "      <td>PHP 16,000 - PHP 22,000</td>\n",
       "      <td>[]</td>\n",
       "      <td>['DUTIES AND RESPONSIBILITIES:', '1.\\xa0\\xa0\\x...</td>\n",
       "      <td>['Full-Time', 'Average Processing Time']</td>\n",
       "      <td>['DUTIES AND RESPONSIBILITIES:1.\\xa0\\xa0\\xa0\\x...</td>\n",
       "      <td>1-4 Years Experienced Employee</td>\n",
       "      <td>['Medical, Business (e.g. Shirts)']</td>\n",
       "      <td>51 - 200 Employees</td>\n",
       "    </tr>\n",
       "    <tr>\n",
       "      <th>...</th>\n",
       "      <td>...</td>\n",
       "      <td>...</td>\n",
       "      <td>...</td>\n",
       "      <td>...</td>\n",
       "      <td>...</td>\n",
       "      <td>...</td>\n",
       "      <td>...</td>\n",
       "      <td>...</td>\n",
       "      <td>...</td>\n",
       "      <td>...</td>\n",
       "      <td>...</td>\n",
       "      <td>...</td>\n",
       "    </tr>\n",
       "    <tr>\n",
       "      <th>209</th>\n",
       "      <td>Graphics Artist</td>\n",
       "      <td>Cashalo</td>\n",
       "      <td>Quezon</td>\n",
       "      <td>Translate marketing objectives into clear crea...</td>\n",
       "      <td>None</td>\n",
       "      <td>['Translate marketing objectives into clear cr...</td>\n",
       "      <td>['Company Employee Title:', 'Graphics Artist',...</td>\n",
       "      <td>['Full-Time']</td>\n",
       "      <td>['Company Employee Title:Graphics ArtistJob Re...</td>\n",
       "      <td>NaN</td>\n",
       "      <td>[]</td>\n",
       "      <td>1 - 50 Employees</td>\n",
       "    </tr>\n",
       "    <tr>\n",
       "      <th>210</th>\n",
       "      <td>UI Illustrator (Experiments)</td>\n",
       "      <td>Xendit</td>\n",
       "      <td>National Capital Reg</td>\n",
       "      <td>Deliver well-crafted, beautiful UI illustratio...</td>\n",
       "      <td>None</td>\n",
       "      <td>['Deliver well-crafted, beautiful UI illustrat...</td>\n",
       "      <td>['Xendit provides payment infrastructure acros...</td>\n",
       "      <td>[]</td>\n",
       "      <td>['Xendit provides payment infrastructure acros...</td>\n",
       "      <td>NaN</td>\n",
       "      <td>[]</td>\n",
       "      <td>NaN</td>\n",
       "    </tr>\n",
       "    <tr>\n",
       "      <th>211</th>\n",
       "      <td>Senior Multimedia Designer</td>\n",
       "      <td>Home Credit Philippines</td>\n",
       "      <td>National Capital Reg</td>\n",
       "      <td>At least 4-5 years of work experience as a mul...</td>\n",
       "      <td>None</td>\n",
       "      <td>['At least 4-5 years of work experience as a m...</td>\n",
       "      <td>['You know you are the perfect fit if you are/...</td>\n",
       "      <td>['Full-Time', 'Average Processing Time']</td>\n",
       "      <td>[\"You know you are the perfect fit if you are/...</td>\n",
       "      <td>1-4 Years Experienced Employee</td>\n",
       "      <td>['Dental, Miscellaneous allowance, Medical, Lo...</td>\n",
       "      <td>None</td>\n",
       "    </tr>\n",
       "    <tr>\n",
       "      <th>212</th>\n",
       "      <td>Multimedia Producer</td>\n",
       "      <td>ABS-CBN Corporation</td>\n",
       "      <td>Quezon</td>\n",
       "      <td>Serve as the videographer for productions shoots.</td>\n",
       "      <td>None</td>\n",
       "      <td>['Serve as the videographer for productions sh...</td>\n",
       "      <td>[\"ABS-CBN Corporation is the Philippines' lead...</td>\n",
       "      <td>[]</td>\n",
       "      <td>[\"BUSINESS SUMMARYABS-CBN Corporation is the P...</td>\n",
       "      <td>NaN</td>\n",
       "      <td>['Medical, Regular hours, Mondays - Fridays, -']</td>\n",
       "      <td>2001 - 5000 Employees</td>\n",
       "    </tr>\n",
       "    <tr>\n",
       "      <th>213</th>\n",
       "      <td>Freelance Motion Designer - Philippines (remote)</td>\n",
       "      <td>Canva Solutions Inc.</td>\n",
       "      <td>National Capital Reg</td>\n",
       "      <td>Produce animated assets and stickers in differ...</td>\n",
       "      <td>None</td>\n",
       "      <td>['Produce animated assets and stickers in diff...</td>\n",
       "      <td>['Canva’s Commitment and Mission', 'At Canva, ...</td>\n",
       "      <td>[]</td>\n",
       "      <td>[\"Canva’s Commitment and MissionAt Canva, we c...</td>\n",
       "      <td>NaN</td>\n",
       "      <td>['Education support, Miscellaneous allowance, ...</td>\n",
       "      <td>51 - 200 Employees</td>\n",
       "    </tr>\n",
       "  </tbody>\n",
       "</table>\n",
       "<p>214 rows × 12 columns</p>\n",
       "</div>"
      ],
      "text/plain": [
       "                                                 Title  \\\n",
       "0    3D Graphic Artist (Sto. Tomas, Batangas: 15K-2...   \n",
       "1                    Graphic Artist/Web Graphic Artist   \n",
       "2    3D Graphic Artist (Sto. Tomas, Batangas: 15K-2...   \n",
       "3                                       Graphic Artist   \n",
       "4                                    Multimedia Artist   \n",
       "..                                                 ...   \n",
       "209                                    Graphics Artist   \n",
       "210                       UI Illustrator (Experiments)   \n",
       "211                         Senior Multimedia Designer   \n",
       "212                                Multimedia Producer   \n",
       "213   Freelance Motion Designer - Philippines (remote)   \n",
       "\n",
       "                                Company               Location  \\\n",
       "0                     SAGASS CONSULTING  Calabarzon & Mimaropa   \n",
       "1           C3 Interactive Manila, Inc.            Taguig City   \n",
       "2                     SAGASS CONSULTING  Calabarzon & Mimaropa   \n",
       "3    Raffco International Trading Corp.   National Capital Reg   \n",
       "4                       Victoria Sports            Quezon City   \n",
       "..                                  ...                    ...   \n",
       "209                             Cashalo                 Quezon   \n",
       "210                              Xendit   National Capital Reg   \n",
       "211             Home Credit Philippines   National Capital Reg   \n",
       "212                 ABS-CBN Corporation                 Quezon   \n",
       "213                Canva Solutions Inc.   National Capital Reg   \n",
       "\n",
       "                                               Summary  \\\n",
       "0    Candidate must possess at least a Bachelor's/C...   \n",
       "1                                                 None   \n",
       "2    Candidate must possess at least a Bachelor's/C...   \n",
       "3    Responsible for continuously maintaining the c...   \n",
       "4                                                 None   \n",
       "..                                                 ...   \n",
       "209  Translate marketing objectives into clear crea...   \n",
       "210  Deliver well-crafted, beautiful UI illustratio...   \n",
       "211  At least 4-5 years of work experience as a mul...   \n",
       "212  Serve as the videographer for productions shoots.   \n",
       "213  Produce animated assets and stickers in differ...   \n",
       "\n",
       "                      Salary  \\\n",
       "0    PHP 15,000 - PHP 25,000   \n",
       "1                       None   \n",
       "2    PHP 15,000 - PHP 25,000   \n",
       "3    PHP 20,000 - PHP 25,000   \n",
       "4    PHP 16,000 - PHP 22,000   \n",
       "..                       ...   \n",
       "209                     None   \n",
       "210                     None   \n",
       "211                     None   \n",
       "212                     None   \n",
       "213                     None   \n",
       "\n",
       "                                Qualification & Skills  \\\n",
       "0    [\"Candidate must possess at least a Bachelor's...   \n",
       "1                                                   []   \n",
       "2    [\"Candidate must possess at least a Bachelor's...   \n",
       "3    [\"Responsible for continuously maintaining the...   \n",
       "4                                                   []   \n",
       "..                                                 ...   \n",
       "209  ['Translate marketing objectives into clear cr...   \n",
       "210  ['Deliver well-crafted, beautiful UI illustrat...   \n",
       "211  ['At least 4-5 years of work experience as a m...   \n",
       "212  ['Serve as the videographer for productions sh...   \n",
       "213  ['Produce animated assets and stickers in diff...   \n",
       "\n",
       "                             Role and Responsibilities  \\\n",
       "0                                                   []   \n",
       "1    ['Qualifications:', \"Bachelor's/College Degree...   \n",
       "2                                                   []   \n",
       "3                                                   []   \n",
       "4    ['DUTIES AND RESPONSIBILITIES:', '1.\\xa0\\xa0\\x...   \n",
       "..                                                 ...   \n",
       "209  ['Company Employee Title:', 'Graphics Artist',...   \n",
       "210  ['Xendit provides payment infrastructure acros...   \n",
       "211  ['You know you are the perfect fit if you are/...   \n",
       "212  [\"ABS-CBN Corporation is the Philippines' lead...   \n",
       "213  ['Canva’s Commitment and Mission', 'At Canva, ...   \n",
       "\n",
       "                                              Job Type  \\\n",
       "0    ['10 Full-Time position(s) available.', 'Full-...   \n",
       "1             ['Full-Time', 'Average Processing Time']   \n",
       "2    ['10 Full-Time position(s) available.', 'Full-...   \n",
       "3    ['·\\xa0\\xa0\\xa0\\xa0\\xa0\\xa0\\xa0\\xa0Passion and...   \n",
       "4             ['Full-Time', 'Average Processing Time']   \n",
       "..                                                 ...   \n",
       "209                                      ['Full-Time']   \n",
       "210                                                 []   \n",
       "211           ['Full-Time', 'Average Processing Time']   \n",
       "212                                                 []   \n",
       "213                                                 []   \n",
       "\n",
       "                              Company Profile&Job Desc  \\\n",
       "0    [\"Requirements:Candidate must possess at least...   \n",
       "1    [\"Qualifications:Bachelor's/College Degree in ...   \n",
       "2    [\"Requirements:Candidate must possess at least...   \n",
       "3    [\"Graphic Artist:Responsible for continuously ...   \n",
       "4    ['DUTIES AND RESPONSIBILITIES:1.\\xa0\\xa0\\xa0\\x...   \n",
       "..                                                 ...   \n",
       "209  ['Company Employee Title:Graphics ArtistJob Re...   \n",
       "210  ['Xendit provides payment infrastructure acros...   \n",
       "211  [\"You know you are the perfect fit if you are/...   \n",
       "212  [\"BUSINESS SUMMARYABS-CBN Corporation is the P...   \n",
       "213  [\"Canva’s Commitment and MissionAt Canva, we c...   \n",
       "\n",
       "                       Career Level  \\\n",
       "0    1-4 Years Experienced Employee   \n",
       "1    1-4 Years Experienced Employee   \n",
       "2    1-4 Years Experienced Employee   \n",
       "3    1-4 Years Experienced Employee   \n",
       "4    1-4 Years Experienced Employee   \n",
       "..                              ...   \n",
       "209                             NaN   \n",
       "210                             NaN   \n",
       "211  1-4 Years Experienced Employee   \n",
       "212                             NaN   \n",
       "213                             NaN   \n",
       "\n",
       "                                              Benefits           Company Size  \n",
       "0                                                   []       1 - 50 Employees  \n",
       "1    ['Medical, Casual (e.g. T-shirts), Work From H...       1 - 50 Employees  \n",
       "2                                                   []       1 - 50 Employees  \n",
       "3    ['Medical, Loans, Regular hours, Mondays - Fri...    201 - 500 Employees  \n",
       "4                  ['Medical, Business (e.g. Shirts)']     51 - 200 Employees  \n",
       "..                                                 ...                    ...  \n",
       "209                                                 []       1 - 50 Employees  \n",
       "210                                                 []                    NaN  \n",
       "211  ['Dental, Miscellaneous allowance, Medical, Lo...                   None  \n",
       "212   ['Medical, Regular hours, Mondays - Fridays, -']  2001 - 5000 Employees  \n",
       "213  ['Education support, Miscellaneous allowance, ...     51 - 200 Employees  \n",
       "\n",
       "[214 rows x 12 columns]"
      ]
     },
     "execution_count": 2,
     "metadata": {},
     "output_type": "execute_result"
    }
   ],
   "source": [
    "csv_path = [\n",
    "   \"../../Raw_CSV/April 25-26 - 2022/Jobstreet/Jobstreet-motion-graphic-artist.csv\",\n",
    "   \"../../Raw_CSV/April 27 - 2022/Jobstreet/Jobstreet-motion-graphic-artist.csv\",\n",
    "    \"../../Raw_CSV/April 28 - 2022/Jobstreet/Jobstreet-motion-graphic-artist.csv\", \n",
    "]\n",
    "merge = pd.concat(map(pd.read_csv,csv_path),ignore_index=True)\n",
    "merge[\"Salary\"].str.strip()\n",
    "merge"
   ]
  },
  {
   "cell_type": "code",
   "execution_count": 3,
   "metadata": {},
   "outputs": [
    {
     "data": {
      "text/html": [
       "<div>\n",
       "<style scoped>\n",
       "    .dataframe tbody tr th:only-of-type {\n",
       "        vertical-align: middle;\n",
       "    }\n",
       "\n",
       "    .dataframe tbody tr th {\n",
       "        vertical-align: top;\n",
       "    }\n",
       "\n",
       "    .dataframe thead th {\n",
       "        text-align: right;\n",
       "    }\n",
       "</style>\n",
       "<table border=\"1\" class=\"dataframe\">\n",
       "  <thead>\n",
       "    <tr style=\"text-align: right;\">\n",
       "      <th></th>\n",
       "      <th>Title</th>\n",
       "      <th>Company</th>\n",
       "      <th>Location</th>\n",
       "      <th>Summary</th>\n",
       "      <th>Salary</th>\n",
       "      <th>Qualification &amp; Skills</th>\n",
       "      <th>Role and Responsibilities</th>\n",
       "      <th>Job Type</th>\n",
       "      <th>Company Profile&amp;Job Desc</th>\n",
       "      <th>Career Level</th>\n",
       "      <th>Benefits</th>\n",
       "      <th>Company Size</th>\n",
       "    </tr>\n",
       "  </thead>\n",
       "  <tbody>\n",
       "    <tr>\n",
       "      <th>0</th>\n",
       "      <td>3D Graphic Artist (Sto. Tomas, Batangas: 15K-2...</td>\n",
       "      <td>SAGASS CONSULTING</td>\n",
       "      <td>Calabarzon &amp; Mimaropa</td>\n",
       "      <td>Candidate must possess at least a Bachelor's/C...</td>\n",
       "      <td>PHP 15,000 - PHP 25,000</td>\n",
       "      <td>[\"Candidate must possess at least a Bachelor's...</td>\n",
       "      <td>[]</td>\n",
       "      <td>['10 Full-Time position(s) available.', 'Full-...</td>\n",
       "      <td>[\"Requirements:Candidate must possess at least...</td>\n",
       "      <td>1-4 Years Experienced Employee</td>\n",
       "      <td>[]</td>\n",
       "      <td>1 - 50 Employees</td>\n",
       "    </tr>\n",
       "    <tr>\n",
       "      <th>1</th>\n",
       "      <td>Graphic Artist/Web Graphic Artist</td>\n",
       "      <td>C3 Interactive Manila, Inc.</td>\n",
       "      <td>Taguig City</td>\n",
       "      <td>None</td>\n",
       "      <td>None</td>\n",
       "      <td>[]</td>\n",
       "      <td>['Qualifications:', \"Bachelor's/College Degree...</td>\n",
       "      <td>['Full-Time', 'Average Processing Time']</td>\n",
       "      <td>[\"Qualifications:Bachelor's/College Degree in ...</td>\n",
       "      <td>1-4 Years Experienced Employee</td>\n",
       "      <td>['Medical, Casual (e.g. T-shirts), Work From H...</td>\n",
       "      <td>1 - 50 Employees</td>\n",
       "    </tr>\n",
       "    <tr>\n",
       "      <th>2</th>\n",
       "      <td>3D Graphic Artist (Sto. Tomas, Batangas: 15K-2...</td>\n",
       "      <td>SAGASS CONSULTING</td>\n",
       "      <td>Calabarzon &amp; Mimaropa</td>\n",
       "      <td>Candidate must possess at least a Bachelor's/C...</td>\n",
       "      <td>PHP 15,000 - PHP 25,000</td>\n",
       "      <td>[\"Candidate must possess at least a Bachelor's...</td>\n",
       "      <td>[]</td>\n",
       "      <td>['10 Full-Time position(s) available.', 'Full-...</td>\n",
       "      <td>[\"Requirements:Candidate must possess at least...</td>\n",
       "      <td>1-4 Years Experienced Employee</td>\n",
       "      <td>[]</td>\n",
       "      <td>1 - 50 Employees</td>\n",
       "    </tr>\n",
       "    <tr>\n",
       "      <th>3</th>\n",
       "      <td>Graphic Artist</td>\n",
       "      <td>Raffco International Trading Corp.</td>\n",
       "      <td>National Capital Reg</td>\n",
       "      <td>Responsible for continuously maintaining the c...</td>\n",
       "      <td>PHP 20,000 - PHP 25,000</td>\n",
       "      <td>[\"Responsible for continuously maintaining the...</td>\n",
       "      <td>[]</td>\n",
       "      <td>['·\\xa0\\xa0\\xa0\\xa0\\xa0\\xa0\\xa0\\xa0Passion and...</td>\n",
       "      <td>[\"Graphic Artist:Responsible for continuously ...</td>\n",
       "      <td>1-4 Years Experienced Employee</td>\n",
       "      <td>['Medical, Loans, Regular hours, Mondays - Fri...</td>\n",
       "      <td>201 - 500 Employees</td>\n",
       "    </tr>\n",
       "    <tr>\n",
       "      <th>4</th>\n",
       "      <td>Multimedia Artist</td>\n",
       "      <td>Victoria Sports</td>\n",
       "      <td>Quezon City</td>\n",
       "      <td>None</td>\n",
       "      <td>PHP 16,000 - PHP 22,000</td>\n",
       "      <td>[]</td>\n",
       "      <td>['DUTIES AND RESPONSIBILITIES:', '1.\\xa0\\xa0\\x...</td>\n",
       "      <td>['Full-Time', 'Average Processing Time']</td>\n",
       "      <td>['DUTIES AND RESPONSIBILITIES:1.\\xa0\\xa0\\xa0\\x...</td>\n",
       "      <td>1-4 Years Experienced Employee</td>\n",
       "      <td>['Medical, Business (e.g. Shirts)']</td>\n",
       "      <td>51 - 200 Employees</td>\n",
       "    </tr>\n",
       "    <tr>\n",
       "      <th>...</th>\n",
       "      <td>...</td>\n",
       "      <td>...</td>\n",
       "      <td>...</td>\n",
       "      <td>...</td>\n",
       "      <td>...</td>\n",
       "      <td>...</td>\n",
       "      <td>...</td>\n",
       "      <td>...</td>\n",
       "      <td>...</td>\n",
       "      <td>...</td>\n",
       "      <td>...</td>\n",
       "      <td>...</td>\n",
       "    </tr>\n",
       "    <tr>\n",
       "      <th>209</th>\n",
       "      <td>Graphics Artist</td>\n",
       "      <td>Cashalo</td>\n",
       "      <td>Quezon</td>\n",
       "      <td>Translate marketing objectives into clear crea...</td>\n",
       "      <td>None</td>\n",
       "      <td>['Translate marketing objectives into clear cr...</td>\n",
       "      <td>['Company Employee Title:', 'Graphics Artist',...</td>\n",
       "      <td>['Full-Time']</td>\n",
       "      <td>['Company Employee Title:Graphics ArtistJob Re...</td>\n",
       "      <td>NaN</td>\n",
       "      <td>[]</td>\n",
       "      <td>1 - 50 Employees</td>\n",
       "    </tr>\n",
       "    <tr>\n",
       "      <th>210</th>\n",
       "      <td>UI Illustrator (Experiments)</td>\n",
       "      <td>Xendit</td>\n",
       "      <td>National Capital Reg</td>\n",
       "      <td>Deliver well-crafted, beautiful UI illustratio...</td>\n",
       "      <td>None</td>\n",
       "      <td>['Deliver well-crafted, beautiful UI illustrat...</td>\n",
       "      <td>['Xendit provides payment infrastructure acros...</td>\n",
       "      <td>[]</td>\n",
       "      <td>['Xendit provides payment infrastructure acros...</td>\n",
       "      <td>NaN</td>\n",
       "      <td>[]</td>\n",
       "      <td>NaN</td>\n",
       "    </tr>\n",
       "    <tr>\n",
       "      <th>211</th>\n",
       "      <td>Senior Multimedia Designer</td>\n",
       "      <td>Home Credit Philippines</td>\n",
       "      <td>National Capital Reg</td>\n",
       "      <td>At least 4-5 years of work experience as a mul...</td>\n",
       "      <td>None</td>\n",
       "      <td>['At least 4-5 years of work experience as a m...</td>\n",
       "      <td>['You know you are the perfect fit if you are/...</td>\n",
       "      <td>['Full-Time', 'Average Processing Time']</td>\n",
       "      <td>[\"You know you are the perfect fit if you are/...</td>\n",
       "      <td>1-4 Years Experienced Employee</td>\n",
       "      <td>['Dental, Miscellaneous allowance, Medical, Lo...</td>\n",
       "      <td>None</td>\n",
       "    </tr>\n",
       "    <tr>\n",
       "      <th>212</th>\n",
       "      <td>Multimedia Producer</td>\n",
       "      <td>ABS-CBN Corporation</td>\n",
       "      <td>Quezon</td>\n",
       "      <td>Serve as the videographer for productions shoots.</td>\n",
       "      <td>None</td>\n",
       "      <td>['Serve as the videographer for productions sh...</td>\n",
       "      <td>[\"ABS-CBN Corporation is the Philippines' lead...</td>\n",
       "      <td>[]</td>\n",
       "      <td>[\"BUSINESS SUMMARYABS-CBN Corporation is the P...</td>\n",
       "      <td>NaN</td>\n",
       "      <td>['Medical, Regular hours, Mondays - Fridays, -']</td>\n",
       "      <td>2001 - 5000 Employees</td>\n",
       "    </tr>\n",
       "    <tr>\n",
       "      <th>213</th>\n",
       "      <td>Freelance Motion Designer - Philippines (remote)</td>\n",
       "      <td>Canva Solutions Inc.</td>\n",
       "      <td>National Capital Reg</td>\n",
       "      <td>Produce animated assets and stickers in differ...</td>\n",
       "      <td>None</td>\n",
       "      <td>['Produce animated assets and stickers in diff...</td>\n",
       "      <td>['Canva’s Commitment and Mission', 'At Canva, ...</td>\n",
       "      <td>[]</td>\n",
       "      <td>[\"Canva’s Commitment and MissionAt Canva, we c...</td>\n",
       "      <td>NaN</td>\n",
       "      <td>['Education support, Miscellaneous allowance, ...</td>\n",
       "      <td>51 - 200 Employees</td>\n",
       "    </tr>\n",
       "  </tbody>\n",
       "</table>\n",
       "<p>214 rows × 12 columns</p>\n",
       "</div>"
      ],
      "text/plain": [
       "                                                 Title  \\\n",
       "0    3D Graphic Artist (Sto. Tomas, Batangas: 15K-2...   \n",
       "1                    Graphic Artist/Web Graphic Artist   \n",
       "2    3D Graphic Artist (Sto. Tomas, Batangas: 15K-2...   \n",
       "3                                       Graphic Artist   \n",
       "4                                    Multimedia Artist   \n",
       "..                                                 ...   \n",
       "209                                    Graphics Artist   \n",
       "210                       UI Illustrator (Experiments)   \n",
       "211                         Senior Multimedia Designer   \n",
       "212                                Multimedia Producer   \n",
       "213   Freelance Motion Designer - Philippines (remote)   \n",
       "\n",
       "                                Company               Location  \\\n",
       "0                     SAGASS CONSULTING  Calabarzon & Mimaropa   \n",
       "1           C3 Interactive Manila, Inc.            Taguig City   \n",
       "2                     SAGASS CONSULTING  Calabarzon & Mimaropa   \n",
       "3    Raffco International Trading Corp.   National Capital Reg   \n",
       "4                       Victoria Sports            Quezon City   \n",
       "..                                  ...                    ...   \n",
       "209                             Cashalo                 Quezon   \n",
       "210                              Xendit   National Capital Reg   \n",
       "211             Home Credit Philippines   National Capital Reg   \n",
       "212                 ABS-CBN Corporation                 Quezon   \n",
       "213                Canva Solutions Inc.   National Capital Reg   \n",
       "\n",
       "                                               Summary  \\\n",
       "0    Candidate must possess at least a Bachelor's/C...   \n",
       "1                                                 None   \n",
       "2    Candidate must possess at least a Bachelor's/C...   \n",
       "3    Responsible for continuously maintaining the c...   \n",
       "4                                                 None   \n",
       "..                                                 ...   \n",
       "209  Translate marketing objectives into clear crea...   \n",
       "210  Deliver well-crafted, beautiful UI illustratio...   \n",
       "211  At least 4-5 years of work experience as a mul...   \n",
       "212  Serve as the videographer for productions shoots.   \n",
       "213  Produce animated assets and stickers in differ...   \n",
       "\n",
       "                      Salary  \\\n",
       "0    PHP 15,000 - PHP 25,000   \n",
       "1                       None   \n",
       "2    PHP 15,000 - PHP 25,000   \n",
       "3    PHP 20,000 - PHP 25,000   \n",
       "4    PHP 16,000 - PHP 22,000   \n",
       "..                       ...   \n",
       "209                     None   \n",
       "210                     None   \n",
       "211                     None   \n",
       "212                     None   \n",
       "213                     None   \n",
       "\n",
       "                                Qualification & Skills  \\\n",
       "0    [\"Candidate must possess at least a Bachelor's...   \n",
       "1                                                   []   \n",
       "2    [\"Candidate must possess at least a Bachelor's...   \n",
       "3    [\"Responsible for continuously maintaining the...   \n",
       "4                                                   []   \n",
       "..                                                 ...   \n",
       "209  ['Translate marketing objectives into clear cr...   \n",
       "210  ['Deliver well-crafted, beautiful UI illustrat...   \n",
       "211  ['At least 4-5 years of work experience as a m...   \n",
       "212  ['Serve as the videographer for productions sh...   \n",
       "213  ['Produce animated assets and stickers in diff...   \n",
       "\n",
       "                             Role and Responsibilities  \\\n",
       "0                                                   []   \n",
       "1    ['Qualifications:', \"Bachelor's/College Degree...   \n",
       "2                                                   []   \n",
       "3                                                   []   \n",
       "4    ['DUTIES AND RESPONSIBILITIES:', '1.\\xa0\\xa0\\x...   \n",
       "..                                                 ...   \n",
       "209  ['Company Employee Title:', 'Graphics Artist',...   \n",
       "210  ['Xendit provides payment infrastructure acros...   \n",
       "211  ['You know you are the perfect fit if you are/...   \n",
       "212  [\"ABS-CBN Corporation is the Philippines' lead...   \n",
       "213  ['Canva’s Commitment and Mission', 'At Canva, ...   \n",
       "\n",
       "                                              Job Type  \\\n",
       "0    ['10 Full-Time position(s) available.', 'Full-...   \n",
       "1             ['Full-Time', 'Average Processing Time']   \n",
       "2    ['10 Full-Time position(s) available.', 'Full-...   \n",
       "3    ['·\\xa0\\xa0\\xa0\\xa0\\xa0\\xa0\\xa0\\xa0Passion and...   \n",
       "4             ['Full-Time', 'Average Processing Time']   \n",
       "..                                                 ...   \n",
       "209                                      ['Full-Time']   \n",
       "210                                                 []   \n",
       "211           ['Full-Time', 'Average Processing Time']   \n",
       "212                                                 []   \n",
       "213                                                 []   \n",
       "\n",
       "                              Company Profile&Job Desc  \\\n",
       "0    [\"Requirements:Candidate must possess at least...   \n",
       "1    [\"Qualifications:Bachelor's/College Degree in ...   \n",
       "2    [\"Requirements:Candidate must possess at least...   \n",
       "3    [\"Graphic Artist:Responsible for continuously ...   \n",
       "4    ['DUTIES AND RESPONSIBILITIES:1.\\xa0\\xa0\\xa0\\x...   \n",
       "..                                                 ...   \n",
       "209  ['Company Employee Title:Graphics ArtistJob Re...   \n",
       "210  ['Xendit provides payment infrastructure acros...   \n",
       "211  [\"You know you are the perfect fit if you are/...   \n",
       "212  [\"BUSINESS SUMMARYABS-CBN Corporation is the P...   \n",
       "213  [\"Canva’s Commitment and MissionAt Canva, we c...   \n",
       "\n",
       "                       Career Level  \\\n",
       "0    1-4 Years Experienced Employee   \n",
       "1    1-4 Years Experienced Employee   \n",
       "2    1-4 Years Experienced Employee   \n",
       "3    1-4 Years Experienced Employee   \n",
       "4    1-4 Years Experienced Employee   \n",
       "..                              ...   \n",
       "209                             NaN   \n",
       "210                             NaN   \n",
       "211  1-4 Years Experienced Employee   \n",
       "212                             NaN   \n",
       "213                             NaN   \n",
       "\n",
       "                                              Benefits           Company Size  \n",
       "0                                                   []       1 - 50 Employees  \n",
       "1    ['Medical, Casual (e.g. T-shirts), Work From H...       1 - 50 Employees  \n",
       "2                                                   []       1 - 50 Employees  \n",
       "3    ['Medical, Loans, Regular hours, Mondays - Fri...    201 - 500 Employees  \n",
       "4                  ['Medical, Business (e.g. Shirts)']     51 - 200 Employees  \n",
       "..                                                 ...                    ...  \n",
       "209                                                 []       1 - 50 Employees  \n",
       "210                                                 []                    NaN  \n",
       "211  ['Dental, Miscellaneous allowance, Medical, Lo...                   None  \n",
       "212   ['Medical, Regular hours, Mondays - Fridays, -']  2001 - 5000 Employees  \n",
       "213  ['Education support, Miscellaneous allowance, ...     51 - 200 Employees  \n",
       "\n",
       "[214 rows x 12 columns]"
      ]
     },
     "execution_count": 3,
     "metadata": {},
     "output_type": "execute_result"
    }
   ],
   "source": [
    "merge"
   ]
  },
  {
   "cell_type": "code",
   "execution_count": 4,
   "metadata": {},
   "outputs": [
    {
     "data": {
      "text/html": [
       "<div>\n",
       "<style scoped>\n",
       "    .dataframe tbody tr th:only-of-type {\n",
       "        vertical-align: middle;\n",
       "    }\n",
       "\n",
       "    .dataframe tbody tr th {\n",
       "        vertical-align: top;\n",
       "    }\n",
       "\n",
       "    .dataframe thead th {\n",
       "        text-align: right;\n",
       "    }\n",
       "</style>\n",
       "<table border=\"1\" class=\"dataframe\">\n",
       "  <thead>\n",
       "    <tr style=\"text-align: right;\">\n",
       "      <th></th>\n",
       "      <th>Title</th>\n",
       "      <th>Company</th>\n",
       "      <th>Location</th>\n",
       "      <th>Summary</th>\n",
       "      <th>Salary</th>\n",
       "      <th>Qualification &amp; Skills</th>\n",
       "      <th>Role and Responsibilities</th>\n",
       "      <th>Job Type</th>\n",
       "      <th>Company Profile&amp;Job Desc</th>\n",
       "      <th>Career Level</th>\n",
       "      <th>Benefits</th>\n",
       "      <th>Company Size</th>\n",
       "    </tr>\n",
       "  </thead>\n",
       "  <tbody>\n",
       "    <tr>\n",
       "      <th>count</th>\n",
       "      <td>214</td>\n",
       "      <td>214</td>\n",
       "      <td>214</td>\n",
       "      <td>214</td>\n",
       "      <td>214</td>\n",
       "      <td>214</td>\n",
       "      <td>214</td>\n",
       "      <td>214</td>\n",
       "      <td>214</td>\n",
       "      <td>209</td>\n",
       "      <td>214</td>\n",
       "      <td>208</td>\n",
       "    </tr>\n",
       "    <tr>\n",
       "      <th>unique</th>\n",
       "      <td>47</td>\n",
       "      <td>48</td>\n",
       "      <td>18</td>\n",
       "      <td>42</td>\n",
       "      <td>17</td>\n",
       "      <td>47</td>\n",
       "      <td>41</td>\n",
       "      <td>15</td>\n",
       "      <td>58</td>\n",
       "      <td>3</td>\n",
       "      <td>33</td>\n",
       "      <td>7</td>\n",
       "    </tr>\n",
       "    <tr>\n",
       "      <th>top</th>\n",
       "      <td>eLearning Instructional Designer Developer | W...</td>\n",
       "      <td>Fusion360</td>\n",
       "      <td>National Capital Reg</td>\n",
       "      <td>None</td>\n",
       "      <td>None</td>\n",
       "      <td>[]</td>\n",
       "      <td>[]</td>\n",
       "      <td>['Full-Time', 'Average Processing Time']</td>\n",
       "      <td>[\"Dare to be #DifferentByDesign? Grab the oppo...</td>\n",
       "      <td>1-4 Years Experienced Employee</td>\n",
       "      <td>[]</td>\n",
       "      <td>51 - 200 Employees</td>\n",
       "    </tr>\n",
       "    <tr>\n",
       "      <th>freq</th>\n",
       "      <td>22</td>\n",
       "      <td>35</td>\n",
       "      <td>94</td>\n",
       "      <td>57</td>\n",
       "      <td>157</td>\n",
       "      <td>57</td>\n",
       "      <td>79</td>\n",
       "      <td>81</td>\n",
       "      <td>17</td>\n",
       "      <td>173</td>\n",
       "      <td>54</td>\n",
       "      <td>88</td>\n",
       "    </tr>\n",
       "  </tbody>\n",
       "</table>\n",
       "</div>"
      ],
      "text/plain": [
       "                                                    Title    Company  \\\n",
       "count                                                 214        214   \n",
       "unique                                                 47         48   \n",
       "top     eLearning Instructional Designer Developer | W...  Fusion360   \n",
       "freq                                                   22         35   \n",
       "\n",
       "                    Location Summary Salary Qualification & Skills  \\\n",
       "count                    214     214    214                    214   \n",
       "unique                    18      42     17                     47   \n",
       "top     National Capital Reg    None   None                     []   \n",
       "freq                      94      57    157                     57   \n",
       "\n",
       "       Role and Responsibilities                                  Job Type  \\\n",
       "count                        214                                       214   \n",
       "unique                        41                                        15   \n",
       "top                           []  ['Full-Time', 'Average Processing Time']   \n",
       "freq                          79                                        81   \n",
       "\n",
       "                                 Company Profile&Job Desc  \\\n",
       "count                                                 214   \n",
       "unique                                                 58   \n",
       "top     [\"Dare to be #DifferentByDesign? Grab the oppo...   \n",
       "freq                                                   17   \n",
       "\n",
       "                          Career Level Benefits        Company Size  \n",
       "count                              209      214                 208  \n",
       "unique                               3       33                   7  \n",
       "top     1-4 Years Experienced Employee       []  51 - 200 Employees  \n",
       "freq                               173       54                  88  "
      ]
     },
     "execution_count": 4,
     "metadata": {},
     "output_type": "execute_result"
    }
   ],
   "source": [
    "merge.describe()"
   ]
  },
  {
   "cell_type": "code",
   "execution_count": 5,
   "metadata": {},
   "outputs": [],
   "source": [
    "job_title_lower = merge[\"Title\"].str.lower()"
   ]
  },
  {
   "cell_type": "code",
   "execution_count": 6,
   "metadata": {},
   "outputs": [],
   "source": [
    "job_title = job_title_lower.value_counts()[0:10]"
   ]
  },
  {
   "cell_type": "code",
   "execution_count": 7,
   "metadata": {},
   "outputs": [],
   "source": [
    "sort = job_title.sort_values()"
   ]
  },
  {
   "cell_type": "code",
   "execution_count": 8,
   "metadata": {},
   "outputs": [
    {
     "data": {
      "image/png": "[encoded data removed]",
      "text/plain": [
       "<Figure size 432x288 with 1 Axes>"
      ]
     },
     "metadata": {
      "needs_background": "light"
     },
     "output_type": "display_data"
    }
   ],
   "source": [
    "plt.barh(sort.index, sort.values)\n",
    "plt.title(\"Jobstreet Motion Graphic Artist\")\n",
    "plt.xticks(rotation=\"30\", ha=\"right\")\n",
    "plt.show()"
   ]
  },
  {
   "cell_type": "code",
   "execution_count": 9,
   "metadata": {},
   "outputs": [],
   "source": [
    "company_name = merge[\"Company\"].value_counts()[0:10]"
   ]
  },
  {
   "cell_type": "code",
   "execution_count": 10,
   "metadata": {},
   "outputs": [
    {
     "data": {
      "image/png": "[encoded data removed]",
      "text/plain": [
       "<Figure size 432x288 with 1 Axes>"
      ]
     },
     "metadata": {
      "needs_background": "light"
     },
     "output_type": "display_data"
    }
   ],
   "source": [
    "plt.bar(company_name.index, company_name.values)\n",
    "plt.xticks(rotation=\"30\", ha=\"right\")\n",
    "plt.show()"
   ]
  },
  {
   "cell_type": "code",
   "execution_count": 11,
   "metadata": {},
   "outputs": [],
   "source": [
    "company_location = merge[\"Location\"].value_counts()[0:10]"
   ]
  },
  {
   "cell_type": "code",
   "execution_count": 12,
   "metadata": {},
   "outputs": [
    {
     "data": {
      "image/png": "[encoded data removed]",
      "text/plain": [
       "<Figure size 432x288 with 1 Axes>"
      ]
     },
     "metadata": {
      "needs_background": "light"
     },
     "output_type": "display_data"
    }
   ],
   "source": [
    "plt.bar(company_location.index, company_location.values)\n",
    "plt.xticks(rotation=\"30\", ha=\"right\")\n",
    "plt.show()\n"
   ]
  },
  {
   "cell_type": "code",
   "execution_count": 13,
   "metadata": {},
   "outputs": [],
   "source": [
    "filt = (merge[\"Salary\"] != \"None\")\n",
    "results = merge.loc[filt]"
   ]
  },
  {
   "cell_type": "code",
   "execution_count": 14,
   "metadata": {},
   "outputs": [],
   "source": [
    "salary = results[\"Salary\"].value_counts()[0:10]"
   ]
  },
  {
   "cell_type": "code",
   "execution_count": 15,
   "metadata": {},
   "outputs": [
    {
     "data": {
      "image/png": "[encoded data removed]",
      "text/plain": [
       "<Figure size 432x288 with 1 Axes>"
      ]
     },
     "metadata": {
      "needs_background": "light"
     },
     "output_type": "display_data"
    }
   ],
   "source": [
    "plt.bar(salary.index, salary.values)\n",
    "plt.xticks(rotation=\"30\", ha=\"right\")\n",
    "plt.show()"
   ]
  },
  {
   "cell_type": "code",
   "execution_count": 16,
   "metadata": {},
   "outputs": [],
   "source": [
    "job_type = merge[\"Job Type\"].apply(ast.literal_eval)\n",
    "job_type_append = []\n",
    "for i in job_type:\n",
    "    job_type_append.append(job_type[0][0])"
   ]
  },
  {
   "cell_type": "code",
   "execution_count": 17,
   "metadata": {},
   "outputs": [
    {
     "data": {
      "text/plain": [
       "Job Type                           \n",
       "10 Full-Time position(s) available.    214\n",
       "dtype: int64"
      ]
     },
     "execution_count": 17,
     "metadata": {},
     "output_type": "execute_result"
    }
   ],
   "source": [
    "# List to Dataframe ( Count Job Type )\n",
    "job_type_df = pd.DataFrame(job_type_append,columns=[\"Job Type\"])\n",
    "job_type_df.value_counts()\n"
   ]
  },
  {
   "cell_type": "code",
   "execution_count": 18,
   "metadata": {},
   "outputs": [
    {
     "data": {
      "text/plain": [
       "1-4 Years Experienced Employee                  173\n",
       "Less than 1 Year Experienced Employee            18\n",
       "Supervisor/5 Years & Up Experienced Employee     18\n",
       "Name: Career Level, dtype: int64"
      ]
     },
     "execution_count": 18,
     "metadata": {},
     "output_type": "execute_result"
    }
   ],
   "source": [
    "career_level = merge[\"Career Level\"]\n",
    "count_career_level = career_level.value_counts()\n",
    "count_career_level"
   ]
  },
  {
   "cell_type": "code",
   "execution_count": 19,
   "metadata": {},
   "outputs": [
    {
     "data": {
      "image/png": "[encoded data removed]",
      "text/plain": [
       "<Figure size 432x288 with 1 Axes>"
      ]
     },
     "metadata": {
      "needs_background": "light"
     },
     "output_type": "display_data"
    }
   ],
   "source": [
    "plt.bar(count_career_level.index, count_career_level.values)\n",
    "plt.xticks(rotation=\"30\",ha=\"right\")\n",
    "plt.show()"
   ]
  },
  {
   "cell_type": "code",
   "execution_count": 20,
   "metadata": {},
   "outputs": [
    {
     "data": {
      "text/plain": [
       "51 - 200 Employees       88\n",
       "1 - 50 Employees         51\n",
       "201 - 500 Employees      21\n",
       "None                     21\n",
       "2001 - 5000 Employees    12\n",
       "501 - 1000 Employees     10\n",
       "Name: Company Size, dtype: int64"
      ]
     },
     "execution_count": 20,
     "metadata": {},
     "output_type": "execute_result"
    }
   ],
   "source": [
    "company_size = merge[\"Company Size\"]\n",
    "count_company_size = company_size.value_counts()[0:6]\n",
    "count_company_size"
   ]
  },
  {
   "cell_type": "code",
   "execution_count": 21,
   "metadata": {},
   "outputs": [
    {
     "data": {
      "image/png": "[encoded data removed]",
      "text/plain": [
       "<Figure size 432x288 with 1 Axes>"
      ]
     },
     "metadata": {
      "needs_background": "light"
     },
     "output_type": "display_data"
    }
   ],
   "source": [
    "plt.bar(count_company_size.index, count_company_size.values)\n",
    "plt.xticks(rotation=\"30\",ha=\"right\")\n",
    "plt.show()"
   ]
  },
  {
   "cell_type": "code",
   "execution_count": 22,
   "metadata": {},
   "outputs": [
    {
     "name": "stderr",
     "output_type": "stream",
     "text": [
      "/var/folders/tc/qdg72rpx523gjsqcr2vf_0c00000gn/T/ipykernel_2143/2971443327.py:1: FutureWarning: The default value of regex will change from True to False in a future version.\n",
      "  benefits = merge[\"Benefits\"].str.replace(\"^\\['|'\\]$\",\"\")\n"
     ]
    }
   ],
   "source": [
    "benefits = merge[\"Benefits\"].str.replace(\"^\\['|'\\]$\",\"\")\n",
    "benefits_append = []\n",
    "split_benefits = benefits.str.split(\",\")\n",
    "\n",
    "for i in range(len(split_benefits)):\n",
    "    for j in split_benefits[i]:\n",
    "        benefits_append.append(j)\n"
   ]
  },
  {
   "cell_type": "code",
   "execution_count": 23,
   "metadata": {},
   "outputs": [
    {
     "data": {
      "text/plain": [
       "Medical                                               160\n",
       "Miscellaneous allowance                               119\n",
       "Dental                                                 81\n",
       "Business (e.g. Shirts)                                 71\n",
       "Education support                                      66\n",
       "Regular hours                                          63\n",
       "Loans                                                  62\n",
       "Casual (e.g. T-shirts)                                 61\n",
       "Mondays - Fridays                                      60\n",
       "Vision                                                 46\n",
       "Meals                                                  35\n",
       "Island/Overseas Trips                                  35\n",
       "Loyalty Incentives and more!                           35\n",
       "6:30 AM - 3:30 PM (Weekends off and No rush hour!)     35\n",
       "Sports (e.g. Gym)                                      34\n",
       "Name: Benefits, dtype: int64"
      ]
     },
     "execution_count": 23,
     "metadata": {},
     "output_type": "execute_result"
    }
   ],
   "source": [
    "benefits_df = pd.DataFrame(benefits_append, columns=[\"Benefits\"])\n",
    "benefits_df = benefits_df[\"Benefits\"].str.strip()\n",
    "filt = (benefits_df != \"[]\")\n",
    "benefits_df = benefits_df.loc[filt]\n",
    "benefits_count = benefits_df.value_counts()[0:15]\n",
    "benefits_count\n",
    "\n"
   ]
  },
  {
   "cell_type": "code",
   "execution_count": 24,
   "metadata": {},
   "outputs": [
    {
     "data": {
      "image/png": "[encoded data removed]",
      "text/plain": [
       "<Figure size 432x288 with 1 Axes>"
      ]
     },
     "metadata": {
      "needs_background": "light"
     },
     "output_type": "display_data"
    }
   ],
   "source": [
    "plt.bar(benefits_count.index, benefits_count.values)\n",
    "plt.xticks(rotation=\"30\",ha=\"right\")\n",
    "plt.show()"
   ]
  },
  {
   "cell_type": "code",
   "execution_count": 25,
   "metadata": {},
   "outputs": [],
   "source": [
    "filt = (merge[\"Salary\"] != \"None\")\n",
    "salary_career_level = merge[filt].sort_values(by=\"Salary\",ascending=True)\n",
    "count = salary_career_level[[\"Title\",\"Salary\",\"Career Level\"]]\n",
    "\n"
   ]
  },
  {
   "cell_type": "code",
   "execution_count": 26,
   "metadata": {},
   "outputs": [
    {
     "data": {
      "text/plain": [
       "1-4 Years Experienced Employee                  173\n",
       "Less than 1 Year Experienced Employee            18\n",
       "Supervisor/5 Years & Up Experienced Employee     18\n",
       "Name: Career Level, dtype: int64"
      ]
     },
     "execution_count": 26,
     "metadata": {},
     "output_type": "execute_result"
    }
   ],
   "source": [
    "merge[\"Career Level\"].value_counts()"
   ]
  },
  {
   "cell_type": "code",
   "execution_count": 27,
   "metadata": {},
   "outputs": [
    {
     "name": "stderr",
     "output_type": "stream",
     "text": [
      "/var/folders/tc/qdg72rpx523gjsqcr2vf_0c00000gn/T/ipykernel_2143/1619117618.py:3: SettingWithCopyWarning: \n",
      "A value is trying to be set on a copy of a slice from a DataFrame.\n",
      "Try using .loc[row_indexer,col_indexer] = value instead\n",
      "\n",
      "See the caveats in the documentation: https://pandas.pydata.org/pandas-docs/stable/user_guide/indexing.html#returning-a-view-versus-a-copy\n",
      "  merge[\"Salary\"] = merge[\"Salary\"].str.replace(\",\", \"\")\n",
      "/var/folders/tc/qdg72rpx523gjsqcr2vf_0c00000gn/T/ipykernel_2143/1619117618.py:4: SettingWithCopyWarning: \n",
      "A value is trying to be set on a copy of a slice from a DataFrame.\n",
      "Try using .loc[row_indexer,col_indexer] = value instead\n",
      "\n",
      "See the caveats in the documentation: https://pandas.pydata.org/pandas-docs/stable/user_guide/indexing.html#returning-a-view-versus-a-copy\n",
      "  merge[\"Salary\"] = merge[\"Salary\"].str.replace(\"PHP\", \"\")\n",
      "/var/folders/tc/qdg72rpx523gjsqcr2vf_0c00000gn/T/ipykernel_2143/1619117618.py:5: SettingWithCopyWarning: \n",
      "A value is trying to be set on a copy of a slice from a DataFrame.\n",
      "Try using .loc[row_indexer,col_indexer] = value instead\n",
      "\n",
      "See the caveats in the documentation: https://pandas.pydata.org/pandas-docs/stable/user_guide/indexing.html#returning-a-view-versus-a-copy\n",
      "  merge[\"Salary\"] = merge[\"Salary\"].str.replace(\"-\", \"\")\n",
      "/var/folders/tc/qdg72rpx523gjsqcr2vf_0c00000gn/T/ipykernel_2143/1619117618.py:6: SettingWithCopyWarning: \n",
      "A value is trying to be set on a copy of a slice from a DataFrame.\n",
      "Try using .loc[row_indexer,col_indexer] = value instead\n",
      "\n",
      "See the caveats in the documentation: https://pandas.pydata.org/pandas-docs/stable/user_guide/indexing.html#returning-a-view-versus-a-copy\n",
      "  merge[\"Salary\"] = merge[\"Salary\"].str.split(\"  \")\n"
     ]
    }
   ],
   "source": [
    "salary_append = []\n",
    "merge = merge.loc[merge[\"Salary\"] != \"None\"]\n",
    "merge[\"Salary\"] = merge[\"Salary\"].str.replace(\",\", \"\")\n",
    "merge[\"Salary\"] = merge[\"Salary\"].str.replace(\"PHP\", \"\")\n",
    "merge[\"Salary\"] = merge[\"Salary\"].str.replace(\"-\", \"\")\n",
    "merge[\"Salary\"] = merge[\"Salary\"].str.split(\"  \")\n"
   ]
  },
  {
   "cell_type": "code",
   "execution_count": 28,
   "metadata": {},
   "outputs": [],
   "source": [
    "mid_append = []\n",
    "mid_level = merge.loc[merge[\"Career Level\"] == \"1-4 Years Experienced Employee\"]\n",
    "mid_level_salary = mid_level[mid_level[\"Salary\"] != \"None\"]\n",
    "count_mid = mid_level_salary[\"Salary\"]\n",
    "df_mid = count_mid.reset_index()\n",
    "df_mid = df_mid.drop(columns=\"index\")\n",
    "\n",
    "for i in range(len(df_mid)):\n",
    "    salary = df_mid[\"Salary\"][i]\n",
    "    for j in range(len(salary)):\n",
    "        mid_append.append(int(salary[j]))"
   ]
  },
  {
   "cell_type": "code",
   "execution_count": 29,
   "metadata": {},
   "outputs": [],
   "source": [
    "low_append = []\n",
    "low_level = merge.loc[merge[\"Career Level\"] == \"Less than 1 Year Experienced Employee\"]\n",
    "low_level_salary = low_level[low_level[\"Salary\"] != \"None\"]\n",
    "count_low = low_level_salary[\"Salary\"]\n",
    "df_low = count_low.reset_index()\n",
    "df_low = df_low.drop(columns=\"index\")\n",
    "\n",
    "for i in range(len(df_low)):\n",
    "    salary = df_low[\"Salary\"][i]\n",
    "    for j in range(len(salary)):\n",
    "        low_append.append(int(salary[j]))"
   ]
  },
  {
   "cell_type": "code",
   "execution_count": 30,
   "metadata": {},
   "outputs": [],
   "source": [
    "high_append = []\n",
    "high_level = merge.loc[merge[\"Career Level\"] == \"Supervisor/5 Years & Up Experienced Employee\"]\n",
    "high_level_salary = high_level[high_level[\"Salary\"] != \"None\"]\n",
    "count_high = high_level_salary[\"Salary\"]\n",
    "df_high = count_high.reset_index()\n",
    "df_high = df_high.drop(columns=\"index\")\n",
    "\n",
    "for i in range(len(df_high)):\n",
    "    salary = df_high[\"Salary\"][i]\n",
    "    for j in range(len(salary)):\n",
    "        high_append.append(int(salary[j]))\n",
    "\n"
   ]
  },
  {
   "cell_type": "code",
   "execution_count": 31,
   "metadata": {},
   "outputs": [
    {
     "data": {
      "text/plain": [
       "<matplotlib.legend.Legend at 0x157aebca0>"
      ]
     },
     "execution_count": 31,
     "metadata": {},
     "output_type": "execute_result"
    },
    {
     "data": {
      "image/png": "[encoded data removed]",
      "text/plain": [
       "<Figure size 1440x720 with 1 Axes>"
      ]
     },
     "metadata": {
      "needs_background": "light"
     },
     "output_type": "display_data"
    }
   ],
   "source": [
    "combine_salary = low_append + mid_append + high_append\n",
    "df_combine_salary = pd.DataFrame(combine_salary, columns=[\"Combine Salary\"])\n",
    "\n",
    "bins = [10000,20000,30000,40000,50000,60000,70000,80000,90000,100000,110000,120000,130000,140000,150000,160000,170000,180000,190000,200000,210000,220000]\n",
    "plt.figure(figsize=(20,10))\n",
    "plt.hist(low_append,bins=bins,alpha = 0.5,color=\"black\")\n",
    "plt.hist(mid_append,bins=bins,alpha = 0.5)\n",
    "plt.hist(high_append,bins=bins,alpha = 0.5)\n",
    "plt.ylabel(\"Number Of Salary\")\n",
    "plt.xlabel(\"Salary\")\n",
    "plt.title(\"Distribution of Salary in Motion Graphic Designer\")\n",
    "plt.axvline(df_combine_salary[\"Combine Salary\"].median(), linewidth=5,color=\"red\", label=\"Median Salary is PHP {}\".format(df_combine_salary[\"Combine Salary\"].median()))\n",
    "plt.axvline(df_combine_salary[\"Combine Salary\"].mean(), linewidth=5,color=\"green\", label=\"Mean Salary is PHP {}\".format(df_combine_salary[\"Combine Salary\"].mean()))\n",
    "\n",
    "plt.legend([\"Median Salary is PHP {}\".format(df_combine_salary[\"Combine Salary\"].median()),\"Mean Salary is PHP {}\".format(round(df_combine_salary[\"Combine Salary\"].mean(),2)),'Entry Level', 'Mid Level', 'Senior Level',])\n"
   ]
  }
 ],
 "metadata": {
  "interpreter": {
   "hash": "aee8b7b246df8f9039afb4144a1f6fd8d2ca17a180786b69acc140d282b71a49"
  },
  "kernelspec": {
   "display_name": "Python 3.10.4 64-bit",
   "language": "python",
   "name": "python3"
  },
  "language_info": {
   "codemirror_mode": {
    "name": "ipython",
    "version": 3
   },
   "file_extension": ".py",
   "mimetype": "text/x-python",
   "name": "python",
   "nbconvert_exporter": "python",
   "pygments_lexer": "ipython3",
   "version": "3.10.4"
  },
  "orig_nbformat": 4
 },
 "nbformat": 4,
 "nbformat_minor": 2
}
