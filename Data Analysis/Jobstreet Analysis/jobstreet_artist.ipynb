{
 "cells": [
  {
   "cell_type": "code",
   "execution_count": 148,
   "metadata": {},
   "outputs": [],
   "source": [
    "import matplotlib.pyplot as plt\n",
    "import pandas as pd\n",
    "import re\n",
    "import ast"
   ]
  },
  {
   "cell_type": "code",
   "execution_count": 149,
   "metadata": {},
   "outputs": [
    {
     "data": {
      "text/html": [
       "<div>\n",
       "<style scoped>\n",
       "    .dataframe tbody tr th:only-of-type {\n",
       "        vertical-align: middle;\n",
       "    }\n",
       "\n",
       "    .dataframe tbody tr th {\n",
       "        vertical-align: top;\n",
       "    }\n",
       "\n",
       "    .dataframe thead th {\n",
       "        text-align: right;\n",
       "    }\n",
       "</style>\n",
       "<table border=\"1\" class=\"dataframe\">\n",
       "  <thead>\n",
       "    <tr style=\"text-align: right;\">\n",
       "      <th></th>\n",
       "      <th>Title</th>\n",
       "      <th>Company</th>\n",
       "      <th>Location</th>\n",
       "      <th>Summary</th>\n",
       "      <th>Salary</th>\n",
       "      <th>Qualification &amp; Skills</th>\n",
       "      <th>Role and Responsibilities</th>\n",
       "      <th>Job Type</th>\n",
       "      <th>Company Profile&amp;Job Desc</th>\n",
       "      <th>Career Level</th>\n",
       "      <th>Benefits</th>\n",
       "      <th>Company Size</th>\n",
       "    </tr>\n",
       "  </thead>\n",
       "  <tbody>\n",
       "    <tr>\n",
       "      <th>0</th>\n",
       "      <td>Graphic Artist</td>\n",
       "      <td>ARUZE PHILIPPINES MANUFACTURING INC</td>\n",
       "      <td>Batangas</td>\n",
       "      <td>None</td>\n",
       "      <td>PHP 11,500 - PHP 13,000</td>\n",
       "      <td>[]</td>\n",
       "      <td>['· Mainly responsible for creating character ...</td>\n",
       "      <td>['Full-Time', 'Average Processing Time']</td>\n",
       "      <td>['· Mainly responsible for creating character ...</td>\n",
       "      <td>Less than 1 Year Experienced Employee</td>\n",
       "      <td>['Dental, Miscellaneous allowance, Medical, Lo...</td>\n",
       "      <td>201 - 500 Employees</td>\n",
       "    </tr>\n",
       "    <tr>\n",
       "      <th>1</th>\n",
       "      <td>Multimedia Artist (WFH)</td>\n",
       "      <td>Property Company of Friends, Inc.</td>\n",
       "      <td>National Capital Reg</td>\n",
       "      <td>Understand creative material requirements of t...</td>\n",
       "      <td>None</td>\n",
       "      <td>['Understand creative material requirements of...</td>\n",
       "      <td>[]</td>\n",
       "      <td>['Full-Time', 'Average Processing Time']</td>\n",
       "      <td>['Job Summary:Mainly responsible for designing...</td>\n",
       "      <td>1-4 Years Experienced Employee</td>\n",
       "      <td>['Dental, Miscellaneous allowance, Medical, Lo...</td>\n",
       "      <td>1001 - 2000 Employees</td>\n",
       "    </tr>\n",
       "    <tr>\n",
       "      <th>2</th>\n",
       "      <td>Graphic Artist</td>\n",
       "      <td>TOPBOND PHILIPPINES INC.</td>\n",
       "      <td>Quezon City</td>\n",
       "      <td>None</td>\n",
       "      <td>None</td>\n",
       "      <td>[]</td>\n",
       "      <td>['Job Description', \"1. Graduate of Bachelor's...</td>\n",
       "      <td>['Full-Time', 'Average Processing Time']</td>\n",
       "      <td>[\"Job Description1. Graduate of Bachelor's/Col...</td>\n",
       "      <td>1-4 Years Experienced Employee</td>\n",
       "      <td>[]</td>\n",
       "      <td>51 - 200 Employees</td>\n",
       "    </tr>\n",
       "    <tr>\n",
       "      <th>3</th>\n",
       "      <td>SR. Graphic Artist</td>\n",
       "      <td>ARUZE PHILIPPINES MANUFACTURING INC</td>\n",
       "      <td>Makati City</td>\n",
       "      <td>None</td>\n",
       "      <td>PHP 30,000 - PHP 40,000</td>\n",
       "      <td>[]</td>\n",
       "      <td>['· Manage schedule of projects in your team',...</td>\n",
       "      <td>['Full-Time', 'Average Processing Time']</td>\n",
       "      <td>['· Manage schedule of projects in your team· ...</td>\n",
       "      <td>1-4 Years Experienced Employee</td>\n",
       "      <td>['Dental, Miscellaneous allowance, Medical, Lo...</td>\n",
       "      <td>201 - 500 Employees</td>\n",
       "    </tr>\n",
       "    <tr>\n",
       "      <th>4</th>\n",
       "      <td>Multimedia Artist</td>\n",
       "      <td>SilverLush Food Corp</td>\n",
       "      <td>National Capital Reg</td>\n",
       "      <td>None</td>\n",
       "      <td>PHP 25,000 - PHP 30,000</td>\n",
       "      <td>[]</td>\n",
       "      <td>['Silverlush is looking for Mulimedia Artist',...</td>\n",
       "      <td>['Full-Time']</td>\n",
       "      <td>['Silverlush is looking for Mulimedia ArtistJo...</td>\n",
       "      <td>1-4 Years Experienced Employee</td>\n",
       "      <td>['Miscellaneous allowance, Medical, Regular ho...</td>\n",
       "      <td>1 - 50 Employees</td>\n",
       "    </tr>\n",
       "    <tr>\n",
       "      <th>...</th>\n",
       "      <td>...</td>\n",
       "      <td>...</td>\n",
       "      <td>...</td>\n",
       "      <td>...</td>\n",
       "      <td>...</td>\n",
       "      <td>...</td>\n",
       "      <td>...</td>\n",
       "      <td>...</td>\n",
       "      <td>...</td>\n",
       "      <td>...</td>\n",
       "      <td>...</td>\n",
       "      <td>...</td>\n",
       "    </tr>\n",
       "    <tr>\n",
       "      <th>1045</th>\n",
       "      <td>Creative Lead</td>\n",
       "      <td>Ohmyhome Property Inc.</td>\n",
       "      <td>National Capital Reg</td>\n",
       "      <td>Work directly with the CPO on creative and mar...</td>\n",
       "      <td>PHP 60,000 - PHP 80,000</td>\n",
       "      <td>['Work directly with the CPO on creative and m...</td>\n",
       "      <td>['Requirements:', 'What we can offer?']</td>\n",
       "      <td>['Full-Time']</td>\n",
       "      <td>[\"Work directly with the CPO on creative and m...</td>\n",
       "      <td>NaN</td>\n",
       "      <td>['Dental, Medical, Parking, Regular hours, Mon...</td>\n",
       "      <td>1 - 50 Employees</td>\n",
       "    </tr>\n",
       "    <tr>\n",
       "      <th>1046</th>\n",
       "      <td>Digital Marketing Designer</td>\n",
       "      <td>RipeConcepts, Inc.</td>\n",
       "      <td>Central Visayas</td>\n",
       "      <td>Produce attention-grabbing creative assets (st...</td>\n",
       "      <td>None</td>\n",
       "      <td>['Produce attention-grabbing creative assets (...</td>\n",
       "      <td>['Digital Marketing Designer', 'As a Digital M...</td>\n",
       "      <td>['Full-Time', 'Average Processing Time']</td>\n",
       "      <td>['Digital Marketing DesignerAs a Digital Marke...</td>\n",
       "      <td>Supervisor/5 Years &amp; Up Experienced Employee</td>\n",
       "      <td>['Dental, Medical, Regular hours, Mondays - Fr...</td>\n",
       "      <td>201 - 500 Employees</td>\n",
       "    </tr>\n",
       "    <tr>\n",
       "      <th>1047</th>\n",
       "      <td>Senior Graphics Designer - Print and Digital</td>\n",
       "      <td>Cloudstaff Philippines Inc.</td>\n",
       "      <td>Central Luzon</td>\n",
       "      <td>Design new product packaging and update curren...</td>\n",
       "      <td>None</td>\n",
       "      <td>['Design new product packaging and update curr...</td>\n",
       "      <td>[]</td>\n",
       "      <td>['Full-Time', 'Average Processing Time']</td>\n",
       "      <td>[\"JR-5681 -\\xa0 Senior Graphics Designer - Pri...</td>\n",
       "      <td>Supervisor/5 Years &amp; Up Experienced Employee</td>\n",
       "      <td>['Dental, Education support, Medical, Company ...</td>\n",
       "      <td>2001 - 5000 Employees</td>\n",
       "    </tr>\n",
       "    <tr>\n",
       "      <th>1048</th>\n",
       "      <td>Motion Graphics Designer (Mid- Senior Level) -...</td>\n",
       "      <td>Emapta</td>\n",
       "      <td>National Capital Reg</td>\n",
       "      <td>Turn ideas and concepts into visual.</td>\n",
       "      <td>None</td>\n",
       "      <td>['Turn ideas and concepts into visual.', 'Prod...</td>\n",
       "      <td>[]</td>\n",
       "      <td>['Full-Time', 'Average Processing Time']</td>\n",
       "      <td>['Position purpose: Owns the conceptualization...</td>\n",
       "      <td>Supervisor/5 Years &amp; Up Experienced Employee</td>\n",
       "      <td>['Dental, Miscellaneous allowance, Medical, Lo...</td>\n",
       "      <td>2001 - 5000 Employees</td>\n",
       "    </tr>\n",
       "    <tr>\n",
       "      <th>1049</th>\n",
       "      <td>Creative Artist - Project Based</td>\n",
       "      <td>Vogue Concepts Inc.</td>\n",
       "      <td>National Capital Reg</td>\n",
       "      <td>Graduate of Fine Arts/Design/Creative Multimed...</td>\n",
       "      <td>None</td>\n",
       "      <td>['Graduate of Fine Arts/Design/Creative Multim...</td>\n",
       "      <td>[]</td>\n",
       "      <td>['Full-Time', 'Average Processing Time']</td>\n",
       "      <td>['Provides creative graphic designs for variou...</td>\n",
       "      <td>1-4 Years Experienced Employee</td>\n",
       "      <td>['Medical, Loans, Group Life Insurance, Group ...</td>\n",
       "      <td>201 - 500 Employees</td>\n",
       "    </tr>\n",
       "  </tbody>\n",
       "</table>\n",
       "<p>1050 rows × 12 columns</p>\n",
       "</div>"
      ],
      "text/plain": [
       "                                                  Title  \\\n",
       "0                                        Graphic Artist   \n",
       "1                               Multimedia Artist (WFH)   \n",
       "2                                        Graphic Artist   \n",
       "3                                    SR. Graphic Artist   \n",
       "4                                     Multimedia Artist   \n",
       "...                                                 ...   \n",
       "1045                                      Creative Lead   \n",
       "1046                         Digital Marketing Designer   \n",
       "1047       Senior Graphics Designer - Print and Digital   \n",
       "1048  Motion Graphics Designer (Mid- Senior Level) -...   \n",
       "1049                    Creative Artist - Project Based   \n",
       "\n",
       "                                  Company              Location  \\\n",
       "0     ARUZE PHILIPPINES MANUFACTURING INC              Batangas   \n",
       "1       Property Company of Friends, Inc.  National Capital Reg   \n",
       "2                TOPBOND PHILIPPINES INC.           Quezon City   \n",
       "3     ARUZE PHILIPPINES MANUFACTURING INC           Makati City   \n",
       "4                    SilverLush Food Corp  National Capital Reg   \n",
       "...                                   ...                   ...   \n",
       "1045               Ohmyhome Property Inc.  National Capital Reg   \n",
       "1046                   RipeConcepts, Inc.       Central Visayas   \n",
       "1047          Cloudstaff Philippines Inc.         Central Luzon   \n",
       "1048                               Emapta  National Capital Reg   \n",
       "1049                  Vogue Concepts Inc.  National Capital Reg   \n",
       "\n",
       "                                                Summary  \\\n",
       "0                                                  None   \n",
       "1     Understand creative material requirements of t...   \n",
       "2                                                  None   \n",
       "3                                                  None   \n",
       "4                                                  None   \n",
       "...                                                 ...   \n",
       "1045  Work directly with the CPO on creative and mar...   \n",
       "1046  Produce attention-grabbing creative assets (st...   \n",
       "1047  Design new product packaging and update curren...   \n",
       "1048               Turn ideas and concepts into visual.   \n",
       "1049  Graduate of Fine Arts/Design/Creative Multimed...   \n",
       "\n",
       "                       Salary  \\\n",
       "0     PHP 11,500 - PHP 13,000   \n",
       "1                        None   \n",
       "2                        None   \n",
       "3     PHP 30,000 - PHP 40,000   \n",
       "4     PHP 25,000 - PHP 30,000   \n",
       "...                       ...   \n",
       "1045  PHP 60,000 - PHP 80,000   \n",
       "1046                     None   \n",
       "1047                     None   \n",
       "1048                     None   \n",
       "1049                     None   \n",
       "\n",
       "                                 Qualification & Skills  \\\n",
       "0                                                    []   \n",
       "1     ['Understand creative material requirements of...   \n",
       "2                                                    []   \n",
       "3                                                    []   \n",
       "4                                                    []   \n",
       "...                                                 ...   \n",
       "1045  ['Work directly with the CPO on creative and m...   \n",
       "1046  ['Produce attention-grabbing creative assets (...   \n",
       "1047  ['Design new product packaging and update curr...   \n",
       "1048  ['Turn ideas and concepts into visual.', 'Prod...   \n",
       "1049  ['Graduate of Fine Arts/Design/Creative Multim...   \n",
       "\n",
       "                              Role and Responsibilities  \\\n",
       "0     ['· Mainly responsible for creating character ...   \n",
       "1                                                    []   \n",
       "2     ['Job Description', \"1. Graduate of Bachelor's...   \n",
       "3     ['· Manage schedule of projects in your team',...   \n",
       "4     ['Silverlush is looking for Mulimedia Artist',...   \n",
       "...                                                 ...   \n",
       "1045            ['Requirements:', 'What we can offer?']   \n",
       "1046  ['Digital Marketing Designer', 'As a Digital M...   \n",
       "1047                                                 []   \n",
       "1048                                                 []   \n",
       "1049                                                 []   \n",
       "\n",
       "                                      Job Type  \\\n",
       "0     ['Full-Time', 'Average Processing Time']   \n",
       "1     ['Full-Time', 'Average Processing Time']   \n",
       "2     ['Full-Time', 'Average Processing Time']   \n",
       "3     ['Full-Time', 'Average Processing Time']   \n",
       "4                                ['Full-Time']   \n",
       "...                                        ...   \n",
       "1045                             ['Full-Time']   \n",
       "1046  ['Full-Time', 'Average Processing Time']   \n",
       "1047  ['Full-Time', 'Average Processing Time']   \n",
       "1048  ['Full-Time', 'Average Processing Time']   \n",
       "1049  ['Full-Time', 'Average Processing Time']   \n",
       "\n",
       "                               Company Profile&Job Desc  \\\n",
       "0     ['· Mainly responsible for creating character ...   \n",
       "1     ['Job Summary:Mainly responsible for designing...   \n",
       "2     [\"Job Description1. Graduate of Bachelor's/Col...   \n",
       "3     ['· Manage schedule of projects in your team· ...   \n",
       "4     ['Silverlush is looking for Mulimedia ArtistJo...   \n",
       "...                                                 ...   \n",
       "1045  [\"Work directly with the CPO on creative and m...   \n",
       "1046  ['Digital Marketing DesignerAs a Digital Marke...   \n",
       "1047  [\"JR-5681 -\\xa0 Senior Graphics Designer - Pri...   \n",
       "1048  ['Position purpose: Owns the conceptualization...   \n",
       "1049  ['Provides creative graphic designs for variou...   \n",
       "\n",
       "                                      Career Level  \\\n",
       "0            Less than 1 Year Experienced Employee   \n",
       "1                   1-4 Years Experienced Employee   \n",
       "2                   1-4 Years Experienced Employee   \n",
       "3                   1-4 Years Experienced Employee   \n",
       "4                   1-4 Years Experienced Employee   \n",
       "...                                            ...   \n",
       "1045                                           NaN   \n",
       "1046  Supervisor/5 Years & Up Experienced Employee   \n",
       "1047  Supervisor/5 Years & Up Experienced Employee   \n",
       "1048  Supervisor/5 Years & Up Experienced Employee   \n",
       "1049                1-4 Years Experienced Employee   \n",
       "\n",
       "                                               Benefits           Company Size  \n",
       "0     ['Dental, Miscellaneous allowance, Medical, Lo...    201 - 500 Employees  \n",
       "1     ['Dental, Miscellaneous allowance, Medical, Lo...  1001 - 2000 Employees  \n",
       "2                                                    []     51 - 200 Employees  \n",
       "3     ['Dental, Miscellaneous allowance, Medical, Lo...    201 - 500 Employees  \n",
       "4     ['Miscellaneous allowance, Medical, Regular ho...       1 - 50 Employees  \n",
       "...                                                 ...                    ...  \n",
       "1045  ['Dental, Medical, Parking, Regular hours, Mon...       1 - 50 Employees  \n",
       "1046  ['Dental, Medical, Regular hours, Mondays - Fr...    201 - 500 Employees  \n",
       "1047  ['Dental, Education support, Medical, Company ...  2001 - 5000 Employees  \n",
       "1048  ['Dental, Miscellaneous allowance, Medical, Lo...  2001 - 5000 Employees  \n",
       "1049  ['Medical, Loans, Group Life Insurance, Group ...    201 - 500 Employees  \n",
       "\n",
       "[1050 rows x 12 columns]"
      ]
     },
     "execution_count": 149,
     "metadata": {},
     "output_type": "execute_result"
    }
   ],
   "source": [
    "csv_path = [\n",
    "   \"../../Raw_CSV/April 25-26 - 2022/Jobstreet/Jobstreet-artist.csv\",\n",
    "   \"../../Raw_CSV/April 27 - 2022/Jobstreet/Jobstreet-artist.csv\",\n",
    "    \"../../Raw_CSV/April 28 - 2022/Jobstreet/Jobstreet-artist.csv\", \n",
    "]\n",
    "merge = pd.concat(map(pd.read_csv,csv_path),ignore_index=True)\n",
    "merge[\"Salary\"].str.strip()\n",
    "merge"
   ]
  },
  {
   "cell_type": "code",
   "execution_count": 150,
   "metadata": {},
   "outputs": [
    {
     "data": {
      "text/html": [
       "<div>\n",
       "<style scoped>\n",
       "    .dataframe tbody tr th:only-of-type {\n",
       "        vertical-align: middle;\n",
       "    }\n",
       "\n",
       "    .dataframe tbody tr th {\n",
       "        vertical-align: top;\n",
       "    }\n",
       "\n",
       "    .dataframe thead th {\n",
       "        text-align: right;\n",
       "    }\n",
       "</style>\n",
       "<table border=\"1\" class=\"dataframe\">\n",
       "  <thead>\n",
       "    <tr style=\"text-align: right;\">\n",
       "      <th></th>\n",
       "      <th>Title</th>\n",
       "      <th>Company</th>\n",
       "      <th>Location</th>\n",
       "      <th>Summary</th>\n",
       "      <th>Salary</th>\n",
       "      <th>Qualification &amp; Skills</th>\n",
       "      <th>Role and Responsibilities</th>\n",
       "      <th>Job Type</th>\n",
       "      <th>Company Profile&amp;Job Desc</th>\n",
       "      <th>Career Level</th>\n",
       "      <th>Benefits</th>\n",
       "      <th>Company Size</th>\n",
       "    </tr>\n",
       "  </thead>\n",
       "  <tbody>\n",
       "    <tr>\n",
       "      <th>0</th>\n",
       "      <td>Graphic Artist</td>\n",
       "      <td>ARUZE PHILIPPINES MANUFACTURING INC</td>\n",
       "      <td>Batangas</td>\n",
       "      <td>None</td>\n",
       "      <td>PHP 11,500 - PHP 13,000</td>\n",
       "      <td>[]</td>\n",
       "      <td>['· Mainly responsible for creating character ...</td>\n",
       "      <td>['Full-Time', 'Average Processing Time']</td>\n",
       "      <td>['· Mainly responsible for creating character ...</td>\n",
       "      <td>Less than 1 Year Experienced Employee</td>\n",
       "      <td>['Dental, Miscellaneous allowance, Medical, Lo...</td>\n",
       "      <td>201 - 500 Employees</td>\n",
       "    </tr>\n",
       "    <tr>\n",
       "      <th>1</th>\n",
       "      <td>Multimedia Artist (WFH)</td>\n",
       "      <td>Property Company of Friends, Inc.</td>\n",
       "      <td>National Capital Reg</td>\n",
       "      <td>Understand creative material requirements of t...</td>\n",
       "      <td>None</td>\n",
       "      <td>['Understand creative material requirements of...</td>\n",
       "      <td>[]</td>\n",
       "      <td>['Full-Time', 'Average Processing Time']</td>\n",
       "      <td>['Job Summary:Mainly responsible for designing...</td>\n",
       "      <td>1-4 Years Experienced Employee</td>\n",
       "      <td>['Dental, Miscellaneous allowance, Medical, Lo...</td>\n",
       "      <td>1001 - 2000 Employees</td>\n",
       "    </tr>\n",
       "    <tr>\n",
       "      <th>2</th>\n",
       "      <td>Graphic Artist</td>\n",
       "      <td>TOPBOND PHILIPPINES INC.</td>\n",
       "      <td>Quezon City</td>\n",
       "      <td>None</td>\n",
       "      <td>None</td>\n",
       "      <td>[]</td>\n",
       "      <td>['Job Description', \"1. Graduate of Bachelor's...</td>\n",
       "      <td>['Full-Time', 'Average Processing Time']</td>\n",
       "      <td>[\"Job Description1. Graduate of Bachelor's/Col...</td>\n",
       "      <td>1-4 Years Experienced Employee</td>\n",
       "      <td>[]</td>\n",
       "      <td>51 - 200 Employees</td>\n",
       "    </tr>\n",
       "    <tr>\n",
       "      <th>3</th>\n",
       "      <td>SR. Graphic Artist</td>\n",
       "      <td>ARUZE PHILIPPINES MANUFACTURING INC</td>\n",
       "      <td>Makati City</td>\n",
       "      <td>None</td>\n",
       "      <td>PHP 30,000 - PHP 40,000</td>\n",
       "      <td>[]</td>\n",
       "      <td>['· Manage schedule of projects in your team',...</td>\n",
       "      <td>['Full-Time', 'Average Processing Time']</td>\n",
       "      <td>['· Manage schedule of projects in your team· ...</td>\n",
       "      <td>1-4 Years Experienced Employee</td>\n",
       "      <td>['Dental, Miscellaneous allowance, Medical, Lo...</td>\n",
       "      <td>201 - 500 Employees</td>\n",
       "    </tr>\n",
       "    <tr>\n",
       "      <th>4</th>\n",
       "      <td>Multimedia Artist</td>\n",
       "      <td>SilverLush Food Corp</td>\n",
       "      <td>National Capital Reg</td>\n",
       "      <td>None</td>\n",
       "      <td>PHP 25,000 - PHP 30,000</td>\n",
       "      <td>[]</td>\n",
       "      <td>['Silverlush is looking for Mulimedia Artist',...</td>\n",
       "      <td>['Full-Time']</td>\n",
       "      <td>['Silverlush is looking for Mulimedia ArtistJo...</td>\n",
       "      <td>1-4 Years Experienced Employee</td>\n",
       "      <td>['Miscellaneous allowance, Medical, Regular ho...</td>\n",
       "      <td>1 - 50 Employees</td>\n",
       "    </tr>\n",
       "    <tr>\n",
       "      <th>...</th>\n",
       "      <td>...</td>\n",
       "      <td>...</td>\n",
       "      <td>...</td>\n",
       "      <td>...</td>\n",
       "      <td>...</td>\n",
       "      <td>...</td>\n",
       "      <td>...</td>\n",
       "      <td>...</td>\n",
       "      <td>...</td>\n",
       "      <td>...</td>\n",
       "      <td>...</td>\n",
       "      <td>...</td>\n",
       "    </tr>\n",
       "    <tr>\n",
       "      <th>1045</th>\n",
       "      <td>Creative Lead</td>\n",
       "      <td>Ohmyhome Property Inc.</td>\n",
       "      <td>National Capital Reg</td>\n",
       "      <td>Work directly with the CPO on creative and mar...</td>\n",
       "      <td>PHP 60,000 - PHP 80,000</td>\n",
       "      <td>['Work directly with the CPO on creative and m...</td>\n",
       "      <td>['Requirements:', 'What we can offer?']</td>\n",
       "      <td>['Full-Time']</td>\n",
       "      <td>[\"Work directly with the CPO on creative and m...</td>\n",
       "      <td>NaN</td>\n",
       "      <td>['Dental, Medical, Parking, Regular hours, Mon...</td>\n",
       "      <td>1 - 50 Employees</td>\n",
       "    </tr>\n",
       "    <tr>\n",
       "      <th>1046</th>\n",
       "      <td>Digital Marketing Designer</td>\n",
       "      <td>RipeConcepts, Inc.</td>\n",
       "      <td>Central Visayas</td>\n",
       "      <td>Produce attention-grabbing creative assets (st...</td>\n",
       "      <td>None</td>\n",
       "      <td>['Produce attention-grabbing creative assets (...</td>\n",
       "      <td>['Digital Marketing Designer', 'As a Digital M...</td>\n",
       "      <td>['Full-Time', 'Average Processing Time']</td>\n",
       "      <td>['Digital Marketing DesignerAs a Digital Marke...</td>\n",
       "      <td>Supervisor/5 Years &amp; Up Experienced Employee</td>\n",
       "      <td>['Dental, Medical, Regular hours, Mondays - Fr...</td>\n",
       "      <td>201 - 500 Employees</td>\n",
       "    </tr>\n",
       "    <tr>\n",
       "      <th>1047</th>\n",
       "      <td>Senior Graphics Designer - Print and Digital</td>\n",
       "      <td>Cloudstaff Philippines Inc.</td>\n",
       "      <td>Central Luzon</td>\n",
       "      <td>Design new product packaging and update curren...</td>\n",
       "      <td>None</td>\n",
       "      <td>['Design new product packaging and update curr...</td>\n",
       "      <td>[]</td>\n",
       "      <td>['Full-Time', 'Average Processing Time']</td>\n",
       "      <td>[\"JR-5681 -\\xa0 Senior Graphics Designer - Pri...</td>\n",
       "      <td>Supervisor/5 Years &amp; Up Experienced Employee</td>\n",
       "      <td>['Dental, Education support, Medical, Company ...</td>\n",
       "      <td>2001 - 5000 Employees</td>\n",
       "    </tr>\n",
       "    <tr>\n",
       "      <th>1048</th>\n",
       "      <td>Motion Graphics Designer (Mid- Senior Level) -...</td>\n",
       "      <td>Emapta</td>\n",
       "      <td>National Capital Reg</td>\n",
       "      <td>Turn ideas and concepts into visual.</td>\n",
       "      <td>None</td>\n",
       "      <td>['Turn ideas and concepts into visual.', 'Prod...</td>\n",
       "      <td>[]</td>\n",
       "      <td>['Full-Time', 'Average Processing Time']</td>\n",
       "      <td>['Position purpose: Owns the conceptualization...</td>\n",
       "      <td>Supervisor/5 Years &amp; Up Experienced Employee</td>\n",
       "      <td>['Dental, Miscellaneous allowance, Medical, Lo...</td>\n",
       "      <td>2001 - 5000 Employees</td>\n",
       "    </tr>\n",
       "    <tr>\n",
       "      <th>1049</th>\n",
       "      <td>Creative Artist - Project Based</td>\n",
       "      <td>Vogue Concepts Inc.</td>\n",
       "      <td>National Capital Reg</td>\n",
       "      <td>Graduate of Fine Arts/Design/Creative Multimed...</td>\n",
       "      <td>None</td>\n",
       "      <td>['Graduate of Fine Arts/Design/Creative Multim...</td>\n",
       "      <td>[]</td>\n",
       "      <td>['Full-Time', 'Average Processing Time']</td>\n",
       "      <td>['Provides creative graphic designs for variou...</td>\n",
       "      <td>1-4 Years Experienced Employee</td>\n",
       "      <td>['Medical, Loans, Group Life Insurance, Group ...</td>\n",
       "      <td>201 - 500 Employees</td>\n",
       "    </tr>\n",
       "  </tbody>\n",
       "</table>\n",
       "<p>1050 rows × 12 columns</p>\n",
       "</div>"
      ],
      "text/plain": [
       "                                                  Title  \\\n",
       "0                                        Graphic Artist   \n",
       "1                               Multimedia Artist (WFH)   \n",
       "2                                        Graphic Artist   \n",
       "3                                    SR. Graphic Artist   \n",
       "4                                     Multimedia Artist   \n",
       "...                                                 ...   \n",
       "1045                                      Creative Lead   \n",
       "1046                         Digital Marketing Designer   \n",
       "1047       Senior Graphics Designer - Print and Digital   \n",
       "1048  Motion Graphics Designer (Mid- Senior Level) -...   \n",
       "1049                    Creative Artist - Project Based   \n",
       "\n",
       "                                  Company              Location  \\\n",
       "0     ARUZE PHILIPPINES MANUFACTURING INC              Batangas   \n",
       "1       Property Company of Friends, Inc.  National Capital Reg   \n",
       "2                TOPBOND PHILIPPINES INC.           Quezon City   \n",
       "3     ARUZE PHILIPPINES MANUFACTURING INC           Makati City   \n",
       "4                    SilverLush Food Corp  National Capital Reg   \n",
       "...                                   ...                   ...   \n",
       "1045               Ohmyhome Property Inc.  National Capital Reg   \n",
       "1046                   RipeConcepts, Inc.       Central Visayas   \n",
       "1047          Cloudstaff Philippines Inc.         Central Luzon   \n",
       "1048                               Emapta  National Capital Reg   \n",
       "1049                  Vogue Concepts Inc.  National Capital Reg   \n",
       "\n",
       "                                                Summary  \\\n",
       "0                                                  None   \n",
       "1     Understand creative material requirements of t...   \n",
       "2                                                  None   \n",
       "3                                                  None   \n",
       "4                                                  None   \n",
       "...                                                 ...   \n",
       "1045  Work directly with the CPO on creative and mar...   \n",
       "1046  Produce attention-grabbing creative assets (st...   \n",
       "1047  Design new product packaging and update curren...   \n",
       "1048               Turn ideas and concepts into visual.   \n",
       "1049  Graduate of Fine Arts/Design/Creative Multimed...   \n",
       "\n",
       "                       Salary  \\\n",
       "0     PHP 11,500 - PHP 13,000   \n",
       "1                        None   \n",
       "2                        None   \n",
       "3     PHP 30,000 - PHP 40,000   \n",
       "4     PHP 25,000 - PHP 30,000   \n",
       "...                       ...   \n",
       "1045  PHP 60,000 - PHP 80,000   \n",
       "1046                     None   \n",
       "1047                     None   \n",
       "1048                     None   \n",
       "1049                     None   \n",
       "\n",
       "                                 Qualification & Skills  \\\n",
       "0                                                    []   \n",
       "1     ['Understand creative material requirements of...   \n",
       "2                                                    []   \n",
       "3                                                    []   \n",
       "4                                                    []   \n",
       "...                                                 ...   \n",
       "1045  ['Work directly with the CPO on creative and m...   \n",
       "1046  ['Produce attention-grabbing creative assets (...   \n",
       "1047  ['Design new product packaging and update curr...   \n",
       "1048  ['Turn ideas and concepts into visual.', 'Prod...   \n",
       "1049  ['Graduate of Fine Arts/Design/Creative Multim...   \n",
       "\n",
       "                              Role and Responsibilities  \\\n",
       "0     ['· Mainly responsible for creating character ...   \n",
       "1                                                    []   \n",
       "2     ['Job Description', \"1. Graduate of Bachelor's...   \n",
       "3     ['· Manage schedule of projects in your team',...   \n",
       "4     ['Silverlush is looking for Mulimedia Artist',...   \n",
       "...                                                 ...   \n",
       "1045            ['Requirements:', 'What we can offer?']   \n",
       "1046  ['Digital Marketing Designer', 'As a Digital M...   \n",
       "1047                                                 []   \n",
       "1048                                                 []   \n",
       "1049                                                 []   \n",
       "\n",
       "                                      Job Type  \\\n",
       "0     ['Full-Time', 'Average Processing Time']   \n",
       "1     ['Full-Time', 'Average Processing Time']   \n",
       "2     ['Full-Time', 'Average Processing Time']   \n",
       "3     ['Full-Time', 'Average Processing Time']   \n",
       "4                                ['Full-Time']   \n",
       "...                                        ...   \n",
       "1045                             ['Full-Time']   \n",
       "1046  ['Full-Time', 'Average Processing Time']   \n",
       "1047  ['Full-Time', 'Average Processing Time']   \n",
       "1048  ['Full-Time', 'Average Processing Time']   \n",
       "1049  ['Full-Time', 'Average Processing Time']   \n",
       "\n",
       "                               Company Profile&Job Desc  \\\n",
       "0     ['· Mainly responsible for creating character ...   \n",
       "1     ['Job Summary:Mainly responsible for designing...   \n",
       "2     [\"Job Description1. Graduate of Bachelor's/Col...   \n",
       "3     ['· Manage schedule of projects in your team· ...   \n",
       "4     ['Silverlush is looking for Mulimedia ArtistJo...   \n",
       "...                                                 ...   \n",
       "1045  [\"Work directly with the CPO on creative and m...   \n",
       "1046  ['Digital Marketing DesignerAs a Digital Marke...   \n",
       "1047  [\"JR-5681 -\\xa0 Senior Graphics Designer - Pri...   \n",
       "1048  ['Position purpose: Owns the conceptualization...   \n",
       "1049  ['Provides creative graphic designs for variou...   \n",
       "\n",
       "                                      Career Level  \\\n",
       "0            Less than 1 Year Experienced Employee   \n",
       "1                   1-4 Years Experienced Employee   \n",
       "2                   1-4 Years Experienced Employee   \n",
       "3                   1-4 Years Experienced Employee   \n",
       "4                   1-4 Years Experienced Employee   \n",
       "...                                            ...   \n",
       "1045                                           NaN   \n",
       "1046  Supervisor/5 Years & Up Experienced Employee   \n",
       "1047  Supervisor/5 Years & Up Experienced Employee   \n",
       "1048  Supervisor/5 Years & Up Experienced Employee   \n",
       "1049                1-4 Years Experienced Employee   \n",
       "\n",
       "                                               Benefits           Company Size  \n",
       "0     ['Dental, Miscellaneous allowance, Medical, Lo...    201 - 500 Employees  \n",
       "1     ['Dental, Miscellaneous allowance, Medical, Lo...  1001 - 2000 Employees  \n",
       "2                                                    []     51 - 200 Employees  \n",
       "3     ['Dental, Miscellaneous allowance, Medical, Lo...    201 - 500 Employees  \n",
       "4     ['Miscellaneous allowance, Medical, Regular ho...       1 - 50 Employees  \n",
       "...                                                 ...                    ...  \n",
       "1045  ['Dental, Medical, Parking, Regular hours, Mon...       1 - 50 Employees  \n",
       "1046  ['Dental, Medical, Regular hours, Mondays - Fr...    201 - 500 Employees  \n",
       "1047  ['Dental, Education support, Medical, Company ...  2001 - 5000 Employees  \n",
       "1048  ['Dental, Miscellaneous allowance, Medical, Lo...  2001 - 5000 Employees  \n",
       "1049  ['Medical, Loans, Group Life Insurance, Group ...    201 - 500 Employees  \n",
       "\n",
       "[1050 rows x 12 columns]"
      ]
     },
     "execution_count": 150,
     "metadata": {},
     "output_type": "execute_result"
    }
   ],
   "source": [
    "merge"
   ]
  },
  {
   "cell_type": "code",
   "execution_count": 151,
   "metadata": {},
   "outputs": [
    {
     "data": {
      "text/html": [
       "<div>\n",
       "<style scoped>\n",
       "    .dataframe tbody tr th:only-of-type {\n",
       "        vertical-align: middle;\n",
       "    }\n",
       "\n",
       "    .dataframe tbody tr th {\n",
       "        vertical-align: top;\n",
       "    }\n",
       "\n",
       "    .dataframe thead th {\n",
       "        text-align: right;\n",
       "    }\n",
       "</style>\n",
       "<table border=\"1\" class=\"dataframe\">\n",
       "  <thead>\n",
       "    <tr style=\"text-align: right;\">\n",
       "      <th></th>\n",
       "      <th>Title</th>\n",
       "      <th>Company</th>\n",
       "      <th>Location</th>\n",
       "      <th>Summary</th>\n",
       "      <th>Salary</th>\n",
       "      <th>Qualification &amp; Skills</th>\n",
       "      <th>Role and Responsibilities</th>\n",
       "      <th>Job Type</th>\n",
       "      <th>Company Profile&amp;Job Desc</th>\n",
       "      <th>Career Level</th>\n",
       "      <th>Benefits</th>\n",
       "      <th>Company Size</th>\n",
       "    </tr>\n",
       "  </thead>\n",
       "  <tbody>\n",
       "    <tr>\n",
       "      <th>count</th>\n",
       "      <td>1050</td>\n",
       "      <td>1050</td>\n",
       "      <td>1050</td>\n",
       "      <td>1050</td>\n",
       "      <td>1050</td>\n",
       "      <td>1050</td>\n",
       "      <td>1050</td>\n",
       "      <td>1050</td>\n",
       "      <td>1050</td>\n",
       "      <td>1024</td>\n",
       "      <td>1050</td>\n",
       "      <td>1008</td>\n",
       "    </tr>\n",
       "    <tr>\n",
       "      <th>unique</th>\n",
       "      <td>212</td>\n",
       "      <td>275</td>\n",
       "      <td>37</td>\n",
       "      <td>238</td>\n",
       "      <td>79</td>\n",
       "      <td>258</td>\n",
       "      <td>211</td>\n",
       "      <td>38</td>\n",
       "      <td>355</td>\n",
       "      <td>3</td>\n",
       "      <td>157</td>\n",
       "      <td>8</td>\n",
       "    </tr>\n",
       "    <tr>\n",
       "      <th>top</th>\n",
       "      <td>Graphic Artist</td>\n",
       "      <td>United Steel Technology (STEELTECH) Int'l Corp...</td>\n",
       "      <td>National Capital Reg</td>\n",
       "      <td>None</td>\n",
       "      <td>None</td>\n",
       "      <td>[]</td>\n",
       "      <td>[]</td>\n",
       "      <td>['Full-Time', 'Average Processing Time']</td>\n",
       "      <td>['Candidate must possess at least College Grad...</td>\n",
       "      <td>1-4 Years Experienced Employee</td>\n",
       "      <td>[]</td>\n",
       "      <td>1 - 50 Employees</td>\n",
       "    </tr>\n",
       "    <tr>\n",
       "      <th>freq</th>\n",
       "      <td>172</td>\n",
       "      <td>25</td>\n",
       "      <td>430</td>\n",
       "      <td>227</td>\n",
       "      <td>616</td>\n",
       "      <td>227</td>\n",
       "      <td>391</td>\n",
       "      <td>592</td>\n",
       "      <td>24</td>\n",
       "      <td>786</td>\n",
       "      <td>386</td>\n",
       "      <td>260</td>\n",
       "    </tr>\n",
       "  </tbody>\n",
       "</table>\n",
       "</div>"
      ],
      "text/plain": [
       "                 Title                                            Company  \\\n",
       "count             1050                                               1050   \n",
       "unique             212                                                275   \n",
       "top     Graphic Artist  United Steel Technology (STEELTECH) Int'l Corp...   \n",
       "freq               172                                                 25   \n",
       "\n",
       "                    Location Summary Salary Qualification & Skills  \\\n",
       "count                   1050    1050   1050                   1050   \n",
       "unique                    37     238     79                    258   \n",
       "top     National Capital Reg    None   None                     []   \n",
       "freq                     430     227    616                    227   \n",
       "\n",
       "       Role and Responsibilities                                  Job Type  \\\n",
       "count                       1050                                      1050   \n",
       "unique                       211                                        38   \n",
       "top                           []  ['Full-Time', 'Average Processing Time']   \n",
       "freq                         391                                       592   \n",
       "\n",
       "                                 Company Profile&Job Desc  \\\n",
       "count                                                1050   \n",
       "unique                                                355   \n",
       "top     ['Candidate must possess at least College Grad...   \n",
       "freq                                                   24   \n",
       "\n",
       "                          Career Level Benefits      Company Size  \n",
       "count                             1024     1050              1008  \n",
       "unique                               3      157                 8  \n",
       "top     1-4 Years Experienced Employee       []  1 - 50 Employees  \n",
       "freq                               786      386               260  "
      ]
     },
     "execution_count": 151,
     "metadata": {},
     "output_type": "execute_result"
    }
   ],
   "source": [
    "merge.describe()"
   ]
  },
  {
   "cell_type": "code",
   "execution_count": 152,
   "metadata": {},
   "outputs": [],
   "source": [
    "job_title_lower = merge[\"Title\"].str.lower()\n",
    "job_title = job_title_lower.value_counts()[0:10]\n",
    "sort = job_title.sort_values()\n",
    "\n"
   ]
  },
  {
   "cell_type": "code",
   "execution_count": 153,
   "metadata": {},
   "outputs": [
    {
     "data": {
      "image/png": "[encoded data removed]",
      "text/plain": [
       "<Figure size 432x288 with 1 Axes>"
      ]
     },
     "metadata": {
      "needs_background": "light"
     },
     "output_type": "display_data"
    }
   ],
   "source": [
    "plt.barh(y=sort.index, width=sort.values)\n",
    "plt.title(\"Jobstreet Artist\")\n",
    "plt.show()"
   ]
  },
  {
   "cell_type": "code",
   "execution_count": 154,
   "metadata": {},
   "outputs": [],
   "source": [
    "company_name = merge[\"Company\"].value_counts()[0:10]"
   ]
  },
  {
   "cell_type": "code",
   "execution_count": 155,
   "metadata": {},
   "outputs": [
    {
     "data": {
      "image/png": "[encoded data removed]",
      "text/plain": [
       "<Figure size 432x288 with 1 Axes>"
      ]
     },
     "metadata": {
      "needs_background": "light"
     },
     "output_type": "display_data"
    }
   ],
   "source": [
    "plt.bar(company_name.index, company_name.values)\n",
    "plt.xticks(rotation=\"30\", ha=\"right\")\n",
    "plt.show()"
   ]
  },
  {
   "cell_type": "code",
   "execution_count": 156,
   "metadata": {},
   "outputs": [],
   "source": [
    "company_location = merge[\"Location\"].value_counts()[0:10]"
   ]
  },
  {
   "cell_type": "code",
   "execution_count": 157,
   "metadata": {},
   "outputs": [
    {
     "data": {
      "image/png": "[encoded data removed]",
      "text/plain": [
       "<Figure size 432x288 with 1 Axes>"
      ]
     },
     "metadata": {
      "needs_background": "light"
     },
     "output_type": "display_data"
    }
   ],
   "source": [
    "plt.bar(company_location.index, company_location.values)\n",
    "plt.xticks(rotation=\"30\", ha=\"right\")\n",
    "plt.show()\n"
   ]
  },
  {
   "cell_type": "code",
   "execution_count": 158,
   "metadata": {},
   "outputs": [],
   "source": [
    "filt = (merge[\"Salary\"] != \"None\")\n",
    "results = merge.loc[filt]"
   ]
  },
  {
   "cell_type": "code",
   "execution_count": 159,
   "metadata": {},
   "outputs": [],
   "source": [
    "salary = results[\"Salary\"].value_counts()[0:10]"
   ]
  },
  {
   "cell_type": "code",
   "execution_count": 160,
   "metadata": {},
   "outputs": [
    {
     "data": {
      "image/png": "[encoded data removed]",
      "text/plain": [
       "<Figure size 432x288 with 1 Axes>"
      ]
     },
     "metadata": {
      "needs_background": "light"
     },
     "output_type": "display_data"
    }
   ],
   "source": [
    "plt.bar(salary.index, salary.values)\n",
    "plt.xticks(rotation=\"30\", ha=\"right\")\n",
    "plt.show()"
   ]
  },
  {
   "cell_type": "code",
   "execution_count": 161,
   "metadata": {},
   "outputs": [],
   "source": [
    "job_type = merge[\"Job Type\"].apply(ast.literal_eval)\n",
    "job_type_append = []\n",
    "for i in job_type:\n",
    "    job_type_append.append(job_type[0][0])"
   ]
  },
  {
   "cell_type": "code",
   "execution_count": 162,
   "metadata": {},
   "outputs": [
    {
     "data": {
      "text/plain": [
       "Job Type \n",
       "Full-Time    1050\n",
       "dtype: int64"
      ]
     },
     "execution_count": 162,
     "metadata": {},
     "output_type": "execute_result"
    }
   ],
   "source": [
    "# List to Dataframe ( Count Job Type )\n",
    "job_type_df = pd.DataFrame(job_type_append,columns=[\"Job Type\"])\n",
    "job_type_df.value_counts()\n"
   ]
  },
  {
   "cell_type": "code",
   "execution_count": 163,
   "metadata": {},
   "outputs": [
    {
     "data": {
      "text/plain": [
       "1-4 Years Experienced Employee                  786\n",
       "Less than 1 Year Experienced Employee           170\n",
       "Supervisor/5 Years & Up Experienced Employee     68\n",
       "Name: Career Level, dtype: int64"
      ]
     },
     "execution_count": 163,
     "metadata": {},
     "output_type": "execute_result"
    }
   ],
   "source": [
    "career_level = merge[\"Career Level\"]\n",
    "count_career_level = career_level.value_counts()\n",
    "count_career_level"
   ]
  },
  {
   "cell_type": "code",
   "execution_count": 164,
   "metadata": {},
   "outputs": [
    {
     "data": {
      "image/png": "[encoded data removed]",
      "text/plain": [
       "<Figure size 432x288 with 1 Axes>"
      ]
     },
     "metadata": {
      "needs_background": "light"
     },
     "output_type": "display_data"
    }
   ],
   "source": [
    "plt.bar(count_career_level.index, count_career_level.values)\n",
    "plt.xticks(rotation=\"30\",ha=\"right\")\n",
    "plt.show()"
   ]
  },
  {
   "cell_type": "code",
   "execution_count": 165,
   "metadata": {},
   "outputs": [
    {
     "data": {
      "text/plain": [
       "1 - 50 Employees         260\n",
       "51 - 200 Employees       203\n",
       "201 - 500 Employees      188\n",
       "2001 - 5000 Employees    115\n",
       "501 - 1000 Employees      96\n",
       "1001 - 2000 Employees     79\n",
       "Name: Company Size, dtype: int64"
      ]
     },
     "execution_count": 165,
     "metadata": {},
     "output_type": "execute_result"
    }
   ],
   "source": [
    "company_size = merge[\"Company Size\"]\n",
    "count_company_size = company_size.value_counts()[0:6]\n",
    "count_company_size"
   ]
  },
  {
   "cell_type": "code",
   "execution_count": 166,
   "metadata": {},
   "outputs": [
    {
     "data": {
      "image/png": "[encoded data removed]",
      "text/plain": [
       "<Figure size 432x288 with 1 Axes>"
      ]
     },
     "metadata": {
      "needs_background": "light"
     },
     "output_type": "display_data"
    }
   ],
   "source": [
    "plt.bar(count_company_size.index, count_company_size.values)\n",
    "plt.xticks(rotation=\"30\",ha=\"right\")\n",
    "plt.show()"
   ]
  },
  {
   "cell_type": "code",
   "execution_count": 167,
   "metadata": {},
   "outputs": [
    {
     "name": "stderr",
     "output_type": "stream",
     "text": [
      "/var/folders/tc/qdg72rpx523gjsqcr2vf_0c00000gn/T/ipykernel_1446/2971443327.py:1: FutureWarning: The default value of regex will change from True to False in a future version.\n",
      "  benefits = merge[\"Benefits\"].str.replace(\"^\\['|'\\]$\",\"\")\n"
     ]
    }
   ],
   "source": [
    "benefits = merge[\"Benefits\"].str.replace(\"^\\['|'\\]$\",\"\")\n",
    "benefits_append = []\n",
    "split_benefits = benefits.str.split(\",\")\n",
    "\n",
    "for i in range(len(split_benefits)):\n",
    "    for j in split_benefits[i]:\n",
    "        benefits_append.append(j)\n"
   ]
  },
  {
   "cell_type": "code",
   "execution_count": 168,
   "metadata": {},
   "outputs": [
    {
     "data": {
      "text/plain": [
       "Medical                        650\n",
       "Dental                         451\n",
       "Miscellaneous allowance        416\n",
       "Loans                          338\n",
       "Regular hours                  278\n",
       "Mondays - Fridays              242\n",
       "Business (e.g. Shirts)         220\n",
       "Parking                        154\n",
       "Vision                         151\n",
       "Casual (e.g. T-shirts)         145\n",
       "Education support              142\n",
       "Sports (e.g. Gym)              138\n",
       "Life Insurance                  65\n",
       "Smart Casual                    48\n",
       "Formal (e.g. Shirts + Ties)     46\n",
       "Name: Benefits, dtype: int64"
      ]
     },
     "execution_count": 168,
     "metadata": {},
     "output_type": "execute_result"
    }
   ],
   "source": [
    "benefits_df = pd.DataFrame(benefits_append, columns=[\"Benefits\"])\n",
    "benefits_df = benefits_df[\"Benefits\"].str.strip()\n",
    "filt = (benefits_df != \"[]\")\n",
    "benefits_df = benefits_df.loc[filt]\n",
    "benefits_count = benefits_df.value_counts()[0:15]\n",
    "benefits_count\n",
    "\n"
   ]
  },
  {
   "cell_type": "code",
   "execution_count": 169,
   "metadata": {},
   "outputs": [
    {
     "data": {
      "image/png": "[encoded data removed]",
      "text/plain": [
       "<Figure size 432x288 with 1 Axes>"
      ]
     },
     "metadata": {
      "needs_background": "light"
     },
     "output_type": "display_data"
    }
   ],
   "source": [
    "plt.bar(benefits_count.index, benefits_count.values)\n",
    "plt.xticks(rotation=\"30\",ha=\"right\")\n",
    "plt.show()"
   ]
  },
  {
   "cell_type": "code",
   "execution_count": 170,
   "metadata": {},
   "outputs": [],
   "source": [
    "filt = (merge[\"Salary\"] != \"None\")\n",
    "salary_career_level = merge[filt].sort_values(by=\"Salary\",ascending=True)\n",
    "count = salary_career_level[[\"Title\",\"Salary\",\"Career Level\"]]\n",
    "\n"
   ]
  },
  {
   "cell_type": "code",
   "execution_count": 171,
   "metadata": {},
   "outputs": [
    {
     "data": {
      "text/plain": [
       "1-4 Years Experienced Employee                  786\n",
       "Less than 1 Year Experienced Employee           170\n",
       "Supervisor/5 Years & Up Experienced Employee     68\n",
       "Name: Career Level, dtype: int64"
      ]
     },
     "execution_count": 171,
     "metadata": {},
     "output_type": "execute_result"
    }
   ],
   "source": [
    "merge[\"Career Level\"].value_counts()"
   ]
  },
  {
   "cell_type": "code",
   "execution_count": null,
   "metadata": {},
   "outputs": [],
   "source": [
    "salary_append = []\n",
    "merge = merge.loc[merge[\"Salary\"] != \"None\"]\n",
    "merge[\"Salary\"] = merge[\"Salary\"].str.replace(\",\", \"\")\n",
    "merge[\"Salary\"] = merge[\"Salary\"].str.replace(\"PHP\", \"\")\n",
    "merge[\"Salary\"] = merge[\"Salary\"].str.replace(\"-\", \"\")\n",
    "merge[\"Salary\"] = merge[\"Salary\"].str.split(\"  \")\n"
   ]
  },
  {
   "cell_type": "code",
   "execution_count": 183,
   "metadata": {},
   "outputs": [],
   "source": [
    "mid_append = []\n",
    "mid_level = merge.loc[merge[\"Career Level\"] == \"1-4 Years Experienced Employee\"]\n",
    "mid_level_salary = mid_level[mid_level[\"Salary\"] != \"None\"]\n",
    "count_mid = mid_level_salary[\"Salary\"]\n",
    "df_mid = count_mid.reset_index()\n",
    "df_mid = df_mid.drop(columns=\"index\")\n",
    "\n",
    "for i in range(len(df_mid)):\n",
    "    salary = df_mid[\"Salary\"][i]\n",
    "    for j in range(len(salary)):\n",
    "        mid_append.append(int(salary[j]))"
   ]
  },
  {
   "cell_type": "code",
   "execution_count": 186,
   "metadata": {},
   "outputs": [],
   "source": [
    "low_append = []\n",
    "low_level = merge.loc[merge[\"Career Level\"] == \"Less than 1 Year Experienced Employee\"]\n",
    "low_level_salary = low_level[low_level[\"Salary\"] != \"None\"]\n",
    "count_low = low_level_salary[\"Salary\"]\n",
    "df_low = count_low.reset_index()\n",
    "df_low = df_low.drop(columns=\"index\")\n",
    "\n",
    "for i in range(len(df_low)):\n",
    "    salary = df_low[\"Salary\"][i]\n",
    "    for j in range(len(salary)):\n",
    "        low_append.append(int(salary[j]))"
   ]
  },
  {
   "cell_type": "code",
   "execution_count": 189,
   "metadata": {},
   "outputs": [],
   "source": [
    "high_append = []\n",
    "high_level = merge.loc[merge[\"Career Level\"] == \"Supervisor/5 Years & Up Experienced Employee\"]\n",
    "high_level_salary = high_level[high_level[\"Salary\"] != \"None\"]\n",
    "count_high = high_level_salary[\"Salary\"]\n",
    "df_high = count_high.reset_index()\n",
    "df_high = df_high.drop(columns=\"index\")\n",
    "\n",
    "for i in range(len(df_high)):\n",
    "    salary = df_high[\"Salary\"][i]\n",
    "    for j in range(len(salary)):\n",
    "        high_append.append(int(salary[j]))\n",
    "\n"
   ]
  },
  {
   "cell_type": "code",
   "execution_count": 227,
   "metadata": {},
   "outputs": [
    {
     "data": {
      "text/plain": [
       "<matplotlib.legend.Legend at 0x176a92890>"
      ]
     },
     "execution_count": 227,
     "metadata": {},
     "output_type": "execute_result"
    },
    {
     "data": {
      "image/png": "[encoded data removed]",
      "text/plain": [
       "<Figure size 1440x720 with 1 Axes>"
      ]
     },
     "metadata": {
      "needs_background": "light"
     },
     "output_type": "display_data"
    }
   ],
   "source": [
    "combine_salary = low_append + mid_append + high_append\n",
    "df_combine_salary = pd.DataFrame(combine_salary, columns=[\"Combine Salary\"])\n",
    "\n",
    "bins = [10000,20000,30000,40000,50000,60000,70000,80000,90000,100000,110000,120000,130000,140000,150000,160000,170000,180000,190000,200000,210000,220000]\n",
    "plt.figure(figsize=(20,10))\n",
    "plt.hist(low_append,bins=bins,alpha = 0.5,color=\"black\")\n",
    "plt.hist(mid_append,bins=bins,alpha = 0.5)\n",
    "plt.hist(high_append,bins=bins,alpha = 0.5)\n",
    "plt.ylabel(\"Number Of Salary\")\n",
    "plt.xlabel(\"Salary\")\n",
    "plt.title(\"Distribution of Salary in Artist\")\n",
    "plt.axvline(df_combine_salary[\"Combine Salary\"].median(), linewidth=5,color=\"red\", label=\"Median Salary is PHP {}\".format(df_combine_salary[\"Combine Salary\"].median()))\n",
    "plt.axvline(df_combine_salary[\"Combine Salary\"].mean(), linewidth=5,color=\"green\", label=\"Mean Salary is PHP {}\".format(df_combine_salary[\"Combine Salary\"].mean()))\n",
    "\n",
    "plt.legend([\"Median Salary is PHP {}\".format(df_combine_salary[\"Combine Salary\"].median()),\"Mean Salary is PHP {}\".format(round(df_combine_salary[\"Combine Salary\"].mean(),2)),'Entry Level', 'Mid Level', 'Senior Level',])\n"
   ]
  },
  {
   "cell_type": "code",
   "execution_count": null,
   "metadata": {},
   "outputs": [],
   "source": []
  },
  {
   "cell_type": "code",
   "execution_count": null,
   "metadata": {},
   "outputs": [],
   "source": []
  }
 ],
 "metadata": {
  "interpreter": {
   "hash": "aee8b7b246df8f9039afb4144a1f6fd8d2ca17a180786b69acc140d282b71a49"
  },
  "kernelspec": {
   "display_name": "Python 3.10.4 64-bit",
   "language": "python",
   "name": "python3"
  },
  "language_info": {
   "codemirror_mode": {
    "name": "ipython",
    "version": 3
   },
   "file_extension": ".py",
   "mimetype": "text/x-python",
   "name": "python",
   "nbconvert_exporter": "python",
   "pygments_lexer": "ipython3",
   "version": "3.10.4"
  },
  "orig_nbformat": 4
 },
 "nbformat": 4,
 "nbformat_minor": 2
}
