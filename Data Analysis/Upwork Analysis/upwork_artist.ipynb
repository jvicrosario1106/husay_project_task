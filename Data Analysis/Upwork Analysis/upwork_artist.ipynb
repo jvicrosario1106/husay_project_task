{
 "cells": [
  {
   "cell_type": "code",
   "execution_count": 1,
   "metadata": {},
   "outputs": [],
   "source": [
    "import pandas as pd\n",
    "import matplotlib.pyplot as plt\n"
   ]
  },
  {
   "cell_type": "code",
   "execution_count": 2,
   "metadata": {},
   "outputs": [
    {
     "name": "stderr",
     "output_type": "stream",
     "text": [
      "/var/folders/tc/qdg72rpx523gjsqcr2vf_0c00000gn/T/ipykernel_1435/2021988743.py:7: FutureWarning: The default value of regex will change from True to False in a future version.\n",
      "  merge[\"Skill\"]= merge[\"Skill\"].str.replace(\"^\\['|'\\]$\",\"\")\n"
     ]
    },
    {
     "data": {
      "text/html": [
       "<div>\n",
       "<style scoped>\n",
       "    .dataframe tbody tr th:only-of-type {\n",
       "        vertical-align: middle;\n",
       "    }\n",
       "\n",
       "    .dataframe tbody tr th {\n",
       "        vertical-align: top;\n",
       "    }\n",
       "\n",
       "    .dataframe thead th {\n",
       "        text-align: right;\n",
       "    }\n",
       "</style>\n",
       "<table border=\"1\" class=\"dataframe\">\n",
       "  <thead>\n",
       "    <tr style=\"text-align: right;\">\n",
       "      <th></th>\n",
       "      <th>Title</th>\n",
       "      <th>Description</th>\n",
       "      <th>Location</th>\n",
       "      <th>Skill</th>\n",
       "      <th>Est.Proj-Budget</th>\n",
       "      <th>Job Type</th>\n",
       "      <th>Contractor Tier</th>\n",
       "      <th>Duration</th>\n",
       "      <th>Title_URL</th>\n",
       "      <th>Job_type</th>\n",
       "      <th>Contractor_tier</th>\n",
       "      <th>Skill_one</th>\n",
       "      <th>Skill_two</th>\n",
       "      <th>skill_three</th>\n",
       "      <th>skill_four</th>\n",
       "    </tr>\n",
       "  </thead>\n",
       "  <tbody>\n",
       "    <tr>\n",
       "      <th>0</th>\n",
       "      <td>MAYA randomisation script &amp; positioning</td>\n",
       "      <td>We have a fully rigged model (head and body).W...</td>\n",
       "      <td>None</td>\n",
       "      <td>3D Rendering', '3D Animation', 'Autodesk Maya'...</td>\n",
       "      <td>\\n        $2,000\\n</td>\n",
       "      <td>Fixed-price</td>\n",
       "      <td>Expert</td>\n",
       "      <td>None</td>\n",
       "      <td>NaN</td>\n",
       "      <td>NaN</td>\n",
       "      <td>NaN</td>\n",
       "      <td>NaN</td>\n",
       "      <td>NaN</td>\n",
       "      <td>NaN</td>\n",
       "      <td>NaN</td>\n",
       "    </tr>\n",
       "    <tr>\n",
       "      <th>1</th>\n",
       "      <td>Logo needed for Startup</td>\n",
       "      <td>I'm looking for someone to design my startup's...</td>\n",
       "      <td>None</td>\n",
       "      <td>Social Media Imagery', 'Minimal', 'Logo Design...</td>\n",
       "      <td>\\n        $40\\n</td>\n",
       "      <td>Fixed-price</td>\n",
       "      <td>Intermediate</td>\n",
       "      <td>None</td>\n",
       "      <td>NaN</td>\n",
       "      <td>NaN</td>\n",
       "      <td>NaN</td>\n",
       "      <td>NaN</td>\n",
       "      <td>NaN</td>\n",
       "      <td>NaN</td>\n",
       "      <td>NaN</td>\n",
       "    </tr>\n",
       "    <tr>\n",
       "      <th>2</th>\n",
       "      <td>Voice over artist in Malay and Tamil</td>\n",
       "      <td>I am looking for Voice over artist in Malay an...</td>\n",
       "      <td>None</td>\n",
       "      <td>Voice Acting', 'Voice-Over', 'Female', 'Voice ...</td>\n",
       "      <td>\\n        $5\\n</td>\n",
       "      <td>Fixed-price</td>\n",
       "      <td>Entry level</td>\n",
       "      <td>None</td>\n",
       "      <td>NaN</td>\n",
       "      <td>NaN</td>\n",
       "      <td>NaN</td>\n",
       "      <td>NaN</td>\n",
       "      <td>NaN</td>\n",
       "      <td>NaN</td>\n",
       "      <td>NaN</td>\n",
       "    </tr>\n",
       "    <tr>\n",
       "      <th>3</th>\n",
       "      <td>Looking For YouTube Voice Over Artist (5 Proje...</td>\n",
       "      <td>LONG-TERM position! Bonuses and raises will be...</td>\n",
       "      <td>None</td>\n",
       "      <td>Casual Tone', 'Corporate Tone', 'Energetic Ton...</td>\n",
       "      <td>\\n        $12\\n</td>\n",
       "      <td>Fixed-price</td>\n",
       "      <td>Intermediate</td>\n",
       "      <td>None</td>\n",
       "      <td>NaN</td>\n",
       "      <td>NaN</td>\n",
       "      <td>NaN</td>\n",
       "      <td>NaN</td>\n",
       "      <td>NaN</td>\n",
       "      <td>NaN</td>\n",
       "      <td>NaN</td>\n",
       "    </tr>\n",
       "    <tr>\n",
       "      <th>4</th>\n",
       "      <td>Grooming artist required for 3d character real...</td>\n",
       "      <td>Realistic fur is required,Reference uploaded I...</td>\n",
       "      <td>None</td>\n",
       "      <td>3D Art', 'Fur', 'Blender', '3D Modeler', 'Char...</td>\n",
       "      <td>\\n        $300\\n</td>\n",
       "      <td>Fixed-price</td>\n",
       "      <td>Intermediate</td>\n",
       "      <td>None</td>\n",
       "      <td>NaN</td>\n",
       "      <td>NaN</td>\n",
       "      <td>NaN</td>\n",
       "      <td>NaN</td>\n",
       "      <td>NaN</td>\n",
       "      <td>NaN</td>\n",
       "      <td>NaN</td>\n",
       "    </tr>\n",
       "    <tr>\n",
       "      <th>...</th>\n",
       "      <td>...</td>\n",
       "      <td>...</td>\n",
       "      <td>...</td>\n",
       "      <td>...</td>\n",
       "      <td>...</td>\n",
       "      <td>...</td>\n",
       "      <td>...</td>\n",
       "      <td>...</td>\n",
       "      <td>...</td>\n",
       "      <td>...</td>\n",
       "      <td>...</td>\n",
       "      <td>...</td>\n",
       "      <td>...</td>\n",
       "      <td>...</td>\n",
       "      <td>...</td>\n",
       "    </tr>\n",
       "    <tr>\n",
       "      <th>435</th>\n",
       "      <td>Shading Artist/Tech Artist</td>\n",
       "      <td>Hi, I'm looking for a Shading Artist to recrea...</td>\n",
       "      <td>NaN</td>\n",
       "      <td>NaN</td>\n",
       "      <td>NaN</td>\n",
       "      <td>NaN</td>\n",
       "      <td>NaN</td>\n",
       "      <td>NaN</td>\n",
       "      <td>https://www.upwork.com/job/Shading-Artist-Tech...</td>\n",
       "      <td>Hourly</td>\n",
       "      <td>Expert</td>\n",
       "      <td>3D Texturing</td>\n",
       "      <td>Concept Artistry</td>\n",
       "      <td>Game Asset</td>\n",
       "      <td>Character Design</td>\n",
       "    </tr>\n",
       "    <tr>\n",
       "      <th>436</th>\n",
       "      <td>Charakter Artist, Portrait Drawing, Digital Ar...</td>\n",
       "      <td>Hi. I'm looking for an artist who draws realis...</td>\n",
       "      <td>NaN</td>\n",
       "      <td>NaN</td>\n",
       "      <td>NaN</td>\n",
       "      <td>NaN</td>\n",
       "      <td>NaN</td>\n",
       "      <td>NaN</td>\n",
       "      <td>https://www.upwork.com/job/Charakter-Artist-Po...</td>\n",
       "      <td>Fixed-price</td>\n",
       "      <td>Expert</td>\n",
       "      <td>Digital Illustration</td>\n",
       "      <td>Individual Portrait</td>\n",
       "      <td>Realistic Portrait</td>\n",
       "      <td>Drawing</td>\n",
       "    </tr>\n",
       "    <tr>\n",
       "      <th>437</th>\n",
       "      <td>3D Artist / Unreal Artist</td>\n",
       "      <td>Hello !\\n\\nWe are currently looking for a 3D A...</td>\n",
       "      <td>NaN</td>\n",
       "      <td>NaN</td>\n",
       "      <td>NaN</td>\n",
       "      <td>NaN</td>\n",
       "      <td>NaN</td>\n",
       "      <td>NaN</td>\n",
       "      <td>https://www.upwork.com/job/Artist-Unreal-Artis...</td>\n",
       "      <td>Hourly</td>\n",
       "      <td>Intermediate</td>\n",
       "      <td>3D Modeling</td>\n",
       "      <td>3D Design</td>\n",
       "      <td>3D Animation</td>\n",
       "      <td>3D Printing</td>\n",
       "    </tr>\n",
       "    <tr>\n",
       "      <th>438</th>\n",
       "      <td>Corel Painter: Experienced fine artist Seeking...</td>\n",
       "      <td>Seeking a coach/teacher for digital painting a...</td>\n",
       "      <td>NaN</td>\n",
       "      <td>NaN</td>\n",
       "      <td>NaN</td>\n",
       "      <td>NaN</td>\n",
       "      <td>NaN</td>\n",
       "      <td>NaN</td>\n",
       "      <td>https://www.upwork.com/job/Corel-Painter-Exper...</td>\n",
       "      <td>Hourly</td>\n",
       "      <td>Intermediate</td>\n",
       "      <td>Academic Editing</td>\n",
       "      <td>Business Editing</td>\n",
       "      <td>Editor</td>\n",
       "      <td>Technical Editing</td>\n",
       "    </tr>\n",
       "    <tr>\n",
       "      <th>439</th>\n",
       "      <td>Videographer to film a 2 minute interview of a...</td>\n",
       "      <td>Hi! We're an Australian phone case company doi...</td>\n",
       "      <td>NaN</td>\n",
       "      <td>NaN</td>\n",
       "      <td>NaN</td>\n",
       "      <td>NaN</td>\n",
       "      <td>NaN</td>\n",
       "      <td>NaN</td>\n",
       "      <td>https://www.upwork.com/job/Videographer-film-m...</td>\n",
       "      <td>Hourly: $30.00-$60.00</td>\n",
       "      <td>Expert</td>\n",
       "      <td>Video Production</td>\n",
       "      <td>Lighting</td>\n",
       "      <td>Documentary</td>\n",
       "      <td>Videography</td>\n",
       "    </tr>\n",
       "  </tbody>\n",
       "</table>\n",
       "<p>440 rows × 15 columns</p>\n",
       "</div>"
      ],
      "text/plain": [
       "                                                 Title  \\\n",
       "0              MAYA randomisation script & positioning   \n",
       "1                              Logo needed for Startup   \n",
       "2                 Voice over artist in Malay and Tamil   \n",
       "3    Looking For YouTube Voice Over Artist (5 Proje...   \n",
       "4    Grooming artist required for 3d character real...   \n",
       "..                                                 ...   \n",
       "435                         Shading Artist/Tech Artist   \n",
       "436  Charakter Artist, Portrait Drawing, Digital Ar...   \n",
       "437                          3D Artist / Unreal Artist   \n",
       "438  Corel Painter: Experienced fine artist Seeking...   \n",
       "439  Videographer to film a 2 minute interview of a...   \n",
       "\n",
       "                                           Description Location  \\\n",
       "0    We have a fully rigged model (head and body).W...     None   \n",
       "1    I'm looking for someone to design my startup's...     None   \n",
       "2    I am looking for Voice over artist in Malay an...     None   \n",
       "3    LONG-TERM position! Bonuses and raises will be...     None   \n",
       "4    Realistic fur is required,Reference uploaded I...     None   \n",
       "..                                                 ...      ...   \n",
       "435  Hi, I'm looking for a Shading Artist to recrea...      NaN   \n",
       "436  Hi. I'm looking for an artist who draws realis...      NaN   \n",
       "437  Hello !\\n\\nWe are currently looking for a 3D A...      NaN   \n",
       "438  Seeking a coach/teacher for digital painting a...      NaN   \n",
       "439  Hi! We're an Australian phone case company doi...      NaN   \n",
       "\n",
       "                                                 Skill  \\\n",
       "0    3D Rendering', '3D Animation', 'Autodesk Maya'...   \n",
       "1    Social Media Imagery', 'Minimal', 'Logo Design...   \n",
       "2    Voice Acting', 'Voice-Over', 'Female', 'Voice ...   \n",
       "3    Casual Tone', 'Corporate Tone', 'Energetic Ton...   \n",
       "4    3D Art', 'Fur', 'Blender', '3D Modeler', 'Char...   \n",
       "..                                                 ...   \n",
       "435                                                NaN   \n",
       "436                                                NaN   \n",
       "437                                                NaN   \n",
       "438                                                NaN   \n",
       "439                                                NaN   \n",
       "\n",
       "              Est.Proj-Budget     Job Type Contractor Tier Duration  \\\n",
       "0    \\n        $2,000\\n        Fixed-price          Expert     None   \n",
       "1       \\n        $40\\n        Fixed-price    Intermediate     None   \n",
       "2        \\n        $5\\n        Fixed-price     Entry level     None   \n",
       "3       \\n        $12\\n        Fixed-price    Intermediate     None   \n",
       "4      \\n        $300\\n        Fixed-price    Intermediate     None   \n",
       "..                        ...          ...             ...      ...   \n",
       "435                       NaN          NaN             NaN      NaN   \n",
       "436                       NaN          NaN             NaN      NaN   \n",
       "437                       NaN          NaN             NaN      NaN   \n",
       "438                       NaN          NaN             NaN      NaN   \n",
       "439                       NaN          NaN             NaN      NaN   \n",
       "\n",
       "                                             Title_URL               Job_type  \\\n",
       "0                                                  NaN                    NaN   \n",
       "1                                                  NaN                    NaN   \n",
       "2                                                  NaN                    NaN   \n",
       "3                                                  NaN                    NaN   \n",
       "4                                                  NaN                    NaN   \n",
       "..                                                 ...                    ...   \n",
       "435  https://www.upwork.com/job/Shading-Artist-Tech...                 Hourly   \n",
       "436  https://www.upwork.com/job/Charakter-Artist-Po...            Fixed-price   \n",
       "437  https://www.upwork.com/job/Artist-Unreal-Artis...                 Hourly   \n",
       "438  https://www.upwork.com/job/Corel-Painter-Exper...                 Hourly   \n",
       "439  https://www.upwork.com/job/Videographer-film-m...  Hourly: $30.00-$60.00   \n",
       "\n",
       "    Contractor_tier             Skill_one            Skill_two  \\\n",
       "0               NaN                   NaN                  NaN   \n",
       "1               NaN                   NaN                  NaN   \n",
       "2               NaN                   NaN                  NaN   \n",
       "3               NaN                   NaN                  NaN   \n",
       "4               NaN                   NaN                  NaN   \n",
       "..              ...                   ...                  ...   \n",
       "435          Expert          3D Texturing     Concept Artistry   \n",
       "436          Expert  Digital Illustration  Individual Portrait   \n",
       "437    Intermediate           3D Modeling            3D Design   \n",
       "438    Intermediate      Academic Editing     Business Editing   \n",
       "439          Expert      Video Production             Lighting   \n",
       "\n",
       "            skill_three         skill_four  \n",
       "0                   NaN                NaN  \n",
       "1                   NaN                NaN  \n",
       "2                   NaN                NaN  \n",
       "3                   NaN                NaN  \n",
       "4                   NaN                NaN  \n",
       "..                  ...                ...  \n",
       "435          Game Asset   Character Design  \n",
       "436  Realistic Portrait            Drawing  \n",
       "437        3D Animation        3D Printing  \n",
       "438              Editor  Technical Editing  \n",
       "439         Documentary        Videography  \n",
       "\n",
       "[440 rows x 15 columns]"
      ]
     },
     "execution_count": 2,
     "metadata": {},
     "output_type": "execute_result"
    }
   ],
   "source": [
    "csv_path = [\n",
    "   \"../../Raw_CSV/April 25-26 - 2022/Upwork/Upwork_Artist.csv\",\n",
    "   \"../../Raw_CSV/April 27 - 2022/Upwork/Upwork-Artist.csv\",\n",
    "    \"../../Raw_CSV/April 28 - 2022/Upwork/Freelance Artist Jobs - Upwork(1).csv\", \n",
    "]\n",
    "merge = pd.concat(map(pd.read_csv,csv_path),ignore_index=True)\n",
    "merge[\"Skill\"]= merge[\"Skill\"].str.replace(\"^\\['|'\\]$\",\"\")\n",
    "merge"
   ]
  },
  {
   "cell_type": "code",
   "execution_count": 3,
   "metadata": {},
   "outputs": [],
   "source": [
    "merge[\"Est.Proj-Budget\"] = merge[\"Est.Proj-Budget\"].str.strip()"
   ]
  },
  {
   "cell_type": "code",
   "execution_count": 4,
   "metadata": {},
   "outputs": [
    {
     "data": {
      "image/png": "[encoded data removed]",
      "text/plain": [
       "<Figure size 1440x360 with 1 Axes>"
      ]
     },
     "metadata": {
      "needs_background": "light"
     },
     "output_type": "display_data"
    }
   ],
   "source": [
    "filt = (merge[\"Est.Proj-Budget\"] != \"None\") & (merge[\"Est.Proj-Budget\"].notna())\n",
    "filter_est = merge.loc[filt]\n",
    "count_est = filter_est[\"Est.Proj-Budget\"].value_counts()\n",
    "plt.figure(figsize=(20, 5))\n",
    "plt.bar(count_est.index, count_est.values)\n",
    "plt.xticks(rotation=30, ha=\"right\")\n",
    "plt.show()\n",
    "\n"
   ]
  },
  {
   "cell_type": "code",
   "execution_count": 5,
   "metadata": {},
   "outputs": [],
   "source": [
    "filt_first_tier = merge[\"Contractor_tier\"].fillna(\"\")\n",
    "# frame_first_tier =  merge.loc[filt_first_tier,\"Contractor_tier\"]\n",
    "filt_second_tier = merge[\"Contractor Tier\"].fillna(\"\")\n",
    "# frame_second_tier = merge.loc[filt_second_tier,\"Contractor Tier\"]\n",
    "\n",
    "merge[\"CT\"] = filt_first_tier + filt_second_tier\n"
   ]
  },
  {
   "cell_type": "code",
   "execution_count": 6,
   "metadata": {},
   "outputs": [],
   "source": [
    "merge[\"CT\"] = merge[\"CT\"].str.strip()"
   ]
  },
  {
   "cell_type": "code",
   "execution_count": 7,
   "metadata": {},
   "outputs": [
    {
     "data": {
      "text/plain": [
       "Intermediate    217\n",
       "Expert          151\n",
       "Entry level      72\n",
       "Name: CT, dtype: int64"
      ]
     },
     "execution_count": 7,
     "metadata": {},
     "output_type": "execute_result"
    }
   ],
   "source": [
    "count_tier = merge[\"CT\"].value_counts()\n",
    "count_tier"
   ]
  },
  {
   "cell_type": "code",
   "execution_count": 8,
   "metadata": {},
   "outputs": [
    {
     "data": {
      "image/png": "[encoded data removed]",
      "text/plain": [
       "<Figure size 432x288 with 1 Axes>"
      ]
     },
     "metadata": {
      "needs_background": "light"
     },
     "output_type": "display_data"
    }
   ],
   "source": [
    "plt.barh(count_tier.index,count_tier.values)\n",
    "plt.show()"
   ]
  },
  {
   "cell_type": "code",
   "execution_count": 9,
   "metadata": {},
   "outputs": [],
   "source": [
    "merge[\"Combine Skills\"] =   merge.Skill.fillna(\"\") + \" \" + merge.Skill_one.fillna(\"\") + \",\" + merge.Skill_two.fillna(\",\") + \", \" + merge.skill_four.fillna(\",\") + \", \" + merge.skill_three.fillna(\",\")"
   ]
  },
  {
   "cell_type": "code",
   "execution_count": 10,
   "metadata": {},
   "outputs": [],
   "source": [
    "merge[\"Combine Skills\"] = merge[\"Combine Skills\"].str.replace(\"'\", \"\")"
   ]
  },
  {
   "cell_type": "code",
   "execution_count": 11,
   "metadata": {},
   "outputs": [],
   "source": [
    "merge[\"Combine Skills\"] = merge[\"Combine Skills\"].str.split(\",\")"
   ]
  },
  {
   "cell_type": "code",
   "execution_count": 31,
   "metadata": {},
   "outputs": [],
   "source": [
    "skill_append = []\n",
    "for i in range(len(merge[\"Combine Skills\"])):\n",
    "    count = merge[\"Combine Skills\"][i]\n",
    "    for j in range(len(count)):\n",
    "        skill_append.append(count[j])"
   ]
  },
  {
   "cell_type": "code",
   "execution_count": 57,
   "metadata": {},
   "outputs": [],
   "source": [
    "skill_without_space = []\n",
    "filter_skill = list(filter(None, skill_append))\n",
    "for i in filter_skill:\n",
    "    if i != \" \":\n",
    "        skill_without_space.append(i)"
   ]
  },
  {
   "cell_type": "code",
   "execution_count": 76,
   "metadata": {},
   "outputs": [
    {
     "data": {
      "image/png": "[encoded data removed]",
      "text/plain": [
       "<Figure size 720x360 with 1 Axes>"
      ]
     },
     "metadata": {
      "needs_background": "light"
     },
     "output_type": "display_data"
    }
   ],
   "source": [
    "skill_frame = pd.DataFrame(skill_without_space, columns={\"Skill\"})\n",
    "count_skill = skill_frame[\"Skill\"].value_counts()[0:10]\n",
    "plt.figure(figsize=(10,5))\n",
    "plt.barh(count_skill.index,count_skill.values)\n",
    "plt.show()"
   ]
  },
  {
   "cell_type": "code",
   "execution_count": 78,
   "metadata": {},
   "outputs": [],
   "source": [
    "merge[\"JT\"] = merge[\"Job Type\"].fillna(\"\") + merge[\"Job_type\"].fillna(\"\")"
   ]
  },
  {
   "cell_type": "code",
   "execution_count": 84,
   "metadata": {},
   "outputs": [
    {
     "data": {
      "image/png": "[encoded data removed]",
      "text/plain": [
       "<Figure size 720x360 with 1 Axes>"
      ]
     },
     "metadata": {
      "needs_background": "light"
     },
     "output_type": "display_data"
    }
   ],
   "source": [
    "count_jt = merge[\"JT\"].value_counts()[0:10]\n",
    "plt.figure(figsize=(10,5))\n",
    "plt.bar(count_jt.index, count_jt.values)\n",
    "plt.xticks(rotation=\"30\",ha=\"right\")\n",
    "plt.show()\n"
   ]
  },
  {
   "cell_type": "code",
   "execution_count": 93,
   "metadata": {},
   "outputs": [
    {
     "data": {
      "image/png": "[encoded data removed]",
      "text/plain": [
       "<Figure size 1080x360 with 1 Axes>"
      ]
     },
     "metadata": {
      "needs_background": "light"
     },
     "output_type": "display_data"
    }
   ],
   "source": [
    "filt_loc = (merge[\"Duration\"] != \"None\")\n",
    "merge_duration = merge.loc[filt_loc,\"Duration\"]\n",
    "count_duration = merge_duration.value_counts()\n",
    "plt.figure(figsize=(15,5))\n",
    "plt.bar(count_duration.index, count_duration.values)\n",
    "plt.xticks(rotation=\"30\",ha=\"right\")\n",
    "plt.show()"
   ]
  },
  {
   "cell_type": "code",
   "execution_count": null,
   "metadata": {},
   "outputs": [],
   "source": []
  }
 ],
 "metadata": {
  "interpreter": {
   "hash": "aee8b7b246df8f9039afb4144a1f6fd8d2ca17a180786b69acc140d282b71a49"
  },
  "kernelspec": {
   "display_name": "Python 3.10.4 64-bit",
   "language": "python",
   "name": "python3"
  },
  "language_info": {
   "codemirror_mode": {
    "name": "ipython",
    "version": 3
   },
   "file_extension": ".py",
   "mimetype": "text/x-python",
   "name": "python",
   "nbconvert_exporter": "python",
   "pygments_lexer": "ipython3",
   "version": "3.10.4"
  },
  "orig_nbformat": 4
 },
 "nbformat": 4,
 "nbformat_minor": 2
}
