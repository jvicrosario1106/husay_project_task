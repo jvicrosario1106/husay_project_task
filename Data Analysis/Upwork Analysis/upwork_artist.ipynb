{
 "cells": [
  {
   "cell_type": "code",
   "execution_count": 1,
   "metadata": {},
   "outputs": [],
   "source": [
    "import pandas as pd\n",
    "import matplotlib.pyplot as plt\n"
   ]
  },
  {
   "cell_type": "code",
   "execution_count": 2,
   "metadata": {},
   "outputs": [],
   "source": [
    "merge = pd.read_csv(\"../../Raw_CSV/April 28 - 2022/Upwork/Freelance Artist Jobs - Upwork(1).csv\")"
   ]
  },
  {
   "cell_type": "code",
   "execution_count": 12,
   "metadata": {},
   "outputs": [],
   "source": [
    "merge[\"Skills\"] = merge.Skill_one + \" \" + merge.Skill_two"
   ]
  },
  {
   "cell_type": "code",
   "execution_count": 14,
   "metadata": {},
   "outputs": [
    {
     "data": {
      "text/plain": [
       "Title                                                 Digital Artist\n",
       "Title_URL          https://www.upwork.com/job/Digital-Artist_~016...\n",
       "Job_type                                        Hourly: $5.00-$10.00\n",
       "Contractor_tier                                          Entry level\n",
       "Description        Already hired artists for this job, thank you ...\n",
       "Skill_one                                             Digital Design\n",
       "Skill_two                                           Character Design\n",
       "skill_three                                                      NaN\n",
       "skill_four                                                       NaN\n",
       "Skills                               Digital Design Character Design\n",
       "Name: 0, dtype: object"
      ]
     },
     "execution_count": 14,
     "metadata": {},
     "output_type": "execute_result"
    }
   ],
   "source": [
    "merge.loc[0]"
   ]
  },
  {
   "cell_type": "code",
   "execution_count": null,
   "metadata": {},
   "outputs": [],
   "source": []
  }
 ],
 "metadata": {
  "interpreter": {
   "hash": "aee8b7b246df8f9039afb4144a1f6fd8d2ca17a180786b69acc140d282b71a49"
  },
  "kernelspec": {
   "display_name": "Python 3.10.4 64-bit",
   "language": "python",
   "name": "python3"
  },
  "language_info": {
   "codemirror_mode": {
    "name": "ipython",
    "version": 3
   },
   "file_extension": ".py",
   "mimetype": "text/x-python",
   "name": "python",
   "nbconvert_exporter": "python",
   "pygments_lexer": "ipython3",
   "version": "3.10.4"
  },
  "orig_nbformat": 4
 },
 "nbformat": 4,
 "nbformat_minor": 2
}
