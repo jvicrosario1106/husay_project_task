{
 "cells": [
  {
   "cell_type": "code",
   "execution_count": 3,
   "metadata": {},
   "outputs": [],
   "source": [
    "import matplotlib.pyplot as plt\n",
    "import pandas as pd"
   ]
  },
  {
   "cell_type": "code",
   "execution_count": 12,
   "metadata": {},
   "outputs": [],
   "source": [
    "# Importing CSV Files\n",
    "artist = pd.read_csv(\"../Raw_CSV/April 25-26 - 2022/Indeed/Indeed-artist.csv\")"
   ]
  },
  {
   "cell_type": "code",
   "execution_count": 13,
   "metadata": {},
   "outputs": [
    {
     "data": {
      "text/html": [
       "<div>\n",
       "<style scoped>\n",
       "    .dataframe tbody tr th:only-of-type {\n",
       "        vertical-align: middle;\n",
       "    }\n",
       "\n",
       "    .dataframe tbody tr th {\n",
       "        vertical-align: top;\n",
       "    }\n",
       "\n",
       "    .dataframe thead th {\n",
       "        text-align: right;\n",
       "    }\n",
       "</style>\n",
       "<table border=\"1\" class=\"dataframe\">\n",
       "  <thead>\n",
       "    <tr style=\"text-align: right;\">\n",
       "      <th></th>\n",
       "      <th>Title</th>\n",
       "      <th>Company</th>\n",
       "      <th>SalaryOne</th>\n",
       "      <th>SalaryTwo</th>\n",
       "      <th>Location</th>\n",
       "      <th>Summary</th>\n",
       "      <th>Qualification</th>\n",
       "      <th>Role&amp;Responsibilities</th>\n",
       "    </tr>\n",
       "  </thead>\n",
       "  <tbody>\n",
       "    <tr>\n",
       "      <th>count</th>\n",
       "      <td>105</td>\n",
       "      <td>105</td>\n",
       "      <td>105</td>\n",
       "      <td>105</td>\n",
       "      <td>105</td>\n",
       "      <td>105</td>\n",
       "      <td>105</td>\n",
       "      <td>105</td>\n",
       "    </tr>\n",
       "    <tr>\n",
       "      <th>unique</th>\n",
       "      <td>47</td>\n",
       "      <td>79</td>\n",
       "      <td>36</td>\n",
       "      <td>1</td>\n",
       "      <td>27</td>\n",
       "      <td>80</td>\n",
       "      <td>83</td>\n",
       "      <td>83</td>\n",
       "    </tr>\n",
       "    <tr>\n",
       "      <th>top</th>\n",
       "      <td>newGraphic Artist</td>\n",
       "      <td>ActivAsia Inc.</td>\n",
       "      <td>None</td>\n",
       "      <td>None</td>\n",
       "      <td>Makati</td>\n",
       "      <td>With at least 1 year experienced.</td>\n",
       "      <td>['8 hour shift', '13th month salary', \"Bachelo...</td>\n",
       "      <td>['ZigWheels Philppines &amp; Carmudi PH is looking...</td>\n",
       "    </tr>\n",
       "    <tr>\n",
       "      <th>freq</th>\n",
       "      <td>20</td>\n",
       "      <td>3</td>\n",
       "      <td>48</td>\n",
       "      <td>105</td>\n",
       "      <td>19</td>\n",
       "      <td>3</td>\n",
       "      <td>3</td>\n",
       "      <td>2</td>\n",
       "    </tr>\n",
       "  </tbody>\n",
       "</table>\n",
       "</div>"
      ],
      "text/plain": [
       "                    Title         Company SalaryOne SalaryTwo Location  \\\n",
       "count                 105             105       105       105      105   \n",
       "unique                 47              79        36         1       27   \n",
       "top     newGraphic Artist  ActivAsia Inc.      None      None   Makati   \n",
       "freq                   20               3        48       105       19   \n",
       "\n",
       "                                  Summary  \\\n",
       "count                                 105   \n",
       "unique                                 80   \n",
       "top     With at least 1 year experienced.   \n",
       "freq                                    3   \n",
       "\n",
       "                                            Qualification  \\\n",
       "count                                                 105   \n",
       "unique                                                 83   \n",
       "top     ['8 hour shift', '13th month salary', \"Bachelo...   \n",
       "freq                                                    3   \n",
       "\n",
       "                                    Role&Responsibilities  \n",
       "count                                                 105  \n",
       "unique                                                 83  \n",
       "top     ['ZigWheels Philppines & Carmudi PH is looking...  \n",
       "freq                                                    2  "
      ]
     },
     "execution_count": 13,
     "metadata": {},
     "output_type": "execute_result"
    }
   ],
   "source": [
    "artist.describe()"
   ]
  },
  {
   "cell_type": "code",
   "execution_count": 16,
   "metadata": {},
   "outputs": [
    {
     "data": {
      "text/plain": [
       "Graphic Artist                            19\n",
       "newGraphic Artist/Designer                 7\n",
       "Graphic Artist/Designer                    6\n",
       "Graphic Artist (Entry-Level)               2\n",
       "Freelance 2D Artist                        2\n",
       "Production Graphic Artist                  2\n",
       "newPottery Artist                          2\n",
       "new3D ILLUSTRATOR                          2\n",
       "Graphic Artist|Taguig(Work Onsite)-JMM     2\n",
       "Multimedia Artist                          2\n",
       "Name: Title, dtype: int64"
      ]
     },
     "execution_count": 16,
     "metadata": {},
     "output_type": "execute_result"
    }
   ],
   "source": [
    "artist[\"Title\"].value_counts()[1:11]"
   ]
  },
  {
   "cell_type": "code",
   "execution_count": null,
   "metadata": {},
   "outputs": [],
   "source": []
  }
 ],
 "metadata": {
  "interpreter": {
   "hash": "aee8b7b246df8f9039afb4144a1f6fd8d2ca17a180786b69acc140d282b71a49"
  },
  "kernelspec": {
   "display_name": "Python 3.10.4 64-bit",
   "language": "python",
   "name": "python3"
  },
  "language_info": {
   "codemirror_mode": {
    "name": "ipython",
    "version": 3
   },
   "file_extension": ".py",
   "mimetype": "text/x-python",
   "name": "python",
   "nbconvert_exporter": "python",
   "pygments_lexer": "ipython3",
   "version": "3.10.4"
  },
  "orig_nbformat": 4
 },
 "nbformat": 4,
 "nbformat_minor": 2
}
