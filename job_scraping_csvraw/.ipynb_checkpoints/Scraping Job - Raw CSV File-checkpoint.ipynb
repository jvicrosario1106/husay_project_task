{
 "cells": [
  {
   "cell_type": "code",
   "execution_count": 20,
   "id": "b3fbbd2c",
   "metadata": {},
   "outputs": [],
   "source": [
    "from bs4 import BeautifulSoup as bs\n",
    "import requests"
   ]
  },
  {
   "cell_type": "code",
   "execution_count": null,
   "id": "ba1c12c0",
   "metadata": {},
   "outputs": [],
   "source": [
    "# Requesting from the sites\n",
    "\n",
    "headers = {\n",
    "'authority': 'scrapeme.live',\n",
    "'dnt': '1',\n",
    "'upgrade-insecure-requests': '1',\n",
    "'user-agent': 'Mozilla/5.0 (Macintosh; Intel Mac OS X 10_15_4) AppleWebKit/537.36 (KHTML, like Gecko) Chrome/83.0.4103.61 Safari/537.36',\n",
    "'accept': 'text/html,application/xhtml+xml,application/xml;q=0.9,image/webp,image/apng,*/*;q=0.8,application/signed-exchange;v=b3;q=0.9',\n",
    "'sec-fetch-site': 'none',\n",
    "'sec-fetch-mode': 'navigate',\n",
    "'sec-fetch-user': '?1',\n",
    "'sec-fetch-dest': 'document',\n",
    "'accept-language': 'en-GB,en-US;q=0.9,en;q=0.8',\n",
    "}\n",
    "\n",
    "req = requests.get(\"https://www.glassdoor.com/Job/jobs.htm?sc.keyword=Game%20designer&clickSource=searchBox&locId=204&locT=N&locName=Philippines\",headers=headers)\n",
    "soup = bs(req.content,'html.parser')\n",
    "print(soup.find())"
   ]
  },
  {
   "cell_type": "code",
   "execution_count": null,
   "id": "2625df60",
   "metadata": {},
   "outputs": [],
   "source": []
  },
  {
   "cell_type": "code",
   "execution_count": null,
   "id": "a258a58d",
   "metadata": {},
   "outputs": [],
   "source": []
  }
 ],
 "metadata": {
  "kernelspec": {
   "display_name": "Python 3 (ipykernel)",
   "language": "python",
   "name": "python3"
  },
  "language_info": {
   "codemirror_mode": {
    "name": "ipython",
    "version": 3
   },
   "file_extension": ".py",
   "mimetype": "text/x-python",
   "name": "python",
   "nbconvert_exporter": "python",
   "pygments_lexer": "ipython3",
   "version": "3.10.4"
  }
 },
 "nbformat": 4,
 "nbformat_minor": 5
}
