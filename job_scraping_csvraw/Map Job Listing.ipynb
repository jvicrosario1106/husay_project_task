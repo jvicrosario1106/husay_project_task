{
 "cells": [
  {
   "cell_type": "code",
   "execution_count": 65,
   "id": "c3029c51",
   "metadata": {},
   "outputs": [],
   "source": [
    "import requests\n",
    "from bs4 import BeautifulSoup as bs\n",
    "import pandas as pd"
   ]
  },
  {
   "cell_type": "code",
   "execution_count": 57,
   "id": "efb288e5",
   "metadata": {},
   "outputs": [],
   "source": [
    "headers = {\n",
    "'authority': 'scrapeme.live',\n",
    "'dnt': '1',\n",
    "'upgrade-insecure-requests': '1',\n",
    "'user-agent': 'Mozilla/5.0 (Macintosh; Intel Mac OS X 10_15_4) AppleWebKit/537.36 (KHTML, like Gecko) Chrome/83.0.4103.61 Safari/537.36',\n",
    "'accept': 'text/html,application/xhtml+xml,application/xml;q=0.9,image/webp,image/apng,*/*;q=0.8,application/signed-exchange;v=b3;q=0.9',\n",
    "'sec-fetch-site': 'none',\n",
    "'sec-fetch-mode': 'navigate',\n",
    "'sec-fetch-user': '?1',\n",
    "'sec-fetch-dest': 'document',\n",
    "'accept-language': 'en-GB,en-US;q=0.9,en;q=0.8',\n",
    "}"
   ]
  },
  {
   "cell_type": "code",
   "execution_count": 58,
   "id": "7affef97",
   "metadata": {},
   "outputs": [],
   "source": [
    "def generate_url(job_title,page):\n",
    "    url_template = \"https://www.jobstreet.com.ph/en/job-search/{}-jobs/{}/\"\n",
    "    format_url = url_template.format(job_title,page)\n",
    "    return format_url"
   ]
  },
  {
   "cell_type": "code",
   "execution_count": 59,
   "id": "facdea12",
   "metadata": {},
   "outputs": [],
   "source": [
    "url = generate_url(\"Game Designer\", \"1\") # Change Job title and pages"
   ]
  },
  {
   "cell_type": "code",
   "execution_count": 60,
   "id": "07dcbac9",
   "metadata": {},
   "outputs": [
    {
     "data": {
      "text/plain": [
       "'https://www.jobstreet.com.ph/en/job-search/Game Designer-jobs/1/'"
      ]
     },
     "execution_count": 60,
     "metadata": {},
     "output_type": "execute_result"
    }
   ],
   "source": [
    "url"
   ]
  },
  {
   "cell_type": "code",
   "execution_count": 61,
   "id": "4b0c6ac1",
   "metadata": {},
   "outputs": [],
   "source": [
    "res = requests.get(url,headers=headers)"
   ]
  },
  {
   "cell_type": "code",
   "execution_count": 62,
   "id": "bf60ffbb",
   "metadata": {},
   "outputs": [],
   "source": [
    "soup = bs(res.content, \"html.parser\")"
   ]
  },
  {
   "cell_type": "code",
   "execution_count": 63,
   "id": "0892f0eb",
   "metadata": {},
   "outputs": [],
   "source": [
    "map_job = soup.find_all(\"div\",class_=\"sx2jih0 zcydq8bm\")"
   ]
  },
  {
   "cell_type": "code",
   "execution_count": 64,
   "id": "5a91cada",
   "metadata": {},
   "outputs": [
    {
     "name": "stdout",
     "output_type": "stream",
     "text": [
      "Unity Programmer\n",
      "2D Game Artist\n",
      "Lead Game Developer\n",
      "UI Game Artist\n",
      "Game Designer\n",
      "3D Serious Game Developer 3D Application Developer\n",
      "Senior Programmer/Game Developer (Sto. Tomas, Batangas: 60K-150K!!) JPH1\n",
      "Game Development FE Assistant Lead\n",
      "Graphic Artist\n",
      "Programmer\n",
      "SR. Programmer\n",
      "Game UI/UX Designer\n",
      "GAME DEVELOPER\n",
      "Mobile Game Programmer (No Experience)\n",
      "2D SR. Graphic Artist\n",
      "2D Game Artist and Animator\n",
      "Senior Graphic Artist/Designer ( Makati : 30K UP! GAMING INDUSTRY ) JPH1\n",
      "SR. Graphic Artist\n",
      "Unity/ Game Programmer ( Experience in COCOS, C#, C++: Makati: 30K UP! ) JPH1\n",
      "3D Artist-Game Designer\n",
      "Senior Backend Developer\n",
      "Senior Programmer/Game Developer (Sto. Tomas, Batangas: 60K-150K!!) JPH1\n",
      "Senior Game Developer (Crypto Game)\n",
      "Unity Game Developer\n",
      "Programmer (Unity & Cocos)\n",
      "Game Development FE Assistant Lead\n",
      "UI/UX Designer\n",
      "HTML5 Game Developer ( Mobile, 2D, 3D or Multiplayer Programmer )\n",
      "Art Director\n",
      "Senior Graphic Artist/Designer ( Makati : 30K UP! GAMING INDUSTRY ) JPH1\n"
     ]
    }
   ],
   "source": [
    "for child in map_job[0].children:\n",
    "    card = child.find_all(\"div\",class_=\"sx2jih0 zcydq89e zcydq88e zcydq872 zcydq87e\")\n",
    "    for job_title in card:\n",
    "        print(job_title.find(\"span\").text)"
   ]
  },
  {
   "cell_type": "code",
   "execution_count": 68,
   "id": "e4dad40e",
   "metadata": {},
   "outputs": [
    {
     "data": {
      "text/plain": [
       "'1.4.2'"
      ]
     },
     "execution_count": 68,
     "metadata": {},
     "output_type": "execute_result"
    }
   ],
   "source": []
  },
  {
   "cell_type": "code",
   "execution_count": null,
   "id": "101ab73b",
   "metadata": {},
   "outputs": [],
   "source": []
  }
 ],
 "metadata": {
  "kernelspec": {
   "display_name": "Python 3 (ipykernel)",
   "language": "python",
   "name": "python3"
  },
  "language_info": {
   "codemirror_mode": {
    "name": "ipython",
    "version": 3
   },
   "file_extension": ".py",
   "mimetype": "text/x-python",
   "name": "python",
   "nbconvert_exporter": "python",
   "pygments_lexer": "ipython3",
   "version": "3.10.4"
  }
 },
 "nbformat": 4,
 "nbformat_minor": 5
}
