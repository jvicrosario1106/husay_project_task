{
 "cells": [
  {
   "cell_type": "code",
   "execution_count": 1,
   "id": "d5111d0d",
   "metadata": {},
   "outputs": [],
   "source": [
    "import requests\n",
    "from bs4 import BeautifulSoup as bs\n",
    "import pandas as pd"
   ]
  },
  {
   "cell_type": "code",
   "execution_count": 2,
   "id": "eadeae6c",
   "metadata": {},
   "outputs": [],
   "source": [
    "job_list = []\n",
    "\n",
    "headers = {\n",
    "'authority': 'scrapeme.live',\n",
    "'dnt': '1',\n",
    "'upgrade-insecure-requests': '1',\n",
    "'user-agent': 'Mozilla/5.0 (Macintosh; Intel Mac OS X 10_15_4) AppleWebKit/537.36 (KHTML, like Gecko) Chrome/83.0.4103.61 Safari/537.36',\n",
    "'accept': 'text/html,application/xhtml+xml,application/xml;q=0.9,image/webp,image/apng,*/*;q=0.8,application/signed-exchange;v=b3;q=0.9',\n",
    "'sec-fetch-site': 'none',\n",
    "'sec-fetch-mode': 'navigate',\n",
    "'sec-fetch-user': '?1',\n",
    "'sec-fetch-dest': 'document',\n",
    "'accept-language': 'en-GB,en-US;q=0.9,en;q=0.8',\n",
    "}"
   ]
  },
  {
   "cell_type": "code",
   "execution_count": 3,
   "id": "43ab330a",
   "metadata": {},
   "outputs": [],
   "source": [
    "def generate_url(job_title,page):\n",
    "    url_template = \"https://www.jobstreet.com.ph/en/job-search/{}-jobs/{}/\"\n",
    "    format_url = url_template.format(job_title,page)\n",
    "    return format_url"
   ]
  },
  {
   "cell_type": "code",
   "execution_count": 4,
   "id": "329cf643",
   "metadata": {},
   "outputs": [],
   "source": [
    "url = generate_url(\"Multimedia Artist\", \"1\") # Change Job title and pages"
   ]
  },
  {
   "cell_type": "code",
   "execution_count": 5,
   "id": "b1a9db1b",
   "metadata": {},
   "outputs": [
    {
     "data": {
      "text/plain": [
       "'https://www.jobstreet.com.ph/en/job-search/Multimedia Artist-jobs/3/'"
      ]
     },
     "execution_count": 5,
     "metadata": {},
     "output_type": "execute_result"
    }
   ],
   "source": [
    "url"
   ]
  },
  {
   "cell_type": "code",
   "execution_count": 6,
   "id": "55e602b6",
   "metadata": {},
   "outputs": [],
   "source": [
    "res = requests.get(url,headers=headers)"
   ]
  },
  {
   "cell_type": "code",
   "execution_count": 7,
   "id": "0dbbbc30",
   "metadata": {},
   "outputs": [],
   "source": [
    "soup = bs(res.content, \"html.parser\")"
   ]
  },
  {
   "cell_type": "code",
   "execution_count": 8,
   "id": "53d6be58",
   "metadata": {},
   "outputs": [],
   "source": [
    "map_job = soup.find_all(\"div\",class_=\"sx2jih0 zcydq8bm\")"
   ]
  },
  {
   "cell_type": "code",
   "execution_count": 9,
   "id": "00ae76d9",
   "metadata": {},
   "outputs": [],
   "source": [
    "for child in map_job[0].children:\n",
    "    card = child.find_all(\"div\",class_=\"sx2jih0 zcydq89e zcydq88e zcydq872 zcydq87e\")\n",
    "    for job_title in card:\n",
    "        job_list.append(job_title.find(\"span\").text)\n",
    "        "
   ]
  },
  {
   "cell_type": "code",
   "execution_count": 10,
   "id": "8a73edfb",
   "metadata": {},
   "outputs": [],
   "source": [
    "df = pd.DataFrame({\"job title\":job_list})\n",
    "df.to_csv(\"Jobtwo.csv\",index=False) # name of the saved csv file\n"
   ]
  },
  {
   "cell_type": "code",
   "execution_count": 11,
   "id": "3696a143",
   "metadata": {},
   "outputs": [
    {
     "data": {
      "text/plain": [
       "['Motion Graphics Designer',\n",
       " 'Multimedia Designer/Artist',\n",
       " 'Graphic Artist (BGC)',\n",
       " 'Graphic Artist/Designer',\n",
       " 'Graphic Artist',\n",
       " 'Photo Editor - WFH | Start ASAP',\n",
       " 'Graphic Artist',\n",
       " 'Graphic Artist',\n",
       " 'Graphic Artist',\n",
       " 'IN-HOUSE LAYOUT ARTIST',\n",
       " 'Graphic Artist',\n",
       " 'GRAPHIC ARTIST',\n",
       " 'Graphic Artist',\n",
       " 'Graphic Artist',\n",
       " 'Graphic Artist',\n",
       " 'GRAPHIC ARTIST',\n",
       " 'Social Media Graphic Artist',\n",
       " 'Graphic Artist',\n",
       " 'Multimedia Artist',\n",
       " 'Layout Artist - Typesetter - Graphic Artist',\n",
       " 'GRAPHIC ARTIST - MANDALUYONG',\n",
       " 'GRAPHIC ARTIST - MANDALUYONG',\n",
       " 'Graphic Artist - Angeles Pampanga',\n",
       " 'Graphic Artist',\n",
       " 'Graphic Artist',\n",
       " 'GRAPHIC DESIGNER  ( FRESH GRADUATES MAY APPLY ) BASED IN GREENHILLS, SAN JUAN',\n",
       " 'Graphic Artist / Art Director',\n",
       " 'GRAPHIC ARTIST',\n",
       " 'Graphic Artist',\n",
       " 'Graphic Artist']"
      ]
     },
     "execution_count": 11,
     "metadata": {},
     "output_type": "execute_result"
    }
   ],
   "source": [
    "job_list"
   ]
  },
  {
   "cell_type": "code",
   "execution_count": null,
   "id": "22004c16",
   "metadata": {},
   "outputs": [],
   "source": []
  },
  {
   "cell_type": "code",
   "execution_count": null,
   "id": "c9d5c7a4",
   "metadata": {},
   "outputs": [],
   "source": []
  },
  {
   "cell_type": "code",
   "execution_count": null,
   "id": "8d2d5456",
   "metadata": {},
   "outputs": [],
   "source": []
  },
  {
   "cell_type": "code",
   "execution_count": null,
   "id": "41a2f935",
   "metadata": {},
   "outputs": [],
   "source": []
  },
  {
   "cell_type": "code",
   "execution_count": null,
   "id": "cb3568d2",
   "metadata": {},
   "outputs": [],
   "source": []
  }
 ],
 "metadata": {
  "kernelspec": {
   "display_name": "Python 3 (ipykernel)",
   "language": "python",
   "name": "python3"
  },
  "language_info": {
   "codemirror_mode": {
    "name": "ipython",
    "version": 3
   },
   "file_extension": ".py",
   "mimetype": "text/x-python",
   "name": "python",
   "nbconvert_exporter": "python",
   "pygments_lexer": "ipython3",
   "version": "3.10.4"
  }
 },
 "nbformat": 4,
 "nbformat_minor": 5
}
