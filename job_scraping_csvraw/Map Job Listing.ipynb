{
 "cells": [
  {
   "cell_type": "code",
   "execution_count": 1,
   "id": "902041ca",
   "metadata": {},
   "outputs": [],
   "source": [
    "import requests\n",
    "from bs4 import BeautifulSoup as bs\n",
    "import pandas as pd"
   ]
  },
  {
   "cell_type": "code",
   "execution_count": 2,
   "id": "5aeff52c",
   "metadata": {},
   "outputs": [],
   "source": [
    "job_list = []\n",
    "\n",
    "headers = {\n",
    "'authority': 'scrapeme.live',\n",
    "'dnt': '1',\n",
    "'upgrade-insecure-requests': '1',\n",
    "'user-agent': 'Mozilla/5.0 (Macintosh; Intel Mac OS X 10_15_4) AppleWebKit/537.36 (KHTML, like Gecko) Chrome/83.0.4103.61 Safari/537.36',\n",
    "'accept': 'text/html,application/xhtml+xml,application/xml;q=0.9,image/webp,image/apng,*/*;q=0.8,application/signed-exchange;v=b3;q=0.9',\n",
    "'sec-fetch-site': 'none',\n",
    "'sec-fetch-mode': 'navigate',\n",
    "'sec-fetch-user': '?1',\n",
    "'sec-fetch-dest': 'document',\n",
    "'accept-language': 'en-GB,en-US;q=0.9,en;q=0.8',\n",
    "}"
   ]
  },
  {
   "cell_type": "code",
   "execution_count": 3,
   "id": "401c3f13",
   "metadata": {},
   "outputs": [],
   "source": [
    "def generate_url(job_title,page):\n",
    "    url_template = \"https://www.jobstreet.com.ph/en/job-search/{}-jobs/{}/\"\n",
    "    format_url = url_template.format(job_title,page)\n",
    "    return format_url"
   ]
  },
  {
   "cell_type": "code",
   "execution_count": 4,
   "id": "58276675",
   "metadata": {},
   "outputs": [],
   "source": [
    "url = generate_url(\"Game Designer\", \"2\") # Change Job title and pages"
   ]
  },
  {
   "cell_type": "code",
   "execution_count": 5,
   "id": "8f48127f",
   "metadata": {},
   "outputs": [
    {
     "data": {
      "text/plain": [
       "'https://www.jobstreet.com.ph/en/job-search/Game Designer-jobs/2/'"
      ]
     },
     "execution_count": 5,
     "metadata": {},
     "output_type": "execute_result"
    }
   ],
   "source": [
    "url"
   ]
  },
  {
   "cell_type": "code",
   "execution_count": 6,
   "id": "65890f2d",
   "metadata": {},
   "outputs": [],
   "source": [
    "res = requests.get(url,headers=headers)"
   ]
  },
  {
   "cell_type": "code",
   "execution_count": 7,
   "id": "c65231a8",
   "metadata": {},
   "outputs": [],
   "source": [
    "soup = bs(res.content, \"html.parser\")"
   ]
  },
  {
   "cell_type": "code",
   "execution_count": 8,
   "id": "48446e9a",
   "metadata": {},
   "outputs": [],
   "source": [
    "map_job = soup.find_all(\"div\",class_=\"sx2jih0 zcydq8bm\")"
   ]
  },
  {
   "cell_type": "code",
   "execution_count": 9,
   "id": "931fb47d",
   "metadata": {},
   "outputs": [],
   "source": [
    "for child in map_job[0].children:\n",
    "    card = child.find_all(\"div\",class_=\"sx2jih0 zcydq89e zcydq88e zcydq872 zcydq87e\")\n",
    "    for job_title in card:\n",
    "        job_list.append(job_title.find(\"span\").text)\n",
    "        "
   ]
  },
  {
   "cell_type": "code",
   "execution_count": 10,
   "id": "c7cbfb11",
   "metadata": {},
   "outputs": [],
   "source": [
    "df = pd.DataFrame({\"job title\":job_list})\n",
    "df.to_csv(\"JobTwo.csv\",index=False)\n"
   ]
  },
  {
   "cell_type": "code",
   "execution_count": 11,
   "id": "9aee79f8",
   "metadata": {},
   "outputs": [
    {
     "data": {
      "text/plain": [
       "['Unity/ Game Programmer ( Experience in COCOS, C#, C++: Makati: 30K UP! ) JPH1',\n",
       " 'Game System Operation Shift Lead',\n",
       " 'Game Operation Staff',\n",
       " 'Illustrator/Concept Artist– Games – Work from Home',\n",
       " 'HTML5 Game Developer ( Mobile, 2D, 3D or Multiplayer Programmer )',\n",
       " 'Arcade Attendant',\n",
       " 'Game Development Back End Developer (Java)',\n",
       " 'Database Developer (Remote)',\n",
       " 'Junior Programmer',\n",
       " 'Animation Pipeline Specialist',\n",
       " '3D Serious Games Developer / 3D Application Developer',\n",
       " 'Animator',\n",
       " 'Senior Graphic Artist/Designer ( Makati : 30K UP! GAMING INDUSTRY ) JPH1',\n",
       " '2D Graphic Artist ( Sto. Tomas, Batangas 15K-20K! ) JPH1',\n",
       " 'Conceptual Artists for Gaming Industry',\n",
       " '2D Graphic Artist ( Sto. Tomas, Batangas 15K-20K! ) JPH1',\n",
       " 'UI UX Designer',\n",
       " 'Graphic Designer - Professional Graphics Experienced',\n",
       " 'Mathematician/Statistician ( Makati : 20K-35K! OPEN FOR FRESH GRADUATES!! ) JPH1',\n",
       " 'Game Designer',\n",
       " 'ELearning Instructional Designer Developer | Work From Home',\n",
       " 'Mobile App Programmer (No Experience)',\n",
       " 'GRAPHIC DESIGNER',\n",
       " 'Art Director',\n",
       " 'Mobile Game Programmers - 3 Slots - Open for New Grads/Career Changers',\n",
       " 'Senior Graphics Designer - Print and Digital',\n",
       " 'Senior Designer, Motion Graphics',\n",
       " 'ELearning Instructional Designer Developer | Work From Home',\n",
       " 'Marketing Planning (Games and Features)',\n",
       " 'Unity Developer']"
      ]
     },
     "execution_count": 11,
     "metadata": {},
     "output_type": "execute_result"
    }
   ],
   "source": [
    "job_list"
   ]
  },
  {
   "cell_type": "code",
   "execution_count": 12,
   "id": "128f7cbc",
   "metadata": {},
   "outputs": [],
   "source": [
    "csv1 = pd.read_csv(\"Jobone.csv\")\n",
    "csv2 = pd.read_csv(\"Jobtwo.csv\")"
   ]
  },
  {
   "cell_type": "code",
   "execution_count": 19,
   "id": "c029f430",
   "metadata": {},
   "outputs": [],
   "source": [
    "combined = pd.concat([csv1,csv2])\n",
    "combined.to_csv(\"Game Designer Map Job\")"
   ]
  },
  {
   "cell_type": "code",
   "execution_count": 20,
   "id": "0846868b",
   "metadata": {},
   "outputs": [
    {
     "data": {
      "text/html": [
       "<div>\n",
       "<style scoped>\n",
       "    .dataframe tbody tr th:only-of-type {\n",
       "        vertical-align: middle;\n",
       "    }\n",
       "\n",
       "    .dataframe tbody tr th {\n",
       "        vertical-align: top;\n",
       "    }\n",
       "\n",
       "    .dataframe thead th {\n",
       "        text-align: right;\n",
       "    }\n",
       "</style>\n",
       "<table border=\"1\" class=\"dataframe\">\n",
       "  <thead>\n",
       "    <tr style=\"text-align: right;\">\n",
       "      <th></th>\n",
       "      <th>job title</th>\n",
       "    </tr>\n",
       "  </thead>\n",
       "  <tbody>\n",
       "    <tr>\n",
       "      <th>0</th>\n",
       "      <td>Unity Programmer</td>\n",
       "    </tr>\n",
       "    <tr>\n",
       "      <th>1</th>\n",
       "      <td>2D Game Artist</td>\n",
       "    </tr>\n",
       "    <tr>\n",
       "      <th>2</th>\n",
       "      <td>Lead Game Developer</td>\n",
       "    </tr>\n",
       "    <tr>\n",
       "      <th>3</th>\n",
       "      <td>UI Game Artist</td>\n",
       "    </tr>\n",
       "    <tr>\n",
       "      <th>4</th>\n",
       "      <td>Game Designer</td>\n",
       "    </tr>\n",
       "    <tr>\n",
       "      <th>5</th>\n",
       "      <td>3D Serious Game Developer 3D Application Devel...</td>\n",
       "    </tr>\n",
       "    <tr>\n",
       "      <th>6</th>\n",
       "      <td>Senior Programmer/Game Developer (Sto. Tomas, ...</td>\n",
       "    </tr>\n",
       "    <tr>\n",
       "      <th>7</th>\n",
       "      <td>Game Development FE Assistant Lead</td>\n",
       "    </tr>\n",
       "    <tr>\n",
       "      <th>8</th>\n",
       "      <td>Graphic Artist</td>\n",
       "    </tr>\n",
       "    <tr>\n",
       "      <th>9</th>\n",
       "      <td>Programmer</td>\n",
       "    </tr>\n",
       "    <tr>\n",
       "      <th>10</th>\n",
       "      <td>SR. Programmer</td>\n",
       "    </tr>\n",
       "    <tr>\n",
       "      <th>11</th>\n",
       "      <td>Game UI/UX Designer</td>\n",
       "    </tr>\n",
       "    <tr>\n",
       "      <th>12</th>\n",
       "      <td>GAME DEVELOPER</td>\n",
       "    </tr>\n",
       "    <tr>\n",
       "      <th>13</th>\n",
       "      <td>Mobile Game Programmer (No Experience)</td>\n",
       "    </tr>\n",
       "    <tr>\n",
       "      <th>14</th>\n",
       "      <td>2D SR. Graphic Artist</td>\n",
       "    </tr>\n",
       "    <tr>\n",
       "      <th>15</th>\n",
       "      <td>2D Game Artist and Animator</td>\n",
       "    </tr>\n",
       "    <tr>\n",
       "      <th>16</th>\n",
       "      <td>Senior Graphic Artist/Designer ( Makati : 30K ...</td>\n",
       "    </tr>\n",
       "    <tr>\n",
       "      <th>17</th>\n",
       "      <td>SR. Graphic Artist</td>\n",
       "    </tr>\n",
       "    <tr>\n",
       "      <th>18</th>\n",
       "      <td>Unity/ Game Programmer ( Experience in COCOS, ...</td>\n",
       "    </tr>\n",
       "    <tr>\n",
       "      <th>19</th>\n",
       "      <td>3D Artist-Game Designer</td>\n",
       "    </tr>\n",
       "    <tr>\n",
       "      <th>20</th>\n",
       "      <td>Senior Backend Developer</td>\n",
       "    </tr>\n",
       "    <tr>\n",
       "      <th>21</th>\n",
       "      <td>Senior Programmer/Game Developer (Sto. Tomas, ...</td>\n",
       "    </tr>\n",
       "    <tr>\n",
       "      <th>22</th>\n",
       "      <td>Senior Game Developer (Crypto Game)</td>\n",
       "    </tr>\n",
       "    <tr>\n",
       "      <th>23</th>\n",
       "      <td>Unity Game Developer</td>\n",
       "    </tr>\n",
       "    <tr>\n",
       "      <th>24</th>\n",
       "      <td>Programmer (Unity &amp; Cocos)</td>\n",
       "    </tr>\n",
       "    <tr>\n",
       "      <th>25</th>\n",
       "      <td>Game Development FE Assistant Lead</td>\n",
       "    </tr>\n",
       "    <tr>\n",
       "      <th>26</th>\n",
       "      <td>UI/UX Designer</td>\n",
       "    </tr>\n",
       "    <tr>\n",
       "      <th>27</th>\n",
       "      <td>HTML5 Game Developer ( Mobile, 2D, 3D or Multi...</td>\n",
       "    </tr>\n",
       "    <tr>\n",
       "      <th>28</th>\n",
       "      <td>Art Director</td>\n",
       "    </tr>\n",
       "    <tr>\n",
       "      <th>29</th>\n",
       "      <td>Senior Graphic Artist/Designer ( Makati : 30K ...</td>\n",
       "    </tr>\n",
       "  </tbody>\n",
       "</table>\n",
       "</div>"
      ],
      "text/plain": [
       "                                            job title\n",
       "0                                    Unity Programmer\n",
       "1                                      2D Game Artist\n",
       "2                                 Lead Game Developer\n",
       "3                                      UI Game Artist\n",
       "4                                       Game Designer\n",
       "5   3D Serious Game Developer 3D Application Devel...\n",
       "6   Senior Programmer/Game Developer (Sto. Tomas, ...\n",
       "7                  Game Development FE Assistant Lead\n",
       "8                                      Graphic Artist\n",
       "9                                          Programmer\n",
       "10                                     SR. Programmer\n",
       "11                                Game UI/UX Designer\n",
       "12                                     GAME DEVELOPER\n",
       "13             Mobile Game Programmer (No Experience)\n",
       "14                              2D SR. Graphic Artist\n",
       "15                        2D Game Artist and Animator\n",
       "16  Senior Graphic Artist/Designer ( Makati : 30K ...\n",
       "17                                 SR. Graphic Artist\n",
       "18  Unity/ Game Programmer ( Experience in COCOS, ...\n",
       "19                            3D Artist-Game Designer\n",
       "20                           Senior Backend Developer\n",
       "21  Senior Programmer/Game Developer (Sto. Tomas, ...\n",
       "22                Senior Game Developer (Crypto Game)\n",
       "23                               Unity Game Developer\n",
       "24                         Programmer (Unity & Cocos)\n",
       "25                 Game Development FE Assistant Lead\n",
       "26                                     UI/UX Designer\n",
       "27  HTML5 Game Developer ( Mobile, 2D, 3D or Multi...\n",
       "28                                       Art Director\n",
       "29  Senior Graphic Artist/Designer ( Makati : 30K ..."
      ]
     },
     "execution_count": 20,
     "metadata": {},
     "output_type": "execute_result"
    }
   ],
   "source": [
    "csv1"
   ]
  },
  {
   "cell_type": "code",
   "execution_count": null,
   "id": "6a189848",
   "metadata": {},
   "outputs": [],
   "source": [
    "csv2"
   ]
  }
 ],
 "metadata": {
  "kernelspec": {
   "display_name": "Python 3 (ipykernel)",
   "language": "python",
   "name": "python3"
  },
  "language_info": {
   "codemirror_mode": {
    "name": "ipython",
    "version": 3
   },
   "file_extension": ".py",
   "mimetype": "text/x-python",
   "name": "python",
   "nbconvert_exporter": "python",
   "pygments_lexer": "ipython3",
   "version": "3.10.4"
  }
 },
 "nbformat": 4,
 "nbformat_minor": 5
}
