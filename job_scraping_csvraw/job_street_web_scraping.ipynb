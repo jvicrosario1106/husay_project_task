{
 "cells": [
  {
   "cell_type": "code",
   "execution_count": 181,
   "id": "d5111d0d",
   "metadata": {},
   "outputs": [],
   "source": [
    "import requests\n",
    "from bs4 import BeautifulSoup as bs\n",
    "import pandas as pd"
   ]
  },
  {
   "cell_type": "code",
   "execution_count": 182,
   "id": "eadeae6c",
   "metadata": {},
   "outputs": [],
   "source": [
    "job_list = []\n",
    "\n",
    "headers = {\n",
    "'authority': 'scrapeme.live',\n",
    "'dnt': '1',\n",
    "'upgrade-insecure-requests': '1',\n",
    "'user-agent': 'Mozilla/5.0 (Macintosh; Intel Mac OS X 10_15_4) AppleWebKit/537.36 (KHTML, like Gecko) Chrome/83.0.4103.61 Safari/537.36',\n",
    "'accept': 'text/html,application/xhtml+xml,application/xml;q=0.9,image/webp,image/apng,*/*;q=0.8,application/signed-exchange;v=b3;q=0.9',\n",
    "'sec-fetch-site': 'none',\n",
    "'sec-fetch-mode': 'navigate',\n",
    "'sec-fetch-user': '?1',\n",
    "'sec-fetch-dest': 'document',\n",
    "'accept-language': 'en-GB,en-US;q=0.9,en;q=0.8',\n",
    "}"
   ]
  },
  {
   "cell_type": "code",
   "execution_count": 183,
   "id": "43ab330a",
   "metadata": {},
   "outputs": [],
   "source": [
    "def generate_url(job_title,page):\n",
    "    url_template = \"https://www.jobstreet.com.ph/en/job-search/{}-jobs/{}/\"\n",
    "    format_url = url_template.format(job_title,page)\n",
    "    return format_url"
   ]
  },
  {
   "cell_type": "code",
   "execution_count": 184,
   "id": "329cf643",
   "metadata": {},
   "outputs": [],
   "source": [
    "url = generate_url(\"session musician\", \"1\") # Change Job title and pages"
   ]
  },
  {
   "cell_type": "code",
   "execution_count": 185,
   "id": "b1a9db1b",
   "metadata": {},
   "outputs": [
    {
     "data": {
      "text/plain": [
       "'https://www.jobstreet.com.ph/en/job-search/session musician-jobs/1/'"
      ]
     },
     "execution_count": 185,
     "metadata": {},
     "output_type": "execute_result"
    }
   ],
   "source": [
    "url"
   ]
  },
  {
   "cell_type": "code",
   "execution_count": 186,
   "id": "55e602b6",
   "metadata": {},
   "outputs": [],
   "source": [
    "res = requests.get(url,headers=headers)"
   ]
  },
  {
   "cell_type": "code",
   "execution_count": 187,
   "id": "3b3360b0",
   "metadata": {},
   "outputs": [
    {
     "data": {
      "text/plain": [
       "<Response [200]>"
      ]
     },
     "execution_count": 187,
     "metadata": {},
     "output_type": "execute_result"
    }
   ],
   "source": [
    "res"
   ]
  },
  {
   "cell_type": "code",
   "execution_count": 188,
   "id": "0dbbbc30",
   "metadata": {},
   "outputs": [],
   "source": [
    "soup = bs(res.content, \"html.parser\")\n"
   ]
  },
  {
   "cell_type": "code",
   "execution_count": 189,
   "id": "53d6be58",
   "metadata": {},
   "outputs": [],
   "source": [
    "map_job = soup.find_all(\"div\",class_=\"sx2jih0 zcydq8bm\")"
   ]
  },
  {
   "cell_type": "code",
   "execution_count": 190,
   "id": "00ae76d9",
   "metadata": {},
   "outputs": [],
   "source": [
    "for child in map_job[0].children:\n",
    "    card = child.find_all(\"div\",class_=\"sx2jih0 zcydq89e zcydq88e zcydq872 zcydq87e\")\n",
    "    for job_title in card:\n",
    "        job_list.append(job_title.find(\"span\").text)\n",
    "        "
   ]
  },
  {
   "cell_type": "code",
   "execution_count": 191,
   "id": "8a73edfb",
   "metadata": {},
   "outputs": [],
   "source": [
    "df = pd.DataFrame({\"job title\":job_list})\n",
    "df.to_csv(\"Jobone-ssession musician.csv\",index=False) # name of the saved csv file\n"
   ]
  },
  {
   "cell_type": "code",
   "execution_count": 192,
   "id": "3696a143",
   "metadata": {},
   "outputs": [
    {
     "data": {
      "text/plain": [
       "['Campus Minister',\n",
       " 'Audio Engineer',\n",
       " 'Art And Film Director',\n",
       " 'Multimedia Artist/Video Producer',\n",
       " 'Nurse Virtual Trainer']"
      ]
     },
     "execution_count": 192,
     "metadata": {},
     "output_type": "execute_result"
    }
   ],
   "source": [
    "job_list"
   ]
  }
 ],
 "metadata": {
  "kernelspec": {
   "display_name": "Python 3 (ipykernel)",
   "language": "python",
   "name": "python3"
  },
  "language_info": {
   "codemirror_mode": {
    "name": "ipython",
    "version": 3
   },
   "file_extension": ".py",
   "mimetype": "text/x-python",
   "name": "python",
   "nbconvert_exporter": "python",
   "pygments_lexer": "ipython3",
   "version": "3.10.4"
  }
 },
 "nbformat": 4,
 "nbformat_minor": 5
}
